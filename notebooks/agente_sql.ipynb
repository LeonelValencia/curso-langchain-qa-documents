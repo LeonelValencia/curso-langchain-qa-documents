{
 "cells": [
  {
   "cell_type": "code",
   "execution_count": 1,
   "metadata": {},
   "outputs": [
    {
     "name": "stdout",
     "output_type": "stream",
     "text": [
      "(4052, 12)\n",
      "['pmId', 'pmName', 'strand', 'posTSS', 'sigmaFactor', 'pmSequence', 'firstGeneName', 'distToFirstGene', 'pmEvidence', 'addEvidence', 'confidenceLevel', 'pmids ']\n"
     ]
    }
   ],
   "source": [
    "import pandas as pd\n",
    "\n",
    "df = pd.read_csv(\"../data/PromoterSet.tsv\", sep=\"\\t\")\n",
    "print(df.shape)\n",
    "print(df.columns.tolist())"
   ]
  },
  {
   "cell_type": "code",
   "execution_count": 2,
   "metadata": {},
   "outputs": [
    {
     "name": "stdout",
     "output_type": "stream",
     "text": [
      "(3742, 8)\n",
      "['tuId', 'tuName', 'operonName', 'tuGenes', 'pmName', 'tuEvidence', 'addEvidence', 'confidenceLevel   pmids ']\n"
     ]
    }
   ],
   "source": [
    "df_tu = pd.read_csv(\"../data/TUSet.tsv\", sep=\"\\t\")\n",
    "print(df_tu.shape)\n",
    "print(df_tu.columns.tolist())"
   ]
  },
  {
   "cell_type": "code",
   "execution_count": 3,
   "metadata": {},
   "outputs": [
    {
     "data": {
      "text/plain": [
       "3742"
      ]
     },
     "execution_count": 3,
     "metadata": {},
     "output_type": "execute_result"
    }
   ],
   "source": [
    "from langchain_community.utilities import SQLDatabase\n",
    "from langchain_experimental.tools import PythonAstREPLTool\n",
    "from sqlalchemy import create_engine\n",
    "\n",
    "engine = create_engine(\"sqlite:///regulon.db\")\n",
    "df.to_sql(\"promotores\", engine, index=False, if_exists=\"replace\")\n",
    "df_tu.to_sql(\"transcription_units\", engine, index=False, if_exists=\"replace\")"
   ]
  },
  {
   "cell_type": "code",
   "execution_count": 4,
   "metadata": {},
   "outputs": [
    {
     "name": "stdout",
     "output_type": "stream",
     "text": [
      "sqlite\n",
      "['promotores', 'transcription_units']\n",
      "[(101,)]\n",
      "[('RDBECOLITUC00096', 'yabI', 'yabI', 'yabI;', 'yabIp', '[COMP-AINF:W]', None, 'W')]\n"
     ]
    }
   ],
   "source": [
    "db = SQLDatabase(engine=engine)\n",
    "print(db.dialect)\n",
    "print(db.get_usable_table_names())\n",
    "print(db.run(\"SELECT count(*) FROM promotores WHERE sigmaFactor = 'sigma54';\"))\n",
    "print(db.run(\"SELECT * FROM transcription_units WHERE tuName = 'yabI';\"))"
   ]
  },
  {
   "cell_type": "code",
   "execution_count": 5,
   "metadata": {},
   "outputs": [
    {
     "name": "stdout",
     "output_type": "stream",
     "text": [
      "[('promotores',), ('transcription_units',)]\n"
     ]
    }
   ],
   "source": [
    "print(db.run(\"SELECT name FROM sqlite_master WHERE type='table';\"))"
   ]
  },
  {
   "cell_type": "code",
   "execution_count": 9,
   "metadata": {},
   "outputs": [],
   "source": [
    "import getpass\n",
    "import os\n",
    "\n",
    "os.environ[\"OPENAI_API_KEY\"] = getpass.getpass()\n",
    "\n",
    "from langchain_openai import ChatOpenAI\n",
    "\n",
    "llm = ChatOpenAI(model=\"gpt-4o-mini\")"
   ]
  },
  {
   "cell_type": "code",
   "execution_count": 11,
   "metadata": {},
   "outputs": [],
   "source": [
    "from langchain_community.agent_toolkits import create_sql_agent\n",
    "\n",
    "agent_executor = create_sql_agent(llm, db=db, agent_type=\"openai-tools\", verbose=True)"
   ]
  },
  {
   "cell_type": "code",
   "execution_count": 20,
   "metadata": {},
   "outputs": [
    {
     "name": "stdout",
     "output_type": "stream",
     "text": [
      "\n",
      "\n",
      "\u001b[1m> Entering new SQL Agent Executor chain...\u001b[0m\n",
      "\u001b[32;1m\u001b[1;3m\n",
      "Invoking: `sql_db_list_tables` with `{}`\n",
      "\n",
      "\n",
      "\u001b[0m\u001b[38;5;200m\u001b[1;3mpromotores\u001b[0m\u001b[32;1m\u001b[1;3m\n",
      "Invoking: `sql_db_schema` with `{'table_names': 'promotores'}`\n",
      "\n",
      "\n",
      "\u001b[0m\u001b[33;1m\u001b[1;3m\n",
      "CREATE TABLE promotores (\n",
      "\t\"pmId\" TEXT, \n",
      "\t\"pmName\" TEXT, \n",
      "\tstrand TEXT, \n",
      "\t\"posTSS\" FLOAT, \n",
      "\t\"sigmaFactor\" TEXT, \n",
      "\t\"pmSequence\" TEXT, \n",
      "\t\"firstGeneName\" TEXT, \n",
      "\t\"distToFirstGene\" FLOAT, \n",
      "\t\"pmEvidence\" TEXT, \n",
      "\t\"addEvidence\" TEXT, \n",
      "\t\"confidenceLevel\" TEXT, \n",
      "\t\"pmids \" TEXT\n",
      ")\n",
      "\n",
      "/*\n",
      "3 rows from promotores table:\n",
      "pmId\tpmName\tstrand\tposTSS\tsigmaFactor\tpmSequence\tfirstGeneName\tdistToFirstGene\tpmEvidence\taddEvidence\tconfidenceLevel\tpmids \n",
      "RDBECOLIPMC00001\tspyp\treverse\t1825688.0\tsigma70\tacactttcattgttttaccgttgctctgattaattgacgctaaagtcagtaaagttaatcTcgtcaacacggcacgctact\tspy\t-63.0\t[COMP-AINF:W][COMP-HINF-POSITIONAL-IDENTIFICATION:W][EXP-IDA-TRANSCRIPTION-INIT-MAPPING:S]\tNone\tS\t14529615;16861804;9068658 \n",
      "RDBECOLIPMC00002\tyfeKp\tforward\t2537315.0\tsigma24\tccgatgatcctcatcgtaatccaaccgaaactttacctgattctggcagtcaaatcggctAtcacaaaacaaggataaggt\tyfeK\t-27.0\t[COMP-AINF:W][COMP-AINF-POSITIONAL-IDENTIFICATION:W][EXP-IDA-TRANSCRIPTION-INIT-MAPPING:S]\tNone\tS\t14529615;16336047 \n",
      "RDBECOLIPMC00003\tbepAp1\tforward\t2616068.0\tsigma24\tgccgttacactcaaaggcggcgcggtgggaacgatatttcacagtatcggtcaaatgactAtctccagaaatacaggatag\tbepA\t-26.0\t[COMP-AINF:W][COMP-AINF-POSITIONAL-IDENTIFICATION:W][EXP-IDA-TRANSCRIPTION-INIT-MAPPING:S]\tNone\tS\t14529615;16336047;31992590 \n",
      "*/\u001b[0m\u001b[32;1m\u001b[1;3m\n",
      "Invoking: `sql_db_query_checker` with `{'query': \"SELECT pmName FROM promotores WHERE sigmaFactor = 'sigma54'\"}`\n",
      "\n",
      "\n",
      "\u001b[0m\u001b[36;1m\u001b[1;3m```sql\n",
      "SELECT pmName FROM promotores WHERE sigmaFactor = 'sigma54'\n",
      "```\u001b[0m\u001b[32;1m\u001b[1;3m\n",
      "Invoking: `sql_db_query` with `{'query': \"SELECT pmName FROM promotores WHERE sigmaFactor = 'sigma54'\"}`\n",
      "\n",
      "\n",
      "\u001b[0m\u001b[36;1m\u001b[1;3m[('yahEp',), ('yaaUp',), ('crlp2',), ('nikAp2',), ('emrDp',), ('yhjCp',), ('ygfKp',), ('radDp',), ('htpGp3',), ('flhDp2',), ('actPp',), ('rhaDp',), ('xdhAp2',), ('acrDp2',), ('astCp2',), ('pspAp',), ('potFp1',), ('argTp',), ('prpBp',), ('yeaGp1',), ('yhdWp',), ('ddpXp1',), ('gltIp2',), ('rutAp',), ('htrEp1',), ('rayTp1',), ('ffsp5',), ('ybcKp1',), ('insHp6',), ('ybiOp5',), ('efeOp2',), ('pinEp3',), ('ycgGp7',), ('ycgNp1',), ('pgpBp9',), ('ycjDp5',), ('tusp2',), ('rydBp1',), ('pabBp6',), ('pabBp7',), ('yebVp2',), ('yeiBp2',), ('yfeAp6',), ('tmcAp5',), ('ppkp6',), ('iscXp3',), ('ispFp3',), ('yqeGp5',), ('yggMp1',), ('rfaEp1',), ('yrdBp1',), ('yrdBp4',), ('yheVp1',), ('hslOp4',), ('rsmDp2',), ('yhhMp1',), ('yhiDp1',), ('typAp1',), ('yihLp1',), ('yihLp5',), ('ompLp1',), ('zapBp1',), ('yjaGp4',), ('yjaAp3',), ('ytfFp6',), ('yjhUp1',), ('mcrCp5',), ('rsmCp1',), ('yjjXp6',), ('relAp3',), ('relAp4',), ('glpQp',), ('gnsAp1',), ('ybhKp',), ('xapBp3',), ('kchp',), ('puuPp',), ('patAp2',), ('rseDp1',), ('norVp',), ('ibpBp',), ('pspGp',), ('rtcRp',), ('dcuDp2',), ('aslBp',), ('glmYp1',), ('chaCp',), ('atoDp',), ('fdhFp',), ('hycAp',), ('hypAp',), ('glnHp2',), ('glnAp2',), ('rtcBp',), ('rpoHp6',), ('hydNp',), ('nacp',), ('glnKp',), ('hyfAp',), ('zraPp',), ('zraSp',)]\u001b[0m\u001b[32;1m\u001b[1;3mLos nombres de los promotores regulados por el sigma factor sigma54 son:\n",
      "\n",
      "1. yahEp\n",
      "2. yaaUp\n",
      "3. crlp2\n",
      "4. nikAp2\n",
      "5. emrDp\n",
      "6. yhjCp\n",
      "7. ygfKp\n",
      "8. radDp\n",
      "9. htpGp3\n",
      "10. flhDp2\n",
      "11. actPp\n",
      "12. rhaDp\n",
      "13. xdhAp2\n",
      "14. acrDp2\n",
      "15. astCp2\n",
      "16. pspAp\n",
      "17. potFp1\n",
      "18. argTp\n",
      "19. prpBp\n",
      "20. yeaGp1\n",
      "21. yhdWp\n",
      "22. ddpXp1\n",
      "23. gltIp2\n",
      "24. rutAp\n",
      "25. htrEp1\n",
      "26. rayTp1\n",
      "27. ffsp5\n",
      "28. ybcKp1\n",
      "29. insHp6\n",
      "30. ybiOp5\n",
      "31. efeOp2\n",
      "32. pinEp3\n",
      "33. ycgGp7\n",
      "34. ycgNp1\n",
      "35. pgpBp9\n",
      "36. ycjDp5\n",
      "37. tusp2\n",
      "38. rydBp1\n",
      "39. pabBp6\n",
      "40. pabBp7\n",
      "41. yebVp2\n",
      "42. yeiBp2\n",
      "43. yfeAp6\n",
      "44. tmcAp5\n",
      "45. ppkp6\n",
      "46. iscXp3\n",
      "47. ispFp3\n",
      "48. yqeGp5\n",
      "49. yggMp1\n",
      "50. rfaEp1\n",
      "51. yrdBp1\n",
      "52. yrdBp4\n",
      "53. yheVp1\n",
      "54. hslOp4\n",
      "55. rsmDp2\n",
      "56. yhhMp1\n",
      "57. yhiDp1\n",
      "58. typAp1\n",
      "59. yihLp1\n",
      "60. yihLp5\n",
      "61. ompLp1\n",
      "62. zapBp1\n",
      "63. yjaGp4\n",
      "64. yjaAp3\n",
      "65. ytfFp6\n",
      "66. yjhUp1\n",
      "67. mcrCp5\n",
      "68. rsmCp1\n",
      "69. yjjXp6\n",
      "70. relAp3\n",
      "71. relAp4\n",
      "72. glpQp\n",
      "73. gnsAp1\n",
      "74. ybhKp\n",
      "75. xapBp3\n",
      "76. kchp\n",
      "77. puuPp\n",
      "78. patAp2\n",
      "79. rseDp1\n",
      "80. norVp\n",
      "81. ibpBp\n",
      "82. pspGp\n",
      "83. rtcRp\n",
      "84. dcuDp2\n",
      "85. aslBp\n",
      "86. glmYp1\n",
      "87. chaCp\n",
      "88. atoDp\n",
      "89. fdhFp\n",
      "90. hycAp\n",
      "91. hypAp\n",
      "92. glnHp2\n",
      "93. glnAp2\n",
      "94. rtcBp\n",
      "95. rpoHp6\n",
      "96. hydNp\n",
      "97. nacp\n",
      "98. glnKp\n",
      "99. hyfAp\n",
      "100. zraPp\n",
      "101. zraSp\u001b[0m\n",
      "\n",
      "\u001b[1m> Finished chain.\u001b[0m\n"
     ]
    },
    {
     "data": {
      "text/plain": [
       "{'input': 'Devuelve todos los nombres de los promotores regulados por el sigma factor sigma54 sin límite.',\n",
       " 'output': 'Los nombres de los promotores regulados por el sigma factor sigma54 son:\\n\\n1. yahEp\\n2. yaaUp\\n3. crlp2\\n4. nikAp2\\n5. emrDp\\n6. yhjCp\\n7. ygfKp\\n8. radDp\\n9. htpGp3\\n10. flhDp2\\n11. actPp\\n12. rhaDp\\n13. xdhAp2\\n14. acrDp2\\n15. astCp2\\n16. pspAp\\n17. potFp1\\n18. argTp\\n19. prpBp\\n20. yeaGp1\\n21. yhdWp\\n22. ddpXp1\\n23. gltIp2\\n24. rutAp\\n25. htrEp1\\n26. rayTp1\\n27. ffsp5\\n28. ybcKp1\\n29. insHp6\\n30. ybiOp5\\n31. efeOp2\\n32. pinEp3\\n33. ycgGp7\\n34. ycgNp1\\n35. pgpBp9\\n36. ycjDp5\\n37. tusp2\\n38. rydBp1\\n39. pabBp6\\n40. pabBp7\\n41. yebVp2\\n42. yeiBp2\\n43. yfeAp6\\n44. tmcAp5\\n45. ppkp6\\n46. iscXp3\\n47. ispFp3\\n48. yqeGp5\\n49. yggMp1\\n50. rfaEp1\\n51. yrdBp1\\n52. yrdBp4\\n53. yheVp1\\n54. hslOp4\\n55. rsmDp2\\n56. yhhMp1\\n57. yhiDp1\\n58. typAp1\\n59. yihLp1\\n60. yihLp5\\n61. ompLp1\\n62. zapBp1\\n63. yjaGp4\\n64. yjaAp3\\n65. ytfFp6\\n66. yjhUp1\\n67. mcrCp5\\n68. rsmCp1\\n69. yjjXp6\\n70. relAp3\\n71. relAp4\\n72. glpQp\\n73. gnsAp1\\n74. ybhKp\\n75. xapBp3\\n76. kchp\\n77. puuPp\\n78. patAp2\\n79. rseDp1\\n80. norVp\\n81. ibpBp\\n82. pspGp\\n83. rtcRp\\n84. dcuDp2\\n85. aslBp\\n86. glmYp1\\n87. chaCp\\n88. atoDp\\n89. fdhFp\\n90. hycAp\\n91. hypAp\\n92. glnHp2\\n93. glnAp2\\n94. rtcBp\\n95. rpoHp6\\n96. hydNp\\n97. nacp\\n98. glnKp\\n99. hyfAp\\n100. zraPp\\n101. zraSp'}"
      ]
     },
     "execution_count": 20,
     "metadata": {},
     "output_type": "execute_result"
    }
   ],
   "source": [
    "agent_executor.invoke({\"input\": \"Devuelve todos los nombres de los promotores regulados por el sigma factor sigma54 sin límite.\"})"
   ]
  },
  {
   "cell_type": "code",
   "execution_count": 12,
   "metadata": {},
   "outputs": [
    {
     "name": "stdout",
     "output_type": "stream",
     "text": [
      "\n",
      "\n",
      "\u001b[1m> Entering new SQL Agent Executor chain...\u001b[0m\n",
      "\u001b[32;1m\u001b[1;3m\n",
      "Invoking: `sql_db_list_tables` with `{}`\n",
      "\n",
      "\n",
      "\u001b[0m\u001b[38;5;200m\u001b[1;3mpromotores, transcription_units\u001b[0m\u001b[32;1m\u001b[1;3m\n",
      "Invoking: `sql_db_schema` with `{'table_names': 'promotores'}`\n",
      "\n",
      "\n",
      "\u001b[0m\u001b[33;1m\u001b[1;3m\n",
      "CREATE TABLE promotores (\n",
      "\t\"pmId\" TEXT, \n",
      "\t\"pmName\" TEXT, \n",
      "\tstrand TEXT, \n",
      "\t\"posTSS\" FLOAT, \n",
      "\t\"sigmaFactor\" TEXT, \n",
      "\t\"pmSequence\" TEXT, \n",
      "\t\"firstGeneName\" TEXT, \n",
      "\t\"distToFirstGene\" FLOAT, \n",
      "\t\"pmEvidence\" TEXT, \n",
      "\t\"addEvidence\" TEXT, \n",
      "\t\"confidenceLevel\" TEXT, \n",
      "\t\"pmids \" TEXT\n",
      ")\n",
      "\n",
      "/*\n",
      "3 rows from promotores table:\n",
      "pmId\tpmName\tstrand\tposTSS\tsigmaFactor\tpmSequence\tfirstGeneName\tdistToFirstGene\tpmEvidence\taddEvidence\tconfidenceLevel\tpmids \n",
      "RDBECOLIPMC00001\tspyp\treverse\t1825688.0\tsigma70\tacactttcattgttttaccgttgctctgattaattgacgctaaagtcagtaaagttaatcTcgtcaacacggcacgctact\tspy\t-63.0\t[COMP-AINF:W][COMP-HINF-POSITIONAL-IDENTIFICATION:W][EXP-IDA-TRANSCRIPTION-INIT-MAPPING:S]\tNone\tS\t14529615;16861804;9068658 \n",
      "RDBECOLIPMC00002\tyfeKp\tforward\t2537315.0\tsigma24\tccgatgatcctcatcgtaatccaaccgaaactttacctgattctggcagtcaaatcggctAtcacaaaacaaggataaggt\tyfeK\t-27.0\t[COMP-AINF:W][COMP-AINF-POSITIONAL-IDENTIFICATION:W][EXP-IDA-TRANSCRIPTION-INIT-MAPPING:S]\tNone\tS\t14529615;16336047 \n",
      "RDBECOLIPMC00003\tbepAp1\tforward\t2616068.0\tsigma24\tgccgttacactcaaaggcggcgcggtgggaacgatatttcacagtatcggtcaaatgactAtctccagaaatacaggatag\tbepA\t-26.0\t[COMP-AINF:W][COMP-AINF-POSITIONAL-IDENTIFICATION:W][EXP-IDA-TRANSCRIPTION-INIT-MAPPING:S]\tNone\tS\t14529615;16336047;31992590 \n",
      "*/\u001b[0m\u001b[32;1m\u001b[1;3m\n",
      "Invoking: `sql_db_schema` with `{'table_names': 'transcription_units'}`\n",
      "\n",
      "\n",
      "\u001b[0m\u001b[33;1m\u001b[1;3m\n",
      "CREATE TABLE transcription_units (\n",
      "\t\"tuId\" TEXT, \n",
      "\t\"tuName\" TEXT, \n",
      "\t\"operonName\" TEXT, \n",
      "\t\"tuGenes\" TEXT, \n",
      "\t\"pmName\" TEXT, \n",
      "\t\"tuEvidence\" TEXT, \n",
      "\t\"addEvidence\" TEXT, \n",
      "\t\"confidenceLevel   pmids \" TEXT\n",
      ")\n",
      "\n",
      "/*\n",
      "3 rows from transcription_units table:\n",
      "tuId\ttuName\toperonName\ttuGenes\tpmName\ttuEvidence\taddEvidence\tconfidenceLevel   pmids \n",
      "RDBECOLITUC00080\tyjtD\tyjtD\tyjtD;\tNone\t[COMP-AINF:W]\tNone\tW\n",
      "RDBECOLITUC00081\tyaaX\tyaaX\tyaaX;\tNone\t[COMP-AINF:W]\tNone\tW\n",
      "RDBECOLITUC00082\tyaaA\tyaaA\tyaaA;\tNone\t[COMP-AINF:W]\tNone\tW\n",
      "*/\u001b[0m\u001b[32;1m\u001b[1;3m\n",
      "Invoking: `sql_db_query_checker` with `{'query': \"SELECT tuName FROM transcription_units WHERE tuId = 'RDBECOLITUC00081';\"}`\n",
      "\n",
      "\n",
      "\u001b[0m\u001b[36;1m\u001b[1;3m```sql\n",
      "SELECT tuName FROM transcription_units WHERE tuId = 'RDBECOLITUC00081';\n",
      "```\u001b[0m\u001b[32;1m\u001b[1;3m\n",
      "Invoking: `sql_db_query` with `{'query': \"SELECT tuName FROM transcription_units WHERE tuId = 'RDBECOLITUC00081';\"}`\n",
      "\n",
      "\n",
      "\u001b[0m\u001b[36;1m\u001b[1;3m[('yaaX',)]\u001b[0m\u001b[32;1m\u001b[1;3mEl nombre del transcription unit con el ID RDBECOLITUC00081 es \"yaaX\".\u001b[0m\n",
      "\n",
      "\u001b[1m> Finished chain.\u001b[0m\n"
     ]
    },
    {
     "data": {
      "text/plain": [
       "{'input': 'cual es el nombre del transcription unit con el id RDBECOLITUC00081?',\n",
       " 'output': 'El nombre del transcription unit con el ID RDBECOLITUC00081 es \"yaaX\".'}"
      ]
     },
     "execution_count": 12,
     "metadata": {},
     "output_type": "execute_result"
    }
   ],
   "source": [
    "agent_executor.invoke({\"input\": \"cual es el nombre del transcription unit con el id RDBECOLITUC00081?\"})"
   ]
  },
  {
   "cell_type": "code",
   "execution_count": 15,
   "metadata": {},
   "outputs": [],
   "source": [
    "from langchain_core.prompts import ChatPromptTemplate\n",
    "from langchain_core.output_parsers.openai_tools import JsonOutputKeyToolsParser\n",
    "from operator import itemgetter\n",
    "\n",
    "from langchain_core.messages import ToolMessage\n",
    "from langchain_core.output_parsers import StrOutputParser\n",
    "from langchain_core.prompts import MessagesPlaceholder\n",
    "from langchain_core.runnables import RunnablePassthrough"
   ]
  },
  {
   "cell_type": "code",
   "execution_count": 17,
   "metadata": {},
   "outputs": [
    {
     "data": {
      "text/plain": [
       "323      yahEp\n",
       "324      yaaUp\n",
       "325      crlp2\n",
       "326     nikAp2\n",
       "327      emrDp\n",
       "         ...  \n",
       "4002      nacp\n",
       "4010     glnKp\n",
       "4019     hyfAp\n",
       "4026     zraPp\n",
       "4027     zraSp\n",
       "Name: pmName, Length: 101, dtype: object"
      ]
     },
     "execution_count": 17,
     "metadata": {},
     "output_type": "execute_result"
    }
   ],
   "source": [
    "df_1 = pd.read_csv(\"../data/PromoterSet.tsv\", sep=\"\\t\")\n",
    "df_2 = pd.read_csv(\"../data/TUSet.tsv\", sep=\"\\t\")\n",
    "tool = PythonAstREPLTool(locals={\"df_1\": df_1, \"df_2\": df_2})\n",
    "llm_with_tool = llm.bind_tools(tools=[tool], tool_choice=tool.name)\n",
    "df_template = \"\"\"\\`\\`\\`python\n",
    "{df_name}.head().to_markdown()\n",
    ">>> {df_head}\n",
    "\\`\\`\\`\"\"\"\n",
    "df_context = \"\\n\\n\".join(\n",
    "    df_template.format(df_head=_df.head().to_markdown(), df_name=df_name)\n",
    "    for _df, df_name in [(df_1, \"df_1\"), (df_2, \"df_2\")]\n",
    ")\n",
    "\n",
    "system = f\"\"\"You have access to a number of pandas dataframes. \\\n",
    "Here is a sample of rows from each dataframe and the python code that was used to generate the sample:\n",
    "\n",
    "{df_context}\n",
    "\n",
    "Given a user question about the dataframes, write the Python code to answer it. \\\n",
    "Don't assume you have access to any libraries other than built-in Python ones and pandas. \\\n",
    "Make sure to refer only to the variables mentioned above.\"\"\"\n",
    "prompt = ChatPromptTemplate.from_messages([(\"system\", system), (\"human\", \"{question}\"), ])\n",
    "\n",
    "parser = JsonOutputKeyToolsParser(key_name=tool.name, first_tool_only=True)\n",
    "\n",
    "chain = prompt | llm_with_tool | parser | tool\n",
    "chain.invoke(\n",
    "    {\n",
    "        \"question\": \"cuales son los nombres de los promotores que esten regulados por el sigma factor sigma54?\"\n",
    "    }\n",
    ")"
   ]
  },
  {
   "cell_type": "code",
   "execution_count": 18,
   "metadata": {},
   "outputs": [],
   "source": [
    "df_1 = pd.read_csv(\"../data/PromoterSet.tsv\", sep=\"\\t\")\n",
    "df_2 = pd.read_csv(\"../data/TUSet.tsv\", sep=\"\\t\")\n",
    "tool = PythonAstREPLTool(locals={\"df_1\": df_1, \"df_2\": df_2})\n",
    "llm_with_tool = llm.bind_tools(tools=[tool], tool_choice=tool.name)\n",
    "df_template = \"\"\"\\`\\`\\`python\n",
    "{df_name}.head().to_markdown()\n",
    ">>> {df_head}\n",
    "\\`\\`\\`\"\"\"\n",
    "df_context = \"\\n\\n\".join(\n",
    "    df_template.format(df_head=_df.head().to_markdown(), df_name=df_name)\n",
    "    for _df, df_name in [(df_1, \"df_1\"), (df_2, \"df_2\")]\n",
    ")\n",
    "\n",
    "system = f\"\"\"You have access to a number of pandas dataframes. \\\n",
    "Here is a sample of rows from each dataframe and the python code that was used to generate the sample:\n",
    "\n",
    "{df_context}\n",
    "\n",
    "Given a user question about the dataframes, write the Python code to answer it. \\\n",
    "Don't assume you have access to any libraries other than built-in Python ones and pandas. \\\n",
    "Make sure to refer only to the variables mentioned above.\"\"\"\n",
    "prompt = ChatPromptTemplate.from_messages([(\"system\", system), (\"human\", \"{question}\"), MessagesPlaceholder(\"chat_history\", optional=True),])\n",
    "\n",
    "def _get_chat_history(x: dict) -> list:\n",
    "    \"\"\"Parse the chain output up to this point into a list of chat history messages to insert in the prompt.\"\"\"\n",
    "    ai_msg = x[\"ai_msg\"]\n",
    "    tool_call_id = x[\"ai_msg\"].additional_kwargs[\"tool_calls\"][0][\"id\"]\n",
    "    tool_msg = ToolMessage(tool_call_id=tool_call_id, content=str(x[\"tool_output\"]))\n",
    "    return [ai_msg, tool_msg]\n",
    "\n",
    "parser = JsonOutputKeyToolsParser(key_name=tool.name, first_tool_only=True)\n",
    "\n",
    "chain = (\n",
    "    RunnablePassthrough.assign(ai_msg=prompt | llm_with_tool)\n",
    "    .assign(tool_output=itemgetter(\"ai_msg\") | parser | tool)\n",
    "    .assign(chat_history=_get_chat_history)\n",
    "    .assign(response=prompt | llm | StrOutputParser())\n",
    "    .pick([\"tool_output\", \"response\"])\n",
    ")"
   ]
  },
  {
   "cell_type": "code",
   "execution_count": 19,
   "metadata": {},
   "outputs": [
    {
     "data": {
      "text/plain": [
       "{'tool_output': 323      yahEp\n",
       " 324      yaaUp\n",
       " 325      crlp2\n",
       " 326     nikAp2\n",
       " 327      emrDp\n",
       "          ...  \n",
       " 4002      nacp\n",
       " 4010     glnKp\n",
       " 4019     hyfAp\n",
       " 4026     zraPp\n",
       " 4027     zraSp\n",
       " Name: pmName, Length: 101, dtype: object,\n",
       " 'response': 'Los nombres de los promotores que están regulados por el sigma factor sigma54 son:\\n\\n- yahEp\\n- yaaUp\\n- crlp2\\n- nikAp2\\n- emrDp\\n- nacp\\n- glnKp\\n- hyfAp\\n- zraPp\\n- zraSp\\n\\n(Estos son solo algunos ejemplos, hay un total de 101 promotores regulados por sigma54).'}"
      ]
     },
     "execution_count": 19,
     "metadata": {},
     "output_type": "execute_result"
    }
   ],
   "source": [
    "chain.invoke(\n",
    "    {\n",
    "        \"question\": \"cuales son los nombres de los promotores que esten regulados por el sigma factor sigma54?\"\n",
    "    }\n",
    ")"
   ]
  }
 ],
 "metadata": {
  "kernelspec": {
   "display_name": ".venv",
   "language": "python",
   "name": "python3"
  },
  "language_info": {
   "codemirror_mode": {
    "name": "ipython",
    "version": 3
   },
   "file_extension": ".py",
   "mimetype": "text/x-python",
   "name": "python",
   "nbconvert_exporter": "python",
   "pygments_lexer": "ipython3",
   "version": "3.11.3"
  }
 },
 "nbformat": 4,
 "nbformat_minor": 2
}
