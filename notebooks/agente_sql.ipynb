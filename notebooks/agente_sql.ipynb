{
 "cells": [
  {
   "cell_type": "markdown",
   "metadata": {},
   "source": [
    "# preparar datasets"
   ]
  },
  {
   "cell_type": "code",
   "execution_count": 54,
   "metadata": {},
   "outputs": [
    {
     "name": "stdout",
     "output_type": "stream",
     "text": [
      "(4052, 12)\n",
      "['pmId', 'pmName', 'strand', 'posTSS', 'sigmaFactor', 'pmSequence', 'firstGeneName', 'distToFirstGene', 'pmEvidence', 'addEvidence', 'confidenceLevel', 'pmids']\n"
     ]
    }
   ],
   "source": [
    "import pandas as pd\n",
    "\n",
    "df_promoter = pd.read_csv(\"../data/PromoterSet.tsv\", sep=\"\\t\")\n",
    "print(df_promoter.shape)\n",
    "print(df_promoter.columns.tolist())"
   ]
  },
  {
   "cell_type": "code",
   "execution_count": 36,
   "metadata": {},
   "outputs": [],
   "source": [
    "df_promoter[\"confidenceLevel\"] = df_promoter[\"confidenceLevel\"].replace({\"C\": \"CONFIRMED\", \"S\": \"STRONG\", \"W\": \"WEAK\"})"
   ]
  },
  {
   "cell_type": "code",
   "execution_count": 38,
   "metadata": {},
   "outputs": [
    {
     "data": {
      "text/plain": [
       "confidenceLevel\n",
       "WEAK         2517\n",
       "STRONG       1455\n",
       "CONFIRMED      79\n",
       "Name: count, dtype: int64"
      ]
     },
     "execution_count": 38,
     "metadata": {},
     "output_type": "execute_result"
    }
   ],
   "source": [
    "df_promoter[\"confidenceLevel\"].value_counts()"
   ]
  },
  {
   "cell_type": "code",
   "execution_count": 40,
   "metadata": {},
   "outputs": [],
   "source": [
    "df_promoter.to_csv(\"../data/PromoterSet.tsv\", sep=\"\\t\", index=False)"
   ]
  },
  {
   "cell_type": "code",
   "execution_count": 42,
   "metadata": {},
   "outputs": [
    {
     "name": "stdout",
     "output_type": "stream",
     "text": [
      "(3742, 9)\n",
      "['tuId', 'tuName', 'operonName', 'tuGenes', 'pmName', 'tuEvidence', 'addEvidence', 'confidenceLevel', 'pmids']\n"
     ]
    }
   ],
   "source": [
    "df_tu = pd.read_csv(\"../data/TUSet.tsv\", sep=\"\\t\")\n",
    "print(df_tu.shape)\n",
    "print(df_tu.columns.tolist())"
   ]
  },
  {
   "cell_type": "code",
   "execution_count": 43,
   "metadata": {},
   "outputs": [],
   "source": [
    "df_tu[\"confidenceLevel\"] = df_tu[\"confidenceLevel\"].replace({\"C\": \"CONFIRMED\", \"S\": \"STRONG\", \"W\": \"WEAK\"})"
   ]
  },
  {
   "cell_type": "code",
   "execution_count": 46,
   "metadata": {},
   "outputs": [
    {
     "data": {
      "text/plain": [
       "Series([], Name: count, dtype: int64)"
      ]
     },
     "execution_count": 46,
     "metadata": {},
     "output_type": "execute_result"
    }
   ],
   "source": [
    "df_tu[\"pmids\"].value_counts()"
   ]
  },
  {
   "cell_type": "code",
   "execution_count": 47,
   "metadata": {},
   "outputs": [],
   "source": [
    "df_tu.to_csv(\"../data/TUSet.tsv\", sep=\"\\t\", index=False)"
   ]
  },
  {
   "cell_type": "code",
   "execution_count": 12,
   "metadata": {},
   "outputs": [
    {
     "data": {
      "text/html": [
       "<div>\n",
       "<style scoped>\n",
       "    .dataframe tbody tr th:only-of-type {\n",
       "        vertical-align: middle;\n",
       "    }\n",
       "\n",
       "    .dataframe tbody tr th {\n",
       "        vertical-align: top;\n",
       "    }\n",
       "\n",
       "    .dataframe thead th {\n",
       "        text-align: right;\n",
       "    }\n",
       "</style>\n",
       "<table border=\"1\" class=\"dataframe\">\n",
       "  <thead>\n",
       "    <tr style=\"text-align: right;\">\n",
       "      <th></th>\n",
       "      <th>evidence_code</th>\n",
       "      <th>evidence_name</th>\n",
       "      <th>evidence_group</th>\n",
       "      <th>confidence_level</th>\n",
       "      <th>object_type</th>\n",
       "      <th>evidence_category</th>\n",
       "    </tr>\n",
       "  </thead>\n",
       "  <tbody>\n",
       "    <tr>\n",
       "      <th>0</th>\n",
       "      <td>EXP-IGI-FUNC-COMPLEMENTATION</td>\n",
       "      <td>Inferred by functional complementation</td>\n",
       "      <td>NaN</td>\n",
       "      <td>STRONG</td>\n",
       "      <td>Transcription Factors</td>\n",
       "      <td>Classical experiment</td>\n",
       "    </tr>\n",
       "    <tr>\n",
       "      <th>1</th>\n",
       "      <td>EXP-IDA-UNPURIFIED-PROTEIN-NH</td>\n",
       "      <td>Assay of unpurified protein expressed in its n...</td>\n",
       "      <td>NaN</td>\n",
       "      <td>WEAK</td>\n",
       "      <td>Transcription Factors</td>\n",
       "      <td>Classical experiment</td>\n",
       "    </tr>\n",
       "    <tr>\n",
       "      <th>2</th>\n",
       "      <td>EXP-CHIP-EXO-MANUAL</td>\n",
       "      <td>ChIP-exo evidence used in manual assertion</td>\n",
       "      <td>4.0</td>\n",
       "      <td>WEAK</td>\n",
       "      <td>Regulatory Interactions</td>\n",
       "      <td>High-throughput binding</td>\n",
       "    </tr>\n",
       "    <tr>\n",
       "      <th>3</th>\n",
       "      <td>EXP-IEP-GENE-EXPRESSION-ANALYSIS</td>\n",
       "      <td>Gene expression analysis</td>\n",
       "      <td>8.0</td>\n",
       "      <td>WEAK</td>\n",
       "      <td>Regulatory Interactions;Transcription Factors</td>\n",
       "      <td>Classical expression</td>\n",
       "    </tr>\n",
       "    <tr>\n",
       "      <th>4</th>\n",
       "      <td>EXP-HTP-HEP-MICROARRAY</td>\n",
       "      <td>High-throughput expression microarray evidence</td>\n",
       "      <td>8.0</td>\n",
       "      <td>WEAK</td>\n",
       "      <td>Transcription Units;Regulatory Interactions</td>\n",
       "      <td>High-throughput expression</td>\n",
       "    </tr>\n",
       "  </tbody>\n",
       "</table>\n",
       "</div>"
      ],
      "text/plain": [
       "                      evidence_code  \\\n",
       "0      EXP-IGI-FUNC-COMPLEMENTATION   \n",
       "1     EXP-IDA-UNPURIFIED-PROTEIN-NH   \n",
       "2               EXP-CHIP-EXO-MANUAL   \n",
       "3  EXP-IEP-GENE-EXPRESSION-ANALYSIS   \n",
       "4            EXP-HTP-HEP-MICROARRAY   \n",
       "\n",
       "                                       evidence_name  evidence_group  \\\n",
       "0             Inferred by functional complementation             NaN   \n",
       "1  Assay of unpurified protein expressed in its n...             NaN   \n",
       "2         ChIP-exo evidence used in manual assertion             4.0   \n",
       "3                           Gene expression analysis             8.0   \n",
       "4     High-throughput expression microarray evidence             8.0   \n",
       "\n",
       "  confidence_level                                    object_type  \\\n",
       "0           STRONG                          Transcription Factors   \n",
       "1             WEAK                          Transcription Factors   \n",
       "2             WEAK                        Regulatory Interactions   \n",
       "3             WEAK  Regulatory Interactions;Transcription Factors   \n",
       "4             WEAK    Transcription Units;Regulatory Interactions   \n",
       "\n",
       "            evidence_category   \n",
       "0        Classical experiment   \n",
       "1        Classical experiment   \n",
       "2     High-throughput binding   \n",
       "3        Classical expression   \n",
       "4  High-throughput expression   "
      ]
     },
     "execution_count": 12,
     "metadata": {},
     "output_type": "execute_result"
    }
   ],
   "source": [
    "df_evidence = pd.read_csv(\"../data/EvidenceSet.tsv\", sep=\"\\t\")\n",
    "df_evidence.head()"
   ]
  },
  {
   "cell_type": "code",
   "execution_count": 51,
   "metadata": {},
   "outputs": [
    {
     "data": {
      "text/html": [
       "<div>\n",
       "<style scoped>\n",
       "    .dataframe tbody tr th:only-of-type {\n",
       "        vertical-align: middle;\n",
       "    }\n",
       "\n",
       "    .dataframe tbody tr th {\n",
       "        vertical-align: top;\n",
       "    }\n",
       "\n",
       "    .dataframe thead th {\n",
       "        text-align: right;\n",
       "    }\n",
       "</style>\n",
       "<table border=\"1\" class=\"dataframe\">\n",
       "  <thead>\n",
       "    <tr style=\"text-align: right;\">\n",
       "      <th></th>\n",
       "      <th>riId</th>\n",
       "      <th>riType</th>\n",
       "      <th>regulatorId(TranscriptionFactor)</th>\n",
       "      <th>regulatorName</th>\n",
       "      <th>regulatorActiveConformation(CNF)Name</th>\n",
       "      <th>regulatorRegulatorySite(tfrs)ID</th>\n",
       "      <th>tfrsLeftEndPosition</th>\n",
       "      <th>tfrsRightEndPosition</th>\n",
       "      <th>strand</th>\n",
       "      <th>tfrsSequence</th>\n",
       "      <th>...</th>\n",
       "      <th>relativeDistanceFromCenterPositionOfTFRStoStartOfFirstGene</th>\n",
       "      <th>transcriptionUnitOrGeneRegulatedByTF</th>\n",
       "      <th>confidenceLevel</th>\n",
       "      <th>tfrsEvidence</th>\n",
       "      <th>riEvidence</th>\n",
       "      <th>additiveEvidence</th>\n",
       "      <th>riEvidenceTech</th>\n",
       "      <th>riEvidenceCategory</th>\n",
       "      <th>tfrsPMIDS</th>\n",
       "      <th>riPMIDS</th>\n",
       "    </tr>\n",
       "  </thead>\n",
       "  <tbody>\n",
       "    <tr>\n",
       "      <th>0</th>\n",
       "      <td>RDBECOLIRIC00001</td>\n",
       "      <td>tf-promoter</td>\n",
       "      <td>RDBECOLITFC00023</td>\n",
       "      <td>GadW</td>\n",
       "      <td>GadW</td>\n",
       "      <td>RDBECOLIBSC01689</td>\n",
       "      <td>3653866.0</td>\n",
       "      <td>3653885.0</td>\n",
       "      <td>forward</td>\n",
       "      <td>atcagacaggTTTACGTTACTATCAGGCATatcacctcag</td>\n",
       "      <td>...</td>\n",
       "      <td>-85.5</td>\n",
       "      <td>RDBECOLITUC03133:slp-dctR</td>\n",
       "      <td>WEAK</td>\n",
       "      <td>COMP-AINF-SIMILAR-TO-CONSENSUS:W</td>\n",
       "      <td>EXP-IEP-GENE-EXPRESSION-ANALYSIS:W</td>\n",
       "      <td>NaN</td>\n",
       "      <td>expression|non-experimental</td>\n",
       "      <td>Classical expression|non-experimental</td>\n",
       "      <td>18808381</td>\n",
       "      <td>12730179;18808381</td>\n",
       "    </tr>\n",
       "    <tr>\n",
       "      <th>1</th>\n",
       "      <td>RDBECOLIRIC00002</td>\n",
       "      <td>tf-promoter</td>\n",
       "      <td>RDBECOLITFC00023</td>\n",
       "      <td>GadW</td>\n",
       "      <td>GadW</td>\n",
       "      <td>RDBECOLIBSC01690</td>\n",
       "      <td>3656835.0</td>\n",
       "      <td>3656854.0</td>\n",
       "      <td>reverse</td>\n",
       "      <td>tgaaataaaaATATCTGATTTTGATATTTTccatcaacat</td>\n",
       "      <td>...</td>\n",
       "      <td>-104.5</td>\n",
       "      <td>RDBECOLITUC03315:hdeAB-yhiD</td>\n",
       "      <td>STRONG</td>\n",
       "      <td>COMP-HINF-SIMILAR-TO-CONSENSUS:W;COMP-AINF-SIM...</td>\n",
       "      <td>EXP-IEP-GENE-EXPRESSION-ANALYSIS:W</td>\n",
       "      <td>NaN</td>\n",
       "      <td>expression|non-experimental|binding in vitro</td>\n",
       "      <td>Classical expression|non-experimental|Classica...</td>\n",
       "      <td>18083817;18808381</td>\n",
       "      <td>12730179;18083817;18808381</td>\n",
       "    </tr>\n",
       "    <tr>\n",
       "      <th>2</th>\n",
       "      <td>RDBECOLIRIC00003</td>\n",
       "      <td>tf-promoter</td>\n",
       "      <td>RDBECOLITFC00088</td>\n",
       "      <td>GalR</td>\n",
       "      <td>GalR-D-galactose</td>\n",
       "      <td>RDBECOLIBSC01691</td>\n",
       "      <td>3088004.0</td>\n",
       "      <td>3088019.0</td>\n",
       "      <td>forward</td>\n",
       "      <td>atcatcacaaCTGAAACCGATTACACcaaccacaac</td>\n",
       "      <td>...</td>\n",
       "      <td>-272.5</td>\n",
       "      <td>RDBECOLITUC02515:galP</td>\n",
       "      <td>CONFIRMED</td>\n",
       "      <td>COMP-AINF-SIMILAR-TO-CONSENSUS:W;EXP-IDA-BINDI...</td>\n",
       "      <td>NaN</td>\n",
       "      <td>AE(EXP-IMP-SITE-MUTATION/EXP-IDA-BINDING-OF-PU...</td>\n",
       "      <td>non-experimental|binding in vitro|binding in v...</td>\n",
       "      <td>non-experimental|Classical binding</td>\n",
       "      <td>19007420</td>\n",
       "      <td>19007420</td>\n",
       "    </tr>\n",
       "    <tr>\n",
       "      <th>3</th>\n",
       "      <td>RDBECOLIRIC00004</td>\n",
       "      <td>tf-promoter</td>\n",
       "      <td>RDBECOLITFC00033</td>\n",
       "      <td>GalS</td>\n",
       "      <td>GalS-D-galactose</td>\n",
       "      <td>RDBECOLIBSC01692</td>\n",
       "      <td>3088004.0</td>\n",
       "      <td>3088019.0</td>\n",
       "      <td>forward</td>\n",
       "      <td>atcatcacaaCTGAAACCGATTACACcaaccacaac</td>\n",
       "      <td>...</td>\n",
       "      <td>-272.5</td>\n",
       "      <td>RDBECOLITUC02515:galP</td>\n",
       "      <td>CONFIRMED</td>\n",
       "      <td>COMP-AINF-SIMILAR-TO-CONSENSUS:W;EXP-IDA-BINDI...</td>\n",
       "      <td>NaN</td>\n",
       "      <td>AE(EXP-IMP-SITE-MUTATION/EXP-IDA-BINDING-OF-PU...</td>\n",
       "      <td>non-experimental|binding in vitro|binding in v...</td>\n",
       "      <td>non-experimental|Classical binding</td>\n",
       "      <td>19007420</td>\n",
       "      <td>19007420</td>\n",
       "    </tr>\n",
       "    <tr>\n",
       "      <th>4</th>\n",
       "      <td>RDBECOLIRIC00005</td>\n",
       "      <td>tf-promoter</td>\n",
       "      <td>RDBECOLITFC00088</td>\n",
       "      <td>GalR</td>\n",
       "      <td>GalR-D-galactose</td>\n",
       "      <td>RDBECOLIBSC01693</td>\n",
       "      <td>3088069.0</td>\n",
       "      <td>3088084.0</td>\n",
       "      <td>forward</td>\n",
       "      <td>ttattcggttTTCACAGTTGTTACATttcttttcag</td>\n",
       "      <td>...</td>\n",
       "      <td>-207.5</td>\n",
       "      <td>RDBECOLITUC02515:galP</td>\n",
       "      <td>CONFIRMED</td>\n",
       "      <td>COMP-AINF-SIMILAR-TO-CONSENSUS:W;EXP-IDA-BINDI...</td>\n",
       "      <td>NaN</td>\n",
       "      <td>AE(EXP-IMP-SITE-MUTATION/EXP-IDA-BINDING-OF-PU...</td>\n",
       "      <td>non-experimental|binding in vitro|binding in v...</td>\n",
       "      <td>non-experimental|Classical binding</td>\n",
       "      <td>19007420</td>\n",
       "      <td>19007420</td>\n",
       "    </tr>\n",
       "  </tbody>\n",
       "</table>\n",
       "<p>5 rows × 27 columns</p>\n",
       "</div>"
      ],
      "text/plain": [
       "               riId       riType regulatorId(TranscriptionFactor)  \\\n",
       "0  RDBECOLIRIC00001  tf-promoter                 RDBECOLITFC00023   \n",
       "1  RDBECOLIRIC00002  tf-promoter                 RDBECOLITFC00023   \n",
       "2  RDBECOLIRIC00003  tf-promoter                 RDBECOLITFC00088   \n",
       "3  RDBECOLIRIC00004  tf-promoter                 RDBECOLITFC00033   \n",
       "4  RDBECOLIRIC00005  tf-promoter                 RDBECOLITFC00088   \n",
       "\n",
       "  regulatorName regulatorActiveConformation(CNF)Name  \\\n",
       "0          GadW                                 GadW   \n",
       "1          GadW                                 GadW   \n",
       "2          GalR                     GalR-D-galactose   \n",
       "3          GalS                     GalS-D-galactose   \n",
       "4          GalR                     GalR-D-galactose   \n",
       "\n",
       "  regulatorRegulatorySite(tfrs)ID  tfrsLeftEndPosition  tfrsRightEndPosition  \\\n",
       "0                RDBECOLIBSC01689            3653866.0             3653885.0   \n",
       "1                RDBECOLIBSC01690            3656835.0             3656854.0   \n",
       "2                RDBECOLIBSC01691            3088004.0             3088019.0   \n",
       "3                RDBECOLIBSC01692            3088004.0             3088019.0   \n",
       "4                RDBECOLIBSC01693            3088069.0             3088084.0   \n",
       "\n",
       "    strand                              tfrsSequence  ...  \\\n",
       "0  forward  atcagacaggTTTACGTTACTATCAGGCATatcacctcag  ...   \n",
       "1  reverse  tgaaataaaaATATCTGATTTTGATATTTTccatcaacat  ...   \n",
       "2  forward      atcatcacaaCTGAAACCGATTACACcaaccacaac  ...   \n",
       "3  forward      atcatcacaaCTGAAACCGATTACACcaaccacaac  ...   \n",
       "4  forward      ttattcggttTTCACAGTTGTTACATttcttttcag  ...   \n",
       "\n",
       "  relativeDistanceFromCenterPositionOfTFRStoStartOfFirstGene  \\\n",
       "0                                              -85.5           \n",
       "1                                             -104.5           \n",
       "2                                             -272.5           \n",
       "3                                             -272.5           \n",
       "4                                             -207.5           \n",
       "\n",
       "  transcriptionUnitOrGeneRegulatedByTF confidenceLevel  \\\n",
       "0            RDBECOLITUC03133:slp-dctR            WEAK   \n",
       "1          RDBECOLITUC03315:hdeAB-yhiD          STRONG   \n",
       "2                RDBECOLITUC02515:galP       CONFIRMED   \n",
       "3                RDBECOLITUC02515:galP       CONFIRMED   \n",
       "4                RDBECOLITUC02515:galP       CONFIRMED   \n",
       "\n",
       "                                        tfrsEvidence  \\\n",
       "0                   COMP-AINF-SIMILAR-TO-CONSENSUS:W   \n",
       "1  COMP-HINF-SIMILAR-TO-CONSENSUS:W;COMP-AINF-SIM...   \n",
       "2  COMP-AINF-SIMILAR-TO-CONSENSUS:W;EXP-IDA-BINDI...   \n",
       "3  COMP-AINF-SIMILAR-TO-CONSENSUS:W;EXP-IDA-BINDI...   \n",
       "4  COMP-AINF-SIMILAR-TO-CONSENSUS:W;EXP-IDA-BINDI...   \n",
       "\n",
       "                           riEvidence  \\\n",
       "0  EXP-IEP-GENE-EXPRESSION-ANALYSIS:W   \n",
       "1  EXP-IEP-GENE-EXPRESSION-ANALYSIS:W   \n",
       "2                                 NaN   \n",
       "3                                 NaN   \n",
       "4                                 NaN   \n",
       "\n",
       "                                    additiveEvidence  \\\n",
       "0                                                NaN   \n",
       "1                                                NaN   \n",
       "2  AE(EXP-IMP-SITE-MUTATION/EXP-IDA-BINDING-OF-PU...   \n",
       "3  AE(EXP-IMP-SITE-MUTATION/EXP-IDA-BINDING-OF-PU...   \n",
       "4  AE(EXP-IMP-SITE-MUTATION/EXP-IDA-BINDING-OF-PU...   \n",
       "\n",
       "                                      riEvidenceTech  \\\n",
       "0                        expression|non-experimental   \n",
       "1       expression|non-experimental|binding in vitro   \n",
       "2  non-experimental|binding in vitro|binding in v...   \n",
       "3  non-experimental|binding in vitro|binding in v...   \n",
       "4  non-experimental|binding in vitro|binding in v...   \n",
       "\n",
       "                                  riEvidenceCategory          tfrsPMIDS  \\\n",
       "0              Classical expression|non-experimental           18808381   \n",
       "1  Classical expression|non-experimental|Classica...  18083817;18808381   \n",
       "2                 non-experimental|Classical binding           19007420   \n",
       "3                 non-experimental|Classical binding           19007420   \n",
       "4                 non-experimental|Classical binding           19007420   \n",
       "\n",
       "                       riPMIDS  \n",
       "0           12730179;18808381   \n",
       "1  12730179;18083817;18808381   \n",
       "2                    19007420   \n",
       "3                    19007420   \n",
       "4                    19007420   \n",
       "\n",
       "[5 rows x 27 columns]"
      ]
     },
     "execution_count": 51,
     "metadata": {},
     "output_type": "execute_result"
    }
   ],
   "source": [
    "df_ri = pd.read_csv(\"../data/RISet.tsv\", sep=\"\\t\")\n",
    "df_ri.head()"
   ]
  },
  {
   "cell_type": "code",
   "execution_count": 15,
   "metadata": {},
   "outputs": [],
   "source": [
    "df_ri[\"confidenceLevel\"] = df_ri[\"confidenceLevel\"].replace({\"C\": \"CONFIRMED\", \"S\": \"STRONG\", \"W\": \"WEAK\"})"
   ]
  },
  {
   "cell_type": "code",
   "execution_count": 19,
   "metadata": {},
   "outputs": [],
   "source": [
    "df_ri.to_csv(\"../data/RISet.tsv\", sep=\"\\t\", index=False)"
   ]
  },
  {
   "cell_type": "code",
   "execution_count": 25,
   "metadata": {},
   "outputs": [
    {
     "data": {
      "text/html": [
       "<div>\n",
       "<style scoped>\n",
       "    .dataframe tbody tr th:only-of-type {\n",
       "        vertical-align: middle;\n",
       "    }\n",
       "\n",
       "    .dataframe tbody tr th {\n",
       "        vertical-align: top;\n",
       "    }\n",
       "\n",
       "    .dataframe thead th {\n",
       "        text-align: right;\n",
       "    }\n",
       "</style>\n",
       "<table border=\"1\" class=\"dataframe\">\n",
       "  <thead>\n",
       "    <tr style=\"text-align: right;\">\n",
       "      <th></th>\n",
       "      <th>terminatorId</th>\n",
       "      <th>leftEndPos</th>\n",
       "      <th>rightEndPos</th>\n",
       "      <th>strand</th>\n",
       "      <th>sequence</th>\n",
       "      <th>relatedTus</th>\n",
       "      <th>type</th>\n",
       "      <th>operonName</th>\n",
       "      <th>pmids</th>\n",
       "      <th>evidences</th>\n",
       "      <th>confidenceLevel</th>\n",
       "    </tr>\n",
       "  </thead>\n",
       "  <tbody>\n",
       "    <tr>\n",
       "      <th>0</th>\n",
       "      <td>RDBECOLITMC00001</td>\n",
       "      <td>3407286</td>\n",
       "      <td>3407302</td>\n",
       "      <td>forward</td>\n",
       "      <td>agcgtcaaaaGGCCGGATTTTCCGGCCttttttatta</td>\n",
       "      <td>accBC:accBp2;accBC:accBp1</td>\n",
       "      <td>rho-independent</td>\n",
       "      <td>accBC</td>\n",
       "      <td>8226664</td>\n",
       "      <td>NaN</td>\n",
       "      <td>None</td>\n",
       "    </tr>\n",
       "    <tr>\n",
       "      <th>1</th>\n",
       "      <td>RDBECOLITMC00002</td>\n",
       "      <td>3418143</td>\n",
       "      <td>3418177</td>\n",
       "      <td>forward</td>\n",
       "      <td>gataaatcagAAACATAAAGGCGCTTTCGGGTGCCTTTATTATTTc...</td>\n",
       "      <td>acrEF:acrEp</td>\n",
       "      <td>rho-independent</td>\n",
       "      <td>acrEF</td>\n",
       "      <td>1720861</td>\n",
       "      <td>NaN</td>\n",
       "      <td>None</td>\n",
       "    </tr>\n",
       "    <tr>\n",
       "      <th>2</th>\n",
       "      <td>RDBECOLITMC00003</td>\n",
       "      <td>4639539</td>\n",
       "      <td>4639572</td>\n",
       "      <td>reverse</td>\n",
       "      <td>taccaccgtcAAAAAAAACGGCGCTTTTTAGCGCCGTTTTTATTtt...</td>\n",
       "      <td>arcA:arcAp1;arcA:arcAp2;arcA:arcAp3;arcA:arcAp...</td>\n",
       "      <td>rho-independent</td>\n",
       "      <td>arcA</td>\n",
       "      <td>2984198</td>\n",
       "      <td>NaN</td>\n",
       "      <td>None</td>\n",
       "    </tr>\n",
       "    <tr>\n",
       "      <th>3</th>\n",
       "      <td>RDBECOLITMC00004</td>\n",
       "      <td>2738912</td>\n",
       "      <td>2738940</td>\n",
       "      <td>forward</td>\n",
       "      <td>ctgatgaaaaGGTGCCGGATGATGTGAATCATCCGGCACtggattatta</td>\n",
       "      <td>pheLA:pheLp;aroF-tyrA:aroFp</td>\n",
       "      <td>rho-independent</td>\n",
       "      <td>pheLA;aroF-tyrA</td>\n",
       "      <td>6396419</td>\n",
       "      <td>NaN</td>\n",
       "      <td>None</td>\n",
       "    </tr>\n",
       "    <tr>\n",
       "      <th>4</th>\n",
       "      <td>RDBECOLITMC00005</td>\n",
       "      <td>786795</td>\n",
       "      <td>786821</td>\n",
       "      <td>forward</td>\n",
       "      <td>tagcaacaaaAAAGCCGACTCACTTGCAGTCGGCTTTctcattttaa</td>\n",
       "      <td>aroG:aroGp</td>\n",
       "      <td>rho-independent</td>\n",
       "      <td>aroG</td>\n",
       "      <td>1970563, 6125934</td>\n",
       "      <td>NaN</td>\n",
       "      <td>None</td>\n",
       "    </tr>\n",
       "  </tbody>\n",
       "</table>\n",
       "</div>"
      ],
      "text/plain": [
       "       terminatorId  leftEndPos  rightEndPos   strand  \\\n",
       "0  RDBECOLITMC00001     3407286      3407302  forward   \n",
       "1  RDBECOLITMC00002     3418143      3418177  forward   \n",
       "2  RDBECOLITMC00003     4639539      4639572  reverse   \n",
       "3  RDBECOLITMC00004     2738912      2738940  forward   \n",
       "4  RDBECOLITMC00005      786795       786821  forward   \n",
       "\n",
       "                                            sequence  \\\n",
       "0              agcgtcaaaaGGCCGGATTTTCCGGCCttttttatta   \n",
       "1  gataaatcagAAACATAAAGGCGCTTTCGGGTGCCTTTATTATTTc...   \n",
       "2  taccaccgtcAAAAAAAACGGCGCTTTTTAGCGCCGTTTTTATTtt...   \n",
       "3  ctgatgaaaaGGTGCCGGATGATGTGAATCATCCGGCACtggattatta   \n",
       "4    tagcaacaaaAAAGCCGACTCACTTGCAGTCGGCTTTctcattttaa   \n",
       "\n",
       "                                          relatedTus             type  \\\n",
       "0                          accBC:accBp2;accBC:accBp1  rho-independent   \n",
       "1                                        acrEF:acrEp  rho-independent   \n",
       "2  arcA:arcAp1;arcA:arcAp2;arcA:arcAp3;arcA:arcAp...  rho-independent   \n",
       "3                        pheLA:pheLp;aroF-tyrA:aroFp  rho-independent   \n",
       "4                                         aroG:aroGp  rho-independent   \n",
       "\n",
       "        operonName             pmids  evidences confidenceLevel  \n",
       "0            accBC           8226664        NaN           None   \n",
       "1            acrEF           1720861        NaN           None   \n",
       "2             arcA           2984198        NaN           None   \n",
       "3  pheLA;aroF-tyrA           6396419        NaN           None   \n",
       "4             aroG  1970563, 6125934        NaN           None   "
      ]
     },
     "execution_count": 25,
     "metadata": {},
     "output_type": "execute_result"
    }
   ],
   "source": [
    "df_terminator = pd.read_csv(\"../data/TerminatorSet.tsv\", sep=\"\\t\")\n",
    "df_terminator.head()"
   ]
  },
  {
   "cell_type": "code",
   "execution_count": 28,
   "metadata": {},
   "outputs": [
    {
     "data": {
      "text/plain": [
       "array(['None ', nan], dtype=object)"
      ]
     },
     "execution_count": 28,
     "metadata": {},
     "output_type": "execute_result"
    }
   ],
   "source": [
    "df_terminator[\"confidenceLevel\"].unique()"
   ]
  },
  {
   "cell_type": "code",
   "execution_count": 29,
   "metadata": {},
   "outputs": [
    {
     "data": {
      "text/plain": [
       "0      None \n",
       "1      None \n",
       "2      None \n",
       "3      None \n",
       "4      None \n",
       "       ...  \n",
       "366    None \n",
       "367    None \n",
       "368    None \n",
       "369    None \n",
       "370      NaN\n",
       "Name: confidenceLevel, Length: 371, dtype: object"
      ]
     },
     "execution_count": 29,
     "metadata": {},
     "output_type": "execute_result"
    }
   ],
   "source": [
    "df_terminator.pop(\"confidenceLevel\")"
   ]
  },
  {
   "cell_type": "code",
   "execution_count": 31,
   "metadata": {},
   "outputs": [
    {
     "data": {
      "text/plain": [
       "array([nan])"
      ]
     },
     "execution_count": 31,
     "metadata": {},
     "output_type": "execute_result"
    }
   ],
   "source": [
    "df_terminator[\"evidences\"].unique()"
   ]
  },
  {
   "cell_type": "code",
   "execution_count": 32,
   "metadata": {},
   "outputs": [
    {
     "data": {
      "text/plain": [
       "0     NaN\n",
       "1     NaN\n",
       "2     NaN\n",
       "3     NaN\n",
       "4     NaN\n",
       "       ..\n",
       "366   NaN\n",
       "367   NaN\n",
       "368   NaN\n",
       "369   NaN\n",
       "370   NaN\n",
       "Name: evidences, Length: 371, dtype: float64"
      ]
     },
     "execution_count": 32,
     "metadata": {},
     "output_type": "execute_result"
    }
   ],
   "source": [
    "df_terminator.pop(\"evidences\")"
   ]
  },
  {
   "cell_type": "code",
   "execution_count": 33,
   "metadata": {},
   "outputs": [],
   "source": [
    "df_terminator.to_csv(\"../data/TerminatorSet.tsv\", sep=\"\\t\", index=False)"
   ]
  },
  {
   "cell_type": "markdown",
   "metadata": {},
   "source": [
    "# crear create_sql_agent"
   ]
  },
  {
   "cell_type": "code",
   "execution_count": 1,
   "metadata": {},
   "outputs": [],
   "source": [
    "from langchain_community.utilities import SQLDatabase\n",
    "from langchain_experimental.tools import PythonAstREPLTool\n",
    "from sqlalchemy import create_engine\n",
    "\n",
    "engine = create_engine(\"sqlite:///../regulon.db\")"
   ]
  },
  {
   "cell_type": "code",
   "execution_count": 55,
   "metadata": {},
   "outputs": [
    {
     "data": {
      "text/plain": [
       "82"
      ]
     },
     "execution_count": 55,
     "metadata": {},
     "output_type": "execute_result"
    }
   ],
   "source": [
    "df_promoter.to_sql(\"promotores\", engine, index=False, if_exists=\"replace\")\n",
    "df_tu.to_sql(\"transcription_units\", engine, index=False, if_exists=\"replace\")\n",
    "df_ri.to_sql(\"regulatory_interactions\", engine, index=False, if_exists=\"replace\")\n",
    "df_terminator.to_sql(\"terminators\", engine, index=False, if_exists=\"replace\")\n",
    "df_evidence.to_sql(\"evidences\", engine, index=False, if_exists=\"replace\")"
   ]
  },
  {
   "cell_type": "code",
   "execution_count": 56,
   "metadata": {},
   "outputs": [
    {
     "name": "stdout",
     "output_type": "stream",
     "text": [
      "sqlite\n",
      "['evidences', 'promotores', 'regulatory_interactions', 'terminators', 'transcription_units']\n",
      "[(101,)]\n",
      "[('RDBECOLITUC00096', 'yabI', 'yabI', 'yabI;', 'yabIp', '[COMP-AINF:W]', None, 'WEAK', None)]\n"
     ]
    }
   ],
   "source": [
    "db = SQLDatabase(engine=engine)\n",
    "print(db.dialect)\n",
    "print(db.get_usable_table_names())\n",
    "print(db.run(\"SELECT count(*) FROM promotores WHERE sigmaFactor = 'sigma54';\"))\n",
    "print(db.run(\"SELECT * FROM transcription_units WHERE tuName = 'yabI';\"))"
   ]
  },
  {
   "cell_type": "code",
   "execution_count": 50,
   "metadata": {},
   "outputs": [
    {
     "name": "stdout",
     "output_type": "stream",
     "text": [
      "[('promotores',), ('transcription_units',), ('regulatory_interactions',), ('terminators',), ('evidences',)]\n"
     ]
    }
   ],
   "source": [
    "print(db.run(\"SELECT name FROM sqlite_master WHERE type='table';\"))"
   ]
  },
  {
   "cell_type": "code",
   "execution_count": 3,
   "metadata": {},
   "outputs": [],
   "source": [
    "import getpass\n",
    "import os\n",
    "\n",
    "os.environ[\"OPENAI_API_KEY\"] = getpass.getpass()\n",
    "\n",
    "from langchain_openai import ChatOpenAI\n",
    "\n",
    "llm = ChatOpenAI(model=\"gpt-4o-mini\")"
   ]
  },
  {
   "cell_type": "code",
   "execution_count": 57,
   "metadata": {},
   "outputs": [],
   "source": [
    "from langchain_community.agent_toolkits import create_sql_agent\n",
    "\n",
    "agent_executor = create_sql_agent(llm, db=db, agent_type=\"openai-tools\", verbose=True)"
   ]
  },
  {
   "cell_type": "code",
   "execution_count": 20,
   "metadata": {},
   "outputs": [
    {
     "name": "stdout",
     "output_type": "stream",
     "text": [
      "\n",
      "\n",
      "\u001b[1m> Entering new SQL Agent Executor chain...\u001b[0m\n",
      "\u001b[32;1m\u001b[1;3m\n",
      "Invoking: `sql_db_list_tables` with `{}`\n",
      "\n",
      "\n",
      "\u001b[0m\u001b[38;5;200m\u001b[1;3mpromotores\u001b[0m\u001b[32;1m\u001b[1;3m\n",
      "Invoking: `sql_db_schema` with `{'table_names': 'promotores'}`\n",
      "\n",
      "\n",
      "\u001b[0m\u001b[33;1m\u001b[1;3m\n",
      "CREATE TABLE promotores (\n",
      "\t\"pmId\" TEXT, \n",
      "\t\"pmName\" TEXT, \n",
      "\tstrand TEXT, \n",
      "\t\"posTSS\" FLOAT, \n",
      "\t\"sigmaFactor\" TEXT, \n",
      "\t\"pmSequence\" TEXT, \n",
      "\t\"firstGeneName\" TEXT, \n",
      "\t\"distToFirstGene\" FLOAT, \n",
      "\t\"pmEvidence\" TEXT, \n",
      "\t\"addEvidence\" TEXT, \n",
      "\t\"confidenceLevel\" TEXT, \n",
      "\t\"pmids \" TEXT\n",
      ")\n",
      "\n",
      "/*\n",
      "3 rows from promotores table:\n",
      "pmId\tpmName\tstrand\tposTSS\tsigmaFactor\tpmSequence\tfirstGeneName\tdistToFirstGene\tpmEvidence\taddEvidence\tconfidenceLevel\tpmids \n",
      "RDBECOLIPMC00001\tspyp\treverse\t1825688.0\tsigma70\tacactttcattgttttaccgttgctctgattaattgacgctaaagtcagtaaagttaatcTcgtcaacacggcacgctact\tspy\t-63.0\t[COMP-AINF:W][COMP-HINF-POSITIONAL-IDENTIFICATION:W][EXP-IDA-TRANSCRIPTION-INIT-MAPPING:S]\tNone\tS\t14529615;16861804;9068658 \n",
      "RDBECOLIPMC00002\tyfeKp\tforward\t2537315.0\tsigma24\tccgatgatcctcatcgtaatccaaccgaaactttacctgattctggcagtcaaatcggctAtcacaaaacaaggataaggt\tyfeK\t-27.0\t[COMP-AINF:W][COMP-AINF-POSITIONAL-IDENTIFICATION:W][EXP-IDA-TRANSCRIPTION-INIT-MAPPING:S]\tNone\tS\t14529615;16336047 \n",
      "RDBECOLIPMC00003\tbepAp1\tforward\t2616068.0\tsigma24\tgccgttacactcaaaggcggcgcggtgggaacgatatttcacagtatcggtcaaatgactAtctccagaaatacaggatag\tbepA\t-26.0\t[COMP-AINF:W][COMP-AINF-POSITIONAL-IDENTIFICATION:W][EXP-IDA-TRANSCRIPTION-INIT-MAPPING:S]\tNone\tS\t14529615;16336047;31992590 \n",
      "*/\u001b[0m\u001b[32;1m\u001b[1;3m\n",
      "Invoking: `sql_db_query_checker` with `{'query': \"SELECT pmName FROM promotores WHERE sigmaFactor = 'sigma54'\"}`\n",
      "\n",
      "\n",
      "\u001b[0m\u001b[36;1m\u001b[1;3m```sql\n",
      "SELECT pmName FROM promotores WHERE sigmaFactor = 'sigma54'\n",
      "```\u001b[0m\u001b[32;1m\u001b[1;3m\n",
      "Invoking: `sql_db_query` with `{'query': \"SELECT pmName FROM promotores WHERE sigmaFactor = 'sigma54'\"}`\n",
      "\n",
      "\n",
      "\u001b[0m\u001b[36;1m\u001b[1;3m[('yahEp',), ('yaaUp',), ('crlp2',), ('nikAp2',), ('emrDp',), ('yhjCp',), ('ygfKp',), ('radDp',), ('htpGp3',), ('flhDp2',), ('actPp',), ('rhaDp',), ('xdhAp2',), ('acrDp2',), ('astCp2',), ('pspAp',), ('potFp1',), ('argTp',), ('prpBp',), ('yeaGp1',), ('yhdWp',), ('ddpXp1',), ('gltIp2',), ('rutAp',), ('htrEp1',), ('rayTp1',), ('ffsp5',), ('ybcKp1',), ('insHp6',), ('ybiOp5',), ('efeOp2',), ('pinEp3',), ('ycgGp7',), ('ycgNp1',), ('pgpBp9',), ('ycjDp5',), ('tusp2',), ('rydBp1',), ('pabBp6',), ('pabBp7',), ('yebVp2',), ('yeiBp2',), ('yfeAp6',), ('tmcAp5',), ('ppkp6',), ('iscXp3',), ('ispFp3',), ('yqeGp5',), ('yggMp1',), ('rfaEp1',), ('yrdBp1',), ('yrdBp4',), ('yheVp1',), ('hslOp4',), ('rsmDp2',), ('yhhMp1',), ('yhiDp1',), ('typAp1',), ('yihLp1',), ('yihLp5',), ('ompLp1',), ('zapBp1',), ('yjaGp4',), ('yjaAp3',), ('ytfFp6',), ('yjhUp1',), ('mcrCp5',), ('rsmCp1',), ('yjjXp6',), ('relAp3',), ('relAp4',), ('glpQp',), ('gnsAp1',), ('ybhKp',), ('xapBp3',), ('kchp',), ('puuPp',), ('patAp2',), ('rseDp1',), ('norVp',), ('ibpBp',), ('pspGp',), ('rtcRp',), ('dcuDp2',), ('aslBp',), ('glmYp1',), ('chaCp',), ('atoDp',), ('fdhFp',), ('hycAp',), ('hypAp',), ('glnHp2',), ('glnAp2',), ('rtcBp',), ('rpoHp6',), ('hydNp',), ('nacp',), ('glnKp',), ('hyfAp',), ('zraPp',), ('zraSp',)]\u001b[0m\u001b[32;1m\u001b[1;3mLos nombres de los promotores regulados por el sigma factor sigma54 son:\n",
      "\n",
      "1. yahEp\n",
      "2. yaaUp\n",
      "3. crlp2\n",
      "4. nikAp2\n",
      "5. emrDp\n",
      "6. yhjCp\n",
      "7. ygfKp\n",
      "8. radDp\n",
      "9. htpGp3\n",
      "10. flhDp2\n",
      "11. actPp\n",
      "12. rhaDp\n",
      "13. xdhAp2\n",
      "14. acrDp2\n",
      "15. astCp2\n",
      "16. pspAp\n",
      "17. potFp1\n",
      "18. argTp\n",
      "19. prpBp\n",
      "20. yeaGp1\n",
      "21. yhdWp\n",
      "22. ddpXp1\n",
      "23. gltIp2\n",
      "24. rutAp\n",
      "25. htrEp1\n",
      "26. rayTp1\n",
      "27. ffsp5\n",
      "28. ybcKp1\n",
      "29. insHp6\n",
      "30. ybiOp5\n",
      "31. efeOp2\n",
      "32. pinEp3\n",
      "33. ycgGp7\n",
      "34. ycgNp1\n",
      "35. pgpBp9\n",
      "36. ycjDp5\n",
      "37. tusp2\n",
      "38. rydBp1\n",
      "39. pabBp6\n",
      "40. pabBp7\n",
      "41. yebVp2\n",
      "42. yeiBp2\n",
      "43. yfeAp6\n",
      "44. tmcAp5\n",
      "45. ppkp6\n",
      "46. iscXp3\n",
      "47. ispFp3\n",
      "48. yqeGp5\n",
      "49. yggMp1\n",
      "50. rfaEp1\n",
      "51. yrdBp1\n",
      "52. yrdBp4\n",
      "53. yheVp1\n",
      "54. hslOp4\n",
      "55. rsmDp2\n",
      "56. yhhMp1\n",
      "57. yhiDp1\n",
      "58. typAp1\n",
      "59. yihLp1\n",
      "60. yihLp5\n",
      "61. ompLp1\n",
      "62. zapBp1\n",
      "63. yjaGp4\n",
      "64. yjaAp3\n",
      "65. ytfFp6\n",
      "66. yjhUp1\n",
      "67. mcrCp5\n",
      "68. rsmCp1\n",
      "69. yjjXp6\n",
      "70. relAp3\n",
      "71. relAp4\n",
      "72. glpQp\n",
      "73. gnsAp1\n",
      "74. ybhKp\n",
      "75. xapBp3\n",
      "76. kchp\n",
      "77. puuPp\n",
      "78. patAp2\n",
      "79. rseDp1\n",
      "80. norVp\n",
      "81. ibpBp\n",
      "82. pspGp\n",
      "83. rtcRp\n",
      "84. dcuDp2\n",
      "85. aslBp\n",
      "86. glmYp1\n",
      "87. chaCp\n",
      "88. atoDp\n",
      "89. fdhFp\n",
      "90. hycAp\n",
      "91. hypAp\n",
      "92. glnHp2\n",
      "93. glnAp2\n",
      "94. rtcBp\n",
      "95. rpoHp6\n",
      "96. hydNp\n",
      "97. nacp\n",
      "98. glnKp\n",
      "99. hyfAp\n",
      "100. zraPp\n",
      "101. zraSp\u001b[0m\n",
      "\n",
      "\u001b[1m> Finished chain.\u001b[0m\n"
     ]
    },
    {
     "data": {
      "text/plain": [
       "{'input': 'Devuelve todos los nombres de los promotores regulados por el sigma factor sigma54 sin límite.',\n",
       " 'output': 'Los nombres de los promotores regulados por el sigma factor sigma54 son:\\n\\n1. yahEp\\n2. yaaUp\\n3. crlp2\\n4. nikAp2\\n5. emrDp\\n6. yhjCp\\n7. ygfKp\\n8. radDp\\n9. htpGp3\\n10. flhDp2\\n11. actPp\\n12. rhaDp\\n13. xdhAp2\\n14. acrDp2\\n15. astCp2\\n16. pspAp\\n17. potFp1\\n18. argTp\\n19. prpBp\\n20. yeaGp1\\n21. yhdWp\\n22. ddpXp1\\n23. gltIp2\\n24. rutAp\\n25. htrEp1\\n26. rayTp1\\n27. ffsp5\\n28. ybcKp1\\n29. insHp6\\n30. ybiOp5\\n31. efeOp2\\n32. pinEp3\\n33. ycgGp7\\n34. ycgNp1\\n35. pgpBp9\\n36. ycjDp5\\n37. tusp2\\n38. rydBp1\\n39. pabBp6\\n40. pabBp7\\n41. yebVp2\\n42. yeiBp2\\n43. yfeAp6\\n44. tmcAp5\\n45. ppkp6\\n46. iscXp3\\n47. ispFp3\\n48. yqeGp5\\n49. yggMp1\\n50. rfaEp1\\n51. yrdBp1\\n52. yrdBp4\\n53. yheVp1\\n54. hslOp4\\n55. rsmDp2\\n56. yhhMp1\\n57. yhiDp1\\n58. typAp1\\n59. yihLp1\\n60. yihLp5\\n61. ompLp1\\n62. zapBp1\\n63. yjaGp4\\n64. yjaAp3\\n65. ytfFp6\\n66. yjhUp1\\n67. mcrCp5\\n68. rsmCp1\\n69. yjjXp6\\n70. relAp3\\n71. relAp4\\n72. glpQp\\n73. gnsAp1\\n74. ybhKp\\n75. xapBp3\\n76. kchp\\n77. puuPp\\n78. patAp2\\n79. rseDp1\\n80. norVp\\n81. ibpBp\\n82. pspGp\\n83. rtcRp\\n84. dcuDp2\\n85. aslBp\\n86. glmYp1\\n87. chaCp\\n88. atoDp\\n89. fdhFp\\n90. hycAp\\n91. hypAp\\n92. glnHp2\\n93. glnAp2\\n94. rtcBp\\n95. rpoHp6\\n96. hydNp\\n97. nacp\\n98. glnKp\\n99. hyfAp\\n100. zraPp\\n101. zraSp'}"
      ]
     },
     "execution_count": 20,
     "metadata": {},
     "output_type": "execute_result"
    }
   ],
   "source": [
    "agent_executor.invoke({\"input\": \"Devuelve todos los nombres de los promotores regulados por el sigma factor sigma54 sin límite.\"})"
   ]
  },
  {
   "cell_type": "code",
   "execution_count": 60,
   "metadata": {},
   "outputs": [
    {
     "name": "stdout",
     "output_type": "stream",
     "text": [
      "\n",
      "\n",
      "\u001b[1m> Entering new SQL Agent Executor chain...\u001b[0m\n",
      "\u001b[32;1m\u001b[1;3m\n",
      "Invoking: `sql_db_list_tables` with `{}`\n",
      "\n",
      "\n",
      "\u001b[0m\u001b[38;5;200m\u001b[1;3mevidences, promotores, regulatory_interactions, terminators, transcription_units\u001b[0m\u001b[32;1m\u001b[1;3m\n",
      "Invoking: `sql_db_schema` with `{'table_names': 'promotores'}`\n",
      "\n",
      "\n",
      "\u001b[0m\u001b[33;1m\u001b[1;3m\n",
      "CREATE TABLE promotores (\n",
      "\t\"pmId\" TEXT, \n",
      "\t\"pmName\" TEXT, \n",
      "\tstrand TEXT, \n",
      "\t\"posTSS\" FLOAT, \n",
      "\t\"sigmaFactor\" TEXT, \n",
      "\t\"pmSequence\" TEXT, \n",
      "\t\"firstGeneName\" TEXT, \n",
      "\t\"distToFirstGene\" FLOAT, \n",
      "\t\"pmEvidence\" TEXT, \n",
      "\t\"addEvidence\" TEXT, \n",
      "\t\"confidenceLevel\" TEXT, \n",
      "\tpmids TEXT\n",
      ")\n",
      "\n",
      "/*\n",
      "3 rows from promotores table:\n",
      "pmId\tpmName\tstrand\tposTSS\tsigmaFactor\tpmSequence\tfirstGeneName\tdistToFirstGene\tpmEvidence\taddEvidence\tconfidenceLevel\tpmids\n",
      "RDBECOLIPMC00001\tspyp\treverse\t1825688.0\tsigma70\tacactttcattgttttaccgttgctctgattaattgacgctaaagtcagtaaagttaatcTcgtcaacacggcacgctact\tspy\t-63.0\t[COMP-AINF:W][COMP-HINF-POSITIONAL-IDENTIFICATION:W][EXP-IDA-TRANSCRIPTION-INIT-MAPPING:S]\tNone\tSTRONG\t14529615;16861804;9068658 \n",
      "RDBECOLIPMC00002\tyfeKp\tforward\t2537315.0\tsigma24\tccgatgatcctcatcgtaatccaaccgaaactttacctgattctggcagtcaaatcggctAtcacaaaacaaggataaggt\tyfeK\t-27.0\t[COMP-AINF:W][COMP-AINF-POSITIONAL-IDENTIFICATION:W][EXP-IDA-TRANSCRIPTION-INIT-MAPPING:S]\tNone\tSTRONG\t14529615;16336047 \n",
      "RDBECOLIPMC00003\tbepAp1\tforward\t2616068.0\tsigma24\tgccgttacactcaaaggcggcgcggtgggaacgatatttcacagtatcggtcaaatgactAtctccagaaatacaggatag\tbepA\t-26.0\t[COMP-AINF:W][COMP-AINF-POSITIONAL-IDENTIFICATION:W][EXP-IDA-TRANSCRIPTION-INIT-MAPPING:S]\tNone\tSTRONG\t14529615;16336047;31992590 \n",
      "*/\u001b[0m\u001b[32;1m\u001b[1;3m\n",
      "Invoking: `sql_db_schema` with `{'table_names': 'regulatory_interactions'}`\n",
      "\n",
      "\n",
      "\u001b[0m\u001b[33;1m\u001b[1;3m\n",
      "CREATE TABLE regulatory_interactions (\n",
      "\t\"riId\" TEXT, \n",
      "\t\"riType\" TEXT, \n",
      "\t\"regulatorId(TranscriptionFactor)\" TEXT, \n",
      "\t\"regulatorName\" TEXT, \n",
      "\t\"regulatorActiveConformation(CNF)Name\" TEXT, \n",
      "\t\"regulatorRegulatorySite(tfrs)ID\" TEXT, \n",
      "\t\"tfrsLeftEndPosition\" FLOAT, \n",
      "\t\"tfrsRightEndPosition\" FLOAT, \n",
      "\tstrand TEXT, \n",
      "\t\"tfrsSequence\" TEXT, \n",
      "\t\"riFunction\" TEXT, \n",
      "\t\"promoterID\" TEXT, \n",
      "\t\"promoterName\" TEXT, \n",
      "\t\"transcriptionStartSite\" FLOAT, \n",
      "\t\"sigmaFactor\" TEXT, \n",
      "\t\"relativeDistanceFromCenterPositionOfTFRStoTSS\" FLOAT, \n",
      "\t\"firstGene\" TEXT, \n",
      "\t\"relativeDistanceFromCenterPositionOfTFRStoStartOfFirstGene\" FLOAT, \n",
      "\t\"transcriptionUnitOrGeneRegulatedByTF\" TEXT, \n",
      "\t\"confidenceLevel\" TEXT, \n",
      "\t\"tfrsEvidence\" TEXT, \n",
      "\t\"riEvidence\" TEXT, \n",
      "\t\"additiveEvidence\" TEXT, \n",
      "\t\"riEvidenceTech\" TEXT, \n",
      "\t\"riEvidenceCategory\" TEXT, \n",
      "\t\"tfrsPMIDS\" TEXT, \n",
      "\t\"riPMIDS\" TEXT\n",
      ")\n",
      "\n",
      "/*\n",
      "3 rows from regulatory_interactions table:\n",
      "riId\triType\tregulatorId(TranscriptionFactor)\tregulatorName\tregulatorActiveConformation(CNF)Name\tregulatorRegulatorySite(tfrs)ID\ttfrsLeftEndPosition\ttfrsRightEndPosition\tstrand\ttfrsSequence\triFunction\tpromoterID\tpromoterName\ttranscriptionStartSite\tsigmaFactor\trelativeDistanceFromCenterPositionOfTFRStoTSS\tfirstGene\trelativeDistanceFromCenterPositionOfTFRStoStartOfFirstGene\ttranscriptionUnitOrGeneRegulatedByTF\tconfidenceLevel\ttfrsEvidence\triEvidence\tadditiveEvidence\triEvidenceTech\triEvidenceCategory\ttfrsPMIDS\triPMIDS\n",
      "RDBECOLIRIC00001\ttf-promoter\tRDBECOLITFC00023\tGadW\tGadW\tRDBECOLIBSC01689\t3653866.0\t3653885.0\tforward\tatcagacaggTTTACGTTACTATCAGGCATatcacctcag\trepressor\tRDBECOLIPMC03419\tslpp\t3653936.0\tsigma70\t-60.5\tslp\t-85.5\tRDBECOLITUC03133:slp-dctR\tWEAK\tCOMP-AINF-SIMILAR-TO-CONSENSUS:W\tEXP-IEP-GENE-EXPRESSION-ANALYSIS:W\tNone\texpression|non-experimental\tClassical expression|non-experimental\t18808381\t12730179;18808381 \n",
      "RDBECOLIRIC00002\ttf-promoter\tRDBECOLITFC00023\tGadW\tGadW\tRDBECOLIBSC01690\t3656835.0\t3656854.0\treverse\ttgaaataaaaATATCTGATTTTGATATTTTccatcaacat\tactivator\tRDBECOLIPMC04032\thdeAp\t3656791.0\tsigma70\t-53.5\thdeA\t-104.5\tRDBECOLITUC03315:hdeAB-yhiD\tSTRONG\tCOMP-HINF-SIMILAR-TO-CONSENSUS:W;COMP-AINF-SIMILAR-TO-CONSENSUS:W;EXP-IDA-BINDING-OF-PURIFIED-PROTEI\tEXP-IEP-GENE-EXPRESSION-ANALYSIS:W\tNone\texpression|non-experimental|binding in vitro\tClassical expression|non-experimental|Classical binding\t18083817;18808381\t12730179;18083817;18808381 \n",
      "RDBECOLIRIC00003\ttf-promoter\tRDBECOLITFC00088\tGalR\tGalR-D-galactose\tRDBECOLIBSC01691\t3088004.0\t3088019.0\tforward\tatcatcacaaCTGAAACCGATTACACcaaccacaac\trepressor\tRDBECOLIPMC02833\tgalPp\t3088255.0\tsigma70\t-243.5\tgalP\t-272.5\tRDBECOLITUC02515:galP\tCONFIRMED\tCOMP-AINF-SIMILAR-TO-CONSENSUS:W;EXP-IDA-BINDING-OF-PURIFIED-PROTEINS:S;EXP-IMP-SITE-MUTATION:S\tNone\tAE(EXP-IMP-SITE-MUTATION/EXP-IDA-BINDING-OF-PURIFIED-PROTEINS):C\tnon-experimental|binding in vitro|binding in vivo or in vitro\tnon-experimental|Classical binding\t19007420\t19007420 \n",
      "*/\u001b[0m\u001b[32;1m\u001b[1;3m\n",
      "Invoking: `sql_db_query_checker` with `{'query': \"SELECT pmSequence FROM promotores WHERE pmId IN (SELECT promoterID FROM regulatory_interactions WHERE riId = 'RDBECOLIRIC00001')\"}`\n",
      "\n",
      "\n",
      "\u001b[0m\u001b[36;1m\u001b[1;3m```sql\n",
      "SELECT pmSequence FROM promotores WHERE pmId IN (SELECT promoterID FROM regulatory_interactions WHERE riId = 'RDBECOLIRIC00001')\n",
      "```\u001b[0m\u001b[32;1m\u001b[1;3m\n",
      "Invoking: `sql_db_query` with `{'query': \"SELECT pmSequence FROM promotores WHERE pmId IN (SELECT promoterID FROM regulatory_interactions WHERE riId = 'RDBECOLIRIC00001')\"}`\n",
      "\n",
      "\n",
      "\u001b[0m\u001b[36;1m\u001b[1;3m[('tatcaggcatatcacctcagaatcagatgaaaactataaagaaatatctattatggttttAatatttgttgataaggatag',)]\u001b[0m\u001b[32;1m\u001b[1;3mLa secuencia del promotor relacionado con el ID del regulador de interacción RDBECOLIRIC00001 es: \n",
      "\n",
      "**tatcaggcatatcacctcagaatcagatgaaaactataaagaaatatctattatggttttAatatttgttgataaggatag**.\u001b[0m\n",
      "\n",
      "\u001b[1m> Finished chain.\u001b[0m\n"
     ]
    }
   ],
   "source": [
    "answer = agent_executor.invoke({\"input\": \"cual es la secuencia del promotor que esta relacionado con el id del ri RDBECOLIRIC00001?\"})"
   ]
  },
  {
   "cell_type": "code",
   "execution_count": 61,
   "metadata": {},
   "outputs": [
    {
     "name": "stdout",
     "output_type": "stream",
     "text": [
      "La secuencia del promotor relacionado con el ID del regulador de interacción RDBECOLIRIC00001 es: \n",
      "\n",
      "**tatcaggcatatcacctcagaatcagatgaaaactataaagaaatatctattatggttttAatatttgttgataaggatag**.\n"
     ]
    }
   ],
   "source": [
    "print(answer[\"output\"])"
   ]
  },
  {
   "cell_type": "code",
   "execution_count": 6,
   "metadata": {},
   "outputs": [
    {
     "name": "stdout",
     "output_type": "stream",
     "text": [
      "\n",
      "\n",
      "\u001b[1m> Entering new SQL Agent Executor chain...\u001b[0m\n",
      "\u001b[32;1m\u001b[1;3m\n",
      "Invoking: `sql_db_list_tables` with `{}`\n",
      "\n",
      "\n",
      "\u001b[0m\u001b[38;5;200m\u001b[1;3mpromotores, transcription_units\u001b[0m\u001b[32;1m\u001b[1;3m\n",
      "Invoking: `sql_db_schema` with `{'table_names': 'promotores'}`\n",
      "\n",
      "\n",
      "\u001b[0m\u001b[33;1m\u001b[1;3m\n",
      "CREATE TABLE promotores (\n",
      "\t\"pmId\" TEXT, \n",
      "\t\"pmName\" TEXT, \n",
      "\tstrand TEXT, \n",
      "\t\"posTSS\" FLOAT, \n",
      "\t\"sigmaFactor\" TEXT, \n",
      "\t\"pmSequence\" TEXT, \n",
      "\t\"firstGeneName\" TEXT, \n",
      "\t\"distToFirstGene\" FLOAT, \n",
      "\t\"pmEvidence\" TEXT, \n",
      "\t\"addEvidence\" TEXT, \n",
      "\t\"confidenceLevel\" TEXT, \n",
      "\t\"pmids \" TEXT\n",
      ")\n",
      "\n",
      "/*\n",
      "3 rows from promotores table:\n",
      "pmId\tpmName\tstrand\tposTSS\tsigmaFactor\tpmSequence\tfirstGeneName\tdistToFirstGene\tpmEvidence\taddEvidence\tconfidenceLevel\tpmids \n",
      "RDBECOLIPMC00001\tspyp\treverse\t1825688.0\tsigma70\tacactttcattgttttaccgttgctctgattaattgacgctaaagtcagtaaagttaatcTcgtcaacacggcacgctact\tspy\t-63.0\t[COMP-AINF:W][COMP-HINF-POSITIONAL-IDENTIFICATION:W][EXP-IDA-TRANSCRIPTION-INIT-MAPPING:S]\tNone\tS\t14529615;16861804;9068658 \n",
      "RDBECOLIPMC00002\tyfeKp\tforward\t2537315.0\tsigma24\tccgatgatcctcatcgtaatccaaccgaaactttacctgattctggcagtcaaatcggctAtcacaaaacaaggataaggt\tyfeK\t-27.0\t[COMP-AINF:W][COMP-AINF-POSITIONAL-IDENTIFICATION:W][EXP-IDA-TRANSCRIPTION-INIT-MAPPING:S]\tNone\tS\t14529615;16336047 \n",
      "RDBECOLIPMC00003\tbepAp1\tforward\t2616068.0\tsigma24\tgccgttacactcaaaggcggcgcggtgggaacgatatttcacagtatcggtcaaatgactAtctccagaaatacaggatag\tbepA\t-26.0\t[COMP-AINF:W][COMP-AINF-POSITIONAL-IDENTIFICATION:W][EXP-IDA-TRANSCRIPTION-INIT-MAPPING:S]\tNone\tS\t14529615;16336047;31992590 \n",
      "*/\u001b[0m\u001b[32;1m\u001b[1;3m\n",
      "Invoking: `sql_db_schema` with `{'table_names': 'transcription_units'}`\n",
      "\n",
      "\n",
      "\u001b[0m\u001b[33;1m\u001b[1;3m\n",
      "CREATE TABLE transcription_units (\n",
      "\t\"tuId\" TEXT, \n",
      "\t\"tuName\" TEXT, \n",
      "\t\"operonName\" TEXT, \n",
      "\t\"tuGenes\" TEXT, \n",
      "\t\"pmName\" TEXT, \n",
      "\t\"tuEvidence\" TEXT, \n",
      "\t\"addEvidence\" TEXT, \n",
      "\t\"confidenceLevel   pmids \" TEXT\n",
      ")\n",
      "\n",
      "/*\n",
      "3 rows from transcription_units table:\n",
      "tuId\ttuName\toperonName\ttuGenes\tpmName\ttuEvidence\taddEvidence\tconfidenceLevel   pmids \n",
      "RDBECOLITUC00080\tyjtD\tyjtD\tyjtD;\tNone\t[COMP-AINF:W]\tNone\tW\n",
      "RDBECOLITUC00081\tyaaX\tyaaX\tyaaX;\tNone\t[COMP-AINF:W]\tNone\tW\n",
      "RDBECOLITUC00082\tyaaA\tyaaA\tyaaA;\tNone\t[COMP-AINF:W]\tNone\tW\n",
      "*/\u001b[0m\u001b[32;1m\u001b[1;3m\n",
      "Invoking: `sql_db_query_checker` with `{'query': \"SELECT tuId, tuName, pmName, tuEvidence \\nFROM transcription_units \\nWHERE tuName = 'araE-ygeA';\"}`\n",
      "responded: The relevant tables are `promotores` and `transcription_units`. \n",
      "\n",
      "The `transcription_units` table contains columns that may help identify the evidence for a specific transcription unit (TU), including `tuId`, `tuName`, `pmName`, and `tuEvidence`. \n",
      "\n",
      "Now, I will query for the evidence related to the TU with the name \"araE-ygeA\". I will select the relevant columns: `tuId`, `tuName`, `pmName`, and `tuEvidence`. \n",
      "\n",
      "Let's prepare the query. The transcription unit name appears to be \"araE-ygeA\".\n",
      "\n",
      "Here's the query I'll execute:\n",
      "```sql\n",
      "SELECT tuId, tuName, pmName, tuEvidence \n",
      "FROM transcription_units \n",
      "WHERE tuName = 'araE-ygeA';\n",
      "```\n",
      "\n",
      "Now, I will check this query for correctness before executing it.\n",
      "\n",
      "\u001b[0m\u001b[36;1m\u001b[1;3m```sql\n",
      "SELECT tuId, tuName, pmName, tuEvidence \n",
      "FROM transcription_units \n",
      "WHERE tuName = 'araE-ygeA';\n",
      "```\u001b[0m\u001b[32;1m\u001b[1;3m\n",
      "Invoking: `sql_db_query` with `{'query': \"SELECT tuId, tuName, pmName, tuEvidence \\nFROM transcription_units \\nWHERE tuName = 'araE-ygeA';\"}`\n",
      "\n",
      "\n",
      "\u001b[0m\u001b[36;1m\u001b[1;3m[('RDBECOLITUC02057', 'araE-ygeA', 'araEp', '[EXP-IDA-TRANSCRIPT-LEN-DETERMINATION:S]')]\u001b[0m\u001b[32;1m\u001b[1;3mThe evidence for the transcription unit (TU) \"araE-ygeA\" is as follows:\n",
      "\n",
      "- **TU ID**: RDBECOLITUC02057\n",
      "- **TU Name**: araE-ygeA\n",
      "- **Promoter Name**: araEp\n",
      "- **Evidence**: [EXP-IDA-TRANSCRIPT-LEN-DETERMINATION:S]\n",
      "\n",
      "This indicates that the evidence is based on experimental data related to transcript length determination.\u001b[0m\n",
      "\n",
      "\u001b[1m> Finished chain.\u001b[0m\n",
      "The evidence for the transcription unit (TU) \"araE-ygeA\" is as follows:\n",
      "\n",
      "- **TU ID**: RDBECOLITUC02057\n",
      "- **TU Name**: araE-ygeA\n",
      "- **Promoter Name**: araEp\n",
      "- **Evidence**: [EXP-IDA-TRANSCRIPT-LEN-DETERMINATION:S]\n",
      "\n",
      "This indicates that the evidence is based on experimental data related to transcript length determination.\n"
     ]
    }
   ],
   "source": [
    "answer = agent_executor.invoke({\"input\": \"Cuales son las evidencias de la TU araE-ygeA?\"})"
   ]
  },
  {
   "cell_type": "code",
   "execution_count": 7,
   "metadata": {},
   "outputs": [
    {
     "name": "stdout",
     "output_type": "stream",
     "text": [
      "The evidence for the transcription unit (TU) \"araE-ygeA\" is as follows:\n",
      "\n",
      "- **TU ID**: RDBECOLITUC02057\n",
      "- **TU Name**: araE-ygeA\n",
      "- **Promoter Name**: araEp\n",
      "- **Evidence**: [EXP-IDA-TRANSCRIPT-LEN-DETERMINATION:S]\n",
      "\n",
      "This indicates that the evidence is based on experimental data related to transcript length determination.\n"
     ]
    }
   ],
   "source": [
    "print(answer[\"output\"])"
   ]
  },
  {
   "cell_type": "markdown",
   "metadata": {},
   "source": [
    "# PythonAstREPLTool con varios dfs"
   ]
  },
  {
   "cell_type": "code",
   "execution_count": 15,
   "metadata": {},
   "outputs": [],
   "source": [
    "from langchain_core.prompts import ChatPromptTemplate\n",
    "from langchain_core.output_parsers.openai_tools import JsonOutputKeyToolsParser\n",
    "from operator import itemgetter\n",
    "\n",
    "from langchain_core.messages import ToolMessage\n",
    "from langchain_core.output_parsers import StrOutputParser\n",
    "from langchain_core.prompts import MessagesPlaceholder\n",
    "from langchain_core.runnables import RunnablePassthrough"
   ]
  },
  {
   "cell_type": "code",
   "execution_count": 17,
   "metadata": {},
   "outputs": [
    {
     "data": {
      "text/plain": [
       "323      yahEp\n",
       "324      yaaUp\n",
       "325      crlp2\n",
       "326     nikAp2\n",
       "327      emrDp\n",
       "         ...  \n",
       "4002      nacp\n",
       "4010     glnKp\n",
       "4019     hyfAp\n",
       "4026     zraPp\n",
       "4027     zraSp\n",
       "Name: pmName, Length: 101, dtype: object"
      ]
     },
     "execution_count": 17,
     "metadata": {},
     "output_type": "execute_result"
    }
   ],
   "source": [
    "df_1 = pd.read_csv(\"../data/PromoterSet.tsv\", sep=\"\\t\")\n",
    "df_2 = pd.read_csv(\"../data/TUSet.tsv\", sep=\"\\t\")\n",
    "tool = PythonAstREPLTool(locals={\"df_1\": df_1, \"df_2\": df_2})\n",
    "llm_with_tool = llm.bind_tools(tools=[tool], tool_choice=tool.name)\n",
    "df_template = \"\"\"\\`\\`\\`python\n",
    "{df_name}.head().to_markdown()\n",
    ">>> {df_head}\n",
    "\\`\\`\\`\"\"\"\n",
    "df_context = \"\\n\\n\".join(\n",
    "    df_template.format(df_head=_df.head().to_markdown(), df_name=df_name)\n",
    "    for _df, df_name in [(df_1, \"df_1\"), (df_2, \"df_2\")]\n",
    ")\n",
    "\n",
    "system = f\"\"\"You have access to a number of pandas dataframes. \\\n",
    "Here is a sample of rows from each dataframe and the python code that was used to generate the sample:\n",
    "\n",
    "{df_context}\n",
    "\n",
    "Given a user question about the dataframes, write the Python code to answer it. \\\n",
    "Don't assume you have access to any libraries other than built-in Python ones and pandas. \\\n",
    "Make sure to refer only to the variables mentioned above.\"\"\"\n",
    "prompt = ChatPromptTemplate.from_messages([(\"system\", system), (\"human\", \"{question}\"), ])\n",
    "\n",
    "parser = JsonOutputKeyToolsParser(key_name=tool.name, first_tool_only=True)\n",
    "\n",
    "chain = prompt | llm_with_tool | parser | tool\n",
    "chain.invoke(\n",
    "    {\n",
    "        \"question\": \"cuales son los nombres de los promotores que esten regulados por el sigma factor sigma54?\"\n",
    "    }\n",
    ")"
   ]
  },
  {
   "cell_type": "code",
   "execution_count": 18,
   "metadata": {},
   "outputs": [],
   "source": [
    "df_1 = pd.read_csv(\"../data/PromoterSet.tsv\", sep=\"\\t\")\n",
    "df_2 = pd.read_csv(\"../data/TUSet.tsv\", sep=\"\\t\")\n",
    "tool = PythonAstREPLTool(locals={\"df_1\": df_1, \"df_2\": df_2})\n",
    "llm_with_tool = llm.bind_tools(tools=[tool], tool_choice=tool.name)\n",
    "df_template = \"\"\"\\`\\`\\`python\n",
    "{df_name}.head().to_markdown()\n",
    ">>> {df_head}\n",
    "\\`\\`\\`\"\"\"\n",
    "df_context = \"\\n\\n\".join(\n",
    "    df_template.format(df_head=_df.head().to_markdown(), df_name=df_name)\n",
    "    for _df, df_name in [(df_1, \"df_1\"), (df_2, \"df_2\")]\n",
    ")\n",
    "\n",
    "system = f\"\"\"You have access to a number of pandas dataframes. \\\n",
    "Here is a sample of rows from each dataframe and the python code that was used to generate the sample:\n",
    "\n",
    "{df_context}\n",
    "\n",
    "Given a user question about the dataframes, write the Python code to answer it. \\\n",
    "Don't assume you have access to any libraries other than built-in Python ones and pandas. \\\n",
    "Make sure to refer only to the variables mentioned above.\"\"\"\n",
    "prompt = ChatPromptTemplate.from_messages([(\"system\", system), (\"human\", \"{question}\"), MessagesPlaceholder(\"chat_history\", optional=True),])\n",
    "\n",
    "def _get_chat_history(x: dict) -> list:\n",
    "    \"\"\"Parse the chain output up to this point into a list of chat history messages to insert in the prompt.\"\"\"\n",
    "    ai_msg = x[\"ai_msg\"]\n",
    "    tool_call_id = x[\"ai_msg\"].additional_kwargs[\"tool_calls\"][0][\"id\"]\n",
    "    tool_msg = ToolMessage(tool_call_id=tool_call_id, content=str(x[\"tool_output\"]))\n",
    "    return [ai_msg, tool_msg]\n",
    "\n",
    "parser = JsonOutputKeyToolsParser(key_name=tool.name, first_tool_only=True)\n",
    "\n",
    "chain = (\n",
    "    RunnablePassthrough.assign(ai_msg=prompt | llm_with_tool)\n",
    "    .assign(tool_output=itemgetter(\"ai_msg\") | parser | tool)\n",
    "    .assign(chat_history=_get_chat_history)\n",
    "    .assign(response=prompt | llm | StrOutputParser())\n",
    "    .pick([\"tool_output\", \"response\"])\n",
    ")"
   ]
  },
  {
   "cell_type": "code",
   "execution_count": 19,
   "metadata": {},
   "outputs": [
    {
     "data": {
      "text/plain": [
       "{'tool_output': 323      yahEp\n",
       " 324      yaaUp\n",
       " 325      crlp2\n",
       " 326     nikAp2\n",
       " 327      emrDp\n",
       "          ...  \n",
       " 4002      nacp\n",
       " 4010     glnKp\n",
       " 4019     hyfAp\n",
       " 4026     zraPp\n",
       " 4027     zraSp\n",
       " Name: pmName, Length: 101, dtype: object,\n",
       " 'response': 'Los nombres de los promotores que están regulados por el sigma factor sigma54 son:\\n\\n- yahEp\\n- yaaUp\\n- crlp2\\n- nikAp2\\n- emrDp\\n- nacp\\n- glnKp\\n- hyfAp\\n- zraPp\\n- zraSp\\n\\n(Estos son solo algunos ejemplos, hay un total de 101 promotores regulados por sigma54).'}"
      ]
     },
     "execution_count": 19,
     "metadata": {},
     "output_type": "execute_result"
    }
   ],
   "source": [
    "chain.invoke(\n",
    "    {\n",
    "        \"question\": \"cuales son los nombres de los promotores que esten regulados por el sigma factor sigma54?\"\n",
    "    }\n",
    ")"
   ]
  }
 ],
 "metadata": {
  "kernelspec": {
   "display_name": ".venv",
   "language": "python",
   "name": "python3"
  },
  "language_info": {
   "codemirror_mode": {
    "name": "ipython",
    "version": 3
   },
   "file_extension": ".py",
   "mimetype": "text/x-python",
   "name": "python",
   "nbconvert_exporter": "python",
   "pygments_lexer": "ipython3",
   "version": "3.11.3"
  }
 },
 "nbformat": 4,
 "nbformat_minor": 2
}
