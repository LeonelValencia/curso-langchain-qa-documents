{
 "cells": [
  {
   "cell_type": "markdown",
   "metadata": {},
   "source": [
    "# preparar datasets"
   ]
  },
  {
   "cell_type": "code",
   "execution_count": 18,
   "metadata": {},
   "outputs": [],
   "source": [
    "import pandas as pd"
   ]
  },
  {
   "cell_type": "markdown",
   "metadata": {},
   "source": [
    "### Promotores"
   ]
  },
  {
   "cell_type": "code",
   "execution_count": 19,
   "metadata": {},
   "outputs": [
    {
     "name": "stdout",
     "output_type": "stream",
     "text": [
      "(4052, 12)\n",
      "['pmId', 'pmName', 'strand', 'posTSS', 'sigmaFactor', 'pmSequence', 'firstGeneName', 'distToFirstGene', 'pmEvidence', 'addEvidence', 'confidenceLevel', 'pmids(reference)']\n"
     ]
    }
   ],
   "source": [
    "df_promoter = pd.read_csv(\"../data/PromoterSet.tsv\", sep=\"\\t\")\n",
    "print(df_promoter.shape)\n",
    "print(df_promoter.columns.tolist())"
   ]
  },
  {
   "cell_type": "code",
   "execution_count": 20,
   "metadata": {},
   "outputs": [
    {
     "data": {
      "text/html": [
       "<div>\n",
       "<style scoped>\n",
       "    .dataframe tbody tr th:only-of-type {\n",
       "        vertical-align: middle;\n",
       "    }\n",
       "\n",
       "    .dataframe tbody tr th {\n",
       "        vertical-align: top;\n",
       "    }\n",
       "\n",
       "    .dataframe thead th {\n",
       "        text-align: right;\n",
       "    }\n",
       "</style>\n",
       "<table border=\"1\" class=\"dataframe\">\n",
       "  <thead>\n",
       "    <tr style=\"text-align: right;\">\n",
       "      <th></th>\n",
       "      <th>pmId</th>\n",
       "      <th>pmName</th>\n",
       "      <th>strand</th>\n",
       "      <th>posTSS</th>\n",
       "      <th>sigmaFactor</th>\n",
       "      <th>pmSequence</th>\n",
       "      <th>firstGeneName</th>\n",
       "      <th>distToFirstGene</th>\n",
       "      <th>pmEvidence</th>\n",
       "      <th>addEvidence</th>\n",
       "      <th>confidenceLevel</th>\n",
       "      <th>pmids(reference)</th>\n",
       "    </tr>\n",
       "  </thead>\n",
       "  <tbody>\n",
       "    <tr>\n",
       "      <th>0</th>\n",
       "      <td>RDBECOLIPMC00001</td>\n",
       "      <td>spyp</td>\n",
       "      <td>reverse</td>\n",
       "      <td>1825688.0</td>\n",
       "      <td>sigma70</td>\n",
       "      <td>acactttcattgttttaccgttgctctgattaattgacgctaaagt...</td>\n",
       "      <td>spy</td>\n",
       "      <td>-63.0</td>\n",
       "      <td>[COMP-AINF:W][COMP-HINF-POSITIONAL-IDENTIFICAT...</td>\n",
       "      <td>NaN</td>\n",
       "      <td>STRONG</td>\n",
       "      <td>14529615;16861804;9068658</td>\n",
       "    </tr>\n",
       "    <tr>\n",
       "      <th>1</th>\n",
       "      <td>RDBECOLIPMC00002</td>\n",
       "      <td>yfeKp</td>\n",
       "      <td>forward</td>\n",
       "      <td>2537315.0</td>\n",
       "      <td>sigma24</td>\n",
       "      <td>ccgatgatcctcatcgtaatccaaccgaaactttacctgattctgg...</td>\n",
       "      <td>yfeK</td>\n",
       "      <td>-27.0</td>\n",
       "      <td>[COMP-AINF:W][COMP-AINF-POSITIONAL-IDENTIFICAT...</td>\n",
       "      <td>NaN</td>\n",
       "      <td>STRONG</td>\n",
       "      <td>14529615;16336047</td>\n",
       "    </tr>\n",
       "  </tbody>\n",
       "</table>\n",
       "</div>"
      ],
      "text/plain": [
       "               pmId pmName   strand     posTSS sigmaFactor  \\\n",
       "0  RDBECOLIPMC00001   spyp  reverse  1825688.0     sigma70   \n",
       "1  RDBECOLIPMC00002  yfeKp  forward  2537315.0     sigma24   \n",
       "\n",
       "                                          pmSequence firstGeneName  \\\n",
       "0  acactttcattgttttaccgttgctctgattaattgacgctaaagt...           spy   \n",
       "1  ccgatgatcctcatcgtaatccaaccgaaactttacctgattctgg...          yfeK   \n",
       "\n",
       "   distToFirstGene                                         pmEvidence  \\\n",
       "0            -63.0  [COMP-AINF:W][COMP-HINF-POSITIONAL-IDENTIFICAT...   \n",
       "1            -27.0  [COMP-AINF:W][COMP-AINF-POSITIONAL-IDENTIFICAT...   \n",
       "\n",
       "  addEvidence confidenceLevel            pmids(reference)  \n",
       "0         NaN          STRONG  14529615;16861804;9068658   \n",
       "1         NaN          STRONG          14529615;16336047   "
      ]
     },
     "execution_count": 20,
     "metadata": {},
     "output_type": "execute_result"
    }
   ],
   "source": [
    "df_promoter.head(2)"
   ]
  },
  {
   "cell_type": "code",
   "execution_count": 36,
   "metadata": {},
   "outputs": [],
   "source": [
    "df_promoter[\"confidenceLevel\"] = df_promoter[\"confidenceLevel\"].replace({\"C\": \"CONFIRMED\", \"S\": \"STRONG\", \"W\": \"WEAK\"})"
   ]
  },
  {
   "cell_type": "code",
   "execution_count": 38,
   "metadata": {},
   "outputs": [
    {
     "data": {
      "text/plain": [
       "confidenceLevel\n",
       "WEAK         2517\n",
       "STRONG       1455\n",
       "CONFIRMED      79\n",
       "Name: count, dtype: int64"
      ]
     },
     "execution_count": 38,
     "metadata": {},
     "output_type": "execute_result"
    }
   ],
   "source": [
    "df_promoter[\"confidenceLevel\"].value_counts()"
   ]
  },
  {
   "cell_type": "code",
   "execution_count": 40,
   "metadata": {},
   "outputs": [],
   "source": [
    "df_promoter.to_csv(\"../data/PromoterSet.tsv\", sep=\"\\t\", index=False)"
   ]
  },
  {
   "cell_type": "markdown",
   "metadata": {},
   "source": [
    "### transcription_units"
   ]
  },
  {
   "cell_type": "code",
   "execution_count": 42,
   "metadata": {},
   "outputs": [
    {
     "name": "stdout",
     "output_type": "stream",
     "text": [
      "(3742, 9)\n",
      "['tuId', 'tuName', 'operonName', 'tuGenes', 'pmName', 'tuEvidence', 'addEvidence', 'confidenceLevel', 'pmids']\n"
     ]
    }
   ],
   "source": [
    "df_tu = pd.read_csv(\"../data/TUSet.tsv\", sep=\"\\t\")\n",
    "print(df_tu.shape)\n",
    "print(df_tu.columns.tolist())"
   ]
  },
  {
   "cell_type": "code",
   "execution_count": 43,
   "metadata": {},
   "outputs": [],
   "source": [
    "df_tu[\"confidenceLevel\"] = df_tu[\"confidenceLevel\"].replace({\"C\": \"CONFIRMED\", \"S\": \"STRONG\", \"W\": \"WEAK\"})"
   ]
  },
  {
   "cell_type": "code",
   "execution_count": 46,
   "metadata": {},
   "outputs": [
    {
     "data": {
      "text/plain": [
       "Series([], Name: count, dtype: int64)"
      ]
     },
     "execution_count": 46,
     "metadata": {},
     "output_type": "execute_result"
    }
   ],
   "source": [
    "df_tu[\"pmids\"].value_counts()"
   ]
  },
  {
   "cell_type": "code",
   "execution_count": 47,
   "metadata": {},
   "outputs": [],
   "source": [
    "df_tu.to_csv(\"../data/TUSet.tsv\", sep=\"\\t\", index=False)"
   ]
  },
  {
   "cell_type": "markdown",
   "metadata": {},
   "source": [
    "### Evidence"
   ]
  },
  {
   "cell_type": "code",
   "execution_count": 12,
   "metadata": {},
   "outputs": [
    {
     "data": {
      "text/html": [
       "<div>\n",
       "<style scoped>\n",
       "    .dataframe tbody tr th:only-of-type {\n",
       "        vertical-align: middle;\n",
       "    }\n",
       "\n",
       "    .dataframe tbody tr th {\n",
       "        vertical-align: top;\n",
       "    }\n",
       "\n",
       "    .dataframe thead th {\n",
       "        text-align: right;\n",
       "    }\n",
       "</style>\n",
       "<table border=\"1\" class=\"dataframe\">\n",
       "  <thead>\n",
       "    <tr style=\"text-align: right;\">\n",
       "      <th></th>\n",
       "      <th>evidence_code</th>\n",
       "      <th>evidence_name</th>\n",
       "      <th>evidence_group</th>\n",
       "      <th>confidence_level</th>\n",
       "      <th>object_type</th>\n",
       "      <th>evidence_category</th>\n",
       "    </tr>\n",
       "  </thead>\n",
       "  <tbody>\n",
       "    <tr>\n",
       "      <th>0</th>\n",
       "      <td>EXP-IGI-FUNC-COMPLEMENTATION</td>\n",
       "      <td>Inferred by functional complementation</td>\n",
       "      <td>NaN</td>\n",
       "      <td>STRONG</td>\n",
       "      <td>Transcription Factors</td>\n",
       "      <td>Classical experiment</td>\n",
       "    </tr>\n",
       "    <tr>\n",
       "      <th>1</th>\n",
       "      <td>EXP-IDA-UNPURIFIED-PROTEIN-NH</td>\n",
       "      <td>Assay of unpurified protein expressed in its n...</td>\n",
       "      <td>NaN</td>\n",
       "      <td>WEAK</td>\n",
       "      <td>Transcription Factors</td>\n",
       "      <td>Classical experiment</td>\n",
       "    </tr>\n",
       "    <tr>\n",
       "      <th>2</th>\n",
       "      <td>EXP-CHIP-EXO-MANUAL</td>\n",
       "      <td>ChIP-exo evidence used in manual assertion</td>\n",
       "      <td>4.0</td>\n",
       "      <td>WEAK</td>\n",
       "      <td>Regulatory Interactions</td>\n",
       "      <td>High-throughput binding</td>\n",
       "    </tr>\n",
       "    <tr>\n",
       "      <th>3</th>\n",
       "      <td>EXP-IEP-GENE-EXPRESSION-ANALYSIS</td>\n",
       "      <td>Gene expression analysis</td>\n",
       "      <td>8.0</td>\n",
       "      <td>WEAK</td>\n",
       "      <td>Regulatory Interactions;Transcription Factors</td>\n",
       "      <td>Classical expression</td>\n",
       "    </tr>\n",
       "    <tr>\n",
       "      <th>4</th>\n",
       "      <td>EXP-HTP-HEP-MICROARRAY</td>\n",
       "      <td>High-throughput expression microarray evidence</td>\n",
       "      <td>8.0</td>\n",
       "      <td>WEAK</td>\n",
       "      <td>Transcription Units;Regulatory Interactions</td>\n",
       "      <td>High-throughput expression</td>\n",
       "    </tr>\n",
       "  </tbody>\n",
       "</table>\n",
       "</div>"
      ],
      "text/plain": [
       "                      evidence_code  \\\n",
       "0      EXP-IGI-FUNC-COMPLEMENTATION   \n",
       "1     EXP-IDA-UNPURIFIED-PROTEIN-NH   \n",
       "2               EXP-CHIP-EXO-MANUAL   \n",
       "3  EXP-IEP-GENE-EXPRESSION-ANALYSIS   \n",
       "4            EXP-HTP-HEP-MICROARRAY   \n",
       "\n",
       "                                       evidence_name  evidence_group  \\\n",
       "0             Inferred by functional complementation             NaN   \n",
       "1  Assay of unpurified protein expressed in its n...             NaN   \n",
       "2         ChIP-exo evidence used in manual assertion             4.0   \n",
       "3                           Gene expression analysis             8.0   \n",
       "4     High-throughput expression microarray evidence             8.0   \n",
       "\n",
       "  confidence_level                                    object_type  \\\n",
       "0           STRONG                          Transcription Factors   \n",
       "1             WEAK                          Transcription Factors   \n",
       "2             WEAK                        Regulatory Interactions   \n",
       "3             WEAK  Regulatory Interactions;Transcription Factors   \n",
       "4             WEAK    Transcription Units;Regulatory Interactions   \n",
       "\n",
       "            evidence_category   \n",
       "0        Classical experiment   \n",
       "1        Classical experiment   \n",
       "2     High-throughput binding   \n",
       "3        Classical expression   \n",
       "4  High-throughput expression   "
      ]
     },
     "execution_count": 12,
     "metadata": {},
     "output_type": "execute_result"
    }
   ],
   "source": [
    "df_evidence = pd.read_csv(\"../data/EvidenceSet.tsv\", sep=\"\\t\")\n",
    "df_evidence.head()"
   ]
  },
  {
   "cell_type": "markdown",
   "metadata": {},
   "source": [
    "### Regulator Interaction"
   ]
  },
  {
   "cell_type": "code",
   "execution_count": 51,
   "metadata": {},
   "outputs": [
    {
     "data": {
      "text/html": [
       "<div>\n",
       "<style scoped>\n",
       "    .dataframe tbody tr th:only-of-type {\n",
       "        vertical-align: middle;\n",
       "    }\n",
       "\n",
       "    .dataframe tbody tr th {\n",
       "        vertical-align: top;\n",
       "    }\n",
       "\n",
       "    .dataframe thead th {\n",
       "        text-align: right;\n",
       "    }\n",
       "</style>\n",
       "<table border=\"1\" class=\"dataframe\">\n",
       "  <thead>\n",
       "    <tr style=\"text-align: right;\">\n",
       "      <th></th>\n",
       "      <th>riId</th>\n",
       "      <th>riType</th>\n",
       "      <th>regulatorId(TranscriptionFactor)</th>\n",
       "      <th>regulatorName</th>\n",
       "      <th>regulatorActiveConformation(CNF)Name</th>\n",
       "      <th>regulatorRegulatorySite(tfrs)ID</th>\n",
       "      <th>tfrsLeftEndPosition</th>\n",
       "      <th>tfrsRightEndPosition</th>\n",
       "      <th>strand</th>\n",
       "      <th>tfrsSequence</th>\n",
       "      <th>...</th>\n",
       "      <th>relativeDistanceFromCenterPositionOfTFRStoStartOfFirstGene</th>\n",
       "      <th>transcriptionUnitOrGeneRegulatedByTF</th>\n",
       "      <th>confidenceLevel</th>\n",
       "      <th>tfrsEvidence</th>\n",
       "      <th>riEvidence</th>\n",
       "      <th>additiveEvidence</th>\n",
       "      <th>riEvidenceTech</th>\n",
       "      <th>riEvidenceCategory</th>\n",
       "      <th>tfrsPMIDS</th>\n",
       "      <th>riPMIDS</th>\n",
       "    </tr>\n",
       "  </thead>\n",
       "  <tbody>\n",
       "    <tr>\n",
       "      <th>0</th>\n",
       "      <td>RDBECOLIRIC00001</td>\n",
       "      <td>tf-promoter</td>\n",
       "      <td>RDBECOLITFC00023</td>\n",
       "      <td>GadW</td>\n",
       "      <td>GadW</td>\n",
       "      <td>RDBECOLIBSC01689</td>\n",
       "      <td>3653866.0</td>\n",
       "      <td>3653885.0</td>\n",
       "      <td>forward</td>\n",
       "      <td>atcagacaggTTTACGTTACTATCAGGCATatcacctcag</td>\n",
       "      <td>...</td>\n",
       "      <td>-85.5</td>\n",
       "      <td>RDBECOLITUC03133:slp-dctR</td>\n",
       "      <td>WEAK</td>\n",
       "      <td>COMP-AINF-SIMILAR-TO-CONSENSUS:W</td>\n",
       "      <td>EXP-IEP-GENE-EXPRESSION-ANALYSIS:W</td>\n",
       "      <td>NaN</td>\n",
       "      <td>expression|non-experimental</td>\n",
       "      <td>Classical expression|non-experimental</td>\n",
       "      <td>18808381</td>\n",
       "      <td>12730179;18808381</td>\n",
       "    </tr>\n",
       "    <tr>\n",
       "      <th>1</th>\n",
       "      <td>RDBECOLIRIC00002</td>\n",
       "      <td>tf-promoter</td>\n",
       "      <td>RDBECOLITFC00023</td>\n",
       "      <td>GadW</td>\n",
       "      <td>GadW</td>\n",
       "      <td>RDBECOLIBSC01690</td>\n",
       "      <td>3656835.0</td>\n",
       "      <td>3656854.0</td>\n",
       "      <td>reverse</td>\n",
       "      <td>tgaaataaaaATATCTGATTTTGATATTTTccatcaacat</td>\n",
       "      <td>...</td>\n",
       "      <td>-104.5</td>\n",
       "      <td>RDBECOLITUC03315:hdeAB-yhiD</td>\n",
       "      <td>STRONG</td>\n",
       "      <td>COMP-HINF-SIMILAR-TO-CONSENSUS:W;COMP-AINF-SIM...</td>\n",
       "      <td>EXP-IEP-GENE-EXPRESSION-ANALYSIS:W</td>\n",
       "      <td>NaN</td>\n",
       "      <td>expression|non-experimental|binding in vitro</td>\n",
       "      <td>Classical expression|non-experimental|Classica...</td>\n",
       "      <td>18083817;18808381</td>\n",
       "      <td>12730179;18083817;18808381</td>\n",
       "    </tr>\n",
       "    <tr>\n",
       "      <th>2</th>\n",
       "      <td>RDBECOLIRIC00003</td>\n",
       "      <td>tf-promoter</td>\n",
       "      <td>RDBECOLITFC00088</td>\n",
       "      <td>GalR</td>\n",
       "      <td>GalR-D-galactose</td>\n",
       "      <td>RDBECOLIBSC01691</td>\n",
       "      <td>3088004.0</td>\n",
       "      <td>3088019.0</td>\n",
       "      <td>forward</td>\n",
       "      <td>atcatcacaaCTGAAACCGATTACACcaaccacaac</td>\n",
       "      <td>...</td>\n",
       "      <td>-272.5</td>\n",
       "      <td>RDBECOLITUC02515:galP</td>\n",
       "      <td>CONFIRMED</td>\n",
       "      <td>COMP-AINF-SIMILAR-TO-CONSENSUS:W;EXP-IDA-BINDI...</td>\n",
       "      <td>NaN</td>\n",
       "      <td>AE(EXP-IMP-SITE-MUTATION/EXP-IDA-BINDING-OF-PU...</td>\n",
       "      <td>non-experimental|binding in vitro|binding in v...</td>\n",
       "      <td>non-experimental|Classical binding</td>\n",
       "      <td>19007420</td>\n",
       "      <td>19007420</td>\n",
       "    </tr>\n",
       "    <tr>\n",
       "      <th>3</th>\n",
       "      <td>RDBECOLIRIC00004</td>\n",
       "      <td>tf-promoter</td>\n",
       "      <td>RDBECOLITFC00033</td>\n",
       "      <td>GalS</td>\n",
       "      <td>GalS-D-galactose</td>\n",
       "      <td>RDBECOLIBSC01692</td>\n",
       "      <td>3088004.0</td>\n",
       "      <td>3088019.0</td>\n",
       "      <td>forward</td>\n",
       "      <td>atcatcacaaCTGAAACCGATTACACcaaccacaac</td>\n",
       "      <td>...</td>\n",
       "      <td>-272.5</td>\n",
       "      <td>RDBECOLITUC02515:galP</td>\n",
       "      <td>CONFIRMED</td>\n",
       "      <td>COMP-AINF-SIMILAR-TO-CONSENSUS:W;EXP-IDA-BINDI...</td>\n",
       "      <td>NaN</td>\n",
       "      <td>AE(EXP-IMP-SITE-MUTATION/EXP-IDA-BINDING-OF-PU...</td>\n",
       "      <td>non-experimental|binding in vitro|binding in v...</td>\n",
       "      <td>non-experimental|Classical binding</td>\n",
       "      <td>19007420</td>\n",
       "      <td>19007420</td>\n",
       "    </tr>\n",
       "    <tr>\n",
       "      <th>4</th>\n",
       "      <td>RDBECOLIRIC00005</td>\n",
       "      <td>tf-promoter</td>\n",
       "      <td>RDBECOLITFC00088</td>\n",
       "      <td>GalR</td>\n",
       "      <td>GalR-D-galactose</td>\n",
       "      <td>RDBECOLIBSC01693</td>\n",
       "      <td>3088069.0</td>\n",
       "      <td>3088084.0</td>\n",
       "      <td>forward</td>\n",
       "      <td>ttattcggttTTCACAGTTGTTACATttcttttcag</td>\n",
       "      <td>...</td>\n",
       "      <td>-207.5</td>\n",
       "      <td>RDBECOLITUC02515:galP</td>\n",
       "      <td>CONFIRMED</td>\n",
       "      <td>COMP-AINF-SIMILAR-TO-CONSENSUS:W;EXP-IDA-BINDI...</td>\n",
       "      <td>NaN</td>\n",
       "      <td>AE(EXP-IMP-SITE-MUTATION/EXP-IDA-BINDING-OF-PU...</td>\n",
       "      <td>non-experimental|binding in vitro|binding in v...</td>\n",
       "      <td>non-experimental|Classical binding</td>\n",
       "      <td>19007420</td>\n",
       "      <td>19007420</td>\n",
       "    </tr>\n",
       "  </tbody>\n",
       "</table>\n",
       "<p>5 rows × 27 columns</p>\n",
       "</div>"
      ],
      "text/plain": [
       "               riId       riType regulatorId(TranscriptionFactor)  \\\n",
       "0  RDBECOLIRIC00001  tf-promoter                 RDBECOLITFC00023   \n",
       "1  RDBECOLIRIC00002  tf-promoter                 RDBECOLITFC00023   \n",
       "2  RDBECOLIRIC00003  tf-promoter                 RDBECOLITFC00088   \n",
       "3  RDBECOLIRIC00004  tf-promoter                 RDBECOLITFC00033   \n",
       "4  RDBECOLIRIC00005  tf-promoter                 RDBECOLITFC00088   \n",
       "\n",
       "  regulatorName regulatorActiveConformation(CNF)Name  \\\n",
       "0          GadW                                 GadW   \n",
       "1          GadW                                 GadW   \n",
       "2          GalR                     GalR-D-galactose   \n",
       "3          GalS                     GalS-D-galactose   \n",
       "4          GalR                     GalR-D-galactose   \n",
       "\n",
       "  regulatorRegulatorySite(tfrs)ID  tfrsLeftEndPosition  tfrsRightEndPosition  \\\n",
       "0                RDBECOLIBSC01689            3653866.0             3653885.0   \n",
       "1                RDBECOLIBSC01690            3656835.0             3656854.0   \n",
       "2                RDBECOLIBSC01691            3088004.0             3088019.0   \n",
       "3                RDBECOLIBSC01692            3088004.0             3088019.0   \n",
       "4                RDBECOLIBSC01693            3088069.0             3088084.0   \n",
       "\n",
       "    strand                              tfrsSequence  ...  \\\n",
       "0  forward  atcagacaggTTTACGTTACTATCAGGCATatcacctcag  ...   \n",
       "1  reverse  tgaaataaaaATATCTGATTTTGATATTTTccatcaacat  ...   \n",
       "2  forward      atcatcacaaCTGAAACCGATTACACcaaccacaac  ...   \n",
       "3  forward      atcatcacaaCTGAAACCGATTACACcaaccacaac  ...   \n",
       "4  forward      ttattcggttTTCACAGTTGTTACATttcttttcag  ...   \n",
       "\n",
       "  relativeDistanceFromCenterPositionOfTFRStoStartOfFirstGene  \\\n",
       "0                                              -85.5           \n",
       "1                                             -104.5           \n",
       "2                                             -272.5           \n",
       "3                                             -272.5           \n",
       "4                                             -207.5           \n",
       "\n",
       "  transcriptionUnitOrGeneRegulatedByTF confidenceLevel  \\\n",
       "0            RDBECOLITUC03133:slp-dctR            WEAK   \n",
       "1          RDBECOLITUC03315:hdeAB-yhiD          STRONG   \n",
       "2                RDBECOLITUC02515:galP       CONFIRMED   \n",
       "3                RDBECOLITUC02515:galP       CONFIRMED   \n",
       "4                RDBECOLITUC02515:galP       CONFIRMED   \n",
       "\n",
       "                                        tfrsEvidence  \\\n",
       "0                   COMP-AINF-SIMILAR-TO-CONSENSUS:W   \n",
       "1  COMP-HINF-SIMILAR-TO-CONSENSUS:W;COMP-AINF-SIM...   \n",
       "2  COMP-AINF-SIMILAR-TO-CONSENSUS:W;EXP-IDA-BINDI...   \n",
       "3  COMP-AINF-SIMILAR-TO-CONSENSUS:W;EXP-IDA-BINDI...   \n",
       "4  COMP-AINF-SIMILAR-TO-CONSENSUS:W;EXP-IDA-BINDI...   \n",
       "\n",
       "                           riEvidence  \\\n",
       "0  EXP-IEP-GENE-EXPRESSION-ANALYSIS:W   \n",
       "1  EXP-IEP-GENE-EXPRESSION-ANALYSIS:W   \n",
       "2                                 NaN   \n",
       "3                                 NaN   \n",
       "4                                 NaN   \n",
       "\n",
       "                                    additiveEvidence  \\\n",
       "0                                                NaN   \n",
       "1                                                NaN   \n",
       "2  AE(EXP-IMP-SITE-MUTATION/EXP-IDA-BINDING-OF-PU...   \n",
       "3  AE(EXP-IMP-SITE-MUTATION/EXP-IDA-BINDING-OF-PU...   \n",
       "4  AE(EXP-IMP-SITE-MUTATION/EXP-IDA-BINDING-OF-PU...   \n",
       "\n",
       "                                      riEvidenceTech  \\\n",
       "0                        expression|non-experimental   \n",
       "1       expression|non-experimental|binding in vitro   \n",
       "2  non-experimental|binding in vitro|binding in v...   \n",
       "3  non-experimental|binding in vitro|binding in v...   \n",
       "4  non-experimental|binding in vitro|binding in v...   \n",
       "\n",
       "                                  riEvidenceCategory          tfrsPMIDS  \\\n",
       "0              Classical expression|non-experimental           18808381   \n",
       "1  Classical expression|non-experimental|Classica...  18083817;18808381   \n",
       "2                 non-experimental|Classical binding           19007420   \n",
       "3                 non-experimental|Classical binding           19007420   \n",
       "4                 non-experimental|Classical binding           19007420   \n",
       "\n",
       "                       riPMIDS  \n",
       "0           12730179;18808381   \n",
       "1  12730179;18083817;18808381   \n",
       "2                    19007420   \n",
       "3                    19007420   \n",
       "4                    19007420   \n",
       "\n",
       "[5 rows x 27 columns]"
      ]
     },
     "execution_count": 51,
     "metadata": {},
     "output_type": "execute_result"
    }
   ],
   "source": [
    "df_ri = pd.read_csv(\"../data/RISet.tsv\", sep=\"\\t\")\n",
    "df_ri.head()"
   ]
  },
  {
   "cell_type": "code",
   "execution_count": 15,
   "metadata": {},
   "outputs": [],
   "source": [
    "df_ri[\"confidenceLevel\"] = df_ri[\"confidenceLevel\"].replace({\"C\": \"CONFIRMED\", \"S\": \"STRONG\", \"W\": \"WEAK\"})"
   ]
  },
  {
   "cell_type": "code",
   "execution_count": 19,
   "metadata": {},
   "outputs": [],
   "source": [
    "df_ri.to_csv(\"../data/RISet.tsv\", sep=\"\\t\", index=False)"
   ]
  },
  {
   "cell_type": "markdown",
   "metadata": {},
   "source": [
    "### Terminator"
   ]
  },
  {
   "cell_type": "code",
   "execution_count": 25,
   "metadata": {},
   "outputs": [
    {
     "data": {
      "text/html": [
       "<div>\n",
       "<style scoped>\n",
       "    .dataframe tbody tr th:only-of-type {\n",
       "        vertical-align: middle;\n",
       "    }\n",
       "\n",
       "    .dataframe tbody tr th {\n",
       "        vertical-align: top;\n",
       "    }\n",
       "\n",
       "    .dataframe thead th {\n",
       "        text-align: right;\n",
       "    }\n",
       "</style>\n",
       "<table border=\"1\" class=\"dataframe\">\n",
       "  <thead>\n",
       "    <tr style=\"text-align: right;\">\n",
       "      <th></th>\n",
       "      <th>terminatorId</th>\n",
       "      <th>leftEndPos</th>\n",
       "      <th>rightEndPos</th>\n",
       "      <th>strand</th>\n",
       "      <th>sequence</th>\n",
       "      <th>relatedTus</th>\n",
       "      <th>type</th>\n",
       "      <th>operonName</th>\n",
       "      <th>pmids</th>\n",
       "      <th>evidences</th>\n",
       "      <th>confidenceLevel</th>\n",
       "    </tr>\n",
       "  </thead>\n",
       "  <tbody>\n",
       "    <tr>\n",
       "      <th>0</th>\n",
       "      <td>RDBECOLITMC00001</td>\n",
       "      <td>3407286</td>\n",
       "      <td>3407302</td>\n",
       "      <td>forward</td>\n",
       "      <td>agcgtcaaaaGGCCGGATTTTCCGGCCttttttatta</td>\n",
       "      <td>accBC:accBp2;accBC:accBp1</td>\n",
       "      <td>rho-independent</td>\n",
       "      <td>accBC</td>\n",
       "      <td>8226664</td>\n",
       "      <td>NaN</td>\n",
       "      <td>None</td>\n",
       "    </tr>\n",
       "    <tr>\n",
       "      <th>1</th>\n",
       "      <td>RDBECOLITMC00002</td>\n",
       "      <td>3418143</td>\n",
       "      <td>3418177</td>\n",
       "      <td>forward</td>\n",
       "      <td>gataaatcagAAACATAAAGGCGCTTTCGGGTGCCTTTATTATTTc...</td>\n",
       "      <td>acrEF:acrEp</td>\n",
       "      <td>rho-independent</td>\n",
       "      <td>acrEF</td>\n",
       "      <td>1720861</td>\n",
       "      <td>NaN</td>\n",
       "      <td>None</td>\n",
       "    </tr>\n",
       "    <tr>\n",
       "      <th>2</th>\n",
       "      <td>RDBECOLITMC00003</td>\n",
       "      <td>4639539</td>\n",
       "      <td>4639572</td>\n",
       "      <td>reverse</td>\n",
       "      <td>taccaccgtcAAAAAAAACGGCGCTTTTTAGCGCCGTTTTTATTtt...</td>\n",
       "      <td>arcA:arcAp1;arcA:arcAp2;arcA:arcAp3;arcA:arcAp...</td>\n",
       "      <td>rho-independent</td>\n",
       "      <td>arcA</td>\n",
       "      <td>2984198</td>\n",
       "      <td>NaN</td>\n",
       "      <td>None</td>\n",
       "    </tr>\n",
       "    <tr>\n",
       "      <th>3</th>\n",
       "      <td>RDBECOLITMC00004</td>\n",
       "      <td>2738912</td>\n",
       "      <td>2738940</td>\n",
       "      <td>forward</td>\n",
       "      <td>ctgatgaaaaGGTGCCGGATGATGTGAATCATCCGGCACtggattatta</td>\n",
       "      <td>pheLA:pheLp;aroF-tyrA:aroFp</td>\n",
       "      <td>rho-independent</td>\n",
       "      <td>pheLA;aroF-tyrA</td>\n",
       "      <td>6396419</td>\n",
       "      <td>NaN</td>\n",
       "      <td>None</td>\n",
       "    </tr>\n",
       "    <tr>\n",
       "      <th>4</th>\n",
       "      <td>RDBECOLITMC00005</td>\n",
       "      <td>786795</td>\n",
       "      <td>786821</td>\n",
       "      <td>forward</td>\n",
       "      <td>tagcaacaaaAAAGCCGACTCACTTGCAGTCGGCTTTctcattttaa</td>\n",
       "      <td>aroG:aroGp</td>\n",
       "      <td>rho-independent</td>\n",
       "      <td>aroG</td>\n",
       "      <td>1970563, 6125934</td>\n",
       "      <td>NaN</td>\n",
       "      <td>None</td>\n",
       "    </tr>\n",
       "  </tbody>\n",
       "</table>\n",
       "</div>"
      ],
      "text/plain": [
       "       terminatorId  leftEndPos  rightEndPos   strand  \\\n",
       "0  RDBECOLITMC00001     3407286      3407302  forward   \n",
       "1  RDBECOLITMC00002     3418143      3418177  forward   \n",
       "2  RDBECOLITMC00003     4639539      4639572  reverse   \n",
       "3  RDBECOLITMC00004     2738912      2738940  forward   \n",
       "4  RDBECOLITMC00005      786795       786821  forward   \n",
       "\n",
       "                                            sequence  \\\n",
       "0              agcgtcaaaaGGCCGGATTTTCCGGCCttttttatta   \n",
       "1  gataaatcagAAACATAAAGGCGCTTTCGGGTGCCTTTATTATTTc...   \n",
       "2  taccaccgtcAAAAAAAACGGCGCTTTTTAGCGCCGTTTTTATTtt...   \n",
       "3  ctgatgaaaaGGTGCCGGATGATGTGAATCATCCGGCACtggattatta   \n",
       "4    tagcaacaaaAAAGCCGACTCACTTGCAGTCGGCTTTctcattttaa   \n",
       "\n",
       "                                          relatedTus             type  \\\n",
       "0                          accBC:accBp2;accBC:accBp1  rho-independent   \n",
       "1                                        acrEF:acrEp  rho-independent   \n",
       "2  arcA:arcAp1;arcA:arcAp2;arcA:arcAp3;arcA:arcAp...  rho-independent   \n",
       "3                        pheLA:pheLp;aroF-tyrA:aroFp  rho-independent   \n",
       "4                                         aroG:aroGp  rho-independent   \n",
       "\n",
       "        operonName             pmids  evidences confidenceLevel  \n",
       "0            accBC           8226664        NaN           None   \n",
       "1            acrEF           1720861        NaN           None   \n",
       "2             arcA           2984198        NaN           None   \n",
       "3  pheLA;aroF-tyrA           6396419        NaN           None   \n",
       "4             aroG  1970563, 6125934        NaN           None   "
      ]
     },
     "execution_count": 25,
     "metadata": {},
     "output_type": "execute_result"
    }
   ],
   "source": [
    "df_terminator = pd.read_csv(\"../data/TerminatorSet.tsv\", sep=\"\\t\")\n",
    "df_terminator.head()"
   ]
  },
  {
   "cell_type": "code",
   "execution_count": 28,
   "metadata": {},
   "outputs": [
    {
     "data": {
      "text/plain": [
       "array(['None ', nan], dtype=object)"
      ]
     },
     "execution_count": 28,
     "metadata": {},
     "output_type": "execute_result"
    }
   ],
   "source": [
    "df_terminator[\"confidenceLevel\"].unique()"
   ]
  },
  {
   "cell_type": "code",
   "execution_count": 29,
   "metadata": {},
   "outputs": [
    {
     "data": {
      "text/plain": [
       "0      None \n",
       "1      None \n",
       "2      None \n",
       "3      None \n",
       "4      None \n",
       "       ...  \n",
       "366    None \n",
       "367    None \n",
       "368    None \n",
       "369    None \n",
       "370      NaN\n",
       "Name: confidenceLevel, Length: 371, dtype: object"
      ]
     },
     "execution_count": 29,
     "metadata": {},
     "output_type": "execute_result"
    }
   ],
   "source": [
    "df_terminator.pop(\"confidenceLevel\")"
   ]
  },
  {
   "cell_type": "code",
   "execution_count": 31,
   "metadata": {},
   "outputs": [
    {
     "data": {
      "text/plain": [
       "array([nan])"
      ]
     },
     "execution_count": 31,
     "metadata": {},
     "output_type": "execute_result"
    }
   ],
   "source": [
    "df_terminator[\"evidences\"].unique()"
   ]
  },
  {
   "cell_type": "code",
   "execution_count": 32,
   "metadata": {},
   "outputs": [
    {
     "data": {
      "text/plain": [
       "0     NaN\n",
       "1     NaN\n",
       "2     NaN\n",
       "3     NaN\n",
       "4     NaN\n",
       "       ..\n",
       "366   NaN\n",
       "367   NaN\n",
       "368   NaN\n",
       "369   NaN\n",
       "370   NaN\n",
       "Name: evidences, Length: 371, dtype: float64"
      ]
     },
     "execution_count": 32,
     "metadata": {},
     "output_type": "execute_result"
    }
   ],
   "source": [
    "df_terminator.pop(\"evidences\")"
   ]
  },
  {
   "cell_type": "code",
   "execution_count": 33,
   "metadata": {},
   "outputs": [],
   "source": [
    "df_terminator.to_csv(\"../data/TerminatorSet.tsv\", sep=\"\\t\", index=False)"
   ]
  },
  {
   "cell_type": "markdown",
   "metadata": {},
   "source": [
    "### GeneProductSet"
   ]
  },
  {
   "cell_type": "code",
   "execution_count": 6,
   "metadata": {},
   "outputs": [
    {
     "data": {
      "text/html": [
       "<div>\n",
       "<style scoped>\n",
       "    .dataframe tbody tr th:only-of-type {\n",
       "        vertical-align: middle;\n",
       "    }\n",
       "\n",
       "    .dataframe tbody tr th {\n",
       "        vertical-align: top;\n",
       "    }\n",
       "\n",
       "    .dataframe thead th {\n",
       "        text-align: right;\n",
       "    }\n",
       "</style>\n",
       "<table border=\"1\" class=\"dataframe\">\n",
       "  <thead>\n",
       "    <tr style=\"text-align: right;\">\n",
       "      <th></th>\n",
       "      <th>geneId</th>\n",
       "      <th>geneName</th>\n",
       "      <th>bnumber</th>\n",
       "      <th>leftEndPosition</th>\n",
       "      <th>rightEndPosition</th>\n",
       "      <th>strand</th>\n",
       "      <th>productName</th>\n",
       "      <th>geneEvidences</th>\n",
       "      <th>genePMIDS</th>\n",
       "      <th>confidenceLevel</th>\n",
       "      <th>relatedBnumbers</th>\n",
       "      <th>otherDbsIds</th>\n",
       "    </tr>\n",
       "  </thead>\n",
       "  <tbody>\n",
       "    <tr>\n",
       "      <th>0</th>\n",
       "      <td>RDBECOLIGNC00001</td>\n",
       "      <td>alr</td>\n",
       "      <td>b4053</td>\n",
       "      <td>4265782.0</td>\n",
       "      <td>4266861.0</td>\n",
       "      <td>forward</td>\n",
       "      <td>alanine racemase 1</td>\n",
       "      <td>NaN</td>\n",
       "      <td>NaN</td>\n",
       "      <td>NaN</td>\n",
       "      <td>NaN</td>\n",
       "      <td>[STRING:511145.b4053][ASAP:ABE-0013272][ECHOBA...</td>\n",
       "    </tr>\n",
       "    <tr>\n",
       "      <th>1</th>\n",
       "      <td>RDBECOLIGNC00002</td>\n",
       "      <td>modB</td>\n",
       "      <td>b0764</td>\n",
       "      <td>795862.0</td>\n",
       "      <td>796551.0</td>\n",
       "      <td>forward</td>\n",
       "      <td>molybdate ABC transporter membrane subunit</td>\n",
       "      <td>NaN</td>\n",
       "      <td>NaN</td>\n",
       "      <td>NaN</td>\n",
       "      <td>NaN</td>\n",
       "      <td>[STRING:511145.b0764][ASAP:ABE-0002603][ECHOBA...</td>\n",
       "    </tr>\n",
       "  </tbody>\n",
       "</table>\n",
       "</div>"
      ],
      "text/plain": [
       "             geneId geneName bnumber  leftEndPosition  rightEndPosition  \\\n",
       "0  RDBECOLIGNC00001      alr   b4053        4265782.0         4266861.0   \n",
       "1  RDBECOLIGNC00002     modB   b0764         795862.0          796551.0   \n",
       "\n",
       "    strand                                 productName  geneEvidences  \\\n",
       "0  forward                          alanine racemase 1            NaN   \n",
       "1  forward  molybdate ABC transporter membrane subunit            NaN   \n",
       "\n",
       "  genePMIDS  confidenceLevel relatedBnumbers  \\\n",
       "0       NaN              NaN             NaN   \n",
       "1       NaN              NaN             NaN   \n",
       "\n",
       "                                        otherDbsIds   \n",
       "0  [STRING:511145.b4053][ASAP:ABE-0013272][ECHOBA...  \n",
       "1  [STRING:511145.b0764][ASAP:ABE-0002603][ECHOBA...  "
      ]
     },
     "execution_count": 6,
     "metadata": {},
     "output_type": "execute_result"
    }
   ],
   "source": [
    "df_gene_product = pd.read_csv(\"../data/GeneProductSet.tsv\", sep=\"\\t\")\n",
    "df_gene_product.head(2)"
   ]
  },
  {
   "cell_type": "code",
   "execution_count": 7,
   "metadata": {},
   "outputs": [
    {
     "data": {
      "text/plain": [
       "array([nan])"
      ]
     },
     "execution_count": 7,
     "metadata": {},
     "output_type": "execute_result"
    }
   ],
   "source": [
    "df_gene_product[\"geneEvidences\"].unique()"
   ]
  },
  {
   "cell_type": "code",
   "execution_count": 9,
   "metadata": {},
   "outputs": [
    {
     "data": {
      "text/plain": [
       "array([nan])"
      ]
     },
     "execution_count": 9,
     "metadata": {},
     "output_type": "execute_result"
    }
   ],
   "source": [
    "df_gene_product[\"confidenceLevel\"].unique()"
   ]
  },
  {
   "cell_type": "markdown",
   "metadata": {},
   "source": [
    "### Operon"
   ]
  },
  {
   "cell_type": "code",
   "execution_count": 15,
   "metadata": {},
   "outputs": [
    {
     "data": {
      "text/html": [
       "<div>\n",
       "<style scoped>\n",
       "    .dataframe tbody tr th:only-of-type {\n",
       "        vertical-align: middle;\n",
       "    }\n",
       "\n",
       "    .dataframe tbody tr th {\n",
       "        vertical-align: top;\n",
       "    }\n",
       "\n",
       "    .dataframe thead th {\n",
       "        text-align: right;\n",
       "    }\n",
       "</style>\n",
       "<table border=\"1\" class=\"dataframe\">\n",
       "  <thead>\n",
       "    <tr style=\"text-align: right;\">\n",
       "      <th></th>\n",
       "      <th>operonId</th>\n",
       "      <th>operonName</th>\n",
       "      <th>firstGeneLeftPosition</th>\n",
       "      <th>lastGeneRightPosition</th>\n",
       "      <th>strand</th>\n",
       "      <th>numberOfGenes</th>\n",
       "      <th>operonGenes</th>\n",
       "      <th>operonEvidence</th>\n",
       "      <th>confidenceLevel</th>\n",
       "    </tr>\n",
       "  </thead>\n",
       "  <tbody>\n",
       "    <tr>\n",
       "      <th>0</th>\n",
       "      <td>RDBECOLIOPC00001</td>\n",
       "      <td>ispDF</td>\n",
       "      <td>2871301</td>\n",
       "      <td>2872490</td>\n",
       "      <td>reverse</td>\n",
       "      <td>2</td>\n",
       "      <td>ispD;ispF</td>\n",
       "      <td>[COMP-HINF:W][IC-ADJ-GENES-SAME-BIO-PROCESS:W]</td>\n",
       "      <td>W</td>\n",
       "    </tr>\n",
       "    <tr>\n",
       "      <th>1</th>\n",
       "      <td>RDBECOLIOPC00002</td>\n",
       "      <td>serX</td>\n",
       "      <td>1097565</td>\n",
       "      <td>1097652</td>\n",
       "      <td>reverse</td>\n",
       "      <td>1</td>\n",
       "      <td>serX</td>\n",
       "      <td>[EXP-IDA-BOUNDARIES-DEFINED:W]</td>\n",
       "      <td>W</td>\n",
       "    </tr>\n",
       "  </tbody>\n",
       "</table>\n",
       "</div>"
      ],
      "text/plain": [
       "           operonId operonName  firstGeneLeftPosition  lastGeneRightPosition  \\\n",
       "0  RDBECOLIOPC00001      ispDF                2871301                2872490   \n",
       "1  RDBECOLIOPC00002       serX                1097565                1097652   \n",
       "\n",
       "    strand  numberOfGenes operonGenes  \\\n",
       "0  reverse              2   ispD;ispF   \n",
       "1  reverse              1        serX   \n",
       "\n",
       "                                   operonEvidence confidenceLevel  \n",
       "0  [COMP-HINF:W][IC-ADJ-GENES-SAME-BIO-PROCESS:W]              W   \n",
       "1                  [EXP-IDA-BOUNDARIES-DEFINED:W]              W   "
      ]
     },
     "execution_count": 15,
     "metadata": {},
     "output_type": "execute_result"
    }
   ],
   "source": [
    "df_operon = pd.read_csv(\"../data/OperonSet.tsv\", sep=\"\\t\")\n",
    "df_operon.head(2)"
   ]
  },
  {
   "cell_type": "code",
   "execution_count": 20,
   "metadata": {},
   "outputs": [
    {
     "data": {
      "text/plain": [
       "array(['W ', ' ', 'S ', 'WEAK'], dtype=object)"
      ]
     },
     "execution_count": 20,
     "metadata": {},
     "output_type": "execute_result"
    }
   ],
   "source": [
    "df_operon[\"confidenceLevel\"].unique()"
   ]
  },
  {
   "cell_type": "code",
   "execution_count": 21,
   "metadata": {},
   "outputs": [],
   "source": [
    "df_operon[\"confidenceLevel\"] = df_operon[\"confidenceLevel\"].replace({\"C\": \"CONFIRMED\", \"S\": \"STRONG\", \"W\": \"WEAK\", \"W \": \"WEAK\",\"S \": \"STRONG\", \" \": \"\"})"
   ]
  },
  {
   "cell_type": "code",
   "execution_count": 22,
   "metadata": {},
   "outputs": [
    {
     "data": {
      "text/html": [
       "<div>\n",
       "<style scoped>\n",
       "    .dataframe tbody tr th:only-of-type {\n",
       "        vertical-align: middle;\n",
       "    }\n",
       "\n",
       "    .dataframe tbody tr th {\n",
       "        vertical-align: top;\n",
       "    }\n",
       "\n",
       "    .dataframe thead th {\n",
       "        text-align: right;\n",
       "    }\n",
       "</style>\n",
       "<table border=\"1\" class=\"dataframe\">\n",
       "  <thead>\n",
       "    <tr style=\"text-align: right;\">\n",
       "      <th></th>\n",
       "      <th>operonId</th>\n",
       "      <th>operonName</th>\n",
       "      <th>firstGeneLeftPosition</th>\n",
       "      <th>lastGeneRightPosition</th>\n",
       "      <th>strand</th>\n",
       "      <th>numberOfGenes</th>\n",
       "      <th>operonGenes</th>\n",
       "      <th>operonEvidence</th>\n",
       "      <th>confidenceLevel</th>\n",
       "    </tr>\n",
       "  </thead>\n",
       "  <tbody>\n",
       "    <tr>\n",
       "      <th>0</th>\n",
       "      <td>RDBECOLIOPC00001</td>\n",
       "      <td>ispDF</td>\n",
       "      <td>2871301</td>\n",
       "      <td>2872490</td>\n",
       "      <td>reverse</td>\n",
       "      <td>2</td>\n",
       "      <td>ispD;ispF</td>\n",
       "      <td>[COMP-HINF:W][IC-ADJ-GENES-SAME-BIO-PROCESS:W]</td>\n",
       "      <td>WEAK</td>\n",
       "    </tr>\n",
       "    <tr>\n",
       "      <th>1</th>\n",
       "      <td>RDBECOLIOPC00002</td>\n",
       "      <td>serX</td>\n",
       "      <td>1097565</td>\n",
       "      <td>1097652</td>\n",
       "      <td>reverse</td>\n",
       "      <td>1</td>\n",
       "      <td>serX</td>\n",
       "      <td>[EXP-IDA-BOUNDARIES-DEFINED:W]</td>\n",
       "      <td>WEAK</td>\n",
       "    </tr>\n",
       "  </tbody>\n",
       "</table>\n",
       "</div>"
      ],
      "text/plain": [
       "           operonId operonName  firstGeneLeftPosition  lastGeneRightPosition  \\\n",
       "0  RDBECOLIOPC00001      ispDF                2871301                2872490   \n",
       "1  RDBECOLIOPC00002       serX                1097565                1097652   \n",
       "\n",
       "    strand  numberOfGenes operonGenes  \\\n",
       "0  reverse              2   ispD;ispF   \n",
       "1  reverse              1        serX   \n",
       "\n",
       "                                   operonEvidence confidenceLevel  \n",
       "0  [COMP-HINF:W][IC-ADJ-GENES-SAME-BIO-PROCESS:W]            WEAK  \n",
       "1                  [EXP-IDA-BOUNDARIES-DEFINED:W]            WEAK  "
      ]
     },
     "execution_count": 22,
     "metadata": {},
     "output_type": "execute_result"
    }
   ],
   "source": [
    "df_operon.head(2)"
   ]
  },
  {
   "cell_type": "code",
   "execution_count": 23,
   "metadata": {},
   "outputs": [],
   "source": [
    "df_operon.to_csv(\"../data/OperonSet.tsv\", sep=\"\\t\", index=False)"
   ]
  },
  {
   "cell_type": "code",
   "execution_count": 24,
   "metadata": {},
   "outputs": [
    {
     "data": {
      "text/html": [
       "<div>\n",
       "<style scoped>\n",
       "    .dataframe tbody tr th:only-of-type {\n",
       "        vertical-align: middle;\n",
       "    }\n",
       "\n",
       "    .dataframe tbody tr th {\n",
       "        vertical-align: top;\n",
       "    }\n",
       "\n",
       "    .dataframe thead th {\n",
       "        text-align: right;\n",
       "    }\n",
       "</style>\n",
       "<table border=\"1\" class=\"dataframe\">\n",
       "  <thead>\n",
       "    <tr style=\"text-align: right;\">\n",
       "      <th></th>\n",
       "      <th>operonId</th>\n",
       "      <th>operonName</th>\n",
       "      <th>firstGeneLeftPosition</th>\n",
       "      <th>lastGeneRightPosition</th>\n",
       "      <th>strand</th>\n",
       "      <th>numberOfGenes</th>\n",
       "      <th>operonGenes</th>\n",
       "      <th>operonEvidence</th>\n",
       "      <th>confidenceLevel</th>\n",
       "    </tr>\n",
       "  </thead>\n",
       "  <tbody>\n",
       "    <tr>\n",
       "      <th>0</th>\n",
       "      <td>RDBECOLIOPC00001</td>\n",
       "      <td>ispDF</td>\n",
       "      <td>2871301</td>\n",
       "      <td>2872490</td>\n",
       "      <td>reverse</td>\n",
       "      <td>2</td>\n",
       "      <td>ispD;ispF</td>\n",
       "      <td>[COMP-HINF:W][IC-ADJ-GENES-SAME-BIO-PROCESS:W]</td>\n",
       "      <td>WEAK</td>\n",
       "    </tr>\n",
       "    <tr>\n",
       "      <th>1</th>\n",
       "      <td>RDBECOLIOPC00002</td>\n",
       "      <td>serX</td>\n",
       "      <td>1097565</td>\n",
       "      <td>1097652</td>\n",
       "      <td>reverse</td>\n",
       "      <td>1</td>\n",
       "      <td>serX</td>\n",
       "      <td>[EXP-IDA-BOUNDARIES-DEFINED:W]</td>\n",
       "      <td>WEAK</td>\n",
       "    </tr>\n",
       "  </tbody>\n",
       "</table>\n",
       "</div>"
      ],
      "text/plain": [
       "           operonId operonName  firstGeneLeftPosition  lastGeneRightPosition  \\\n",
       "0  RDBECOLIOPC00001      ispDF                2871301                2872490   \n",
       "1  RDBECOLIOPC00002       serX                1097565                1097652   \n",
       "\n",
       "    strand  numberOfGenes operonGenes  \\\n",
       "0  reverse              2   ispD;ispF   \n",
       "1  reverse              1        serX   \n",
       "\n",
       "                                   operonEvidence confidenceLevel  \n",
       "0  [COMP-HINF:W][IC-ADJ-GENES-SAME-BIO-PROCESS:W]            WEAK  \n",
       "1                  [EXP-IDA-BOUNDARIES-DEFINED:W]            WEAK  "
      ]
     },
     "execution_count": 24,
     "metadata": {},
     "output_type": "execute_result"
    }
   ],
   "source": [
    "df_operon = pd.read_csv(\"../data/OperonSet.tsv\", sep=\"\\t\")\n",
    "df_operon.head(2)"
   ]
  },
  {
   "cell_type": "markdown",
   "metadata": {},
   "source": [
    "### Regulator"
   ]
  },
  {
   "cell_type": "code",
   "execution_count": 25,
   "metadata": {},
   "outputs": [
    {
     "data": {
      "text/html": [
       "<div>\n",
       "<style scoped>\n",
       "    .dataframe tbody tr th:only-of-type {\n",
       "        vertical-align: middle;\n",
       "    }\n",
       "\n",
       "    .dataframe tbody tr th {\n",
       "        vertical-align: top;\n",
       "    }\n",
       "\n",
       "    .dataframe thead th {\n",
       "        text-align: right;\n",
       "    }\n",
       "</style>\n",
       "<table border=\"1\" class=\"dataframe\">\n",
       "  <thead>\n",
       "    <tr style=\"text-align: right;\">\n",
       "      <th></th>\n",
       "      <th>regulatorId</th>\n",
       "      <th>regulatorName</th>\n",
       "      <th>regulatorSynonyms</th>\n",
       "      <th>regulatorType</th>\n",
       "      <th>geneCodingForRegulator</th>\n",
       "      <th>geneBnumberCodingForRegulator</th>\n",
       "      <th>regulatorActiveConformations</th>\n",
       "      <th>regulatorInactiveConformations</th>\n",
       "      <th>regulatorActiveConformationsSynonyms</th>\n",
       "      <th>regulatorInactiveConformationsSynonyms</th>\n",
       "      <th>regulatorActiveConformationsEffector</th>\n",
       "      <th>regulatorInactiveConformationsEffector</th>\n",
       "      <th>regulatorActiveConformationsEffectorSynonyms</th>\n",
       "      <th>regulatorInactiveConformationsEffectorSynonyms</th>\n",
       "      <th>symmetry</th>\n",
       "      <th>regulatorEvidences</th>\n",
       "      <th>additiveEvidences</th>\n",
       "      <th>confidenceLevel</th>\n",
       "      <th>regulatorConformationPMID</th>\n",
       "    </tr>\n",
       "  </thead>\n",
       "  <tbody>\n",
       "    <tr>\n",
       "      <th>0</th>\n",
       "      <td>RDBECOLITFC00001</td>\n",
       "      <td>ExuR</td>\n",
       "      <td>ExuR;negative regulator of exu regulon, exuT, ...</td>\n",
       "      <td>transcriptionFactor</td>\n",
       "      <td>exuR</td>\n",
       "      <td>b3094</td>\n",
       "      <td>ExuR;ExuR-&amp;alpha;-D-galacturonate, &amp;alpha;-D-g...</td>\n",
       "      <td>ExuR-&amp;alpha;-D-glucuronate</td>\n",
       "      <td>ExuR;negative regulator of exu regulon, exuT, ...</td>\n",
       "      <td>NaN</td>\n",
       "      <td>&amp;alpha;-D-galacturonate</td>\n",
       "      <td>&amp;alpha;-D-glucuronate</td>\n",
       "      <td>&amp;alpha;-D-galacturonic acid</td>\n",
       "      <td>&amp;alpha;-D-glucuronic acid;&amp;alpha;-D-glucopyran...</td>\n",
       "      <td>|INVERTED-REPEAT|</td>\n",
       "      <td>[EXP:W]</td>\n",
       "      <td>NaN</td>\n",
       "      <td>W</td>\n",
       "      <td>6357945</td>\n",
       "    </tr>\n",
       "    <tr>\n",
       "      <th>1</th>\n",
       "      <td>RDBECOLITFC00002</td>\n",
       "      <td>AsnC</td>\n",
       "      <td>AsnC</td>\n",
       "      <td>transcriptionFactor</td>\n",
       "      <td>asnC</td>\n",
       "      <td>b3743</td>\n",
       "      <td>DNA-binding transcriptional dual regulator AsnC</td>\n",
       "      <td>AsnC-L-asparagine</td>\n",
       "      <td>AsnC</td>\n",
       "      <td>NaN</td>\n",
       "      <td>NaN</td>\n",
       "      <td>L-asparagine</td>\n",
       "      <td>NaN</td>\n",
       "      <td>asparagine;&amp;alpha;-aminosuccinamic acid;(-)-as...</td>\n",
       "      <td>|INVERTED-REPEAT|</td>\n",
       "      <td>[COMP-HINF-FN-FROM-SEQ:W][EXP-IEP:W][EXP-IPI:W]</td>\n",
       "      <td>NaN</td>\n",
       "      <td>W</td>\n",
       "      <td>6357950; 7686882; 16528101; 2864330</td>\n",
       "    </tr>\n",
       "  </tbody>\n",
       "</table>\n",
       "</div>"
      ],
      "text/plain": [
       "        regulatorId regulatorName  \\\n",
       "0  RDBECOLITFC00001          ExuR   \n",
       "1  RDBECOLITFC00002          AsnC   \n",
       "\n",
       "                                   regulatorSynonyms        regulatorType  \\\n",
       "0  ExuR;negative regulator of exu regulon, exuT, ...  transcriptionFactor   \n",
       "1                                               AsnC  transcriptionFactor   \n",
       "\n",
       "  geneCodingForRegulator geneBnumberCodingForRegulator  \\\n",
       "0                   exuR                         b3094   \n",
       "1                   asnC                         b3743   \n",
       "\n",
       "                        regulatorActiveConformations  \\\n",
       "0  ExuR;ExuR-&alpha;-D-galacturonate, &alpha;-D-g...   \n",
       "1    DNA-binding transcriptional dual regulator AsnC   \n",
       "\n",
       "  regulatorInactiveConformations  \\\n",
       "0     ExuR-&alpha;-D-glucuronate   \n",
       "1              AsnC-L-asparagine   \n",
       "\n",
       "                regulatorActiveConformationsSynonyms  \\\n",
       "0  ExuR;negative regulator of exu regulon, exuT, ...   \n",
       "1                                               AsnC   \n",
       "\n",
       "   regulatorInactiveConformationsSynonyms  \\\n",
       "0                                     NaN   \n",
       "1                                     NaN   \n",
       "\n",
       "  regulatorActiveConformationsEffector regulatorInactiveConformationsEffector  \\\n",
       "0              &alpha;-D-galacturonate                  &alpha;-D-glucuronate   \n",
       "1                                  NaN                           L-asparagine   \n",
       "\n",
       "  regulatorActiveConformationsEffectorSynonyms  \\\n",
       "0                  &alpha;-D-galacturonic acid   \n",
       "1                                          NaN   \n",
       "\n",
       "      regulatorInactiveConformationsEffectorSynonyms           symmetry  \\\n",
       "0  &alpha;-D-glucuronic acid;&alpha;-D-glucopyran...  |INVERTED-REPEAT|   \n",
       "1  asparagine;&alpha;-aminosuccinamic acid;(-)-as...  |INVERTED-REPEAT|   \n",
       "\n",
       "                                regulatorEvidences  additiveEvidences  \\\n",
       "0                                          [EXP:W]                NaN   \n",
       "1  [COMP-HINF-FN-FROM-SEQ:W][EXP-IEP:W][EXP-IPI:W]                NaN   \n",
       "\n",
       "  confidenceLevel            regulatorConformationPMID   \n",
       "0               W                              6357945   \n",
       "1               W  6357950; 7686882; 16528101; 2864330   "
      ]
     },
     "execution_count": 25,
     "metadata": {},
     "output_type": "execute_result"
    }
   ],
   "source": [
    "df_regulator = pd.read_csv(\"../data/RegulatorSet.tsv\", sep=\"\\t\")\n",
    "df_regulator.head(2)"
   ]
  },
  {
   "cell_type": "code",
   "execution_count": 26,
   "metadata": {},
   "outputs": [
    {
     "data": {
      "text/plain": [
       "array(['W', 'S', nan], dtype=object)"
      ]
     },
     "execution_count": 26,
     "metadata": {},
     "output_type": "execute_result"
    }
   ],
   "source": [
    "df_regulator[\"confidenceLevel\"].unique()"
   ]
  },
  {
   "cell_type": "code",
   "execution_count": 27,
   "metadata": {},
   "outputs": [],
   "source": [
    "df_regulator[\"confidenceLevel\"] = df_regulator[\"confidenceLevel\"].replace({\"C\": \"CONFIRMED\", \"S\": \"STRONG\", \"W\": \"WEAK\"})"
   ]
  },
  {
   "cell_type": "code",
   "execution_count": 28,
   "metadata": {},
   "outputs": [],
   "source": [
    "df_regulator.to_csv(\"../data/RegulatorSet.tsv\", sep=\"\\t\", index=False)"
   ]
  },
  {
   "cell_type": "code",
   "execution_count": 29,
   "metadata": {},
   "outputs": [
    {
     "data": {
      "text/html": [
       "<div>\n",
       "<style scoped>\n",
       "    .dataframe tbody tr th:only-of-type {\n",
       "        vertical-align: middle;\n",
       "    }\n",
       "\n",
       "    .dataframe tbody tr th {\n",
       "        vertical-align: top;\n",
       "    }\n",
       "\n",
       "    .dataframe thead th {\n",
       "        text-align: right;\n",
       "    }\n",
       "</style>\n",
       "<table border=\"1\" class=\"dataframe\">\n",
       "  <thead>\n",
       "    <tr style=\"text-align: right;\">\n",
       "      <th></th>\n",
       "      <th>regulatorId</th>\n",
       "      <th>regulatorName</th>\n",
       "      <th>regulatorSynonyms</th>\n",
       "      <th>regulatorType</th>\n",
       "      <th>geneCodingForRegulator</th>\n",
       "      <th>geneBnumberCodingForRegulator</th>\n",
       "      <th>regulatorActiveConformations</th>\n",
       "      <th>regulatorInactiveConformations</th>\n",
       "      <th>regulatorActiveConformationsSynonyms</th>\n",
       "      <th>regulatorInactiveConformationsSynonyms</th>\n",
       "      <th>regulatorActiveConformationsEffector</th>\n",
       "      <th>regulatorInactiveConformationsEffector</th>\n",
       "      <th>regulatorActiveConformationsEffectorSynonyms</th>\n",
       "      <th>regulatorInactiveConformationsEffectorSynonyms</th>\n",
       "      <th>symmetry</th>\n",
       "      <th>regulatorEvidences</th>\n",
       "      <th>additiveEvidences</th>\n",
       "      <th>confidenceLevel</th>\n",
       "      <th>regulatorConformationPMID</th>\n",
       "    </tr>\n",
       "  </thead>\n",
       "  <tbody>\n",
       "    <tr>\n",
       "      <th>0</th>\n",
       "      <td>RDBECOLITFC00001</td>\n",
       "      <td>ExuR</td>\n",
       "      <td>ExuR;negative regulator of exu regulon, exuT, ...</td>\n",
       "      <td>transcriptionFactor</td>\n",
       "      <td>exuR</td>\n",
       "      <td>b3094</td>\n",
       "      <td>ExuR;ExuR-&amp;alpha;-D-galacturonate, &amp;alpha;-D-g...</td>\n",
       "      <td>ExuR-&amp;alpha;-D-glucuronate</td>\n",
       "      <td>ExuR;negative regulator of exu regulon, exuT, ...</td>\n",
       "      <td>NaN</td>\n",
       "      <td>&amp;alpha;-D-galacturonate</td>\n",
       "      <td>&amp;alpha;-D-glucuronate</td>\n",
       "      <td>&amp;alpha;-D-galacturonic acid</td>\n",
       "      <td>&amp;alpha;-D-glucuronic acid;&amp;alpha;-D-glucopyran...</td>\n",
       "      <td>|INVERTED-REPEAT|</td>\n",
       "      <td>[EXP:W]</td>\n",
       "      <td>NaN</td>\n",
       "      <td>WEAK</td>\n",
       "      <td>6357945</td>\n",
       "    </tr>\n",
       "    <tr>\n",
       "      <th>1</th>\n",
       "      <td>RDBECOLITFC00002</td>\n",
       "      <td>AsnC</td>\n",
       "      <td>AsnC</td>\n",
       "      <td>transcriptionFactor</td>\n",
       "      <td>asnC</td>\n",
       "      <td>b3743</td>\n",
       "      <td>DNA-binding transcriptional dual regulator AsnC</td>\n",
       "      <td>AsnC-L-asparagine</td>\n",
       "      <td>AsnC</td>\n",
       "      <td>NaN</td>\n",
       "      <td>NaN</td>\n",
       "      <td>L-asparagine</td>\n",
       "      <td>NaN</td>\n",
       "      <td>asparagine;&amp;alpha;-aminosuccinamic acid;(-)-as...</td>\n",
       "      <td>|INVERTED-REPEAT|</td>\n",
       "      <td>[COMP-HINF-FN-FROM-SEQ:W][EXP-IEP:W][EXP-IPI:W]</td>\n",
       "      <td>NaN</td>\n",
       "      <td>WEAK</td>\n",
       "      <td>6357950; 7686882; 16528101; 2864330</td>\n",
       "    </tr>\n",
       "  </tbody>\n",
       "</table>\n",
       "</div>"
      ],
      "text/plain": [
       "        regulatorId regulatorName  \\\n",
       "0  RDBECOLITFC00001          ExuR   \n",
       "1  RDBECOLITFC00002          AsnC   \n",
       "\n",
       "                                   regulatorSynonyms        regulatorType  \\\n",
       "0  ExuR;negative regulator of exu regulon, exuT, ...  transcriptionFactor   \n",
       "1                                               AsnC  transcriptionFactor   \n",
       "\n",
       "  geneCodingForRegulator geneBnumberCodingForRegulator  \\\n",
       "0                   exuR                         b3094   \n",
       "1                   asnC                         b3743   \n",
       "\n",
       "                        regulatorActiveConformations  \\\n",
       "0  ExuR;ExuR-&alpha;-D-galacturonate, &alpha;-D-g...   \n",
       "1    DNA-binding transcriptional dual regulator AsnC   \n",
       "\n",
       "  regulatorInactiveConformations  \\\n",
       "0     ExuR-&alpha;-D-glucuronate   \n",
       "1              AsnC-L-asparagine   \n",
       "\n",
       "                regulatorActiveConformationsSynonyms  \\\n",
       "0  ExuR;negative regulator of exu regulon, exuT, ...   \n",
       "1                                               AsnC   \n",
       "\n",
       "   regulatorInactiveConformationsSynonyms  \\\n",
       "0                                     NaN   \n",
       "1                                     NaN   \n",
       "\n",
       "  regulatorActiveConformationsEffector regulatorInactiveConformationsEffector  \\\n",
       "0              &alpha;-D-galacturonate                  &alpha;-D-glucuronate   \n",
       "1                                  NaN                           L-asparagine   \n",
       "\n",
       "  regulatorActiveConformationsEffectorSynonyms  \\\n",
       "0                  &alpha;-D-galacturonic acid   \n",
       "1                                          NaN   \n",
       "\n",
       "      regulatorInactiveConformationsEffectorSynonyms           symmetry  \\\n",
       "0  &alpha;-D-glucuronic acid;&alpha;-D-glucopyran...  |INVERTED-REPEAT|   \n",
       "1  asparagine;&alpha;-aminosuccinamic acid;(-)-as...  |INVERTED-REPEAT|   \n",
       "\n",
       "                                regulatorEvidences  additiveEvidences  \\\n",
       "0                                          [EXP:W]                NaN   \n",
       "1  [COMP-HINF-FN-FROM-SEQ:W][EXP-IEP:W][EXP-IPI:W]                NaN   \n",
       "\n",
       "  confidenceLevel            regulatorConformationPMID   \n",
       "0            WEAK                              6357945   \n",
       "1            WEAK  6357950; 7686882; 16528101; 2864330   "
      ]
     },
     "execution_count": 29,
     "metadata": {},
     "output_type": "execute_result"
    }
   ],
   "source": [
    "df_regulator = pd.read_csv(\"../data/RegulatorSet.tsv\", sep=\"\\t\")\n",
    "df_regulator.head(2)"
   ]
  },
  {
   "cell_type": "markdown",
   "metadata": {},
   "source": [
    "### Trancription Factor"
   ]
  },
  {
   "cell_type": "code",
   "execution_count": 31,
   "metadata": {},
   "outputs": [
    {
     "data": {
      "text/html": [
       "<div>\n",
       "<style scoped>\n",
       "    .dataframe tbody tr th:only-of-type {\n",
       "        vertical-align: middle;\n",
       "    }\n",
       "\n",
       "    .dataframe tbody tr th {\n",
       "        vertical-align: top;\n",
       "    }\n",
       "\n",
       "    .dataframe thead th {\n",
       "        text-align: right;\n",
       "    }\n",
       "</style>\n",
       "<table border=\"1\" class=\"dataframe\">\n",
       "  <thead>\n",
       "    <tr style=\"text-align: right;\">\n",
       "      <th></th>\n",
       "      <th>tfId</th>\n",
       "      <th>tfName</th>\n",
       "      <th>tfSynonyms</th>\n",
       "      <th>geneCodingForTF</th>\n",
       "      <th>geneBnumberCodingForTF</th>\n",
       "      <th>tfActiveConformations</th>\n",
       "      <th>tfInactiveConformations</th>\n",
       "      <th>tfActiveConformationsSynonyms</th>\n",
       "      <th>tfInactiveConformationsSynonyms</th>\n",
       "      <th>tfActiveConformationsEffector</th>\n",
       "      <th>tfInactiveConformationsEffector</th>\n",
       "      <th>tfActiveConformationsEffectorSynonyms</th>\n",
       "      <th>tfInactiveConformationsEffectorSynonyms</th>\n",
       "      <th>symmetry</th>\n",
       "      <th>tfEvidences</th>\n",
       "      <th>additiveEvidences</th>\n",
       "      <th>confidenceLevel</th>\n",
       "      <th>tfConformationPMID</th>\n",
       "    </tr>\n",
       "  </thead>\n",
       "  <tbody>\n",
       "    <tr>\n",
       "      <th>0</th>\n",
       "      <td>RDBECOLITFC00001</td>\n",
       "      <td>ExuR</td>\n",
       "      <td>ExuR;negative regulator of exu regulon, exuT, ...</td>\n",
       "      <td>exuR</td>\n",
       "      <td>b3094</td>\n",
       "      <td>ExuR;ExuR-&amp;alpha;-D-galacturonate, &amp;alpha;-D-g...</td>\n",
       "      <td>ExuR-&amp;alpha;-D-glucuronate</td>\n",
       "      <td>ExuR;negative regulator of exu regulon, exuT, ...</td>\n",
       "      <td>NaN</td>\n",
       "      <td>&amp;alpha;-D-galacturonate</td>\n",
       "      <td>&amp;alpha;-D-glucuronate</td>\n",
       "      <td>&amp;alpha;-D-galacturonic acid</td>\n",
       "      <td>&amp;alpha;-D-glucuronic acid;&amp;alpha;-D-glucopyran...</td>\n",
       "      <td>|INVERTED-REPEAT|</td>\n",
       "      <td>[EXP:W]</td>\n",
       "      <td>NaN</td>\n",
       "      <td>W</td>\n",
       "      <td>6357945</td>\n",
       "    </tr>\n",
       "    <tr>\n",
       "      <th>1</th>\n",
       "      <td>RDBECOLITFC00002</td>\n",
       "      <td>AsnC</td>\n",
       "      <td>AsnC</td>\n",
       "      <td>asnC</td>\n",
       "      <td>b3743</td>\n",
       "      <td>DNA-binding transcriptional dual regulator AsnC</td>\n",
       "      <td>AsnC-L-asparagine</td>\n",
       "      <td>AsnC</td>\n",
       "      <td>NaN</td>\n",
       "      <td>NaN</td>\n",
       "      <td>L-asparagine</td>\n",
       "      <td>NaN</td>\n",
       "      <td>asparagine;&amp;alpha;-aminosuccinamic acid;(-)-as...</td>\n",
       "      <td>|INVERTED-REPEAT|</td>\n",
       "      <td>[COMP-HINF-FN-FROM-SEQ:W][EXP-IEP:W][EXP-IPI:W]</td>\n",
       "      <td>NaN</td>\n",
       "      <td>W</td>\n",
       "      <td>6357950; 7686882; 16528101; 2864330</td>\n",
       "    </tr>\n",
       "  </tbody>\n",
       "</table>\n",
       "</div>"
      ],
      "text/plain": [
       "               tfId tfName                                         tfSynonyms  \\\n",
       "0  RDBECOLITFC00001   ExuR  ExuR;negative regulator of exu regulon, exuT, ...   \n",
       "1  RDBECOLITFC00002   AsnC                                               AsnC   \n",
       "\n",
       "  geneCodingForTF geneBnumberCodingForTF  \\\n",
       "0            exuR                  b3094   \n",
       "1            asnC                  b3743   \n",
       "\n",
       "                               tfActiveConformations  \\\n",
       "0  ExuR;ExuR-&alpha;-D-galacturonate, &alpha;-D-g...   \n",
       "1    DNA-binding transcriptional dual regulator AsnC   \n",
       "\n",
       "      tfInactiveConformations  \\\n",
       "0  ExuR-&alpha;-D-glucuronate   \n",
       "1           AsnC-L-asparagine   \n",
       "\n",
       "                       tfActiveConformationsSynonyms  \\\n",
       "0  ExuR;negative regulator of exu regulon, exuT, ...   \n",
       "1                                               AsnC   \n",
       "\n",
       "   tfInactiveConformationsSynonyms tfActiveConformationsEffector  \\\n",
       "0                              NaN       &alpha;-D-galacturonate   \n",
       "1                              NaN                           NaN   \n",
       "\n",
       "  tfInactiveConformationsEffector tfActiveConformationsEffectorSynonyms  \\\n",
       "0           &alpha;-D-glucuronate           &alpha;-D-galacturonic acid   \n",
       "1                    L-asparagine                                   NaN   \n",
       "\n",
       "             tfInactiveConformationsEffectorSynonyms           symmetry  \\\n",
       "0  &alpha;-D-glucuronic acid;&alpha;-D-glucopyran...  |INVERTED-REPEAT|   \n",
       "1  asparagine;&alpha;-aminosuccinamic acid;(-)-as...  |INVERTED-REPEAT|   \n",
       "\n",
       "                                       tfEvidences  additiveEvidences  \\\n",
       "0                                          [EXP:W]                NaN   \n",
       "1  [COMP-HINF-FN-FROM-SEQ:W][EXP-IEP:W][EXP-IPI:W]                NaN   \n",
       "\n",
       "  confidenceLevel                   tfConformationPMID   \n",
       "0               W                              6357945   \n",
       "1               W  6357950; 7686882; 16528101; 2864330   "
      ]
     },
     "execution_count": 31,
     "metadata": {},
     "output_type": "execute_result"
    }
   ],
   "source": [
    "df_tf = pd.read_csv(\"../data/TFSet.tsv\", sep=\"\\t\")\n",
    "df_tf.head(2)"
   ]
  },
  {
   "cell_type": "code",
   "execution_count": 32,
   "metadata": {},
   "outputs": [
    {
     "data": {
      "text/plain": [
       "array(['W', 'S', nan], dtype=object)"
      ]
     },
     "execution_count": 32,
     "metadata": {},
     "output_type": "execute_result"
    }
   ],
   "source": [
    "df_tf[\"confidenceLevel\"].unique()"
   ]
  },
  {
   "cell_type": "code",
   "execution_count": 33,
   "metadata": {},
   "outputs": [],
   "source": [
    "df_tf[\"confidenceLevel\"] = df_tf[\"confidenceLevel\"].replace({\"C\": \"CONFIRMED\", \"S\": \"STRONG\", \"W\": \"WEAK\"})"
   ]
  },
  {
   "cell_type": "code",
   "execution_count": 34,
   "metadata": {},
   "outputs": [],
   "source": [
    "df_tf.to_csv(\"../data/TFSet.tsv\", sep=\"\\t\", index=False)"
   ]
  },
  {
   "cell_type": "code",
   "execution_count": 35,
   "metadata": {},
   "outputs": [
    {
     "data": {
      "text/html": [
       "<div>\n",
       "<style scoped>\n",
       "    .dataframe tbody tr th:only-of-type {\n",
       "        vertical-align: middle;\n",
       "    }\n",
       "\n",
       "    .dataframe tbody tr th {\n",
       "        vertical-align: top;\n",
       "    }\n",
       "\n",
       "    .dataframe thead th {\n",
       "        text-align: right;\n",
       "    }\n",
       "</style>\n",
       "<table border=\"1\" class=\"dataframe\">\n",
       "  <thead>\n",
       "    <tr style=\"text-align: right;\">\n",
       "      <th></th>\n",
       "      <th>tfId</th>\n",
       "      <th>tfName</th>\n",
       "      <th>tfSynonyms</th>\n",
       "      <th>geneCodingForTF</th>\n",
       "      <th>geneBnumberCodingForTF</th>\n",
       "      <th>tfActiveConformations</th>\n",
       "      <th>tfInactiveConformations</th>\n",
       "      <th>tfActiveConformationsSynonyms</th>\n",
       "      <th>tfInactiveConformationsSynonyms</th>\n",
       "      <th>tfActiveConformationsEffector</th>\n",
       "      <th>tfInactiveConformationsEffector</th>\n",
       "      <th>tfActiveConformationsEffectorSynonyms</th>\n",
       "      <th>tfInactiveConformationsEffectorSynonyms</th>\n",
       "      <th>symmetry</th>\n",
       "      <th>tfEvidences</th>\n",
       "      <th>additiveEvidences</th>\n",
       "      <th>confidenceLevel</th>\n",
       "      <th>tfConformationPMID</th>\n",
       "    </tr>\n",
       "  </thead>\n",
       "  <tbody>\n",
       "    <tr>\n",
       "      <th>0</th>\n",
       "      <td>RDBECOLITFC00001</td>\n",
       "      <td>ExuR</td>\n",
       "      <td>ExuR;negative regulator of exu regulon, exuT, ...</td>\n",
       "      <td>exuR</td>\n",
       "      <td>b3094</td>\n",
       "      <td>ExuR;ExuR-&amp;alpha;-D-galacturonate, &amp;alpha;-D-g...</td>\n",
       "      <td>ExuR-&amp;alpha;-D-glucuronate</td>\n",
       "      <td>ExuR;negative regulator of exu regulon, exuT, ...</td>\n",
       "      <td>NaN</td>\n",
       "      <td>&amp;alpha;-D-galacturonate</td>\n",
       "      <td>&amp;alpha;-D-glucuronate</td>\n",
       "      <td>&amp;alpha;-D-galacturonic acid</td>\n",
       "      <td>&amp;alpha;-D-glucuronic acid;&amp;alpha;-D-glucopyran...</td>\n",
       "      <td>|INVERTED-REPEAT|</td>\n",
       "      <td>[EXP:W]</td>\n",
       "      <td>NaN</td>\n",
       "      <td>WEAK</td>\n",
       "      <td>6357945</td>\n",
       "    </tr>\n",
       "    <tr>\n",
       "      <th>1</th>\n",
       "      <td>RDBECOLITFC00002</td>\n",
       "      <td>AsnC</td>\n",
       "      <td>AsnC</td>\n",
       "      <td>asnC</td>\n",
       "      <td>b3743</td>\n",
       "      <td>DNA-binding transcriptional dual regulator AsnC</td>\n",
       "      <td>AsnC-L-asparagine</td>\n",
       "      <td>AsnC</td>\n",
       "      <td>NaN</td>\n",
       "      <td>NaN</td>\n",
       "      <td>L-asparagine</td>\n",
       "      <td>NaN</td>\n",
       "      <td>asparagine;&amp;alpha;-aminosuccinamic acid;(-)-as...</td>\n",
       "      <td>|INVERTED-REPEAT|</td>\n",
       "      <td>[COMP-HINF-FN-FROM-SEQ:W][EXP-IEP:W][EXP-IPI:W]</td>\n",
       "      <td>NaN</td>\n",
       "      <td>WEAK</td>\n",
       "      <td>6357950; 7686882; 16528101; 2864330</td>\n",
       "    </tr>\n",
       "  </tbody>\n",
       "</table>\n",
       "</div>"
      ],
      "text/plain": [
       "               tfId tfName                                         tfSynonyms  \\\n",
       "0  RDBECOLITFC00001   ExuR  ExuR;negative regulator of exu regulon, exuT, ...   \n",
       "1  RDBECOLITFC00002   AsnC                                               AsnC   \n",
       "\n",
       "  geneCodingForTF geneBnumberCodingForTF  \\\n",
       "0            exuR                  b3094   \n",
       "1            asnC                  b3743   \n",
       "\n",
       "                               tfActiveConformations  \\\n",
       "0  ExuR;ExuR-&alpha;-D-galacturonate, &alpha;-D-g...   \n",
       "1    DNA-binding transcriptional dual regulator AsnC   \n",
       "\n",
       "      tfInactiveConformations  \\\n",
       "0  ExuR-&alpha;-D-glucuronate   \n",
       "1           AsnC-L-asparagine   \n",
       "\n",
       "                       tfActiveConformationsSynonyms  \\\n",
       "0  ExuR;negative regulator of exu regulon, exuT, ...   \n",
       "1                                               AsnC   \n",
       "\n",
       "   tfInactiveConformationsSynonyms tfActiveConformationsEffector  \\\n",
       "0                              NaN       &alpha;-D-galacturonate   \n",
       "1                              NaN                           NaN   \n",
       "\n",
       "  tfInactiveConformationsEffector tfActiveConformationsEffectorSynonyms  \\\n",
       "0           &alpha;-D-glucuronate           &alpha;-D-galacturonic acid   \n",
       "1                    L-asparagine                                   NaN   \n",
       "\n",
       "             tfInactiveConformationsEffectorSynonyms           symmetry  \\\n",
       "0  &alpha;-D-glucuronic acid;&alpha;-D-glucopyran...  |INVERTED-REPEAT|   \n",
       "1  asparagine;&alpha;-aminosuccinamic acid;(-)-as...  |INVERTED-REPEAT|   \n",
       "\n",
       "                                       tfEvidences  additiveEvidences  \\\n",
       "0                                          [EXP:W]                NaN   \n",
       "1  [COMP-HINF-FN-FROM-SEQ:W][EXP-IEP:W][EXP-IPI:W]                NaN   \n",
       "\n",
       "  confidenceLevel                   tfConformationPMID   \n",
       "0            WEAK                              6357945   \n",
       "1            WEAK  6357950; 7686882; 16528101; 2864330   "
      ]
     },
     "execution_count": 35,
     "metadata": {},
     "output_type": "execute_result"
    }
   ],
   "source": [
    "df_tf = pd.read_csv(\"../data/TFSet.tsv\", sep=\"\\t\")\n",
    "df_tf.head(2)"
   ]
  },
  {
   "cell_type": "markdown",
   "metadata": {},
   "source": [
    "# crear create_sql_agent"
   ]
  },
  {
   "cell_type": "code",
   "execution_count": 1,
   "metadata": {},
   "outputs": [],
   "source": [
    "from langchain_community.utilities import SQLDatabase\n",
    "from langchain_experimental.tools import PythonAstREPLTool\n",
    "from sqlalchemy import create_engine\n",
    "\n",
    "engine = create_engine(\"sqlite:///../regulon.db\")"
   ]
  },
  {
   "cell_type": "code",
   "execution_count": 55,
   "metadata": {},
   "outputs": [
    {
     "data": {
      "text/plain": [
       "82"
      ]
     },
     "execution_count": 55,
     "metadata": {},
     "output_type": "execute_result"
    }
   ],
   "source": [
    "df_promoter.to_sql(\"promotores\", engine, index=False, if_exists=\"replace\")\n",
    "df_tu.to_sql(\"transcription_units\", engine, index=False, if_exists=\"replace\")\n",
    "df_ri.to_sql(\"regulatory_interactions\", engine, index=False, if_exists=\"replace\")\n",
    "df_terminator.to_sql(\"terminators\", engine, index=False, if_exists=\"replace\")\n",
    "df_evidence.to_sql(\"evidences\", engine, index=False, if_exists=\"replace\")"
   ]
  },
  {
   "cell_type": "code",
   "execution_count": 37,
   "metadata": {},
   "outputs": [
    {
     "data": {
      "text/plain": [
       "240"
      ]
     },
     "execution_count": 37,
     "metadata": {},
     "output_type": "execute_result"
    }
   ],
   "source": [
    "df_gene_product.to_sql(\"gene_products\", engine, index=False, if_exists=\"replace\")\n",
    "df_operon.to_sql(\"operons\", engine, index=False, if_exists=\"replace\")\n",
    "df_regulator.to_sql(\"regulators\", engine, index=False, if_exists=\"replace\")\n",
    "df_tf.to_sql(\"transcription_factors\", engine, index=False, if_exists=\"replace\")"
   ]
  },
  {
   "cell_type": "code",
   "execution_count": 8,
   "metadata": {},
   "outputs": [
    {
     "name": "stdout",
     "output_type": "stream",
     "text": [
      "sqlite\n",
      "['evidences', 'gene_products', 'operons', 'promotores', 'regulators', 'regulatory_interactions', 'terminators', 'transcription_factors', 'transcription_units']\n"
     ]
    }
   ],
   "source": [
    "db = SQLDatabase(engine=engine)\n",
    "print(db.dialect)\n",
    "print(db.get_usable_table_names())"
   ]
  },
  {
   "cell_type": "code",
   "execution_count": 39,
   "metadata": {},
   "outputs": [
    {
     "name": "stdout",
     "output_type": "stream",
     "text": [
      "[('promotores',), ('transcription_units',), ('regulatory_interactions',), ('terminators',), ('evidences',), ('gene_products',), ('operons',), ('regulators',), ('transcription_factors',)]\n"
     ]
    }
   ],
   "source": [
    "print(db.run(\"SELECT name FROM sqlite_master WHERE type='table';\"))"
   ]
  },
  {
   "cell_type": "code",
   "execution_count": 6,
   "metadata": {},
   "outputs": [],
   "source": [
    "import getpass\n",
    "import os\n",
    "\n",
    "os.environ[\"OPENAI_API_KEY\"] = getpass.getpass()\n",
    "\n",
    "from langchain_openai import ChatOpenAI\n",
    "\n",
    "llm = ChatOpenAI(model=\"gpt-4o-mini\")"
   ]
  },
  {
   "cell_type": "code",
   "execution_count": 9,
   "metadata": {},
   "outputs": [],
   "source": [
    "from langchain_community.agent_toolkits import create_sql_agent\n",
    "\n",
    "agent_executor = create_sql_agent(llm, db=db, agent_type=\"openai-tools\", verbose=True)"
   ]
  },
  {
   "cell_type": "code",
   "execution_count": 6,
   "metadata": {},
   "outputs": [
    {
     "name": "stdout",
     "output_type": "stream",
     "text": [
      "\n",
      "\n",
      "\u001b[1m> Entering new SQL Agent Executor chain...\u001b[0m\n",
      "\u001b[32;1m\u001b[1;3m\n",
      "Invoking: `sql_db_list_tables` with `{}`\n",
      "\n",
      "\n",
      "\u001b[0m\u001b[38;5;200m\u001b[1;3mevidences, gene_products, operons, promotores, regulators, regulatory_interactions, terminators, transcription_factors, transcription_units\u001b[0m\u001b[32;1m\u001b[1;3m\n",
      "Invoking: `sql_db_schema` with `{'table_names': 'promotores'}`\n",
      "\n",
      "\n",
      "\u001b[0m\u001b[33;1m\u001b[1;3m\n",
      "CREATE TABLE promotores (\n",
      "\t\"pmId\" TEXT, \n",
      "\t\"pmName\" TEXT, \n",
      "\tstrand TEXT, \n",
      "\t\"posTSS\" FLOAT, \n",
      "\t\"sigmaFactor\" TEXT, \n",
      "\t\"pmSequence\" TEXT, \n",
      "\t\"firstGeneName\" TEXT, \n",
      "\t\"distToFirstGene\" FLOAT, \n",
      "\t\"pmEvidence\" TEXT, \n",
      "\t\"addEvidence\" TEXT, \n",
      "\t\"confidenceLevel\" TEXT, \n",
      "\tpmids TEXT\n",
      ")\n",
      "\n",
      "/*\n",
      "3 rows from promotores table:\n",
      "pmId\tpmName\tstrand\tposTSS\tsigmaFactor\tpmSequence\tfirstGeneName\tdistToFirstGene\tpmEvidence\taddEvidence\tconfidenceLevel\tpmids\n",
      "RDBECOLIPMC00001\tspyp\treverse\t1825688.0\tsigma70\tacactttcattgttttaccgttgctctgattaattgacgctaaagtcagtaaagttaatcTcgtcaacacggcacgctact\tspy\t-63.0\t[COMP-AINF:W][COMP-HINF-POSITIONAL-IDENTIFICATION:W][EXP-IDA-TRANSCRIPTION-INIT-MAPPING:S]\tNone\tSTRONG\t14529615;16861804;9068658 \n",
      "RDBECOLIPMC00002\tyfeKp\tforward\t2537315.0\tsigma24\tccgatgatcctcatcgtaatccaaccgaaactttacctgattctggcagtcaaatcggctAtcacaaaacaaggataaggt\tyfeK\t-27.0\t[COMP-AINF:W][COMP-AINF-POSITIONAL-IDENTIFICATION:W][EXP-IDA-TRANSCRIPTION-INIT-MAPPING:S]\tNone\tSTRONG\t14529615;16336047 \n",
      "RDBECOLIPMC00003\tbepAp1\tforward\t2616068.0\tsigma24\tgccgttacactcaaaggcggcgcggtgggaacgatatttcacagtatcggtcaaatgactAtctccagaaatacaggatag\tbepA\t-26.0\t[COMP-AINF:W][COMP-AINF-POSITIONAL-IDENTIFICATION:W][EXP-IDA-TRANSCRIPTION-INIT-MAPPING:S]\tNone\tSTRONG\t14529615;16336047;31992590 \n",
      "*/\u001b[0m\u001b[32;1m\u001b[1;3m\n",
      "Invoking: `sql_db_schema` with `{'table_names': 'transcription_factors'}`\n",
      "\n",
      "\n",
      "\u001b[0m\u001b[33;1m\u001b[1;3m\n",
      "CREATE TABLE transcription_factors (\n",
      "\t\"tfId\" TEXT, \n",
      "\t\"tfName\" TEXT, \n",
      "\t\"tfSynonyms\" TEXT, \n",
      "\t\"geneCodingForTF\" TEXT, \n",
      "\t\"geneBnumberCodingForTF\" TEXT, \n",
      "\t\"tfActiveConformations\" TEXT, \n",
      "\t\"tfInactiveConformations\" TEXT, \n",
      "\t\"tfActiveConformationsSynonyms\" TEXT, \n",
      "\t\"tfInactiveConformationsSynonyms\" FLOAT, \n",
      "\t\"tfActiveConformationsEffector\" TEXT, \n",
      "\t\"tfInactiveConformationsEffector\" TEXT, \n",
      "\t\"tfActiveConformationsEffectorSynonyms\" TEXT, \n",
      "\t\"tfInactiveConformationsEffectorSynonyms\" TEXT, \n",
      "\tsymmetry TEXT, \n",
      "\t\"tfEvidences\" TEXT, \n",
      "\t\"additiveEvidences\" FLOAT, \n",
      "\t\"confidenceLevel\" TEXT, \n",
      "\t\"tfConformationPMID \" TEXT\n",
      ")\n",
      "\n",
      "/*\n",
      "3 rows from transcription_factors table:\n",
      "tfId\ttfName\ttfSynonyms\tgeneCodingForTF\tgeneBnumberCodingForTF\ttfActiveConformations\ttfInactiveConformations\ttfActiveConformationsSynonyms\ttfInactiveConformationsSynonyms\ttfActiveConformationsEffector\ttfInactiveConformationsEffector\ttfActiveConformationsEffectorSynonyms\ttfInactiveConformationsEffectorSynonyms\tsymmetry\ttfEvidences\tadditiveEvidences\tconfidenceLevel\ttfConformationPMID \n",
      "RDBECOLITFC00001\tExuR\tExuR;negative regulator of exu regulon, exuT, uxaAC, and uxuB\texuR\tb3094\tExuR;ExuR-&alpha;-D-galacturonate, &alpha;-D-glucuronate-DNA-binding transcriptional repressor\tExuR-&alpha;-D-glucuronate\tExuR;negative regulator of exu regulon, exuT, uxaAC, and uxuB\tNone\t&alpha;-D-galacturonate\t&alpha;-D-glucuronate\t&alpha;-D-galacturonic acid\t&alpha;-D-glucuronic acid;&alpha;-D-glucopyranuronic acid\t|INVERTED-REPEAT|\t[EXP:W]\tNone\tWEAK\t6357945 \n",
      "RDBECOLITFC00002\tAsnC\tAsnC\tasnC\tb3743\tDNA-binding transcriptional dual regulator AsnC\tAsnC-L-asparagine\tAsnC\tNone\tNone\tL-asparagine\tNone\tasparagine;&alpha;-aminosuccinamic acid;(-)-asparagine;(S)-2,4-diamino-4-oxobutanoic acid;(S)-aspara\t|INVERTED-REPEAT|\t[COMP-HINF-FN-FROM-SEQ:W][EXP-IEP:W][EXP-IPI:W]\tNone\tWEAK\t6357950; 7686882; 16528101; 2864330 \n",
      "RDBECOLITFC00003\tDan\tDan;TtdR;YgiP\tttdR\tb3060\tDan-L-tartrate DNA-binding transcriptional activator\tNone\tNone\tNone\tL-tartrate\tNone\tweinsaeure;(+)-tartrate;tartrate;tartaric acid;(R,R)-tartrate;L-tartaric acid;L(+)-tartaric acid;(2R\tNone\tNone\t[COMP-HINF-FN-FROM-SEQ:W][EXP-IDA-PART-PURIFIED-PROTEIN-NH:W][EXP-IDA:W][IDA-PURIFIED-PROTEIN-NH:S][\tNone\tSTRONG\t19661178; 20156994 \n",
      "*/\u001b[0m\u001b[32;1m\u001b[1;3m\n",
      "Invoking: `sql_db_schema` with `{'table_names': 'regulators'}`\n",
      "\n",
      "\n",
      "\u001b[0m\u001b[33;1m\u001b[1;3m\n",
      "CREATE TABLE regulators (\n",
      "\t\"regulatorId\" TEXT, \n",
      "\t\"regulatorName\" TEXT, \n",
      "\t\"regulatorSynonyms\" TEXT, \n",
      "\t\"regulatorType\" TEXT, \n",
      "\t\"geneCodingForRegulator\" TEXT, \n",
      "\t\"geneBnumberCodingForRegulator\" TEXT, \n",
      "\t\"regulatorActiveConformations\" TEXT, \n",
      "\t\"regulatorInactiveConformations\" TEXT, \n",
      "\t\"regulatorActiveConformationsSynonyms\" TEXT, \n",
      "\t\"regulatorInactiveConformationsSynonyms\" FLOAT, \n",
      "\t\"regulatorActiveConformationsEffector\" TEXT, \n",
      "\t\"regulatorInactiveConformationsEffector\" TEXT, \n",
      "\t\"regulatorActiveConformationsEffectorSynonyms\" TEXT, \n",
      "\t\"regulatorInactiveConformationsEffectorSynonyms\" TEXT, \n",
      "\tsymmetry TEXT, \n",
      "\t\"regulatorEvidences\" TEXT, \n",
      "\t\"additiveEvidences\" FLOAT, \n",
      "\t\"confidenceLevel\" TEXT, \n",
      "\t\"regulatorConformationPMID \" TEXT\n",
      ")\n",
      "\n",
      "/*\n",
      "3 rows from regulators table:\n",
      "regulatorId\tregulatorName\tregulatorSynonyms\tregulatorType\tgeneCodingForRegulator\tgeneBnumberCodingForRegulator\tregulatorActiveConformations\tregulatorInactiveConformations\tregulatorActiveConformationsSynonyms\tregulatorInactiveConformationsSynonyms\tregulatorActiveConformationsEffector\tregulatorInactiveConformationsEffector\tregulatorActiveConformationsEffectorSynonyms\tregulatorInactiveConformationsEffectorSynonyms\tsymmetry\tregulatorEvidences\tadditiveEvidences\tconfidenceLevel\tregulatorConformationPMID \n",
      "RDBECOLITFC00001\tExuR\tExuR;negative regulator of exu regulon, exuT, uxaAC, and uxuB\ttranscriptionFactor\texuR\tb3094\tExuR;ExuR-&alpha;-D-galacturonate, &alpha;-D-glucuronate-DNA-binding transcriptional repressor\tExuR-&alpha;-D-glucuronate\tExuR;negative regulator of exu regulon, exuT, uxaAC, and uxuB\tNone\t&alpha;-D-galacturonate\t&alpha;-D-glucuronate\t&alpha;-D-galacturonic acid\t&alpha;-D-glucuronic acid;&alpha;-D-glucopyranuronic acid\t|INVERTED-REPEAT|\t[EXP:W]\tNone\tWEAK\t6357945 \n",
      "RDBECOLITFC00002\tAsnC\tAsnC\ttranscriptionFactor\tasnC\tb3743\tDNA-binding transcriptional dual regulator AsnC\tAsnC-L-asparagine\tAsnC\tNone\tNone\tL-asparagine\tNone\tasparagine;&alpha;-aminosuccinamic acid;(-)-asparagine;(S)-2,4-diamino-4-oxobutanoic acid;(S)-aspara\t|INVERTED-REPEAT|\t[COMP-HINF-FN-FROM-SEQ:W][EXP-IEP:W][EXP-IPI:W]\tNone\tWEAK\t6357950; 7686882; 16528101; 2864330 \n",
      "RDBECOLITFC00003\tDan\tDan;TtdR;YgiP\ttranscriptionFactor\tttdR\tb3060\tDan-L-tartrate DNA-binding transcriptional activator\tNone\tNone\tNone\tL-tartrate\tNone\tweinsaeure;(+)-tartrate;tartrate;tartaric acid;(R,R)-tartrate;L-tartaric acid;L(+)-tartaric acid;(2R\tNone\tNone\t[COMP-HINF-FN-FROM-SEQ:W][EXP-IDA-PART-PURIFIED-PROTEIN-NH:W][EXP-IDA:W][IDA-PURIFIED-PROTEIN-NH:S][\tNone\tSTRONG\t19661178; 20156994 \n",
      "*/\u001b[0m\u001b[32;1m\u001b[1;3m\n",
      "Invoking: `sql_db_query_checker` with `{'query': \"SELECT pmName \\nFROM promotores \\nWHERE sigmaFactor = 'sigma54' \\nLIMIT 10;\"}`\n",
      "responded: The relevant table for your query is the \"promotores\" table, which contains a column for the sigma factor. I will query this table to retrieve the names of promoters regulated by the sigma factor \"sigma54.\" \n",
      "\n",
      "The relevant column for the promoter's name is \"pmName.\" \n",
      "\n",
      "Now, I will construct the query. The query will look like this:\n",
      "\n",
      "```sql\n",
      "SELECT pmName \n",
      "FROM promotores \n",
      "WHERE sigmaFactor = 'sigma54' \n",
      "LIMIT 10;\n",
      "```\n",
      "\n",
      "I'll check the syntax of this query before executing it.\n",
      "\n",
      "\u001b[0m\u001b[36;1m\u001b[1;3m```sql\n",
      "SELECT pmName \n",
      "FROM promotores \n",
      "WHERE sigmaFactor = 'sigma54' \n",
      "LIMIT 10;\n",
      "```\u001b[0m\u001b[32;1m\u001b[1;3m\n",
      "Invoking: `sql_db_query` with `{'query': \"SELECT pmName \\nFROM promotores \\nWHERE sigmaFactor = 'sigma54' \\nLIMIT 10;\"}`\n",
      "\n",
      "\n",
      "\u001b[0m\u001b[36;1m\u001b[1;3m[('yahEp',), ('yaaUp',), ('crlp2',), ('nikAp2',), ('emrDp',), ('yhjCp',), ('ygfKp',), ('radDp',), ('htpGp3',), ('flhDp2',)]\u001b[0m\u001b[32;1m\u001b[1;3mLos nombres de los promotores regulados por el factor sigma \"sigma54\" son los siguientes:\n",
      "\n",
      "1. yahEp\n",
      "2. yaaUp\n",
      "3. crlp2\n",
      "4. nikAp2\n",
      "5. emrDp\n",
      "6. yhjCp\n",
      "7. ygfKp\n",
      "8. radDp\n",
      "9. htpGp3\n",
      "10. flhDp2\u001b[0m\n",
      "\n",
      "\u001b[1m> Finished chain.\u001b[0m\n"
     ]
    },
    {
     "data": {
      "text/plain": [
       "{'input': 'Devuelve todos los nombres de los promotores regulados por el sigma factor sigma54',\n",
       " 'output': 'Los nombres de los promotores regulados por el factor sigma \"sigma54\" son los siguientes:\\n\\n1. yahEp\\n2. yaaUp\\n3. crlp2\\n4. nikAp2\\n5. emrDp\\n6. yhjCp\\n7. ygfKp\\n8. radDp\\n9. htpGp3\\n10. flhDp2'}"
      ]
     },
     "execution_count": 6,
     "metadata": {},
     "output_type": "execute_result"
    }
   ],
   "source": [
    "agent_executor.invoke({\"input\": \"Devuelve todos los nombres de los promotores regulados por el sigma factor sigma54\"})"
   ]
  },
  {
   "cell_type": "code",
   "execution_count": 7,
   "metadata": {},
   "outputs": [
    {
     "name": "stdout",
     "output_type": "stream",
     "text": [
      "\n",
      "\n",
      "\u001b[1m> Entering new SQL Agent Executor chain...\u001b[0m\n",
      "\u001b[32;1m\u001b[1;3m\n",
      "Invoking: `sql_db_list_tables` with `{}`\n",
      "\n",
      "\n",
      "\u001b[0m\u001b[38;5;200m\u001b[1;3mevidences, gene_products, operons, promotores, regulators, regulatory_interactions, terminators, transcription_factors, transcription_units\u001b[0m\u001b[32;1m\u001b[1;3m\n",
      "Invoking: `sql_db_schema` with `{'table_names': 'evidences,gene_products,operons,promotores,regulators,regulatory_interactions,terminators,transcription_factors,transcription_units'}`\n",
      "\n",
      "\n",
      "\u001b[0m\u001b[33;1m\u001b[1;3m\n",
      "CREATE TABLE evidences (\n",
      "\tevidence_code TEXT, \n",
      "\tevidence_name TEXT, \n",
      "\tevidence_group FLOAT, \n",
      "\tconfidence_level TEXT, \n",
      "\tobject_type TEXT, \n",
      "\t\"evidence_category \" TEXT\n",
      ")\n",
      "\n",
      "/*\n",
      "3 rows from evidences table:\n",
      "evidence_code\tevidence_name\tevidence_group\tconfidence_level\tobject_type\tevidence_category \n",
      "EXP-IGI-FUNC-COMPLEMENTATION\tInferred by functional complementation\tNone\tSTRONG\tTranscription Factors\tClassical experiment \n",
      "EXP-IDA-UNPURIFIED-PROTEIN-NH\tAssay of unpurified protein expressed in its native host\tNone\tWEAK\tTranscription Factors\tClassical experiment \n",
      "EXP-CHIP-EXO-MANUAL\tChIP-exo evidence used in manual assertion\t4.0\tWEAK\tRegulatory Interactions\tHigh-throughput binding \n",
      "*/\n",
      "\n",
      "\n",
      "CREATE TABLE gene_products (\n",
      "\t\"geneId\" TEXT, \n",
      "\t\"geneName\" TEXT, \n",
      "\tbnumber TEXT, \n",
      "\t\"leftEndPosition\" FLOAT, \n",
      "\t\"rightEndPosition\" FLOAT, \n",
      "\tstrand TEXT, \n",
      "\t\"productName\" TEXT, \n",
      "\t\"geneEvidences\" FLOAT, \n",
      "\t\"genePMIDS\" TEXT, \n",
      "\t\"confidenceLevel\" FLOAT, \n",
      "\t\"relatedBnumbers\" TEXT, \n",
      "\t\"otherDbsIds \" TEXT\n",
      ")\n",
      "\n",
      "/*\n",
      "3 rows from gene_products table:\n",
      "geneId\tgeneName\tbnumber\tleftEndPosition\trightEndPosition\tstrand\tproductName\tgeneEvidences\tgenePMIDS\tconfidenceLevel\trelatedBnumbers\totherDbsIds \n",
      "RDBECOLIGNC00001\talr\tb4053\t4265782.0\t4266861.0\tforward\talanine racemase 1\tNone\tNone\tNone\tNone\t[STRING:511145.b4053][ASAP:ABE-0013272][ECHOBASE:EB0001][OU-MICROARRAY:b4053][CGSC:1034][ECOCYC:EG10\n",
      "RDBECOLIGNC00002\tmodB\tb0764\t795862.0\t796551.0\tforward\tmolybdate ABC transporter membrane subunit\tNone\tNone\tNone\tNone\t[STRING:511145.b0764][ASAP:ABE-0002603][ECHOBASE:EB0002][OU-MICROARRAY:b0764][CGSC:18478][ECOCYC:EG1\n",
      "RDBECOLIGNC00003\tcysZ\tb2413\t2531463.0\t2532224.0\tforward\tsulfate:H<sup>+</sup> symporter\tNone\tNone\tNone\tNone\t[STRING:511145.b2413][ASAP:ABE-0007953][ECHOBASE:EB0003][OU-MICROARRAY:b2413][ECOCYC:EG10003][REFSEQ\n",
      "*/\n",
      "\n",
      "\n",
      "CREATE TABLE operons (\n",
      "\t\"operonId\" TEXT, \n",
      "\t\"operonName\" TEXT, \n",
      "\t\"firstGeneLeftPosition\" BIGINT, \n",
      "\t\"lastGeneRightPosition\" BIGINT, \n",
      "\tstrand TEXT, \n",
      "\t\"numberOfGenes\" BIGINT, \n",
      "\t\"operonGenes\" TEXT, \n",
      "\t\"operonEvidence\" TEXT, \n",
      "\t\"confidenceLevel\" TEXT\n",
      ")\n",
      "\n",
      "/*\n",
      "3 rows from operons table:\n",
      "operonId\toperonName\tfirstGeneLeftPosition\tlastGeneRightPosition\tstrand\tnumberOfGenes\toperonGenes\toperonEvidence\tconfidenceLevel\n",
      "RDBECOLIOPC00001\tispDF\t2871301\t2872490\treverse\t2\tispD;ispF\t[COMP-HINF:W][IC-ADJ-GENES-SAME-BIO-PROCESS:W]\tWEAK\n",
      "RDBECOLIOPC00002\tserX\t1097565\t1097652\treverse\t1\tserX\t[EXP-IDA-BOUNDARIES-DEFINED:W]\tWEAK\n",
      "RDBECOLIOPC00003\tybjS\t905740\t906753\treverse\t1\tybjS\t[COMP-AINF:W]\tWEAK\n",
      "*/\n",
      "\n",
      "\n",
      "CREATE TABLE promotores (\n",
      "\t\"pmId\" TEXT, \n",
      "\t\"pmName\" TEXT, \n",
      "\tstrand TEXT, \n",
      "\t\"posTSS\" FLOAT, \n",
      "\t\"sigmaFactor\" TEXT, \n",
      "\t\"pmSequence\" TEXT, \n",
      "\t\"firstGeneName\" TEXT, \n",
      "\t\"distToFirstGene\" FLOAT, \n",
      "\t\"pmEvidence\" TEXT, \n",
      "\t\"addEvidence\" TEXT, \n",
      "\t\"confidenceLevel\" TEXT, \n",
      "\tpmids TEXT\n",
      ")\n",
      "\n",
      "/*\n",
      "3 rows from promotores table:\n",
      "pmId\tpmName\tstrand\tposTSS\tsigmaFactor\tpmSequence\tfirstGeneName\tdistToFirstGene\tpmEvidence\taddEvidence\tconfidenceLevel\tpmids\n",
      "RDBECOLIPMC00001\tspyp\treverse\t1825688.0\tsigma70\tacactttcattgttttaccgttgctctgattaattgacgctaaagtcagtaaagttaatcTcgtcaacacggcacgctact\tspy\t-63.0\t[COMP-AINF:W][COMP-HINF-POSITIONAL-IDENTIFICATION:W][EXP-IDA-TRANSCRIPTION-INIT-MAPPING:S]\tNone\tSTRONG\t14529615;16861804;9068658 \n",
      "RDBECOLIPMC00002\tyfeKp\tforward\t2537315.0\tsigma24\tccgatgatcctcatcgtaatccaaccgaaactttacctgattctggcagtcaaatcggctAtcacaaaacaaggataaggt\tyfeK\t-27.0\t[COMP-AINF:W][COMP-AINF-POSITIONAL-IDENTIFICATION:W][EXP-IDA-TRANSCRIPTION-INIT-MAPPING:S]\tNone\tSTRONG\t14529615;16336047 \n",
      "RDBECOLIPMC00003\tbepAp1\tforward\t2616068.0\tsigma24\tgccgttacactcaaaggcggcgcggtgggaacgatatttcacagtatcggtcaaatgactAtctccagaaatacaggatag\tbepA\t-26.0\t[COMP-AINF:W][COMP-AINF-POSITIONAL-IDENTIFICATION:W][EXP-IDA-TRANSCRIPTION-INIT-MAPPING:S]\tNone\tSTRONG\t14529615;16336047;31992590 \n",
      "*/\n",
      "\n",
      "\n",
      "CREATE TABLE regulators (\n",
      "\t\"regulatorId\" TEXT, \n",
      "\t\"regulatorName\" TEXT, \n",
      "\t\"regulatorSynonyms\" TEXT, \n",
      "\t\"regulatorType\" TEXT, \n",
      "\t\"geneCodingForRegulator\" TEXT, \n",
      "\t\"geneBnumberCodingForRegulator\" TEXT, \n",
      "\t\"regulatorActiveConformations\" TEXT, \n",
      "\t\"regulatorInactiveConformations\" TEXT, \n",
      "\t\"regulatorActiveConformationsSynonyms\" TEXT, \n",
      "\t\"regulatorInactiveConformationsSynonyms\" FLOAT, \n",
      "\t\"regulatorActiveConformationsEffector\" TEXT, \n",
      "\t\"regulatorInactiveConformationsEffector\" TEXT, \n",
      "\t\"regulatorActiveConformationsEffectorSynonyms\" TEXT, \n",
      "\t\"regulatorInactiveConformationsEffectorSynonyms\" TEXT, \n",
      "\tsymmetry TEXT, \n",
      "\t\"regulatorEvidences\" TEXT, \n",
      "\t\"additiveEvidences\" FLOAT, \n",
      "\t\"confidenceLevel\" TEXT, \n",
      "\t\"regulatorConformationPMID \" TEXT\n",
      ")\n",
      "\n",
      "/*\n",
      "3 rows from regulators table:\n",
      "regulatorId\tregulatorName\tregulatorSynonyms\tregulatorType\tgeneCodingForRegulator\tgeneBnumberCodingForRegulator\tregulatorActiveConformations\tregulatorInactiveConformations\tregulatorActiveConformationsSynonyms\tregulatorInactiveConformationsSynonyms\tregulatorActiveConformationsEffector\tregulatorInactiveConformationsEffector\tregulatorActiveConformationsEffectorSynonyms\tregulatorInactiveConformationsEffectorSynonyms\tsymmetry\tregulatorEvidences\tadditiveEvidences\tconfidenceLevel\tregulatorConformationPMID \n",
      "RDBECOLITFC00001\tExuR\tExuR;negative regulator of exu regulon, exuT, uxaAC, and uxuB\ttranscriptionFactor\texuR\tb3094\tExuR;ExuR-&alpha;-D-galacturonate, &alpha;-D-glucuronate-DNA-binding transcriptional repressor\tExuR-&alpha;-D-glucuronate\tExuR;negative regulator of exu regulon, exuT, uxaAC, and uxuB\tNone\t&alpha;-D-galacturonate\t&alpha;-D-glucuronate\t&alpha;-D-galacturonic acid\t&alpha;-D-glucuronic acid;&alpha;-D-glucopyranuronic acid\t|INVERTED-REPEAT|\t[EXP:W]\tNone\tWEAK\t6357945 \n",
      "RDBECOLITFC00002\tAsnC\tAsnC\ttranscriptionFactor\tasnC\tb3743\tDNA-binding transcriptional dual regulator AsnC\tAsnC-L-asparagine\tAsnC\tNone\tNone\tL-asparagine\tNone\tasparagine;&alpha;-aminosuccinamic acid;(-)-asparagine;(S)-2,4-diamino-4-oxobutanoic acid;(S)-aspara\t|INVERTED-REPEAT|\t[COMP-HINF-FN-FROM-SEQ:W][EXP-IEP:W][EXP-IPI:W]\tNone\tWEAK\t6357950; 7686882; 16528101; 2864330 \n",
      "RDBECOLITFC00003\tDan\tDan;TtdR;YgiP\ttranscriptionFactor\tttdR\tb3060\tDan-L-tartrate DNA-binding transcriptional activator\tNone\tNone\tNone\tL-tartrate\tNone\tweinsaeure;(+)-tartrate;tartrate;tartaric acid;(R,R)-tartrate;L-tartaric acid;L(+)-tartaric acid;(2R\tNone\tNone\t[COMP-HINF-FN-FROM-SEQ:W][EXP-IDA-PART-PURIFIED-PROTEIN-NH:W][EXP-IDA:W][IDA-PURIFIED-PROTEIN-NH:S][\tNone\tSTRONG\t19661178; 20156994 \n",
      "*/\n",
      "\n",
      "\n",
      "CREATE TABLE regulatory_interactions (\n",
      "\t\"riId\" TEXT, \n",
      "\t\"riType\" TEXT, \n",
      "\t\"regulatorId(TranscriptionFactor)\" TEXT, \n",
      "\t\"regulatorName\" TEXT, \n",
      "\t\"regulatorActiveConformation(CNF)Name\" TEXT, \n",
      "\t\"regulatorRegulatorySite(tfrs)ID\" TEXT, \n",
      "\t\"tfrsLeftEndPosition\" FLOAT, \n",
      "\t\"tfrsRightEndPosition\" FLOAT, \n",
      "\tstrand TEXT, \n",
      "\t\"tfrsSequence\" TEXT, \n",
      "\t\"riFunction\" TEXT, \n",
      "\t\"promoterID\" TEXT, \n",
      "\t\"promoterName\" TEXT, \n",
      "\t\"transcriptionStartSite\" FLOAT, \n",
      "\t\"sigmaFactor\" TEXT, \n",
      "\t\"relativeDistanceFromCenterPositionOfTFRStoTSS\" FLOAT, \n",
      "\t\"firstGene\" TEXT, \n",
      "\t\"relativeDistanceFromCenterPositionOfTFRStoStartOfFirstGene\" FLOAT, \n",
      "\t\"transcriptionUnitOrGeneRegulatedByTF\" TEXT, \n",
      "\t\"confidenceLevel\" TEXT, \n",
      "\t\"tfrsEvidence\" TEXT, \n",
      "\t\"riEvidence\" TEXT, \n",
      "\t\"additiveEvidence\" TEXT, \n",
      "\t\"riEvidenceTech\" TEXT, \n",
      "\t\"riEvidenceCategory\" TEXT, \n",
      "\t\"tfrsPMIDS\" TEXT, \n",
      "\t\"riPMIDS\" TEXT\n",
      ")\n",
      "\n",
      "/*\n",
      "3 rows from regulatory_interactions table:\n",
      "riId\triType\tregulatorId(TranscriptionFactor)\tregulatorName\tregulatorActiveConformation(CNF)Name\tregulatorRegulatorySite(tfrs)ID\ttfrsLeftEndPosition\ttfrsRightEndPosition\tstrand\ttfrsSequence\triFunction\tpromoterID\tpromoterName\ttranscriptionStartSite\tsigmaFactor\trelativeDistanceFromCenterPositionOfTFRStoTSS\tfirstGene\trelativeDistanceFromCenterPositionOfTFRStoStartOfFirstGene\ttranscriptionUnitOrGeneRegulatedByTF\tconfidenceLevel\ttfrsEvidence\triEvidence\tadditiveEvidence\triEvidenceTech\triEvidenceCategory\ttfrsPMIDS\triPMIDS\n",
      "RDBECOLIRIC00001\ttf-promoter\tRDBECOLITFC00023\tGadW\tGadW\tRDBECOLIBSC01689\t3653866.0\t3653885.0\tforward\tatcagacaggTTTACGTTACTATCAGGCATatcacctcag\trepressor\tRDBECOLIPMC03419\tslpp\t3653936.0\tsigma70\t-60.5\tslp\t-85.5\tRDBECOLITUC03133:slp-dctR\tWEAK\tCOMP-AINF-SIMILAR-TO-CONSENSUS:W\tEXP-IEP-GENE-EXPRESSION-ANALYSIS:W\tNone\texpression|non-experimental\tClassical expression|non-experimental\t18808381\t12730179;18808381 \n",
      "RDBECOLIRIC00002\ttf-promoter\tRDBECOLITFC00023\tGadW\tGadW\tRDBECOLIBSC01690\t3656835.0\t3656854.0\treverse\ttgaaataaaaATATCTGATTTTGATATTTTccatcaacat\tactivator\tRDBECOLIPMC04032\thdeAp\t3656791.0\tsigma70\t-53.5\thdeA\t-104.5\tRDBECOLITUC03315:hdeAB-yhiD\tSTRONG\tCOMP-HINF-SIMILAR-TO-CONSENSUS:W;COMP-AINF-SIMILAR-TO-CONSENSUS:W;EXP-IDA-BINDING-OF-PURIFIED-PROTEI\tEXP-IEP-GENE-EXPRESSION-ANALYSIS:W\tNone\texpression|non-experimental|binding in vitro\tClassical expression|non-experimental|Classical binding\t18083817;18808381\t12730179;18083817;18808381 \n",
      "RDBECOLIRIC00003\ttf-promoter\tRDBECOLITFC00088\tGalR\tGalR-D-galactose\tRDBECOLIBSC01691\t3088004.0\t3088019.0\tforward\tatcatcacaaCTGAAACCGATTACACcaaccacaac\trepressor\tRDBECOLIPMC02833\tgalPp\t3088255.0\tsigma70\t-243.5\tgalP\t-272.5\tRDBECOLITUC02515:galP\tCONFIRMED\tCOMP-AINF-SIMILAR-TO-CONSENSUS:W;EXP-IDA-BINDING-OF-PURIFIED-PROTEINS:S;EXP-IMP-SITE-MUTATION:S\tNone\tAE(EXP-IMP-SITE-MUTATION/EXP-IDA-BINDING-OF-PURIFIED-PROTEINS):C\tnon-experimental|binding in vitro|binding in vivo or in vitro\tnon-experimental|Classical binding\t19007420\t19007420 \n",
      "*/\n",
      "\n",
      "\n",
      "CREATE TABLE terminators (\n",
      "\t\"terminatorId\" TEXT, \n",
      "\t\"leftEndPos\" BIGINT, \n",
      "\t\"rightEndPos\" BIGINT, \n",
      "\tstrand TEXT, \n",
      "\tsequence TEXT, \n",
      "\t\"relatedTus\" TEXT, \n",
      "\ttype TEXT, \n",
      "\t\"operonName\" TEXT, \n",
      "\tpmids TEXT\n",
      ")\n",
      "\n",
      "/*\n",
      "3 rows from terminators table:\n",
      "terminatorId\tleftEndPos\trightEndPos\tstrand\tsequence\trelatedTus\ttype\toperonName\tpmids\n",
      "RDBECOLITMC00001\t3407286\t3407302\tforward\tagcgtcaaaaGGCCGGATTTTCCGGCCttttttatta\taccBC:accBp2;accBC:accBp1\trho-independent\taccBC\t8226664\n",
      "RDBECOLITMC00002\t3418143\t3418177\tforward\tgataaatcagAAACATAAAGGCGCTTTCGGGTGCCTTTATTATTTccagtgaaac\tacrEF:acrEp\trho-independent\tacrEF\t1720861\n",
      "RDBECOLITMC00003\t4639539\t4639572\treverse\ttaccaccgtcAAAAAAAACGGCGCTTTTTAGCGCCGTTTTTATTtttcaacctt\tarcA:arcAp1;arcA:arcAp2;arcA:arcAp3;arcA:arcAp4;arcA:arcAp6;arcA:arcAp7;arcA:arcAp5\trho-independent\tarcA\t2984198\n",
      "*/\n",
      "\n",
      "\n",
      "CREATE TABLE transcription_factors (\n",
      "\t\"tfId\" TEXT, \n",
      "\t\"tfName\" TEXT, \n",
      "\t\"tfSynonyms\" TEXT, \n",
      "\t\"geneCodingForTF\" TEXT, \n",
      "\t\"geneBnumberCodingForTF\" TEXT, \n",
      "\t\"tfActiveConformations\" TEXT, \n",
      "\t\"tfInactiveConformations\" TEXT, \n",
      "\t\"tfActiveConformationsSynonyms\" TEXT, \n",
      "\t\"tfInactiveConformationsSynonyms\" FLOAT, \n",
      "\t\"tfActiveConformationsEffector\" TEXT, \n",
      "\t\"tfInactiveConformationsEffector\" TEXT, \n",
      "\t\"tfActiveConformationsEffectorSynonyms\" TEXT, \n",
      "\t\"tfInactiveConformationsEffectorSynonyms\" TEXT, \n",
      "\tsymmetry TEXT, \n",
      "\t\"tfEvidences\" TEXT, \n",
      "\t\"additiveEvidences\" FLOAT, \n",
      "\t\"confidenceLevel\" TEXT, \n",
      "\t\"tfConformationPMID \" TEXT\n",
      ")\n",
      "\n",
      "/*\n",
      "3 rows from transcription_factors table:\n",
      "tfId\ttfName\ttfSynonyms\tgeneCodingForTF\tgeneBnumberCodingForTF\ttfActiveConformations\ttfInactiveConformations\ttfActiveConformationsSynonyms\ttfInactiveConformationsSynonyms\ttfActiveConformationsEffector\ttfInactiveConformationsEffector\ttfActiveConformationsEffectorSynonyms\ttfInactiveConformationsEffectorSynonyms\tsymmetry\ttfEvidences\tadditiveEvidences\tconfidenceLevel\ttfConformationPMID \n",
      "RDBECOLITFC00001\tExuR\tExuR;negative regulator of exu regulon, exuT, uxaAC, and uxuB\texuR\tb3094\tExuR;ExuR-&alpha;-D-galacturonate, &alpha;-D-glucuronate-DNA-binding transcriptional repressor\tExuR-&alpha;-D-glucuronate\tExuR;negative regulator of exu regulon, exuT, uxaAC, and uxuB\tNone\t&alpha;-D-galacturonate\t&alpha;-D-glucuronate\t&alpha;-D-galacturonic acid\t&alpha;-D-glucuronic acid;&alpha;-D-glucopyranuronic acid\t|INVERTED-REPEAT|\t[EXP:W]\tNone\tWEAK\t6357945 \n",
      "RDBECOLITFC00002\tAsnC\tAsnC\tasnC\tb3743\tDNA-binding transcriptional dual regulator AsnC\tAsnC-L-asparagine\tAsnC\tNone\tNone\tL-asparagine\tNone\tasparagine;&alpha;-aminosuccinamic acid;(-)-asparagine;(S)-2,4-diamino-4-oxobutanoic acid;(S)-aspara\t|INVERTED-REPEAT|\t[COMP-HINF-FN-FROM-SEQ:W][EXP-IEP:W][EXP-IPI:W]\tNone\tWEAK\t6357950; 7686882; 16528101; 2864330 \n",
      "RDBECOLITFC00003\tDan\tDan;TtdR;YgiP\tttdR\tb3060\tDan-L-tartrate DNA-binding transcriptional activator\tNone\tNone\tNone\tL-tartrate\tNone\tweinsaeure;(+)-tartrate;tartrate;tartaric acid;(R,R)-tartrate;L-tartaric acid;L(+)-tartaric acid;(2R\tNone\tNone\t[COMP-HINF-FN-FROM-SEQ:W][EXP-IDA-PART-PURIFIED-PROTEIN-NH:W][EXP-IDA:W][IDA-PURIFIED-PROTEIN-NH:S][\tNone\tSTRONG\t19661178; 20156994 \n",
      "*/\n",
      "\n",
      "\n",
      "CREATE TABLE transcription_units (\n",
      "\t\"tuId\" TEXT, \n",
      "\t\"tuName\" TEXT, \n",
      "\t\"operonName\" TEXT, \n",
      "\t\"tuGenes\" TEXT, \n",
      "\t\"pmName\" TEXT, \n",
      "\t\"tuEvidence\" TEXT, \n",
      "\t\"addEvidence\" TEXT, \n",
      "\t\"confidenceLevel\" TEXT, \n",
      "\tpmids FLOAT\n",
      ")\n",
      "\n",
      "/*\n",
      "3 rows from transcription_units table:\n",
      "tuId\ttuName\toperonName\ttuGenes\tpmName\ttuEvidence\taddEvidence\tconfidenceLevel\tpmids\n",
      "RDBECOLITUC00080\tyjtD\tyjtD\tyjtD;\tNone\t[COMP-AINF:W]\tNone\tWEAK\tNone\n",
      "RDBECOLITUC00081\tyaaX\tyaaX\tyaaX;\tNone\t[COMP-AINF:W]\tNone\tWEAK\tNone\n",
      "RDBECOLITUC00082\tyaaA\tyaaA\tyaaA;\tNone\t[COMP-AINF:W]\tNone\tWEAK\tNone\n",
      "*/\u001b[0m\u001b[32;1m\u001b[1;3m\n",
      "Invoking: `sql_db_schema` with `{'table_names': 'evidences'}`\n",
      "\n",
      "\n",
      "\u001b[0m\u001b[33;1m\u001b[1;3m\n",
      "CREATE TABLE evidences (\n",
      "\tevidence_code TEXT, \n",
      "\tevidence_name TEXT, \n",
      "\tevidence_group FLOAT, \n",
      "\tconfidence_level TEXT, \n",
      "\tobject_type TEXT, \n",
      "\t\"evidence_category \" TEXT\n",
      ")\n",
      "\n",
      "/*\n",
      "3 rows from evidences table:\n",
      "evidence_code\tevidence_name\tevidence_group\tconfidence_level\tobject_type\tevidence_category \n",
      "EXP-IGI-FUNC-COMPLEMENTATION\tInferred by functional complementation\tNone\tSTRONG\tTranscription Factors\tClassical experiment \n",
      "EXP-IDA-UNPURIFIED-PROTEIN-NH\tAssay of unpurified protein expressed in its native host\tNone\tWEAK\tTranscription Factors\tClassical experiment \n",
      "EXP-CHIP-EXO-MANUAL\tChIP-exo evidence used in manual assertion\t4.0\tWEAK\tRegulatory Interactions\tHigh-throughput binding \n",
      "*/\u001b[0m\u001b[32;1m\u001b[1;3m\n",
      "Invoking: `sql_db_schema` with `{'table_names': 'gene_products'}`\n",
      "\n",
      "\n",
      "\u001b[0m\u001b[33;1m\u001b[1;3m\n",
      "CREATE TABLE gene_products (\n",
      "\t\"geneId\" TEXT, \n",
      "\t\"geneName\" TEXT, \n",
      "\tbnumber TEXT, \n",
      "\t\"leftEndPosition\" FLOAT, \n",
      "\t\"rightEndPosition\" FLOAT, \n",
      "\tstrand TEXT, \n",
      "\t\"productName\" TEXT, \n",
      "\t\"geneEvidences\" FLOAT, \n",
      "\t\"genePMIDS\" TEXT, \n",
      "\t\"confidenceLevel\" FLOAT, \n",
      "\t\"relatedBnumbers\" TEXT, \n",
      "\t\"otherDbsIds \" TEXT\n",
      ")\n",
      "\n",
      "/*\n",
      "3 rows from gene_products table:\n",
      "geneId\tgeneName\tbnumber\tleftEndPosition\trightEndPosition\tstrand\tproductName\tgeneEvidences\tgenePMIDS\tconfidenceLevel\trelatedBnumbers\totherDbsIds \n",
      "RDBECOLIGNC00001\talr\tb4053\t4265782.0\t4266861.0\tforward\talanine racemase 1\tNone\tNone\tNone\tNone\t[STRING:511145.b4053][ASAP:ABE-0013272][ECHOBASE:EB0001][OU-MICROARRAY:b4053][CGSC:1034][ECOCYC:EG10\n",
      "RDBECOLIGNC00002\tmodB\tb0764\t795862.0\t796551.0\tforward\tmolybdate ABC transporter membrane subunit\tNone\tNone\tNone\tNone\t[STRING:511145.b0764][ASAP:ABE-0002603][ECHOBASE:EB0002][OU-MICROARRAY:b0764][CGSC:18478][ECOCYC:EG1\n",
      "RDBECOLIGNC00003\tcysZ\tb2413\t2531463.0\t2532224.0\tforward\tsulfate:H<sup>+</sup> symporter\tNone\tNone\tNone\tNone\t[STRING:511145.b2413][ASAP:ABE-0007953][ECHOBASE:EB0003][OU-MICROARRAY:b2413][ECOCYC:EG10003][REFSEQ\n",
      "*/\u001b[0m\u001b[32;1m\u001b[1;3m\n",
      "Invoking: `sql_db_schema` with `{'table_names': 'operons'}`\n",
      "\n",
      "\n",
      "\u001b[0m\u001b[33;1m\u001b[1;3m\n",
      "CREATE TABLE operons (\n",
      "\t\"operonId\" TEXT, \n",
      "\t\"operonName\" TEXT, \n",
      "\t\"firstGeneLeftPosition\" BIGINT, \n",
      "\t\"lastGeneRightPosition\" BIGINT, \n",
      "\tstrand TEXT, \n",
      "\t\"numberOfGenes\" BIGINT, \n",
      "\t\"operonGenes\" TEXT, \n",
      "\t\"operonEvidence\" TEXT, \n",
      "\t\"confidenceLevel\" TEXT\n",
      ")\n",
      "\n",
      "/*\n",
      "3 rows from operons table:\n",
      "operonId\toperonName\tfirstGeneLeftPosition\tlastGeneRightPosition\tstrand\tnumberOfGenes\toperonGenes\toperonEvidence\tconfidenceLevel\n",
      "RDBECOLIOPC00001\tispDF\t2871301\t2872490\treverse\t2\tispD;ispF\t[COMP-HINF:W][IC-ADJ-GENES-SAME-BIO-PROCESS:W]\tWEAK\n",
      "RDBECOLIOPC00002\tserX\t1097565\t1097652\treverse\t1\tserX\t[EXP-IDA-BOUNDARIES-DEFINED:W]\tWEAK\n",
      "RDBECOLIOPC00003\tybjS\t905740\t906753\treverse\t1\tybjS\t[COMP-AINF:W]\tWEAK\n",
      "*/\u001b[0m\u001b[32;1m\u001b[1;3m\n",
      "Invoking: `sql_db_schema` with `{'table_names': 'promotores'}`\n",
      "\n",
      "\n",
      "\u001b[0m\u001b[33;1m\u001b[1;3m\n",
      "CREATE TABLE promotores (\n",
      "\t\"pmId\" TEXT, \n",
      "\t\"pmName\" TEXT, \n",
      "\tstrand TEXT, \n",
      "\t\"posTSS\" FLOAT, \n",
      "\t\"sigmaFactor\" TEXT, \n",
      "\t\"pmSequence\" TEXT, \n",
      "\t\"firstGeneName\" TEXT, \n",
      "\t\"distToFirstGene\" FLOAT, \n",
      "\t\"pmEvidence\" TEXT, \n",
      "\t\"addEvidence\" TEXT, \n",
      "\t\"confidenceLevel\" TEXT, \n",
      "\tpmids TEXT\n",
      ")\n",
      "\n",
      "/*\n",
      "3 rows from promotores table:\n",
      "pmId\tpmName\tstrand\tposTSS\tsigmaFactor\tpmSequence\tfirstGeneName\tdistToFirstGene\tpmEvidence\taddEvidence\tconfidenceLevel\tpmids\n",
      "RDBECOLIPMC00001\tspyp\treverse\t1825688.0\tsigma70\tacactttcattgttttaccgttgctctgattaattgacgctaaagtcagtaaagttaatcTcgtcaacacggcacgctact\tspy\t-63.0\t[COMP-AINF:W][COMP-HINF-POSITIONAL-IDENTIFICATION:W][EXP-IDA-TRANSCRIPTION-INIT-MAPPING:S]\tNone\tSTRONG\t14529615;16861804;9068658 \n",
      "RDBECOLIPMC00002\tyfeKp\tforward\t2537315.0\tsigma24\tccgatgatcctcatcgtaatccaaccgaaactttacctgattctggcagtcaaatcggctAtcacaaaacaaggataaggt\tyfeK\t-27.0\t[COMP-AINF:W][COMP-AINF-POSITIONAL-IDENTIFICATION:W][EXP-IDA-TRANSCRIPTION-INIT-MAPPING:S]\tNone\tSTRONG\t14529615;16336047 \n",
      "RDBECOLIPMC00003\tbepAp1\tforward\t2616068.0\tsigma24\tgccgttacactcaaaggcggcgcggtgggaacgatatttcacagtatcggtcaaatgactAtctccagaaatacaggatag\tbepA\t-26.0\t[COMP-AINF:W][COMP-AINF-POSITIONAL-IDENTIFICATION:W][EXP-IDA-TRANSCRIPTION-INIT-MAPPING:S]\tNone\tSTRONG\t14529615;16336047;31992590 \n",
      "*/\u001b[0m\u001b[32;1m\u001b[1;3m\n",
      "Invoking: `sql_db_schema` with `{'table_names': 'regulators'}`\n",
      "\n",
      "\n",
      "\u001b[0m\u001b[33;1m\u001b[1;3m\n",
      "CREATE TABLE regulators (\n",
      "\t\"regulatorId\" TEXT, \n",
      "\t\"regulatorName\" TEXT, \n",
      "\t\"regulatorSynonyms\" TEXT, \n",
      "\t\"regulatorType\" TEXT, \n",
      "\t\"geneCodingForRegulator\" TEXT, \n",
      "\t\"geneBnumberCodingForRegulator\" TEXT, \n",
      "\t\"regulatorActiveConformations\" TEXT, \n",
      "\t\"regulatorInactiveConformations\" TEXT, \n",
      "\t\"regulatorActiveConformationsSynonyms\" TEXT, \n",
      "\t\"regulatorInactiveConformationsSynonyms\" FLOAT, \n",
      "\t\"regulatorActiveConformationsEffector\" TEXT, \n",
      "\t\"regulatorInactiveConformationsEffector\" TEXT, \n",
      "\t\"regulatorActiveConformationsEffectorSynonyms\" TEXT, \n",
      "\t\"regulatorInactiveConformationsEffectorSynonyms\" TEXT, \n",
      "\tsymmetry TEXT, \n",
      "\t\"regulatorEvidences\" TEXT, \n",
      "\t\"additiveEvidences\" FLOAT, \n",
      "\t\"confidenceLevel\" TEXT, \n",
      "\t\"regulatorConformationPMID \" TEXT\n",
      ")\n",
      "\n",
      "/*\n",
      "3 rows from regulators table:\n",
      "regulatorId\tregulatorName\tregulatorSynonyms\tregulatorType\tgeneCodingForRegulator\tgeneBnumberCodingForRegulator\tregulatorActiveConformations\tregulatorInactiveConformations\tregulatorActiveConformationsSynonyms\tregulatorInactiveConformationsSynonyms\tregulatorActiveConformationsEffector\tregulatorInactiveConformationsEffector\tregulatorActiveConformationsEffectorSynonyms\tregulatorInactiveConformationsEffectorSynonyms\tsymmetry\tregulatorEvidences\tadditiveEvidences\tconfidenceLevel\tregulatorConformationPMID \n",
      "RDBECOLITFC00001\tExuR\tExuR;negative regulator of exu regulon, exuT, uxaAC, and uxuB\ttranscriptionFactor\texuR\tb3094\tExuR;ExuR-&alpha;-D-galacturonate, &alpha;-D-glucuronate-DNA-binding transcriptional repressor\tExuR-&alpha;-D-glucuronate\tExuR;negative regulator of exu regulon, exuT, uxaAC, and uxuB\tNone\t&alpha;-D-galacturonate\t&alpha;-D-glucuronate\t&alpha;-D-galacturonic acid\t&alpha;-D-glucuronic acid;&alpha;-D-glucopyranuronic acid\t|INVERTED-REPEAT|\t[EXP:W]\tNone\tWEAK\t6357945 \n",
      "RDBECOLITFC00002\tAsnC\tAsnC\ttranscriptionFactor\tasnC\tb3743\tDNA-binding transcriptional dual regulator AsnC\tAsnC-L-asparagine\tAsnC\tNone\tNone\tL-asparagine\tNone\tasparagine;&alpha;-aminosuccinamic acid;(-)-asparagine;(S)-2,4-diamino-4-oxobutanoic acid;(S)-aspara\t|INVERTED-REPEAT|\t[COMP-HINF-FN-FROM-SEQ:W][EXP-IEP:W][EXP-IPI:W]\tNone\tWEAK\t6357950; 7686882; 16528101; 2864330 \n",
      "RDBECOLITFC00003\tDan\tDan;TtdR;YgiP\ttranscriptionFactor\tttdR\tb3060\tDan-L-tartrate DNA-binding transcriptional activator\tNone\tNone\tNone\tL-tartrate\tNone\tweinsaeure;(+)-tartrate;tartrate;tartaric acid;(R,R)-tartrate;L-tartaric acid;L(+)-tartaric acid;(2R\tNone\tNone\t[COMP-HINF-FN-FROM-SEQ:W][EXP-IDA-PART-PURIFIED-PROTEIN-NH:W][EXP-IDA:W][IDA-PURIFIED-PROTEIN-NH:S][\tNone\tSTRONG\t19661178; 20156994 \n",
      "*/\u001b[0m\u001b[32;1m\u001b[1;3m\n",
      "Invoking: `sql_db_schema` with `{'table_names': 'regulatory_interactions'}`\n",
      "\n",
      "\n",
      "\u001b[0m\u001b[33;1m\u001b[1;3m\n",
      "CREATE TABLE regulatory_interactions (\n",
      "\t\"riId\" TEXT, \n",
      "\t\"riType\" TEXT, \n",
      "\t\"regulatorId(TranscriptionFactor)\" TEXT, \n",
      "\t\"regulatorName\" TEXT, \n",
      "\t\"regulatorActiveConformation(CNF)Name\" TEXT, \n",
      "\t\"regulatorRegulatorySite(tfrs)ID\" TEXT, \n",
      "\t\"tfrsLeftEndPosition\" FLOAT, \n",
      "\t\"tfrsRightEndPosition\" FLOAT, \n",
      "\tstrand TEXT, \n",
      "\t\"tfrsSequence\" TEXT, \n",
      "\t\"riFunction\" TEXT, \n",
      "\t\"promoterID\" TEXT, \n",
      "\t\"promoterName\" TEXT, \n",
      "\t\"transcriptionStartSite\" FLOAT, \n",
      "\t\"sigmaFactor\" TEXT, \n",
      "\t\"relativeDistanceFromCenterPositionOfTFRStoTSS\" FLOAT, \n",
      "\t\"firstGene\" TEXT, \n",
      "\t\"relativeDistanceFromCenterPositionOfTFRStoStartOfFirstGene\" FLOAT, \n",
      "\t\"transcriptionUnitOrGeneRegulatedByTF\" TEXT, \n",
      "\t\"confidenceLevel\" TEXT, \n",
      "\t\"tfrsEvidence\" TEXT, \n",
      "\t\"riEvidence\" TEXT, \n",
      "\t\"additiveEvidence\" TEXT, \n",
      "\t\"riEvidenceTech\" TEXT, \n",
      "\t\"riEvidenceCategory\" TEXT, \n",
      "\t\"tfrsPMIDS\" TEXT, \n",
      "\t\"riPMIDS\" TEXT\n",
      ")\n",
      "\n",
      "/*\n",
      "3 rows from regulatory_interactions table:\n",
      "riId\triType\tregulatorId(TranscriptionFactor)\tregulatorName\tregulatorActiveConformation(CNF)Name\tregulatorRegulatorySite(tfrs)ID\ttfrsLeftEndPosition\ttfrsRightEndPosition\tstrand\ttfrsSequence\triFunction\tpromoterID\tpromoterName\ttranscriptionStartSite\tsigmaFactor\trelativeDistanceFromCenterPositionOfTFRStoTSS\tfirstGene\trelativeDistanceFromCenterPositionOfTFRStoStartOfFirstGene\ttranscriptionUnitOrGeneRegulatedByTF\tconfidenceLevel\ttfrsEvidence\triEvidence\tadditiveEvidence\triEvidenceTech\triEvidenceCategory\ttfrsPMIDS\triPMIDS\n",
      "RDBECOLIRIC00001\ttf-promoter\tRDBECOLITFC00023\tGadW\tGadW\tRDBECOLIBSC01689\t3653866.0\t3653885.0\tforward\tatcagacaggTTTACGTTACTATCAGGCATatcacctcag\trepressor\tRDBECOLIPMC03419\tslpp\t3653936.0\tsigma70\t-60.5\tslp\t-85.5\tRDBECOLITUC03133:slp-dctR\tWEAK\tCOMP-AINF-SIMILAR-TO-CONSENSUS:W\tEXP-IEP-GENE-EXPRESSION-ANALYSIS:W\tNone\texpression|non-experimental\tClassical expression|non-experimental\t18808381\t12730179;18808381 \n",
      "RDBECOLIRIC00002\ttf-promoter\tRDBECOLITFC00023\tGadW\tGadW\tRDBECOLIBSC01690\t3656835.0\t3656854.0\treverse\ttgaaataaaaATATCTGATTTTGATATTTTccatcaacat\tactivator\tRDBECOLIPMC04032\thdeAp\t3656791.0\tsigma70\t-53.5\thdeA\t-104.5\tRDBECOLITUC03315:hdeAB-yhiD\tSTRONG\tCOMP-HINF-SIMILAR-TO-CONSENSUS:W;COMP-AINF-SIMILAR-TO-CONSENSUS:W;EXP-IDA-BINDING-OF-PURIFIED-PROTEI\tEXP-IEP-GENE-EXPRESSION-ANALYSIS:W\tNone\texpression|non-experimental|binding in vitro\tClassical expression|non-experimental|Classical binding\t18083817;18808381\t12730179;18083817;18808381 \n",
      "RDBECOLIRIC00003\ttf-promoter\tRDBECOLITFC00088\tGalR\tGalR-D-galactose\tRDBECOLIBSC01691\t3088004.0\t3088019.0\tforward\tatcatcacaaCTGAAACCGATTACACcaaccacaac\trepressor\tRDBECOLIPMC02833\tgalPp\t3088255.0\tsigma70\t-243.5\tgalP\t-272.5\tRDBECOLITUC02515:galP\tCONFIRMED\tCOMP-AINF-SIMILAR-TO-CONSENSUS:W;EXP-IDA-BINDING-OF-PURIFIED-PROTEINS:S;EXP-IMP-SITE-MUTATION:S\tNone\tAE(EXP-IMP-SITE-MUTATION/EXP-IDA-BINDING-OF-PURIFIED-PROTEINS):C\tnon-experimental|binding in vitro|binding in vivo or in vitro\tnon-experimental|Classical binding\t19007420\t19007420 \n",
      "*/\u001b[0m\u001b[32;1m\u001b[1;3m\n",
      "Invoking: `sql_db_schema` with `{'table_names': 'terminators'}`\n",
      "\n",
      "\n",
      "\u001b[0m\u001b[33;1m\u001b[1;3m\n",
      "CREATE TABLE terminators (\n",
      "\t\"terminatorId\" TEXT, \n",
      "\t\"leftEndPos\" BIGINT, \n",
      "\t\"rightEndPos\" BIGINT, \n",
      "\tstrand TEXT, \n",
      "\tsequence TEXT, \n",
      "\t\"relatedTus\" TEXT, \n",
      "\ttype TEXT, \n",
      "\t\"operonName\" TEXT, \n",
      "\tpmids TEXT\n",
      ")\n",
      "\n",
      "/*\n",
      "3 rows from terminators table:\n",
      "terminatorId\tleftEndPos\trightEndPos\tstrand\tsequence\trelatedTus\ttype\toperonName\tpmids\n",
      "RDBECOLITMC00001\t3407286\t3407302\tforward\tagcgtcaaaaGGCCGGATTTTCCGGCCttttttatta\taccBC:accBp2;accBC:accBp1\trho-independent\taccBC\t8226664\n",
      "RDBECOLITMC00002\t3418143\t3418177\tforward\tgataaatcagAAACATAAAGGCGCTTTCGGGTGCCTTTATTATTTccagtgaaac\tacrEF:acrEp\trho-independent\tacrEF\t1720861\n",
      "RDBECOLITMC00003\t4639539\t4639572\treverse\ttaccaccgtcAAAAAAAACGGCGCTTTTTAGCGCCGTTTTTATTtttcaacctt\tarcA:arcAp1;arcA:arcAp2;arcA:arcAp3;arcA:arcAp4;arcA:arcAp6;arcA:arcAp7;arcA:arcAp5\trho-independent\tarcA\t2984198\n",
      "*/\u001b[0m\u001b[32;1m\u001b[1;3m\n",
      "Invoking: `sql_db_schema` with `{'table_names': 'transcription_factors'}`\n",
      "\n",
      "\n",
      "\u001b[0m\u001b[33;1m\u001b[1;3m\n",
      "CREATE TABLE transcription_factors (\n",
      "\t\"tfId\" TEXT, \n",
      "\t\"tfName\" TEXT, \n",
      "\t\"tfSynonyms\" TEXT, \n",
      "\t\"geneCodingForTF\" TEXT, \n",
      "\t\"geneBnumberCodingForTF\" TEXT, \n",
      "\t\"tfActiveConformations\" TEXT, \n",
      "\t\"tfInactiveConformations\" TEXT, \n",
      "\t\"tfActiveConformationsSynonyms\" TEXT, \n",
      "\t\"tfInactiveConformationsSynonyms\" FLOAT, \n",
      "\t\"tfActiveConformationsEffector\" TEXT, \n",
      "\t\"tfInactiveConformationsEffector\" TEXT, \n",
      "\t\"tfActiveConformationsEffectorSynonyms\" TEXT, \n",
      "\t\"tfInactiveConformationsEffectorSynonyms\" TEXT, \n",
      "\tsymmetry TEXT, \n",
      "\t\"tfEvidences\" TEXT, \n",
      "\t\"additiveEvidences\" FLOAT, \n",
      "\t\"confidenceLevel\" TEXT, \n",
      "\t\"tfConformationPMID \" TEXT\n",
      ")\n",
      "\n",
      "/*\n",
      "3 rows from transcription_factors table:\n",
      "tfId\ttfName\ttfSynonyms\tgeneCodingForTF\tgeneBnumberCodingForTF\ttfActiveConformations\ttfInactiveConformations\ttfActiveConformationsSynonyms\ttfInactiveConformationsSynonyms\ttfActiveConformationsEffector\ttfInactiveConformationsEffector\ttfActiveConformationsEffectorSynonyms\ttfInactiveConformationsEffectorSynonyms\tsymmetry\ttfEvidences\tadditiveEvidences\tconfidenceLevel\ttfConformationPMID \n",
      "RDBECOLITFC00001\tExuR\tExuR;negative regulator of exu regulon, exuT, uxaAC, and uxuB\texuR\tb3094\tExuR;ExuR-&alpha;-D-galacturonate, &alpha;-D-glucuronate-DNA-binding transcriptional repressor\tExuR-&alpha;-D-glucuronate\tExuR;negative regulator of exu regulon, exuT, uxaAC, and uxuB\tNone\t&alpha;-D-galacturonate\t&alpha;-D-glucuronate\t&alpha;-D-galacturonic acid\t&alpha;-D-glucuronic acid;&alpha;-D-glucopyranuronic acid\t|INVERTED-REPEAT|\t[EXP:W]\tNone\tWEAK\t6357945 \n",
      "RDBECOLITFC00002\tAsnC\tAsnC\tasnC\tb3743\tDNA-binding transcriptional dual regulator AsnC\tAsnC-L-asparagine\tAsnC\tNone\tNone\tL-asparagine\tNone\tasparagine;&alpha;-aminosuccinamic acid;(-)-asparagine;(S)-2,4-diamino-4-oxobutanoic acid;(S)-aspara\t|INVERTED-REPEAT|\t[COMP-HINF-FN-FROM-SEQ:W][EXP-IEP:W][EXP-IPI:W]\tNone\tWEAK\t6357950; 7686882; 16528101; 2864330 \n",
      "RDBECOLITFC00003\tDan\tDan;TtdR;YgiP\tttdR\tb3060\tDan-L-tartrate DNA-binding transcriptional activator\tNone\tNone\tNone\tL-tartrate\tNone\tweinsaeure;(+)-tartrate;tartrate;tartaric acid;(R,R)-tartrate;L-tartaric acid;L(+)-tartaric acid;(2R\tNone\tNone\t[COMP-HINF-FN-FROM-SEQ:W][EXP-IDA-PART-PURIFIED-PROTEIN-NH:W][EXP-IDA:W][IDA-PURIFIED-PROTEIN-NH:S][\tNone\tSTRONG\t19661178; 20156994 \n",
      "*/\u001b[0m\u001b[32;1m\u001b[1;3m\n",
      "Invoking: `sql_db_schema` with `{'table_names': 'transcription_units'}`\n",
      "\n",
      "\n",
      "\u001b[0m\u001b[33;1m\u001b[1;3m\n",
      "CREATE TABLE transcription_units (\n",
      "\t\"tuId\" TEXT, \n",
      "\t\"tuName\" TEXT, \n",
      "\t\"operonName\" TEXT, \n",
      "\t\"tuGenes\" TEXT, \n",
      "\t\"pmName\" TEXT, \n",
      "\t\"tuEvidence\" TEXT, \n",
      "\t\"addEvidence\" TEXT, \n",
      "\t\"confidenceLevel\" TEXT, \n",
      "\tpmids FLOAT\n",
      ")\n",
      "\n",
      "/*\n",
      "3 rows from transcription_units table:\n",
      "tuId\ttuName\toperonName\ttuGenes\tpmName\ttuEvidence\taddEvidence\tconfidenceLevel\tpmids\n",
      "RDBECOLITUC00080\tyjtD\tyjtD\tyjtD;\tNone\t[COMP-AINF:W]\tNone\tWEAK\tNone\n",
      "RDBECOLITUC00081\tyaaX\tyaaX\tyaaX;\tNone\t[COMP-AINF:W]\tNone\tWEAK\tNone\n",
      "RDBECOLITUC00082\tyaaA\tyaaA\tyaaA;\tNone\t[COMP-AINF:W]\tNone\tWEAK\tNone\n",
      "*/\u001b[0m\u001b[32;1m\u001b[1;3mI have retrieved the schemas for the tables in the database. Here’s a summary of the tables:\n",
      "\n",
      "1. **evidences**: Contains information about different types of evidence.\n",
      "2. **gene_products**: Details about gene products including gene IDs, names, positions, and confidence levels.\n",
      "3. **operons**: Information on operons including their IDs, names, and gene positions.\n",
      "4. **promotores**: Contains promoter details including their IDs, sequences, and associated genes.\n",
      "5. **regulators**: Information on regulatory factors including their names, types, and associated genes.\n",
      "6. **regulatory_interactions**: Details of interactions between regulators and target genes/promoters.\n",
      "7. **terminators**: Information on terminators including their sequences and related operons.\n",
      "8. **transcription_factors**: Details about transcription factors including their active and inactive conformations.\n",
      "9. **transcription_units**: Information on transcription units including their names and evidences.\n",
      "\n",
      "Since your question is vague (\"son todos?\"), could you please clarify what specific information you would like to know or which table you are interested in?\u001b[0m\n",
      "\n",
      "\u001b[1m> Finished chain.\u001b[0m\n"
     ]
    },
    {
     "data": {
      "text/plain": [
       "{'input': 'son todos?',\n",
       " 'output': 'I have retrieved the schemas for the tables in the database. Here’s a summary of the tables:\\n\\n1. **evidences**: Contains information about different types of evidence.\\n2. **gene_products**: Details about gene products including gene IDs, names, positions, and confidence levels.\\n3. **operons**: Information on operons including their IDs, names, and gene positions.\\n4. **promotores**: Contains promoter details including their IDs, sequences, and associated genes.\\n5. **regulators**: Information on regulatory factors including their names, types, and associated genes.\\n6. **regulatory_interactions**: Details of interactions between regulators and target genes/promoters.\\n7. **terminators**: Information on terminators including their sequences and related operons.\\n8. **transcription_factors**: Details about transcription factors including their active and inactive conformations.\\n9. **transcription_units**: Information on transcription units including their names and evidences.\\n\\nSince your question is vague (\"son todos?\"), could you please clarify what specific information you would like to know or which table you are interested in?'}"
      ]
     },
     "execution_count": 7,
     "metadata": {},
     "output_type": "execute_result"
    }
   ],
   "source": [
    "agent_executor.invoke({\"input\": \"son todos?\"})"
   ]
  },
  {
   "cell_type": "code",
   "execution_count": 8,
   "metadata": {},
   "outputs": [
    {
     "name": "stdout",
     "output_type": "stream",
     "text": [
      "\n",
      "\n",
      "\u001b[1m> Entering new SQL Agent Executor chain...\u001b[0m\n",
      "\u001b[32;1m\u001b[1;3m\n",
      "Invoking: `sql_db_list_tables` with `{}`\n",
      "\n",
      "\n",
      "\u001b[0m\u001b[38;5;200m\u001b[1;3mevidences, gene_products, operons, promotores, regulators, regulatory_interactions, terminators, transcription_factors, transcription_units\u001b[0m\u001b[32;1m\u001b[1;3m\n",
      "Invoking: `sql_db_schema` with `{'table_names': 'promotores'}`\n",
      "\n",
      "\n",
      "\u001b[0m\u001b[33;1m\u001b[1;3m\n",
      "CREATE TABLE promotores (\n",
      "\t\"pmId\" TEXT, \n",
      "\t\"pmName\" TEXT, \n",
      "\tstrand TEXT, \n",
      "\t\"posTSS\" FLOAT, \n",
      "\t\"sigmaFactor\" TEXT, \n",
      "\t\"pmSequence\" TEXT, \n",
      "\t\"firstGeneName\" TEXT, \n",
      "\t\"distToFirstGene\" FLOAT, \n",
      "\t\"pmEvidence\" TEXT, \n",
      "\t\"addEvidence\" TEXT, \n",
      "\t\"confidenceLevel\" TEXT, \n",
      "\tpmids TEXT\n",
      ")\n",
      "\n",
      "/*\n",
      "3 rows from promotores table:\n",
      "pmId\tpmName\tstrand\tposTSS\tsigmaFactor\tpmSequence\tfirstGeneName\tdistToFirstGene\tpmEvidence\taddEvidence\tconfidenceLevel\tpmids\n",
      "RDBECOLIPMC00001\tspyp\treverse\t1825688.0\tsigma70\tacactttcattgttttaccgttgctctgattaattgacgctaaagtcagtaaagttaatcTcgtcaacacggcacgctact\tspy\t-63.0\t[COMP-AINF:W][COMP-HINF-POSITIONAL-IDENTIFICATION:W][EXP-IDA-TRANSCRIPTION-INIT-MAPPING:S]\tNone\tSTRONG\t14529615;16861804;9068658 \n",
      "RDBECOLIPMC00002\tyfeKp\tforward\t2537315.0\tsigma24\tccgatgatcctcatcgtaatccaaccgaaactttacctgattctggcagtcaaatcggctAtcacaaaacaaggataaggt\tyfeK\t-27.0\t[COMP-AINF:W][COMP-AINF-POSITIONAL-IDENTIFICATION:W][EXP-IDA-TRANSCRIPTION-INIT-MAPPING:S]\tNone\tSTRONG\t14529615;16336047 \n",
      "RDBECOLIPMC00003\tbepAp1\tforward\t2616068.0\tsigma24\tgccgttacactcaaaggcggcgcggtgggaacgatatttcacagtatcggtcaaatgactAtctccagaaatacaggatag\tbepA\t-26.0\t[COMP-AINF:W][COMP-AINF-POSITIONAL-IDENTIFICATION:W][EXP-IDA-TRANSCRIPTION-INIT-MAPPING:S]\tNone\tSTRONG\t14529615;16336047;31992590 \n",
      "*/\u001b[0m\u001b[32;1m\u001b[1;3m\n",
      "Invoking: `sql_db_schema` with `{'table_names': 'transcription_factors'}`\n",
      "\n",
      "\n",
      "\u001b[0m\u001b[33;1m\u001b[1;3m\n",
      "CREATE TABLE transcription_factors (\n",
      "\t\"tfId\" TEXT, \n",
      "\t\"tfName\" TEXT, \n",
      "\t\"tfSynonyms\" TEXT, \n",
      "\t\"geneCodingForTF\" TEXT, \n",
      "\t\"geneBnumberCodingForTF\" TEXT, \n",
      "\t\"tfActiveConformations\" TEXT, \n",
      "\t\"tfInactiveConformations\" TEXT, \n",
      "\t\"tfActiveConformationsSynonyms\" TEXT, \n",
      "\t\"tfInactiveConformationsSynonyms\" FLOAT, \n",
      "\t\"tfActiveConformationsEffector\" TEXT, \n",
      "\t\"tfInactiveConformationsEffector\" TEXT, \n",
      "\t\"tfActiveConformationsEffectorSynonyms\" TEXT, \n",
      "\t\"tfInactiveConformationsEffectorSynonyms\" TEXT, \n",
      "\tsymmetry TEXT, \n",
      "\t\"tfEvidences\" TEXT, \n",
      "\t\"additiveEvidences\" FLOAT, \n",
      "\t\"confidenceLevel\" TEXT, \n",
      "\t\"tfConformationPMID \" TEXT\n",
      ")\n",
      "\n",
      "/*\n",
      "3 rows from transcription_factors table:\n",
      "tfId\ttfName\ttfSynonyms\tgeneCodingForTF\tgeneBnumberCodingForTF\ttfActiveConformations\ttfInactiveConformations\ttfActiveConformationsSynonyms\ttfInactiveConformationsSynonyms\ttfActiveConformationsEffector\ttfInactiveConformationsEffector\ttfActiveConformationsEffectorSynonyms\ttfInactiveConformationsEffectorSynonyms\tsymmetry\ttfEvidences\tadditiveEvidences\tconfidenceLevel\ttfConformationPMID \n",
      "RDBECOLITFC00001\tExuR\tExuR;negative regulator of exu regulon, exuT, uxaAC, and uxuB\texuR\tb3094\tExuR;ExuR-&alpha;-D-galacturonate, &alpha;-D-glucuronate-DNA-binding transcriptional repressor\tExuR-&alpha;-D-glucuronate\tExuR;negative regulator of exu regulon, exuT, uxaAC, and uxuB\tNone\t&alpha;-D-galacturonate\t&alpha;-D-glucuronate\t&alpha;-D-galacturonic acid\t&alpha;-D-glucuronic acid;&alpha;-D-glucopyranuronic acid\t|INVERTED-REPEAT|\t[EXP:W]\tNone\tWEAK\t6357945 \n",
      "RDBECOLITFC00002\tAsnC\tAsnC\tasnC\tb3743\tDNA-binding transcriptional dual regulator AsnC\tAsnC-L-asparagine\tAsnC\tNone\tNone\tL-asparagine\tNone\tasparagine;&alpha;-aminosuccinamic acid;(-)-asparagine;(S)-2,4-diamino-4-oxobutanoic acid;(S)-aspara\t|INVERTED-REPEAT|\t[COMP-HINF-FN-FROM-SEQ:W][EXP-IEP:W][EXP-IPI:W]\tNone\tWEAK\t6357950; 7686882; 16528101; 2864330 \n",
      "RDBECOLITFC00003\tDan\tDan;TtdR;YgiP\tttdR\tb3060\tDan-L-tartrate DNA-binding transcriptional activator\tNone\tNone\tNone\tL-tartrate\tNone\tweinsaeure;(+)-tartrate;tartrate;tartaric acid;(R,R)-tartrate;L-tartaric acid;L(+)-tartaric acid;(2R\tNone\tNone\t[COMP-HINF-FN-FROM-SEQ:W][EXP-IDA-PART-PURIFIED-PROTEIN-NH:W][EXP-IDA:W][IDA-PURIFIED-PROTEIN-NH:S][\tNone\tSTRONG\t19661178; 20156994 \n",
      "*/\u001b[0m\u001b[32;1m\u001b[1;3m\n",
      "Invoking: `sql_db_query_checker` with `{'query': \"SELECT pmId, pmName FROM promotores WHERE pmName = 'yahEp'\"}`\n",
      "\n",
      "\n",
      "\u001b[0m\u001b[36;1m\u001b[1;3m```sql\n",
      "SELECT pmId, pmName FROM promotores WHERE pmName = 'yahEp'\n",
      "```\u001b[0m\u001b[32;1m\u001b[1;3m\n",
      "Invoking: `sql_db_query` with `{'query': \"SELECT pmId, pmName FROM promotores WHERE pmName = 'yahEp'\"}`\n",
      "\n",
      "\n",
      "\u001b[0m\u001b[36;1m\u001b[1;3m[('RDBECOLIPMC00324', 'yahEp')]\u001b[0m\u001b[32;1m\u001b[1;3mLa referencia del promotor \"yahEp\" es **RDBECOLIPMC00324**.\u001b[0m\n",
      "\n",
      "\u001b[1m> Finished chain.\u001b[0m\n"
     ]
    },
    {
     "data": {
      "text/plain": [
       "{'input': 'cual es la referencia del promotor yahEp',\n",
       " 'output': 'La referencia del promotor \"yahEp\" es **RDBECOLIPMC00324**.'}"
      ]
     },
     "execution_count": 8,
     "metadata": {},
     "output_type": "execute_result"
    }
   ],
   "source": [
    "answer = agent_executor.invoke({\"input\": \"cual es la referencia del promotor yahEp\"})\n",
    "answer"
   ]
  },
  {
   "cell_type": "code",
   "execution_count": 60,
   "metadata": {},
   "outputs": [
    {
     "name": "stdout",
     "output_type": "stream",
     "text": [
      "\n",
      "\n",
      "\u001b[1m> Entering new SQL Agent Executor chain...\u001b[0m\n",
      "\u001b[32;1m\u001b[1;3m\n",
      "Invoking: `sql_db_list_tables` with `{}`\n",
      "\n",
      "\n",
      "\u001b[0m\u001b[38;5;200m\u001b[1;3mevidences, promotores, regulatory_interactions, terminators, transcription_units\u001b[0m\u001b[32;1m\u001b[1;3m\n",
      "Invoking: `sql_db_schema` with `{'table_names': 'promotores'}`\n",
      "\n",
      "\n",
      "\u001b[0m\u001b[33;1m\u001b[1;3m\n",
      "CREATE TABLE promotores (\n",
      "\t\"pmId\" TEXT, \n",
      "\t\"pmName\" TEXT, \n",
      "\tstrand TEXT, \n",
      "\t\"posTSS\" FLOAT, \n",
      "\t\"sigmaFactor\" TEXT, \n",
      "\t\"pmSequence\" TEXT, \n",
      "\t\"firstGeneName\" TEXT, \n",
      "\t\"distToFirstGene\" FLOAT, \n",
      "\t\"pmEvidence\" TEXT, \n",
      "\t\"addEvidence\" TEXT, \n",
      "\t\"confidenceLevel\" TEXT, \n",
      "\tpmids TEXT\n",
      ")\n",
      "\n",
      "/*\n",
      "3 rows from promotores table:\n",
      "pmId\tpmName\tstrand\tposTSS\tsigmaFactor\tpmSequence\tfirstGeneName\tdistToFirstGene\tpmEvidence\taddEvidence\tconfidenceLevel\tpmids\n",
      "RDBECOLIPMC00001\tspyp\treverse\t1825688.0\tsigma70\tacactttcattgttttaccgttgctctgattaattgacgctaaagtcagtaaagttaatcTcgtcaacacggcacgctact\tspy\t-63.0\t[COMP-AINF:W][COMP-HINF-POSITIONAL-IDENTIFICATION:W][EXP-IDA-TRANSCRIPTION-INIT-MAPPING:S]\tNone\tSTRONG\t14529615;16861804;9068658 \n",
      "RDBECOLIPMC00002\tyfeKp\tforward\t2537315.0\tsigma24\tccgatgatcctcatcgtaatccaaccgaaactttacctgattctggcagtcaaatcggctAtcacaaaacaaggataaggt\tyfeK\t-27.0\t[COMP-AINF:W][COMP-AINF-POSITIONAL-IDENTIFICATION:W][EXP-IDA-TRANSCRIPTION-INIT-MAPPING:S]\tNone\tSTRONG\t14529615;16336047 \n",
      "RDBECOLIPMC00003\tbepAp1\tforward\t2616068.0\tsigma24\tgccgttacactcaaaggcggcgcggtgggaacgatatttcacagtatcggtcaaatgactAtctccagaaatacaggatag\tbepA\t-26.0\t[COMP-AINF:W][COMP-AINF-POSITIONAL-IDENTIFICATION:W][EXP-IDA-TRANSCRIPTION-INIT-MAPPING:S]\tNone\tSTRONG\t14529615;16336047;31992590 \n",
      "*/\u001b[0m\u001b[32;1m\u001b[1;3m\n",
      "Invoking: `sql_db_schema` with `{'table_names': 'regulatory_interactions'}`\n",
      "\n",
      "\n",
      "\u001b[0m\u001b[33;1m\u001b[1;3m\n",
      "CREATE TABLE regulatory_interactions (\n",
      "\t\"riId\" TEXT, \n",
      "\t\"riType\" TEXT, \n",
      "\t\"regulatorId(TranscriptionFactor)\" TEXT, \n",
      "\t\"regulatorName\" TEXT, \n",
      "\t\"regulatorActiveConformation(CNF)Name\" TEXT, \n",
      "\t\"regulatorRegulatorySite(tfrs)ID\" TEXT, \n",
      "\t\"tfrsLeftEndPosition\" FLOAT, \n",
      "\t\"tfrsRightEndPosition\" FLOAT, \n",
      "\tstrand TEXT, \n",
      "\t\"tfrsSequence\" TEXT, \n",
      "\t\"riFunction\" TEXT, \n",
      "\t\"promoterID\" TEXT, \n",
      "\t\"promoterName\" TEXT, \n",
      "\t\"transcriptionStartSite\" FLOAT, \n",
      "\t\"sigmaFactor\" TEXT, \n",
      "\t\"relativeDistanceFromCenterPositionOfTFRStoTSS\" FLOAT, \n",
      "\t\"firstGene\" TEXT, \n",
      "\t\"relativeDistanceFromCenterPositionOfTFRStoStartOfFirstGene\" FLOAT, \n",
      "\t\"transcriptionUnitOrGeneRegulatedByTF\" TEXT, \n",
      "\t\"confidenceLevel\" TEXT, \n",
      "\t\"tfrsEvidence\" TEXT, \n",
      "\t\"riEvidence\" TEXT, \n",
      "\t\"additiveEvidence\" TEXT, \n",
      "\t\"riEvidenceTech\" TEXT, \n",
      "\t\"riEvidenceCategory\" TEXT, \n",
      "\t\"tfrsPMIDS\" TEXT, \n",
      "\t\"riPMIDS\" TEXT\n",
      ")\n",
      "\n",
      "/*\n",
      "3 rows from regulatory_interactions table:\n",
      "riId\triType\tregulatorId(TranscriptionFactor)\tregulatorName\tregulatorActiveConformation(CNF)Name\tregulatorRegulatorySite(tfrs)ID\ttfrsLeftEndPosition\ttfrsRightEndPosition\tstrand\ttfrsSequence\triFunction\tpromoterID\tpromoterName\ttranscriptionStartSite\tsigmaFactor\trelativeDistanceFromCenterPositionOfTFRStoTSS\tfirstGene\trelativeDistanceFromCenterPositionOfTFRStoStartOfFirstGene\ttranscriptionUnitOrGeneRegulatedByTF\tconfidenceLevel\ttfrsEvidence\triEvidence\tadditiveEvidence\triEvidenceTech\triEvidenceCategory\ttfrsPMIDS\triPMIDS\n",
      "RDBECOLIRIC00001\ttf-promoter\tRDBECOLITFC00023\tGadW\tGadW\tRDBECOLIBSC01689\t3653866.0\t3653885.0\tforward\tatcagacaggTTTACGTTACTATCAGGCATatcacctcag\trepressor\tRDBECOLIPMC03419\tslpp\t3653936.0\tsigma70\t-60.5\tslp\t-85.5\tRDBECOLITUC03133:slp-dctR\tWEAK\tCOMP-AINF-SIMILAR-TO-CONSENSUS:W\tEXP-IEP-GENE-EXPRESSION-ANALYSIS:W\tNone\texpression|non-experimental\tClassical expression|non-experimental\t18808381\t12730179;18808381 \n",
      "RDBECOLIRIC00002\ttf-promoter\tRDBECOLITFC00023\tGadW\tGadW\tRDBECOLIBSC01690\t3656835.0\t3656854.0\treverse\ttgaaataaaaATATCTGATTTTGATATTTTccatcaacat\tactivator\tRDBECOLIPMC04032\thdeAp\t3656791.0\tsigma70\t-53.5\thdeA\t-104.5\tRDBECOLITUC03315:hdeAB-yhiD\tSTRONG\tCOMP-HINF-SIMILAR-TO-CONSENSUS:W;COMP-AINF-SIMILAR-TO-CONSENSUS:W;EXP-IDA-BINDING-OF-PURIFIED-PROTEI\tEXP-IEP-GENE-EXPRESSION-ANALYSIS:W\tNone\texpression|non-experimental|binding in vitro\tClassical expression|non-experimental|Classical binding\t18083817;18808381\t12730179;18083817;18808381 \n",
      "RDBECOLIRIC00003\ttf-promoter\tRDBECOLITFC00088\tGalR\tGalR-D-galactose\tRDBECOLIBSC01691\t3088004.0\t3088019.0\tforward\tatcatcacaaCTGAAACCGATTACACcaaccacaac\trepressor\tRDBECOLIPMC02833\tgalPp\t3088255.0\tsigma70\t-243.5\tgalP\t-272.5\tRDBECOLITUC02515:galP\tCONFIRMED\tCOMP-AINF-SIMILAR-TO-CONSENSUS:W;EXP-IDA-BINDING-OF-PURIFIED-PROTEINS:S;EXP-IMP-SITE-MUTATION:S\tNone\tAE(EXP-IMP-SITE-MUTATION/EXP-IDA-BINDING-OF-PURIFIED-PROTEINS):C\tnon-experimental|binding in vitro|binding in vivo or in vitro\tnon-experimental|Classical binding\t19007420\t19007420 \n",
      "*/\u001b[0m\u001b[32;1m\u001b[1;3m\n",
      "Invoking: `sql_db_query_checker` with `{'query': \"SELECT pmSequence FROM promotores WHERE pmId IN (SELECT promoterID FROM regulatory_interactions WHERE riId = 'RDBECOLIRIC00001')\"}`\n",
      "\n",
      "\n",
      "\u001b[0m\u001b[36;1m\u001b[1;3m```sql\n",
      "SELECT pmSequence FROM promotores WHERE pmId IN (SELECT promoterID FROM regulatory_interactions WHERE riId = 'RDBECOLIRIC00001')\n",
      "```\u001b[0m\u001b[32;1m\u001b[1;3m\n",
      "Invoking: `sql_db_query` with `{'query': \"SELECT pmSequence FROM promotores WHERE pmId IN (SELECT promoterID FROM regulatory_interactions WHERE riId = 'RDBECOLIRIC00001')\"}`\n",
      "\n",
      "\n",
      "\u001b[0m\u001b[36;1m\u001b[1;3m[('tatcaggcatatcacctcagaatcagatgaaaactataaagaaatatctattatggttttAatatttgttgataaggatag',)]\u001b[0m\u001b[32;1m\u001b[1;3mLa secuencia del promotor relacionado con el ID del regulador de interacción RDBECOLIRIC00001 es: \n",
      "\n",
      "**tatcaggcatatcacctcagaatcagatgaaaactataaagaaatatctattatggttttAatatttgttgataaggatag**.\u001b[0m\n",
      "\n",
      "\u001b[1m> Finished chain.\u001b[0m\n"
     ]
    }
   ],
   "source": [
    "answer = agent_executor.invoke({\"input\": \"cual es la secuencia del promotor que esta relacionado con el id del ri RDBECOLIRIC00001?\"})"
   ]
  },
  {
   "cell_type": "code",
   "execution_count": 61,
   "metadata": {},
   "outputs": [
    {
     "name": "stdout",
     "output_type": "stream",
     "text": [
      "La secuencia del promotor relacionado con el ID del regulador de interacción RDBECOLIRIC00001 es: \n",
      "\n",
      "**tatcaggcatatcacctcagaatcagatgaaaactataaagaaatatctattatggttttAatatttgttgataaggatag**.\n"
     ]
    }
   ],
   "source": [
    "print(answer[\"output\"])"
   ]
  },
  {
   "cell_type": "code",
   "execution_count": 6,
   "metadata": {},
   "outputs": [
    {
     "name": "stdout",
     "output_type": "stream",
     "text": [
      "\n",
      "\n",
      "\u001b[1m> Entering new SQL Agent Executor chain...\u001b[0m\n",
      "\u001b[32;1m\u001b[1;3m\n",
      "Invoking: `sql_db_list_tables` with `{}`\n",
      "\n",
      "\n",
      "\u001b[0m\u001b[38;5;200m\u001b[1;3mpromotores, transcription_units\u001b[0m\u001b[32;1m\u001b[1;3m\n",
      "Invoking: `sql_db_schema` with `{'table_names': 'promotores'}`\n",
      "\n",
      "\n",
      "\u001b[0m\u001b[33;1m\u001b[1;3m\n",
      "CREATE TABLE promotores (\n",
      "\t\"pmId\" TEXT, \n",
      "\t\"pmName\" TEXT, \n",
      "\tstrand TEXT, \n",
      "\t\"posTSS\" FLOAT, \n",
      "\t\"sigmaFactor\" TEXT, \n",
      "\t\"pmSequence\" TEXT, \n",
      "\t\"firstGeneName\" TEXT, \n",
      "\t\"distToFirstGene\" FLOAT, \n",
      "\t\"pmEvidence\" TEXT, \n",
      "\t\"addEvidence\" TEXT, \n",
      "\t\"confidenceLevel\" TEXT, \n",
      "\t\"pmids \" TEXT\n",
      ")\n",
      "\n",
      "/*\n",
      "3 rows from promotores table:\n",
      "pmId\tpmName\tstrand\tposTSS\tsigmaFactor\tpmSequence\tfirstGeneName\tdistToFirstGene\tpmEvidence\taddEvidence\tconfidenceLevel\tpmids \n",
      "RDBECOLIPMC00001\tspyp\treverse\t1825688.0\tsigma70\tacactttcattgttttaccgttgctctgattaattgacgctaaagtcagtaaagttaatcTcgtcaacacggcacgctact\tspy\t-63.0\t[COMP-AINF:W][COMP-HINF-POSITIONAL-IDENTIFICATION:W][EXP-IDA-TRANSCRIPTION-INIT-MAPPING:S]\tNone\tS\t14529615;16861804;9068658 \n",
      "RDBECOLIPMC00002\tyfeKp\tforward\t2537315.0\tsigma24\tccgatgatcctcatcgtaatccaaccgaaactttacctgattctggcagtcaaatcggctAtcacaaaacaaggataaggt\tyfeK\t-27.0\t[COMP-AINF:W][COMP-AINF-POSITIONAL-IDENTIFICATION:W][EXP-IDA-TRANSCRIPTION-INIT-MAPPING:S]\tNone\tS\t14529615;16336047 \n",
      "RDBECOLIPMC00003\tbepAp1\tforward\t2616068.0\tsigma24\tgccgttacactcaaaggcggcgcggtgggaacgatatttcacagtatcggtcaaatgactAtctccagaaatacaggatag\tbepA\t-26.0\t[COMP-AINF:W][COMP-AINF-POSITIONAL-IDENTIFICATION:W][EXP-IDA-TRANSCRIPTION-INIT-MAPPING:S]\tNone\tS\t14529615;16336047;31992590 \n",
      "*/\u001b[0m\u001b[32;1m\u001b[1;3m\n",
      "Invoking: `sql_db_schema` with `{'table_names': 'transcription_units'}`\n",
      "\n",
      "\n",
      "\u001b[0m\u001b[33;1m\u001b[1;3m\n",
      "CREATE TABLE transcription_units (\n",
      "\t\"tuId\" TEXT, \n",
      "\t\"tuName\" TEXT, \n",
      "\t\"operonName\" TEXT, \n",
      "\t\"tuGenes\" TEXT, \n",
      "\t\"pmName\" TEXT, \n",
      "\t\"tuEvidence\" TEXT, \n",
      "\t\"addEvidence\" TEXT, \n",
      "\t\"confidenceLevel   pmids \" TEXT\n",
      ")\n",
      "\n",
      "/*\n",
      "3 rows from transcription_units table:\n",
      "tuId\ttuName\toperonName\ttuGenes\tpmName\ttuEvidence\taddEvidence\tconfidenceLevel   pmids \n",
      "RDBECOLITUC00080\tyjtD\tyjtD\tyjtD;\tNone\t[COMP-AINF:W]\tNone\tW\n",
      "RDBECOLITUC00081\tyaaX\tyaaX\tyaaX;\tNone\t[COMP-AINF:W]\tNone\tW\n",
      "RDBECOLITUC00082\tyaaA\tyaaA\tyaaA;\tNone\t[COMP-AINF:W]\tNone\tW\n",
      "*/\u001b[0m\u001b[32;1m\u001b[1;3m\n",
      "Invoking: `sql_db_query_checker` with `{'query': \"SELECT tuId, tuName, pmName, tuEvidence \\nFROM transcription_units \\nWHERE tuName = 'araE-ygeA';\"}`\n",
      "responded: The relevant tables are `promotores` and `transcription_units`. \n",
      "\n",
      "The `transcription_units` table contains columns that may help identify the evidence for a specific transcription unit (TU), including `tuId`, `tuName`, `pmName`, and `tuEvidence`. \n",
      "\n",
      "Now, I will query for the evidence related to the TU with the name \"araE-ygeA\". I will select the relevant columns: `tuId`, `tuName`, `pmName`, and `tuEvidence`. \n",
      "\n",
      "Let's prepare the query. The transcription unit name appears to be \"araE-ygeA\".\n",
      "\n",
      "Here's the query I'll execute:\n",
      "```sql\n",
      "SELECT tuId, tuName, pmName, tuEvidence \n",
      "FROM transcription_units \n",
      "WHERE tuName = 'araE-ygeA';\n",
      "```\n",
      "\n",
      "Now, I will check this query for correctness before executing it.\n",
      "\n",
      "\u001b[0m\u001b[36;1m\u001b[1;3m```sql\n",
      "SELECT tuId, tuName, pmName, tuEvidence \n",
      "FROM transcription_units \n",
      "WHERE tuName = 'araE-ygeA';\n",
      "```\u001b[0m\u001b[32;1m\u001b[1;3m\n",
      "Invoking: `sql_db_query` with `{'query': \"SELECT tuId, tuName, pmName, tuEvidence \\nFROM transcription_units \\nWHERE tuName = 'araE-ygeA';\"}`\n",
      "\n",
      "\n",
      "\u001b[0m\u001b[36;1m\u001b[1;3m[('RDBECOLITUC02057', 'araE-ygeA', 'araEp', '[EXP-IDA-TRANSCRIPT-LEN-DETERMINATION:S]')]\u001b[0m\u001b[32;1m\u001b[1;3mThe evidence for the transcription unit (TU) \"araE-ygeA\" is as follows:\n",
      "\n",
      "- **TU ID**: RDBECOLITUC02057\n",
      "- **TU Name**: araE-ygeA\n",
      "- **Promoter Name**: araEp\n",
      "- **Evidence**: [EXP-IDA-TRANSCRIPT-LEN-DETERMINATION:S]\n",
      "\n",
      "This indicates that the evidence is based on experimental data related to transcript length determination.\u001b[0m\n",
      "\n",
      "\u001b[1m> Finished chain.\u001b[0m\n",
      "The evidence for the transcription unit (TU) \"araE-ygeA\" is as follows:\n",
      "\n",
      "- **TU ID**: RDBECOLITUC02057\n",
      "- **TU Name**: araE-ygeA\n",
      "- **Promoter Name**: araEp\n",
      "- **Evidence**: [EXP-IDA-TRANSCRIPT-LEN-DETERMINATION:S]\n",
      "\n",
      "This indicates that the evidence is based on experimental data related to transcript length determination.\n"
     ]
    }
   ],
   "source": [
    "answer = agent_executor.invoke({\"input\": \"Cuales son las evidencias de la TU araE-ygeA?\"})"
   ]
  },
  {
   "cell_type": "code",
   "execution_count": 7,
   "metadata": {},
   "outputs": [
    {
     "name": "stdout",
     "output_type": "stream",
     "text": [
      "The evidence for the transcription unit (TU) \"araE-ygeA\" is as follows:\n",
      "\n",
      "- **TU ID**: RDBECOLITUC02057\n",
      "- **TU Name**: araE-ygeA\n",
      "- **Promoter Name**: araEp\n",
      "- **Evidence**: [EXP-IDA-TRANSCRIPT-LEN-DETERMINATION:S]\n",
      "\n",
      "This indicates that the evidence is based on experimental data related to transcript length determination.\n"
     ]
    }
   ],
   "source": [
    "print(answer[\"output\"])"
   ]
  },
  {
   "cell_type": "markdown",
   "metadata": {},
   "source": [
    "# create_sql_query_chain"
   ]
  },
  {
   "cell_type": "markdown",
   "metadata": {},
   "source": [
    "### setup"
   ]
  },
  {
   "cell_type": "code",
   "execution_count": 1,
   "metadata": {},
   "outputs": [
    {
     "name": "stdout",
     "output_type": "stream",
     "text": [
      "sqlite\n",
      "['evidences', 'gene_products', 'operons', 'promotores', 'regulators', 'regulatory_interactions', 'terminators', 'transcription_factors', 'transcription_units']\n"
     ]
    },
    {
     "data": {
      "text/plain": [
       "\"[('RDBECOLIPMC00001', 'spyp', 'reverse', 1825688.0, 'sigma70', 'acactttcattgttttaccgttgctctgattaattgacgctaaagtcagtaaagttaatcTcgtcaacacggcacgctact', 'spy', -63.0, '[COMP-AINF:W][COMP-HINF-POSITIONAL-IDENTIFICATION:W][EXP-IDA-TRANSCRIPTION-INIT-MAPPING:S]', None, 'STRONG', '14529615;16861804;9068658 '), ('RDBECOLIPMC00002', 'yfeKp', 'forward', 2537315.0, 'sigma24', 'ccgatgatcctcatcgtaatccaaccgaaactttacctgattctggcagtcaaatcggctAtcacaaaacaaggataaggt', 'yfeK', -27.0, '[COMP-AINF:W][COMP-AINF-POSITIONAL-IDENTIFICATION:W][EXP-IDA-TRANSCRIPTION-INIT-MAPPING:S]', None, 'STRONG', '14529615;16336047 '), ('RDBECOLIPMC00003', 'bepAp1', 'forward', 2616068.0, 'sigma24', 'gccgttacactcaaaggcggcgcggtgggaacgatatttcacagtatcggtcaaatgactAtctccagaaatacaggatag', 'bepA', -26.0, '[COMP-AINF:W][COMP-AINF-POSITIONAL-IDENTIFICATION:W][EXP-IDA-TRANSCRIPTION-INIT-MAPPING:S]', None, 'STRONG', '14529615;16336047;31992590 '), ('RDBECOLIPMC00004', 'bamBp', 'reverse', 2638975.0, 'sigma24', 'aaatacttatggtgcgctggcttctttggaacttgcgcagcaatttgttgacaaaaatgaActagagaaagctgccgccca', 'bamB', -323.0, '[COMP-AINF:W][COMP-AINF-POSITIONAL-IDENTIFICATION:W][EXP-IDA-TRANSCRIPTION-INIT-MAPPING:S]', None, 'STRONG', '14529615;16336047 '), ('RDBECOLIPMC00005', 'recCp', 'reverse', 2962507.0, 'sigma70', 'tgccaactggcaggtcaaccgaatgcagacatcgcaggcgggatgtgtcagcatcagcgtTacgctagtttcacccggggg', 'recC', -79.0, '[COMP-HINF-POSITIONAL-IDENTIFICATION:W][EXP-IDA-TRANSCRIPTION-INIT-MAPPING:S]', None, 'STRONG', '3520484 '), ('RDBECOLIPMC00006', 'infAp2', 'reverse', 926479.0, 'sigma70', 'tttgttgcgatttagcgcgcaaatctttacttatttacagaacttcggcattatcttgccGgttcaaattacggtagtgat', 'infA', -36.0, '[COMP-AINF:W][EXP-IDA-TRANSCRIPTION-INIT-MAPPING:S][COMP-AINF-POSITIONAL-IDENTIFICATION:W]', None, 'STRONG', '14529615;16405963;1909328 '), ('RDBECOLIPMC00007', 'infAp1', 'reverse', 926685.0, 'sigma70', 'ttttcaccacaagaatgaatgttttcggcacatttctccccagagtgttataattgcggtCgcagagttggttacgctcat', 'infA', -242.0, '[COMP-AINF:W][EXP-IDA-TRANSCRIPTION-INIT-MAPPING:S][COMP-AINF-POSITIONAL-IDENTIFICATION:W]', None, 'STRONG', '14529615;16405963;1909328 '), ('RDBECOLIPMC00008', 'bamDp2', 'forward', 2735961.0, 'sigma24', 'ttttattcgcgaacgtgaataatccgggaacatttcggccaaagcctgatctaagcgttgAccgagttggttttcggacac', 'bamD', -185.0, '[COMP-AINF:W][COMP-AINF-POSITIONAL-IDENTIFICATION:W][EXP-IDA-TRANSCRIPTION-INIT-MAPPING:S]', None, 'STRONG', '14529615;16336047;31992590 '), ('RDBECOLIPMC00009', 'dsbCp2', 'reverse', 3039633.0, 'sigma24', 'ggaaaaaaatctggctgaaaatacgttgaacgcttaccgtcgcgatctgtcaatgatggtGgagtggttgcatcaccgcgg', 'dsbC', -811.0, '[COMP-AINF:W][COMP-AINF-POSITIONAL-IDENTIFICATION:W][EXP-IDA-TRANSCRIPTION-INIT-MAPPING:S]', None, 'STRONG', '14529615;16336047;31992590 '), ('RDBECOLIPMC00010', 'ygiMp2', 'forward', 3201042.0, 'sigma24', 'ttatgtcacataagtgacgatgaacggcgaacttaatgcgatcttttttgtcagtagataGtattttgcgccaaattgcca', 'ygiM', -165.0, '[COMP-AINF:W][COMP-AINF-POSITIONAL-IDENTIFICATION:W][EXP-IDA-TRANSCRIPTION-INIT-MAPPING:S]', None, 'STRONG', '14529615;16336047 ')]\""
      ]
     },
     "execution_count": 1,
     "metadata": {},
     "output_type": "execute_result"
    }
   ],
   "source": [
    "from langchain_community.utilities import SQLDatabase\n",
    "# from sqlalchemy import create_engine\n",
    "\n",
    "db = SQLDatabase.from_uri(\"sqlite:///../regulon.db\")\n",
    "# db = SQLDatabase(engine=engine)\n",
    "print(db.dialect)\n",
    "print(db.get_usable_table_names())\n",
    "db.run(\"SELECT * FROM promotores LIMIT 10;\")"
   ]
  },
  {
   "cell_type": "markdown",
   "metadata": {},
   "source": [
    "### Chains"
   ]
  },
  {
   "cell_type": "code",
   "execution_count": 2,
   "metadata": {},
   "outputs": [],
   "source": [
    "from dotenv import load_dotenv\n",
    "\n",
    "load_dotenv()\n",
    "from langchain_openai import ChatOpenAI\n",
    "\n",
    "llm = ChatOpenAI(model=\"gpt-4o-mini\")"
   ]
  },
  {
   "cell_type": "code",
   "execution_count": 49,
   "metadata": {},
   "outputs": [],
   "source": [
    "from langchain.prompts import PromptTemplate\n",
    "\n",
    "custom_sql_prompt = PromptTemplate(\n",
    "    input_variables=[\"input\", \"table_info\", \"top_k\"],\n",
    "    template=\"\"\"\n",
    "You are a SQLite expert. Given an input question, first create a syntactically correct SQLite query to run, then look at the results of the query and return the answer to the input question.\n",
    "Unless the user specifies in the question a specific number of examples to obtain, query for `LIMIT {top_k}` results using the LIMIT clause as per SQLite. You can order the results to return the most informative data in the database.\n",
    "Never query for all columns from a table. You must query only the columns that are needed to answer the question. Wrap each column name in double quotes (\") to denote them as delimited identifiers.\n",
    "Pay attention to use only the column names you can see in the tables below. Be careful to not query for columns that do not exist. Also, pay attention to which column is in which table.\n",
    "Do not include explanations, comments, or code formatting such as “```sql” or \"```SQLQuery: \" or \"```sql\\nSQLQuery: \".\n",
    "\n",
    "Use the following format:\n",
    "\n",
    "Question: Question here\n",
    "SQLQuery: SQL Query to run\n",
    "SQLResult: Result of the SQLQuery\n",
    "Answer: Final answer here\n",
    "\n",
    "Only use the following tables:\n",
    "{table_info}\n",
    "\n",
    "Question: {input}\n",
    "\"\"\"\n",
    ")\n"
   ]
  },
  {
   "cell_type": "code",
   "execution_count": 50,
   "metadata": {},
   "outputs": [
    {
     "data": {
      "text/plain": [
       "'Question: ¿Cuál es la evidencia del promotor araJ?\\nSQLQuery: SELECT \"pmEvidence\" FROM promotores WHERE \"pmName\" = \\'araJ\\' LIMIT 5'"
      ]
     },
     "execution_count": 50,
     "metadata": {},
     "output_type": "execute_result"
    }
   ],
   "source": [
    "from langchain.chains import create_sql_query_chain\n",
    "\n",
    "chain = create_sql_query_chain(llm, db, prompt=custom_sql_prompt)\n",
    "response = chain.invoke({\"question\": \"¿Cuál es la evidencia del promotor araJ?\"})\n",
    "response"
   ]
  },
  {
   "cell_type": "code",
   "execution_count": 48,
   "metadata": {},
   "outputs": [
    {
     "name": "stdout",
     "output_type": "stream",
     "text": [
      "You are a SQLite expert. Given an input question, first create a syntactically correct SQLite query to run, then look at the results of the query and return the answer to the input question.\n",
      "Unless the user specifies in the question a specific number of examples to obtain, query for at most 5 results using the LIMIT clause as per SQLite. You can order the results to return the most informative data in the database.\n",
      "Never query for all columns from a table. You must query only the columns that are needed to answer the question. Wrap each column name in double quotes (\") to denote them as delimited identifiers.\n",
      "Pay attention to use only the column names you can see in the tables below. Be careful to not query for columns that do not exist. Also, pay attention to which column is in which table.\n",
      "Pay attention to use date('now') function to get the current date, if the question involves \"today\".\n",
      "\n",
      "Use the following format:\n",
      "\n",
      "Question: Question here\n",
      "SQLQuery: SQL Query to run\n",
      "SQLResult: Result of the SQLQuery\n",
      "Answer: Final answer here\n",
      "\n",
      "Only use the following tables:\n",
      "\u001b[33;1m\u001b[1;3m{table_info}\u001b[0m\n",
      "\n",
      "Question: \u001b[33;1m\u001b[1;3m{input}\u001b[0m\n"
     ]
    }
   ],
   "source": [
    "chain.get_prompts()[0].pretty_print()"
   ]
  },
  {
   "cell_type": "code",
   "execution_count": 44,
   "metadata": {},
   "outputs": [
    {
     "ename": "OperationalError",
     "evalue": "(sqlite3.OperationalError) near \"```sql\nSELECT \"pmId\", \"pmName\", \"pmEvidence\", \"confidenceLevel\" \nFROM promotores \nWHERE \"firstGeneName\" = 'araJ' \nLIMIT 5;\n```\": syntax error\n[SQL: ```sql\nSELECT \"pmId\", \"pmName\", \"pmEvidence\", \"confidenceLevel\" \nFROM promotores \nWHERE \"firstGeneName\" = 'araJ' \nLIMIT 5;\n```]\n(Background on this error at: https://sqlalche.me/e/20/e3q8)",
     "output_type": "error",
     "traceback": [
      "\u001b[1;31m---------------------------------------------------------------------------\u001b[0m",
      "\u001b[1;31mOperationalError\u001b[0m                          Traceback (most recent call last)",
      "File \u001b[1;32mc:\\Users\\VALENCIA\\Documents\\cursos\\curso-langchain-qa-documents\\.venv\\Lib\\site-packages\\sqlalchemy\\engine\\base.py:1967\u001b[0m, in \u001b[0;36mConnection._exec_single_context\u001b[1;34m(self, dialect, context, statement, parameters)\u001b[0m\n\u001b[0;32m   1966\u001b[0m     \u001b[39mif\u001b[39;00m \u001b[39mnot\u001b[39;00m evt_handled:\n\u001b[1;32m-> 1967\u001b[0m         \u001b[39mself\u001b[39;49m\u001b[39m.\u001b[39;49mdialect\u001b[39m.\u001b[39;49mdo_execute(\n\u001b[0;32m   1968\u001b[0m             cursor, str_statement, effective_parameters, context\n\u001b[0;32m   1969\u001b[0m         )\n\u001b[0;32m   1971\u001b[0m \u001b[39mif\u001b[39;00m \u001b[39mself\u001b[39m\u001b[39m.\u001b[39m_has_events \u001b[39mor\u001b[39;00m \u001b[39mself\u001b[39m\u001b[39m.\u001b[39mengine\u001b[39m.\u001b[39m_has_events:\n",
      "File \u001b[1;32mc:\\Users\\VALENCIA\\Documents\\cursos\\curso-langchain-qa-documents\\.venv\\Lib\\site-packages\\sqlalchemy\\engine\\default.py:941\u001b[0m, in \u001b[0;36mDefaultDialect.do_execute\u001b[1;34m(self, cursor, statement, parameters, context)\u001b[0m\n\u001b[0;32m    940\u001b[0m \u001b[39mdef\u001b[39;00m \u001b[39mdo_execute\u001b[39m(\u001b[39mself\u001b[39m, cursor, statement, parameters, context\u001b[39m=\u001b[39m\u001b[39mNone\u001b[39;00m):\n\u001b[1;32m--> 941\u001b[0m     cursor\u001b[39m.\u001b[39mexecute(statement, parameters)\n",
      "\u001b[1;31mOperationalError\u001b[0m: near \"```sql\nSELECT \"pmId\", \"pmName\", \"pmEvidence\", \"confidenceLevel\" \nFROM promotores \nWHERE \"firstGeneName\" = 'araJ' \nLIMIT 5;\n```\": syntax error",
      "\nThe above exception was the direct cause of the following exception:\n",
      "\u001b[1;31mOperationalError\u001b[0m                          Traceback (most recent call last)",
      "\u001b[1;32mc:\\Users\\VALENCIA\\Documents\\cursos\\curso-langchain-qa-documents\\notebooks\\agente_sql.ipynb Cell 71\u001b[0m line \u001b[0;36m1\n\u001b[1;32m----> <a href='vscode-notebook-cell:/c%3A/Users/VALENCIA/Documents/cursos/curso-langchain-qa-documents/notebooks/agente_sql.ipynb#Y161sZmlsZQ%3D%3D?line=0'>1</a>\u001b[0m db\u001b[39m.\u001b[39;49mrun(response)\n",
      "File \u001b[1;32mc:\\Users\\VALENCIA\\Documents\\cursos\\curso-langchain-qa-documents\\.venv\\Lib\\site-packages\\langchain_community\\utilities\\sql_database.py:502\u001b[0m, in \u001b[0;36mSQLDatabase.run\u001b[1;34m(self, command, fetch, include_columns, parameters, execution_options)\u001b[0m\n\u001b[0;32m    488\u001b[0m \u001b[39mdef\u001b[39;00m \u001b[39mrun\u001b[39m(\n\u001b[0;32m    489\u001b[0m     \u001b[39mself\u001b[39m,\n\u001b[0;32m    490\u001b[0m     command: Union[\u001b[39mstr\u001b[39m, Executable],\n\u001b[1;32m   (...)\u001b[0m\n\u001b[0;32m    495\u001b[0m     execution_options: Optional[Dict[\u001b[39mstr\u001b[39m, Any]] \u001b[39m=\u001b[39m \u001b[39mNone\u001b[39;00m,\n\u001b[0;32m    496\u001b[0m ) \u001b[39m-\u001b[39m\u001b[39m>\u001b[39m Union[\u001b[39mstr\u001b[39m, Sequence[Dict[\u001b[39mstr\u001b[39m, Any]], Result[Any]]:\n\u001b[0;32m    497\u001b[0m \u001b[39m    \u001b[39m\u001b[39m\"\"\"Execute a SQL command and return a string representing the results.\u001b[39;00m\n\u001b[0;32m    498\u001b[0m \n\u001b[0;32m    499\u001b[0m \u001b[39m    If the statement returns rows, a string of the results is returned.\u001b[39;00m\n\u001b[0;32m    500\u001b[0m \u001b[39m    If the statement returns no rows, an empty string is returned.\u001b[39;00m\n\u001b[0;32m    501\u001b[0m \u001b[39m    \"\"\"\u001b[39;00m\n\u001b[1;32m--> 502\u001b[0m     result \u001b[39m=\u001b[39m \u001b[39mself\u001b[39;49m\u001b[39m.\u001b[39;49m_execute(\n\u001b[0;32m    503\u001b[0m         command, fetch, parameters\u001b[39m=\u001b[39;49mparameters, execution_options\u001b[39m=\u001b[39;49mexecution_options\n\u001b[0;32m    504\u001b[0m     )\n\u001b[0;32m    506\u001b[0m     \u001b[39mif\u001b[39;00m fetch \u001b[39m==\u001b[39m \u001b[39m\"\u001b[39m\u001b[39mcursor\u001b[39m\u001b[39m\"\u001b[39m:\n\u001b[0;32m    507\u001b[0m         \u001b[39mreturn\u001b[39;00m result\n",
      "File \u001b[1;32mc:\\Users\\VALENCIA\\Documents\\cursos\\curso-langchain-qa-documents\\.venv\\Lib\\site-packages\\langchain_community\\utilities\\sql_database.py:467\u001b[0m, in \u001b[0;36mSQLDatabase._execute\u001b[1;34m(self, command, fetch, parameters, execution_options)\u001b[0m\n\u001b[0;32m    465\u001b[0m \u001b[39melse\u001b[39;00m:\n\u001b[0;32m    466\u001b[0m     \u001b[39mraise\u001b[39;00m \u001b[39mTypeError\u001b[39;00m(\u001b[39mf\u001b[39m\u001b[39m\"\u001b[39m\u001b[39mQuery expression has unknown type: \u001b[39m\u001b[39m{\u001b[39;00m\u001b[39mtype\u001b[39m(command)\u001b[39m}\u001b[39;00m\u001b[39m\"\u001b[39m)\n\u001b[1;32m--> 467\u001b[0m cursor \u001b[39m=\u001b[39m connection\u001b[39m.\u001b[39;49mexecute(\n\u001b[0;32m    468\u001b[0m     command,\n\u001b[0;32m    469\u001b[0m     parameters,\n\u001b[0;32m    470\u001b[0m     execution_options\u001b[39m=\u001b[39;49mexecution_options,\n\u001b[0;32m    471\u001b[0m )\n\u001b[0;32m    473\u001b[0m \u001b[39mif\u001b[39;00m cursor\u001b[39m.\u001b[39mreturns_rows:\n\u001b[0;32m    474\u001b[0m     \u001b[39mif\u001b[39;00m fetch \u001b[39m==\u001b[39m \u001b[39m\"\u001b[39m\u001b[39mall\u001b[39m\u001b[39m\"\u001b[39m:\n",
      "File \u001b[1;32mc:\\Users\\VALENCIA\\Documents\\cursos\\curso-langchain-qa-documents\\.venv\\Lib\\site-packages\\sqlalchemy\\engine\\base.py:1418\u001b[0m, in \u001b[0;36mConnection.execute\u001b[1;34m(self, statement, parameters, execution_options)\u001b[0m\n\u001b[0;32m   1416\u001b[0m     \u001b[39mraise\u001b[39;00m exc\u001b[39m.\u001b[39mObjectNotExecutableError(statement) \u001b[39mfrom\u001b[39;00m \u001b[39merr\u001b[39;00m\n\u001b[0;32m   1417\u001b[0m \u001b[39melse\u001b[39;00m:\n\u001b[1;32m-> 1418\u001b[0m     \u001b[39mreturn\u001b[39;00m meth(\n\u001b[0;32m   1419\u001b[0m         \u001b[39mself\u001b[39;49m,\n\u001b[0;32m   1420\u001b[0m         distilled_parameters,\n\u001b[0;32m   1421\u001b[0m         execution_options \u001b[39mor\u001b[39;49;00m NO_OPTIONS,\n\u001b[0;32m   1422\u001b[0m     )\n",
      "File \u001b[1;32mc:\\Users\\VALENCIA\\Documents\\cursos\\curso-langchain-qa-documents\\.venv\\Lib\\site-packages\\sqlalchemy\\sql\\elements.py:515\u001b[0m, in \u001b[0;36mClauseElement._execute_on_connection\u001b[1;34m(self, connection, distilled_params, execution_options)\u001b[0m\n\u001b[0;32m    513\u001b[0m     \u001b[39mif\u001b[39;00m TYPE_CHECKING:\n\u001b[0;32m    514\u001b[0m         \u001b[39massert\u001b[39;00m \u001b[39misinstance\u001b[39m(\u001b[39mself\u001b[39m, Executable)\n\u001b[1;32m--> 515\u001b[0m     \u001b[39mreturn\u001b[39;00m connection\u001b[39m.\u001b[39;49m_execute_clauseelement(\n\u001b[0;32m    516\u001b[0m         \u001b[39mself\u001b[39;49m, distilled_params, execution_options\n\u001b[0;32m    517\u001b[0m     )\n\u001b[0;32m    518\u001b[0m \u001b[39melse\u001b[39;00m:\n\u001b[0;32m    519\u001b[0m     \u001b[39mraise\u001b[39;00m exc\u001b[39m.\u001b[39mObjectNotExecutableError(\u001b[39mself\u001b[39m)\n",
      "File \u001b[1;32mc:\\Users\\VALENCIA\\Documents\\cursos\\curso-langchain-qa-documents\\.venv\\Lib\\site-packages\\sqlalchemy\\engine\\base.py:1640\u001b[0m, in \u001b[0;36mConnection._execute_clauseelement\u001b[1;34m(self, elem, distilled_parameters, execution_options)\u001b[0m\n\u001b[0;32m   1628\u001b[0m compiled_cache: Optional[CompiledCacheType] \u001b[39m=\u001b[39m execution_options\u001b[39m.\u001b[39mget(\n\u001b[0;32m   1629\u001b[0m     \u001b[39m\"\u001b[39m\u001b[39mcompiled_cache\u001b[39m\u001b[39m\"\u001b[39m, \u001b[39mself\u001b[39m\u001b[39m.\u001b[39mengine\u001b[39m.\u001b[39m_compiled_cache\n\u001b[0;32m   1630\u001b[0m )\n\u001b[0;32m   1632\u001b[0m compiled_sql, extracted_params, cache_hit \u001b[39m=\u001b[39m elem\u001b[39m.\u001b[39m_compile_w_cache(\n\u001b[0;32m   1633\u001b[0m     dialect\u001b[39m=\u001b[39mdialect,\n\u001b[0;32m   1634\u001b[0m     compiled_cache\u001b[39m=\u001b[39mcompiled_cache,\n\u001b[1;32m   (...)\u001b[0m\n\u001b[0;32m   1638\u001b[0m     linting\u001b[39m=\u001b[39m\u001b[39mself\u001b[39m\u001b[39m.\u001b[39mdialect\u001b[39m.\u001b[39mcompiler_linting \u001b[39m|\u001b[39m compiler\u001b[39m.\u001b[39mWARN_LINTING,\n\u001b[0;32m   1639\u001b[0m )\n\u001b[1;32m-> 1640\u001b[0m ret \u001b[39m=\u001b[39m \u001b[39mself\u001b[39;49m\u001b[39m.\u001b[39;49m_execute_context(\n\u001b[0;32m   1641\u001b[0m     dialect,\n\u001b[0;32m   1642\u001b[0m     dialect\u001b[39m.\u001b[39;49mexecution_ctx_cls\u001b[39m.\u001b[39;49m_init_compiled,\n\u001b[0;32m   1643\u001b[0m     compiled_sql,\n\u001b[0;32m   1644\u001b[0m     distilled_parameters,\n\u001b[0;32m   1645\u001b[0m     execution_options,\n\u001b[0;32m   1646\u001b[0m     compiled_sql,\n\u001b[0;32m   1647\u001b[0m     distilled_parameters,\n\u001b[0;32m   1648\u001b[0m     elem,\n\u001b[0;32m   1649\u001b[0m     extracted_params,\n\u001b[0;32m   1650\u001b[0m     cache_hit\u001b[39m=\u001b[39;49mcache_hit,\n\u001b[0;32m   1651\u001b[0m )\n\u001b[0;32m   1652\u001b[0m \u001b[39mif\u001b[39;00m has_events:\n\u001b[0;32m   1653\u001b[0m     \u001b[39mself\u001b[39m\u001b[39m.\u001b[39mdispatch\u001b[39m.\u001b[39mafter_execute(\n\u001b[0;32m   1654\u001b[0m         \u001b[39mself\u001b[39m,\n\u001b[0;32m   1655\u001b[0m         elem,\n\u001b[1;32m   (...)\u001b[0m\n\u001b[0;32m   1659\u001b[0m         ret,\n\u001b[0;32m   1660\u001b[0m     )\n",
      "File \u001b[1;32mc:\\Users\\VALENCIA\\Documents\\cursos\\curso-langchain-qa-documents\\.venv\\Lib\\site-packages\\sqlalchemy\\engine\\base.py:1846\u001b[0m, in \u001b[0;36mConnection._execute_context\u001b[1;34m(self, dialect, constructor, statement, parameters, execution_options, *args, **kw)\u001b[0m\n\u001b[0;32m   1844\u001b[0m     \u001b[39mreturn\u001b[39;00m \u001b[39mself\u001b[39m\u001b[39m.\u001b[39m_exec_insertmany_context(dialect, context)\n\u001b[0;32m   1845\u001b[0m \u001b[39melse\u001b[39;00m:\n\u001b[1;32m-> 1846\u001b[0m     \u001b[39mreturn\u001b[39;00m \u001b[39mself\u001b[39;49m\u001b[39m.\u001b[39;49m_exec_single_context(\n\u001b[0;32m   1847\u001b[0m         dialect, context, statement, parameters\n\u001b[0;32m   1848\u001b[0m     )\n",
      "File \u001b[1;32mc:\\Users\\VALENCIA\\Documents\\cursos\\curso-langchain-qa-documents\\.venv\\Lib\\site-packages\\sqlalchemy\\engine\\base.py:1986\u001b[0m, in \u001b[0;36mConnection._exec_single_context\u001b[1;34m(self, dialect, context, statement, parameters)\u001b[0m\n\u001b[0;32m   1983\u001b[0m     result \u001b[39m=\u001b[39m context\u001b[39m.\u001b[39m_setup_result_proxy()\n\u001b[0;32m   1985\u001b[0m \u001b[39mexcept\u001b[39;00m \u001b[39mBaseException\u001b[39;00m \u001b[39mas\u001b[39;00m e:\n\u001b[1;32m-> 1986\u001b[0m     \u001b[39mself\u001b[39;49m\u001b[39m.\u001b[39;49m_handle_dbapi_exception(\n\u001b[0;32m   1987\u001b[0m         e, str_statement, effective_parameters, cursor, context\n\u001b[0;32m   1988\u001b[0m     )\n\u001b[0;32m   1990\u001b[0m \u001b[39mreturn\u001b[39;00m result\n",
      "File \u001b[1;32mc:\\Users\\VALENCIA\\Documents\\cursos\\curso-langchain-qa-documents\\.venv\\Lib\\site-packages\\sqlalchemy\\engine\\base.py:2355\u001b[0m, in \u001b[0;36mConnection._handle_dbapi_exception\u001b[1;34m(self, e, statement, parameters, cursor, context, is_sub_exec)\u001b[0m\n\u001b[0;32m   2353\u001b[0m \u001b[39melif\u001b[39;00m should_wrap:\n\u001b[0;32m   2354\u001b[0m     \u001b[39massert\u001b[39;00m sqlalchemy_exception \u001b[39mis\u001b[39;00m \u001b[39mnot\u001b[39;00m \u001b[39mNone\u001b[39;00m\n\u001b[1;32m-> 2355\u001b[0m     \u001b[39mraise\u001b[39;00m sqlalchemy_exception\u001b[39m.\u001b[39mwith_traceback(exc_info[\u001b[39m2\u001b[39m]) \u001b[39mfrom\u001b[39;00m \u001b[39me\u001b[39;00m\n\u001b[0;32m   2356\u001b[0m \u001b[39melse\u001b[39;00m:\n\u001b[0;32m   2357\u001b[0m     \u001b[39massert\u001b[39;00m exc_info[\u001b[39m1\u001b[39m] \u001b[39mis\u001b[39;00m \u001b[39mnot\u001b[39;00m \u001b[39mNone\u001b[39;00m\n",
      "File \u001b[1;32mc:\\Users\\VALENCIA\\Documents\\cursos\\curso-langchain-qa-documents\\.venv\\Lib\\site-packages\\sqlalchemy\\engine\\base.py:1967\u001b[0m, in \u001b[0;36mConnection._exec_single_context\u001b[1;34m(self, dialect, context, statement, parameters)\u001b[0m\n\u001b[0;32m   1965\u001b[0m                 \u001b[39mbreak\u001b[39;00m\n\u001b[0;32m   1966\u001b[0m     \u001b[39mif\u001b[39;00m \u001b[39mnot\u001b[39;00m evt_handled:\n\u001b[1;32m-> 1967\u001b[0m         \u001b[39mself\u001b[39;49m\u001b[39m.\u001b[39;49mdialect\u001b[39m.\u001b[39;49mdo_execute(\n\u001b[0;32m   1968\u001b[0m             cursor, str_statement, effective_parameters, context\n\u001b[0;32m   1969\u001b[0m         )\n\u001b[0;32m   1971\u001b[0m \u001b[39mif\u001b[39;00m \u001b[39mself\u001b[39m\u001b[39m.\u001b[39m_has_events \u001b[39mor\u001b[39;00m \u001b[39mself\u001b[39m\u001b[39m.\u001b[39mengine\u001b[39m.\u001b[39m_has_events:\n\u001b[0;32m   1972\u001b[0m     \u001b[39mself\u001b[39m\u001b[39m.\u001b[39mdispatch\u001b[39m.\u001b[39mafter_cursor_execute(\n\u001b[0;32m   1973\u001b[0m         \u001b[39mself\u001b[39m,\n\u001b[0;32m   1974\u001b[0m         cursor,\n\u001b[1;32m   (...)\u001b[0m\n\u001b[0;32m   1978\u001b[0m         context\u001b[39m.\u001b[39mexecutemany,\n\u001b[0;32m   1979\u001b[0m     )\n",
      "File \u001b[1;32mc:\\Users\\VALENCIA\\Documents\\cursos\\curso-langchain-qa-documents\\.venv\\Lib\\site-packages\\sqlalchemy\\engine\\default.py:941\u001b[0m, in \u001b[0;36mDefaultDialect.do_execute\u001b[1;34m(self, cursor, statement, parameters, context)\u001b[0m\n\u001b[0;32m    940\u001b[0m \u001b[39mdef\u001b[39;00m \u001b[39mdo_execute\u001b[39m(\u001b[39mself\u001b[39m, cursor, statement, parameters, context\u001b[39m=\u001b[39m\u001b[39mNone\u001b[39;00m):\n\u001b[1;32m--> 941\u001b[0m     cursor\u001b[39m.\u001b[39mexecute(statement, parameters)\n",
      "\u001b[1;31mOperationalError\u001b[0m: (sqlite3.OperationalError) near \"```sql\nSELECT \"pmId\", \"pmName\", \"pmEvidence\", \"confidenceLevel\" \nFROM promotores \nWHERE \"firstGeneName\" = 'araJ' \nLIMIT 5;\n```\": syntax error\n[SQL: ```sql\nSELECT \"pmId\", \"pmName\", \"pmEvidence\", \"confidenceLevel\" \nFROM promotores \nWHERE \"firstGeneName\" = 'araJ' \nLIMIT 5;\n```]\n(Background on this error at: https://sqlalche.me/e/20/e3q8)"
     ]
    }
   ],
   "source": [
    "db.run(response)"
   ]
  },
  {
   "cell_type": "code",
   "execution_count": 39,
   "metadata": {},
   "outputs": [
    {
     "name": "stdout",
     "output_type": "stream",
     "text": [
      "You are a SQLite expert. Given an input question, first create a syntactically correct SQLite query to run, then look at the results of the query and return the answer to the input question.\n",
      "Unless the user specifies in the question a specific number of examples to obtain, query for at most 5 results using the LIMIT clause as per SQLite. You can order the results to return the most informative data in the database.\n",
      "Never query for all columns from a table. You must query only the columns that are needed to answer the question. Wrap each column name in double quotes (\") to denote them as delimited identifiers.\n",
      "Pay attention to use only the column names you can see in the tables below. Be careful to not query for columns that do not exist. Also, pay attention to which column is in which table.\n",
      "Pay attention to use date('now') function to get the current date, if the question involves \"today\".\n",
      "\n",
      "Use the following format:\n",
      "\n",
      "Question: Question here\n",
      "SQLQuery: SQL Query to run\n",
      "SQLResult: Result of the SQLQuery\n",
      "Answer: Final answer here\n",
      "\n",
      "Only use the following tables:\n",
      "\u001b[33;1m\u001b[1;3m{table_info}\u001b[0m\n",
      "\n",
      "Question: \u001b[33;1m\u001b[1;3m{input}\u001b[0m\n"
     ]
    }
   ],
   "source": [
    "chain.get_prompts()[0].pretty_print()"
   ]
  },
  {
   "cell_type": "markdown",
   "metadata": {},
   "source": [
    "#### Execute SQL query"
   ]
  },
  {
   "cell_type": "code",
   "execution_count": 41,
   "metadata": {},
   "outputs": [
    {
     "name": "stdout",
     "output_type": "stream",
     "text": [
      "first=RunnableAssign(mapper={\n",
      "  input: RunnableLambda(...),\n",
      "  table_info: RunnableLambda(...)\n",
      "}) middle=[RunnableLambda(lambda x: {k: v for k, v in x.items() if k not in ('question', 'table_names_to_use')}), PromptTemplate(input_variables=['input', 'table_info'], input_types={}, partial_variables={'top_k': '5'}, template='You are a SQLite expert. Given an input question, first create a syntactically correct SQLite query to run, then look at the results of the query and return the answer to the input question.\\nUnless the user specifies in the question a specific number of examples to obtain, query for at most {top_k} results using the LIMIT clause as per SQLite. You can order the results to return the most informative data in the database.\\nNever query for all columns from a table. You must query only the columns that are needed to answer the question. Wrap each column name in double quotes (\") to denote them as delimited identifiers.\\nPay attention to use only the column names you can see in the tables below. Be careful to not query for columns that do not exist. Also, pay attention to which column is in which table.\\nPay attention to use date(\\'now\\') function to get the current date, if the question involves \"today\".\\n\\nUse the following format:\\n\\nQuestion: Question here\\nSQLQuery: SQL Query to run\\nSQLResult: Result of the SQLQuery\\nAnswer: Final answer here\\n\\nOnly use the following tables:\\n{table_info}\\n\\nQuestion: {input}'), RunnableBinding(bound=ChatOpenAI(client=<openai.resources.chat.completions.Completions object at 0x000002A013662450>, async_client=<openai.resources.chat.completions.AsyncCompletions object at 0x000002A0137DEF10>, root_client=<openai.OpenAI object at 0x000002A0126FA390>, root_async_client=<openai.AsyncOpenAI object at 0x000002A0137D9ED0>, model_name='gpt-4o-mini', model_kwargs={}, openai_api_key=SecretStr('**********')), kwargs={'stop': ['\\nSQLResult:']}, config={}, config_factories=[]), StrOutputParser()] last=RunnableLambda(_strip)\n"
     ]
    },
    {
     "data": {
      "text/plain": [
       "'Error: (sqlite3.OperationalError) near \"```sql\\nSQLQuery: SELECT \"pmId\", \"pmName\", \"confidenceLevel\", \"pmEvidence\" FROM promotores WHERE \"firstGeneName\" = \\'araJ\\' LIMIT 5;\\n```\": syntax error\\n[SQL: ```sql\\nSQLQuery: SELECT \"pmId\", \"pmName\", \"confidenceLevel\", \"pmEvidence\" FROM promotores WHERE \"firstGeneName\" = \\'araJ\\' LIMIT 5;\\n```]\\n(Background on this error at: https://sqlalche.me/e/20/e3q8)'"
      ]
     },
     "execution_count": 41,
     "metadata": {},
     "output_type": "execute_result"
    }
   ],
   "source": [
    "from langchain_community.tools.sql_database.tool import QuerySQLDataBaseTool\n",
    "\n",
    "execute_query = QuerySQLDataBaseTool(db=db)\n",
    "write_query = create_sql_query_chain(llm, db)\n",
    "chain = write_query | execute_query\n",
    "chain.invoke({\"question\": \"¿Cuál es la evidencia del promotor araJ?\"})"
   ]
  },
  {
   "cell_type": "markdown",
   "metadata": {},
   "source": [
    "## Agents"
   ]
  },
  {
   "cell_type": "code",
   "execution_count": 3,
   "metadata": {},
   "outputs": [
    {
     "data": {
      "text/plain": [
       "[QuerySQLDataBaseTool(description=\"Input to this tool is a detailed and correct SQL query, output is a result from the database. If the query is not correct, an error message will be returned. If an error is returned, rewrite the query, check the query, and try again. If you encounter an issue with Unknown column 'xxxx' in 'field list', use sql_db_schema to query the correct table fields.\", db=<langchain_community.utilities.sql_database.SQLDatabase object at 0x000002B247947B10>),\n",
       " InfoSQLDatabaseTool(description='Input to this tool is a comma-separated list of tables, output is the schema and sample rows for those tables. Be sure that the tables actually exist by calling sql_db_list_tables first! Example Input: table1, table2, table3', db=<langchain_community.utilities.sql_database.SQLDatabase object at 0x000002B247947B10>),\n",
       " ListSQLDatabaseTool(db=<langchain_community.utilities.sql_database.SQLDatabase object at 0x000002B247947B10>),\n",
       " QuerySQLCheckerTool(description='Use this tool to double check if your query is correct before executing it. Always use this tool before executing a query with sql_db_query!', db=<langchain_community.utilities.sql_database.SQLDatabase object at 0x000002B247947B10>, llm=ChatOpenAI(client=<openai.resources.chat.completions.Completions object at 0x000002B248C44550>, async_client=<openai.resources.chat.completions.AsyncCompletions object at 0x000002B248FC8CD0>, root_client=<openai.OpenAI object at 0x000002B248E5D450>, root_async_client=<openai.AsyncOpenAI object at 0x000002B2486A5390>, model_name='gpt-4o-mini', model_kwargs={}, openai_api_key=SecretStr('**********')), llm_chain=LLMChain(verbose=False, prompt=PromptTemplate(input_variables=['dialect', 'query'], input_types={}, partial_variables={}, template='\\n{query}\\nDouble check the {dialect} query above for common mistakes, including:\\n- Using NOT IN with NULL values\\n- Using UNION when UNION ALL should have been used\\n- Using BETWEEN for exclusive ranges\\n- Data type mismatch in predicates\\n- Properly quoting identifiers\\n- Using the correct number of arguments for functions\\n- Casting to the correct data type\\n- Using the proper columns for joins\\n\\nIf there are any of the above mistakes, rewrite the query. If there are no mistakes, just reproduce the original query.\\n\\nOutput the final SQL query only.\\n\\nSQL Query: '), llm=ChatOpenAI(client=<openai.resources.chat.completions.Completions object at 0x000002B248C44550>, async_client=<openai.resources.chat.completions.AsyncCompletions object at 0x000002B248FC8CD0>, root_client=<openai.OpenAI object at 0x000002B248E5D450>, root_async_client=<openai.AsyncOpenAI object at 0x000002B2486A5390>, model_name='gpt-4o-mini', model_kwargs={}, openai_api_key=SecretStr('**********')), output_parser=StrOutputParser(), llm_kwargs={}))]"
      ]
     },
     "execution_count": 3,
     "metadata": {},
     "output_type": "execute_result"
    }
   ],
   "source": [
    "from langchain_community.agent_toolkits import SQLDatabaseToolkit\n",
    "\n",
    "toolkit = SQLDatabaseToolkit(db=db, llm=llm)\n",
    "\n",
    "tools = toolkit.get_tools()\n",
    "\n",
    "tools"
   ]
  },
  {
   "cell_type": "code",
   "execution_count": 7,
   "metadata": {},
   "outputs": [],
   "source": [
    "from langchain_core.messages import SystemMessage\n",
    "\n",
    "SQL_PREFIX = \"\"\"You are an agent designed to interact with a SQL database.\n",
    "Given an input question, create a syntactically correct SQLite query to run, then look at the results of the query and return the answer.\n",
    "Unless the user specifies a specific number of examples they wish to obtain, always limit your query to at most 5 results.\n",
    "You can order the results by a relevant column to return the most interesting examples in the database.\n",
    "Never query for all the columns from a specific table, only ask for the relevant columns given the question.\n",
    "You have access to tools for interacting with the database.\n",
    "Only use the below tools. Only use the information returned by the below tools to construct your final answer.\n",
    "You MUST double check your query before executing it. If you get an error while executing a query, rewrite the query and try again.\n",
    "\n",
    "DO NOT make any DML statements (INSERT, UPDATE, DELETE, DROP etc.) to the database.\n",
    "\n",
    "To start you should ALWAYS look at the tables in the database to see what you can query.\n",
    "Do NOT skip this step.\n",
    "Then you should query the schema of the most relevant tables.\"\"\"\n",
    "\n",
    "system_message = SystemMessage(content=SQL_PREFIX)"
   ]
  },
  {
   "cell_type": "code",
   "execution_count": 53,
   "metadata": {},
   "outputs": [
    {
     "name": "stderr",
     "output_type": "stream",
     "text": [
      "\n",
      "[notice] A new release of pip is available: 23.3.2 -> 24.3.1\n",
      "[notice] To update, run: python.exe -m pip install --upgrade pip\n"
     ]
    }
   ],
   "source": [
    "%%capture --no-stderr\n",
    "%pip install --upgrade --quiet langgraph"
   ]
  },
  {
   "cell_type": "code",
   "execution_count": 71,
   "metadata": {},
   "outputs": [
    {
     "name": "stdout",
     "output_type": "stream",
     "text": [
      "Collecting langchain-core==0.3.15\n",
      "  Downloading langchain_core-0.3.15-py3-none-any.whl.metadata (6.3 kB)\n",
      "Collecting langgraph==0.2.43\n",
      "  Using cached langgraph-0.2.43-py3-none-any.whl.metadata (15 kB)\n",
      "Requirement already satisfied: PyYAML>=5.3 in c:\\users\\valencia\\documents\\cursos\\curso-langchain-qa-documents\\.venv\\lib\\site-packages (from langchain-core==0.3.15) (6.0.2)\n",
      "Requirement already satisfied: jsonpatch<2.0,>=1.33 in c:\\users\\valencia\\documents\\cursos\\curso-langchain-qa-documents\\.venv\\lib\\site-packages (from langchain-core==0.3.15) (1.33)\n",
      "Requirement already satisfied: langsmith<0.2.0,>=0.1.125 in c:\\users\\valencia\\documents\\cursos\\curso-langchain-qa-documents\\.venv\\lib\\site-packages (from langchain-core==0.3.15) (0.1.135)\n",
      "Requirement already satisfied: packaging<25,>=23.2 in c:\\users\\valencia\\documents\\cursos\\curso-langchain-qa-documents\\.venv\\lib\\site-packages (from langchain-core==0.3.15) (24.1)\n",
      "Requirement already satisfied: pydantic<3.0.0,>=2.5.2 in c:\\users\\valencia\\documents\\cursos\\curso-langchain-qa-documents\\.venv\\lib\\site-packages (from langchain-core==0.3.15) (2.9.2)\n",
      "Requirement already satisfied: tenacity!=8.4.0,<10.0.0,>=8.1.0 in c:\\users\\valencia\\documents\\cursos\\curso-langchain-qa-documents\\.venv\\lib\\site-packages (from langchain-core==0.3.15) (8.5.0)\n",
      "Requirement already satisfied: typing-extensions>=4.7 in c:\\users\\valencia\\documents\\cursos\\curso-langchain-qa-documents\\.venv\\lib\\site-packages (from langchain-core==0.3.15) (4.12.2)\n",
      "Requirement already satisfied: langgraph-checkpoint<3.0.0,>=2.0.0 in c:\\users\\valencia\\documents\\cursos\\curso-langchain-qa-documents\\.venv\\lib\\site-packages (from langgraph==0.2.43) (2.0.2)\n",
      "Requirement already satisfied: langgraph-sdk<0.2.0,>=0.1.32 in c:\\users\\valencia\\documents\\cursos\\curso-langchain-qa-documents\\.venv\\lib\\site-packages (from langgraph==0.2.43) (0.1.35)\n",
      "Requirement already satisfied: jsonpointer>=1.9 in c:\\users\\valencia\\documents\\cursos\\curso-langchain-qa-documents\\.venv\\lib\\site-packages (from jsonpatch<2.0,>=1.33->langchain-core==0.3.15) (3.0.0)\n",
      "Requirement already satisfied: msgpack<2.0.0,>=1.1.0 in c:\\users\\valencia\\documents\\cursos\\curso-langchain-qa-documents\\.venv\\lib\\site-packages (from langgraph-checkpoint<3.0.0,>=2.0.0->langgraph==0.2.43) (1.1.0)\n",
      "Requirement already satisfied: httpx>=0.25.2 in c:\\users\\valencia\\documents\\cursos\\curso-langchain-qa-documents\\.venv\\lib\\site-packages (from langgraph-sdk<0.2.0,>=0.1.32->langgraph==0.2.43) (0.27.2)\n",
      "Requirement already satisfied: httpx-sse>=0.4.0 in c:\\users\\valencia\\documents\\cursos\\curso-langchain-qa-documents\\.venv\\lib\\site-packages (from langgraph-sdk<0.2.0,>=0.1.32->langgraph==0.2.43) (0.4.0)\n",
      "Requirement already satisfied: orjson>=3.10.1 in c:\\users\\valencia\\documents\\cursos\\curso-langchain-qa-documents\\.venv\\lib\\site-packages (from langgraph-sdk<0.2.0,>=0.1.32->langgraph==0.2.43) (3.10.7)\n",
      "Requirement already satisfied: requests<3,>=2 in c:\\users\\valencia\\documents\\cursos\\curso-langchain-qa-documents\\.venv\\lib\\site-packages (from langsmith<0.2.0,>=0.1.125->langchain-core==0.3.15) (2.32.3)\n",
      "Requirement already satisfied: requests-toolbelt<2.0.0,>=1.0.0 in c:\\users\\valencia\\documents\\cursos\\curso-langchain-qa-documents\\.venv\\lib\\site-packages (from langsmith<0.2.0,>=0.1.125->langchain-core==0.3.15) (1.0.0)\n",
      "Requirement already satisfied: annotated-types>=0.6.0 in c:\\users\\valencia\\documents\\cursos\\curso-langchain-qa-documents\\.venv\\lib\\site-packages (from pydantic<3.0.0,>=2.5.2->langchain-core==0.3.15) (0.7.0)\n",
      "Requirement already satisfied: pydantic-core==2.23.4 in c:\\users\\valencia\\documents\\cursos\\curso-langchain-qa-documents\\.venv\\lib\\site-packages (from pydantic<3.0.0,>=2.5.2->langchain-core==0.3.15) (2.23.4)\n",
      "Requirement already satisfied: anyio in c:\\users\\valencia\\documents\\cursos\\curso-langchain-qa-documents\\.venv\\lib\\site-packages (from httpx>=0.25.2->langgraph-sdk<0.2.0,>=0.1.32->langgraph==0.2.43) (4.6.2.post1)\n",
      "Requirement already satisfied: certifi in c:\\users\\valencia\\documents\\cursos\\curso-langchain-qa-documents\\.venv\\lib\\site-packages (from httpx>=0.25.2->langgraph-sdk<0.2.0,>=0.1.32->langgraph==0.2.43) (2024.8.30)\n",
      "Requirement already satisfied: httpcore==1.* in c:\\users\\valencia\\documents\\cursos\\curso-langchain-qa-documents\\.venv\\lib\\site-packages (from httpx>=0.25.2->langgraph-sdk<0.2.0,>=0.1.32->langgraph==0.2.43) (1.0.6)\n",
      "Requirement already satisfied: idna in c:\\users\\valencia\\documents\\cursos\\curso-langchain-qa-documents\\.venv\\lib\\site-packages (from httpx>=0.25.2->langgraph-sdk<0.2.0,>=0.1.32->langgraph==0.2.43) (3.10)\n",
      "Requirement already satisfied: sniffio in c:\\users\\valencia\\documents\\cursos\\curso-langchain-qa-documents\\.venv\\lib\\site-packages (from httpx>=0.25.2->langgraph-sdk<0.2.0,>=0.1.32->langgraph==0.2.43) (1.3.1)\n",
      "Requirement already satisfied: h11<0.15,>=0.13 in c:\\users\\valencia\\documents\\cursos\\curso-langchain-qa-documents\\.venv\\lib\\site-packages (from httpcore==1.*->httpx>=0.25.2->langgraph-sdk<0.2.0,>=0.1.32->langgraph==0.2.43) (0.14.0)\n",
      "Requirement already satisfied: charset-normalizer<4,>=2 in c:\\users\\valencia\\documents\\cursos\\curso-langchain-qa-documents\\.venv\\lib\\site-packages (from requests<3,>=2->langsmith<0.2.0,>=0.1.125->langchain-core==0.3.15) (3.4.0)\n",
      "Requirement already satisfied: urllib3<3,>=1.21.1 in c:\\users\\valencia\\documents\\cursos\\curso-langchain-qa-documents\\.venv\\lib\\site-packages (from requests<3,>=2->langsmith<0.2.0,>=0.1.125->langchain-core==0.3.15) (2.2.3)\n",
      "Downloading langchain_core-0.3.15-py3-none-any.whl (408 kB)\n",
      "   ---------------------------------------- 0.0/408.7 kB ? eta -:--:--\n",
      "   --- ------------------------------------ 30.7/408.7 kB 1.3 MB/s eta 0:00:01\n",
      "   --------- ------------------------------ 92.2/408.7 kB 1.1 MB/s eta 0:00:01\n",
      "   -------------- ------------------------- 143.4/408.7 kB 1.1 MB/s eta 0:00:01\n",
      "   ------------------ --------------------- 184.3/408.7 kB 1.0 MB/s eta 0:00:01\n",
      "   ---------------------- ----------------- 225.3/408.7 kB 1.1 MB/s eta 0:00:01\n",
      "   ---------------------------- ----------- 286.7/408.7 kB 1.1 MB/s eta 0:00:01\n",
      "   ---------------------------------- ----- 348.2/408.7 kB 1.1 MB/s eta 0:00:01\n",
      "   ---------------------------------------  399.4/408.7 kB 1.1 MB/s eta 0:00:01\n",
      "   ---------------------------------------- 408.7/408.7 kB 1.1 MB/s eta 0:00:00\n",
      "Downloading langgraph-0.2.43-py3-none-any.whl (117 kB)\n",
      "   ---------------------------------------- 0.0/118.0 kB ? eta -:--:--\n",
      "   ------------- -------------------------- 41.0/118.0 kB ? eta -:--:--\n",
      "   -------------------------------------- - 112.6/118.0 kB 2.2 MB/s eta 0:00:01\n",
      "   -------------------------------------- 118.0/118.0 kB 979.5 kB/s eta 0:00:00\n",
      "Installing collected packages: langchain-core, langgraph\n",
      "  Attempting uninstall: langchain-core\n",
      "    Found existing installation: langchain-core 0.3.14\n",
      "    Uninstalling langchain-core-0.3.14:\n",
      "      Successfully uninstalled langchain-core-0.3.14\n",
      "  Attempting uninstall: langgraph\n",
      "    Found existing installation: langgraph 0.2.42\n",
      "    Uninstalling langgraph-0.2.42:\n",
      "      Successfully uninstalled langgraph-0.2.42\n",
      "Successfully installed langchain-core-0.3.15 langgraph-0.2.43\n",
      "Note: you may need to restart the kernel to use updated packages.\n"
     ]
    },
    {
     "name": "stderr",
     "output_type": "stream",
     "text": [
      "\n",
      "[notice] A new release of pip is available: 23.3.2 -> 24.3.1\n",
      "[notice] To update, run: python.exe -m pip install --upgrade pip\n"
     ]
    }
   ],
   "source": [
    "%pip install langchain-core==0.3.15 langgraph==0.2.43"
   ]
  },
  {
   "cell_type": "code",
   "execution_count": 1,
   "metadata": {},
   "outputs": [
    {
     "name": "stdout",
     "output_type": "stream",
     "text": [
      "Name: langchain-core\n",
      "Version: 0.3.15\n",
      "Summary: Building applications with LLMs through composability\n",
      "Home-page: https://github.com/langchain-ai/langchain\n",
      "Author: \n",
      "Author-email: \n",
      "License: MIT\n",
      "Location: c:\\Users\\VALENCIA\\Documents\\cursos\\curso-langchain-qa-documents\\.venv\\Lib\\site-packages\n",
      "Requires: jsonpatch, langsmith, packaging, pydantic, PyYAML, tenacity, typing-extensions\n",
      "Required-by: langchain, langchain-chroma, langchain-community, langchain-experimental, langchain-openai, langchain-text-splitters, langgraph, langgraph-checkpoint\n",
      "---\n",
      "Name: langgraph\n",
      "Version: 0.2.43\n",
      "Summary: Building stateful, multi-actor applications with LLMs\n",
      "Home-page: https://www.github.com/langchain-ai/langgraph\n",
      "Author: \n",
      "Author-email: \n",
      "License: MIT\n",
      "Location: c:\\Users\\VALENCIA\\Documents\\cursos\\curso-langchain-qa-documents\\.venv\\Lib\\site-packages\n",
      "Requires: langchain-core, langgraph-checkpoint, langgraph-sdk\n",
      "Required-by: \n",
      "Note: you may need to restart the kernel to use updated packages.\n"
     ]
    }
   ],
   "source": [
    "%pip show langchain_core langgraph"
   ]
  },
  {
   "cell_type": "code",
   "execution_count": 4,
   "metadata": {},
   "outputs": [],
   "source": [
    "from langchain_core.messages import HumanMessage, AIMessage\n",
    "from langgraph.prebuilt import create_react_agent\n",
    "from langchain_community.chat_message_histories import ChatMessageHistory\n",
    "from langchain_core.chat_history import BaseChatMessageHistory\n",
    "from langchain_core.runnables.history import RunnableWithMessageHistory\n",
    "from langchain_core.chat_history import InMemoryChatMessageHistory\n",
    "\n",
    "chat_history = ChatMessageHistory()"
   ]
  },
  {
   "cell_type": "code",
   "execution_count": 5,
   "metadata": {},
   "outputs": [],
   "source": [
    "def memory_modifier(messages, chat_history):\n",
    "    # Add past messages to the input\n",
    "    return chat_history.messages + messages"
   ]
  },
  {
   "cell_type": "code",
   "execution_count": 6,
   "metadata": {},
   "outputs": [
    {
     "name": "stderr",
     "output_type": "stream",
     "text": [
      "C:\\Users\\VALENCIA\\AppData\\Local\\Temp\\ipykernel_9500\\215273231.py:1: LangGraphDeprecationWarning: Parameter 'messages_modifier' in function 'create_react_agent' is deprecated as of version 0.1.9 and will be removed in version 0.3.0. Use 'state_modifier' parameter instead.\n",
      "  agent_executor = create_react_agent(llm, tools, messages_modifier=lambda messages: memory_modifier(messages, chat_history))\n"
     ]
    }
   ],
   "source": [
    "agent_executor = create_react_agent(llm, tools, messages_modifier=lambda messages: memory_modifier(messages, chat_history))"
   ]
  },
  {
   "cell_type": "code",
   "execution_count": 9,
   "metadata": {},
   "outputs": [
    {
     "name": "stdout",
     "output_type": "stream",
     "text": [
      "{'agent': {'messages': [AIMessage(content='', additional_kwargs={'tool_calls': [{'id': 'call_QBWfg6jxeDxj6DSJh3ZjeQKk', 'function': {'arguments': '{}', 'name': 'sql_db_list_tables'}, 'type': 'function'}], 'refusal': None}, response_metadata={'token_usage': {'completion_tokens': 12, 'prompt_tokens': 552, 'total_tokens': 564, 'completion_tokens_details': {'audio_tokens': 0, 'reasoning_tokens': 0, 'accepted_prediction_tokens': 0, 'rejected_prediction_tokens': 0}, 'prompt_tokens_details': {'audio_tokens': 0, 'cached_tokens': 0}}, 'model_name': 'gpt-4o-mini-2024-07-18', 'system_fingerprint': 'fp_0ba0d124f1', 'finish_reason': 'tool_calls', 'logprobs': None}, id='run-7885a8f6-d4f1-49e8-93de-12fb4d38aaed-0', tool_calls=[{'name': 'sql_db_list_tables', 'args': {}, 'id': 'call_QBWfg6jxeDxj6DSJh3ZjeQKk', 'type': 'tool_call'}], usage_metadata={'input_tokens': 552, 'output_tokens': 12, 'total_tokens': 564, 'input_token_details': {'audio': 0, 'cache_read': 0}, 'output_token_details': {'audio': 0, 'reasoning': 0}})]}}\n",
      "----\n",
      "{'tools': {'messages': [ToolMessage(content='evidences, gene_products, operons, promotores, regulators, regulatory_interactions, terminators, transcription_factors, transcription_units', name='sql_db_list_tables', id='00019a76-e647-4bae-9d6b-c6e07e14c24e', tool_call_id='call_QBWfg6jxeDxj6DSJh3ZjeQKk')]}}\n",
      "----\n",
      "{'agent': {'messages': [AIMessage(content='', additional_kwargs={'tool_calls': [{'id': 'call_sm5Rmh7jqf4XIeLsYtYvISyI', 'function': {'arguments': '{\"table_names\": \"promotores\"}', 'name': 'sql_db_schema'}, 'type': 'function'}, {'id': 'call_4sMctPIPduYe3urPYbfl0Gg7', 'function': {'arguments': '{\"table_names\": \"evidences\"}', 'name': 'sql_db_schema'}, 'type': 'function'}], 'refusal': None}, response_metadata={'token_usage': {'completion_tokens': 51, 'prompt_tokens': 602, 'total_tokens': 653, 'completion_tokens_details': {'audio_tokens': 0, 'reasoning_tokens': 0, 'accepted_prediction_tokens': 0, 'rejected_prediction_tokens': 0}, 'prompt_tokens_details': {'audio_tokens': 0, 'cached_tokens': 0}}, 'model_name': 'gpt-4o-mini-2024-07-18', 'system_fingerprint': 'fp_0ba0d124f1', 'finish_reason': 'tool_calls', 'logprobs': None}, id='run-a338b1b3-7232-42ae-8e54-a223b27e2753-0', tool_calls=[{'name': 'sql_db_schema', 'args': {'table_names': 'promotores'}, 'id': 'call_sm5Rmh7jqf4XIeLsYtYvISyI', 'type': 'tool_call'}, {'name': 'sql_db_schema', 'args': {'table_names': 'evidences'}, 'id': 'call_4sMctPIPduYe3urPYbfl0Gg7', 'type': 'tool_call'}], usage_metadata={'input_tokens': 602, 'output_tokens': 51, 'total_tokens': 653, 'input_token_details': {'audio': 0, 'cache_read': 0}, 'output_token_details': {'audio': 0, 'reasoning': 0}})]}}\n",
      "----\n",
      "{'tools': {'messages': [ToolMessage(content='\\nCREATE TABLE promotores (\\n\\t\"pmId\" TEXT, \\n\\t\"pmName\" TEXT, \\n\\tstrand TEXT, \\n\\t\"posTSS\" FLOAT, \\n\\t\"sigmaFactor\" TEXT, \\n\\t\"pmSequence\" TEXT, \\n\\t\"firstGeneName\" TEXT, \\n\\t\"distToFirstGene\" FLOAT, \\n\\t\"pmEvidence\" TEXT, \\n\\t\"addEvidence\" TEXT, \\n\\t\"confidenceLevel\" TEXT, \\n\\t\"pmids(reference)\" TEXT\\n)\\n\\n/*\\n3 rows from promotores table:\\npmId\\tpmName\\tstrand\\tposTSS\\tsigmaFactor\\tpmSequence\\tfirstGeneName\\tdistToFirstGene\\tpmEvidence\\taddEvidence\\tconfidenceLevel\\tpmids(reference)\\nRDBECOLIPMC00001\\tspyp\\treverse\\t1825688.0\\tsigma70\\tacactttcattgttttaccgttgctctgattaattgacgctaaagtcagtaaagttaatcTcgtcaacacggcacgctact\\tspy\\t-63.0\\t[COMP-AINF:W][COMP-HINF-POSITIONAL-IDENTIFICATION:W][EXP-IDA-TRANSCRIPTION-INIT-MAPPING:S]\\tNone\\tSTRONG\\t14529615;16861804;9068658 \\nRDBECOLIPMC00002\\tyfeKp\\tforward\\t2537315.0\\tsigma24\\tccgatgatcctcatcgtaatccaaccgaaactttacctgattctggcagtcaaatcggctAtcacaaaacaaggataaggt\\tyfeK\\t-27.0\\t[COMP-AINF:W][COMP-AINF-POSITIONAL-IDENTIFICATION:W][EXP-IDA-TRANSCRIPTION-INIT-MAPPING:S]\\tNone\\tSTRONG\\t14529615;16336047 \\nRDBECOLIPMC00003\\tbepAp1\\tforward\\t2616068.0\\tsigma24\\tgccgttacactcaaaggcggcgcggtgggaacgatatttcacagtatcggtcaaatgactAtctccagaaatacaggatag\\tbepA\\t-26.0\\t[COMP-AINF:W][COMP-AINF-POSITIONAL-IDENTIFICATION:W][EXP-IDA-TRANSCRIPTION-INIT-MAPPING:S]\\tNone\\tSTRONG\\t14529615;16336047;31992590 \\n*/', name='sql_db_schema', id='8286da5c-7f75-4ab2-8210-c55c7f5f174a', tool_call_id='call_sm5Rmh7jqf4XIeLsYtYvISyI'), ToolMessage(content='\\nCREATE TABLE evidences (\\n\\tevidence_code TEXT, \\n\\tevidence_name TEXT, \\n\\tevidence_group FLOAT, \\n\\tconfidence_level TEXT, \\n\\tobject_type TEXT, \\n\\t\"evidence_category \" TEXT\\n)\\n\\n/*\\n3 rows from evidences table:\\nevidence_code\\tevidence_name\\tevidence_group\\tconfidence_level\\tobject_type\\tevidence_category \\nEXP-IGI-FUNC-COMPLEMENTATION\\tInferred by functional complementation\\tNone\\tSTRONG\\tTranscription Factors\\tClassical experiment \\nEXP-IDA-UNPURIFIED-PROTEIN-NH\\tAssay of unpurified protein expressed in its native host\\tNone\\tWEAK\\tTranscription Factors\\tClassical experiment \\nEXP-CHIP-EXO-MANUAL\\tChIP-exo evidence used in manual assertion\\t4.0\\tWEAK\\tRegulatory Interactions\\tHigh-throughput binding \\n*/', name='sql_db_schema', id='4fbf0550-4067-48eb-bcbe-d1d1fcc60a06', tool_call_id='call_4sMctPIPduYe3urPYbfl0Gg7')]}}\n",
      "----\n",
      "{'agent': {'messages': [AIMessage(content='', additional_kwargs={'tool_calls': [{'id': 'call_BboEGB7po7U3qfEGeitzMzQG', 'function': {'arguments': '{\"query\":\"SELECT pmId, pmName, pmEvidence FROM promotores WHERE pmName = \\'araJ\\' LIMIT 5;\"}', 'name': 'sql_db_query'}, 'type': 'function'}], 'refusal': None}, response_metadata={'token_usage': {'completion_tokens': 38, 'prompt_tokens': 1411, 'total_tokens': 1449, 'completion_tokens_details': {'audio_tokens': 0, 'reasoning_tokens': 0, 'accepted_prediction_tokens': 0, 'rejected_prediction_tokens': 0}, 'prompt_tokens_details': {'audio_tokens': 0, 'cached_tokens': 0}}, 'model_name': 'gpt-4o-mini-2024-07-18', 'system_fingerprint': 'fp_0ba0d124f1', 'finish_reason': 'tool_calls', 'logprobs': None}, id='run-9e241c43-b597-4586-b550-21f03691ec09-0', tool_calls=[{'name': 'sql_db_query', 'args': {'query': \"SELECT pmId, pmName, pmEvidence FROM promotores WHERE pmName = 'araJ' LIMIT 5;\"}, 'id': 'call_BboEGB7po7U3qfEGeitzMzQG', 'type': 'tool_call'}], usage_metadata={'input_tokens': 1411, 'output_tokens': 38, 'total_tokens': 1449, 'input_token_details': {'audio': 0, 'cache_read': 0}, 'output_token_details': {'audio': 0, 'reasoning': 0}})]}}\n",
      "----\n",
      "{'tools': {'messages': [ToolMessage(content='', name='sql_db_query', id='6f997f0e-0fdf-4316-aca3-0938dd7ee8f6', tool_call_id='call_BboEGB7po7U3qfEGeitzMzQG')]}}\n",
      "----\n",
      "{'agent': {'messages': [AIMessage(content='', additional_kwargs={'tool_calls': [{'id': 'call_nnYuc3f9T59J0ue67CC5P2Sy', 'function': {'arguments': '{\"query\":\"SELECT pmId, pmName, pmEvidence FROM promotores WHERE pmName LIKE \\'%araJ%\\' LIMIT 5;\"}', 'name': 'sql_db_query'}, 'type': 'function'}], 'refusal': None}, response_metadata={'token_usage': {'completion_tokens': 38, 'prompt_tokens': 1458, 'total_tokens': 1496, 'completion_tokens_details': {'audio_tokens': 0, 'reasoning_tokens': 0, 'accepted_prediction_tokens': 0, 'rejected_prediction_tokens': 0}, 'prompt_tokens_details': {'audio_tokens': 0, 'cached_tokens': 1280}}, 'model_name': 'gpt-4o-mini-2024-07-18', 'system_fingerprint': 'fp_0ba0d124f1', 'finish_reason': 'tool_calls', 'logprobs': None}, id='run-83c5b6e5-cef5-4cae-bd44-759ec9a02583-0', tool_calls=[{'name': 'sql_db_query', 'args': {'query': \"SELECT pmId, pmName, pmEvidence FROM promotores WHERE pmName LIKE '%araJ%' LIMIT 5;\"}, 'id': 'call_nnYuc3f9T59J0ue67CC5P2Sy', 'type': 'tool_call'}], usage_metadata={'input_tokens': 1458, 'output_tokens': 38, 'total_tokens': 1496, 'input_token_details': {'audio': 0, 'cache_read': 1280}, 'output_token_details': {'audio': 0, 'reasoning': 0}})]}}\n",
      "----\n",
      "{'tools': {'messages': [ToolMessage(content=\"[('RDBECOLIPMC03422', 'araJp', '[COMP-AINF:W][EXP-IDA-TRANSCRIPTION-INIT-MAPPING:S]')]\", name='sql_db_query', id='8bb84226-7915-4fd6-b889-21d6ac8318e9', tool_call_id='call_nnYuc3f9T59J0ue67CC5P2Sy')]}}\n",
      "----\n",
      "{'agent': {'messages': [AIMessage(content='La evidencia del promotor **araJ** se encuentra en el registro con el id **RDBECOLIPMC03422**. La evidencia asociada a este promotor incluye:\\n\\n- **Evidencia**: [COMP-AINF:W][EXP-IDA-TRANSCRIPTION-INIT-MAPPING:S] \\n\\nEsto indica que la identificación del promotor se basa en métodos como la identificación posicional y el mapeo de inicio de transcripción experimental.', additional_kwargs={'refusal': None}, response_metadata={'token_usage': {'completion_tokens': 95, 'prompt_tokens': 1541, 'total_tokens': 1636, 'completion_tokens_details': {'audio_tokens': 0, 'reasoning_tokens': 0, 'accepted_prediction_tokens': 0, 'rejected_prediction_tokens': 0}, 'prompt_tokens_details': {'audio_tokens': 0, 'cached_tokens': 1408}}, 'model_name': 'gpt-4o-mini-2024-07-18', 'system_fingerprint': 'fp_0ba0d124f1', 'finish_reason': 'stop', 'logprobs': None}, id='run-c94431ad-15c1-495c-a2ee-f107372bed05-0', usage_metadata={'input_tokens': 1541, 'output_tokens': 95, 'total_tokens': 1636, 'input_token_details': {'audio': 0, 'cache_read': 1408}, 'output_token_details': {'audio': 0, 'reasoning': 0}})]}}\n",
      "----\n"
     ]
    }
   ],
   "source": [
    "for s in agent_executor.stream(\n",
    "    {\"messages\": [HumanMessage(content=\"¿Cuál es la evidencia del promotor araJ?\")]}\n",
    "):\n",
    "    print(s)\n",
    "    print(\"----\")"
   ]
  },
  {
   "cell_type": "code",
   "execution_count": 77,
   "metadata": {},
   "outputs": [
    {
     "name": "stdout",
     "output_type": "stream",
     "text": [
      "Hello Leonel! How can I assist you today?\n"
     ]
    }
   ],
   "source": [
    "# First query\n",
    "response = agent_executor.invoke({\"messages\": [HumanMessage(content=\"Hi, my name is Leonel\")]})\n",
    "print(response[\"messages\"][-1].content)\n",
    "\n",
    "# Update memory\n",
    "chat_history.add_user_message(\"Hi, my name is Leonel\")\n",
    "chat_history.add_ai_message(response[\"messages\"][-1].content)"
   ]
  },
  {
   "cell_type": "code",
   "execution_count": 78,
   "metadata": {},
   "outputs": [
    {
     "name": "stdout",
     "output_type": "stream",
     "text": [
      "I don't have access to personal data, including names, unless it is stored in the database. Let me know if you would like to query any specific information from the database tables.\n"
     ]
    }
   ],
   "source": [
    "# Second query using context from the first\n",
    "response = agent_executor.invoke({\"messages\": [HumanMessage(content=\"remember my name?\")]})\n",
    "print(response[\"messages\"][-1].content)\n",
    "\n",
    "# Update memory again\n",
    "chat_history.add_user_message(\"remember my name?\")\n",
    "chat_history.add_ai_message(response[\"messages\"][-1].content)"
   ]
  },
  {
   "cell_type": "code",
   "execution_count": 7,
   "metadata": {},
   "outputs": [],
   "source": [
    "def invoke_with_memory(agent, chat_history, user_message):\n",
    "    # Add the user's message\n",
    "    chat_history.add_user_message(user_message)\n",
    "\n",
    "    # Invoke the agent\n",
    "    response = agent.invoke({\"messages\": chat_history.messages})\n",
    "    \n",
    "    # Add the agent's response\n",
    "    chat_history.add_ai_message(response[\"messages\"][-1].content)\n",
    "\n",
    "    return response[\"messages\"][-1].content"
   ]
  },
  {
   "cell_type": "code",
   "execution_count": 8,
   "metadata": {},
   "outputs": [
    {
     "name": "stdout",
     "output_type": "stream",
     "text": [
      "Hello, Leonel! How can I assist you today?\n"
     ]
    }
   ],
   "source": [
    "user_input = \"Hi, my name is Leonel\"\n",
    "full_response = invoke_with_memory(agent_executor, chat_history, user_input)\n",
    "print(full_response)"
   ]
  },
  {
   "cell_type": "code",
   "execution_count": 9,
   "metadata": {},
   "outputs": [
    {
     "name": "stdout",
     "output_type": "stream",
     "text": [
      "Yes, your name is Leonel! How can I assist you today?\n"
     ]
    }
   ],
   "source": [
    "user_input = \"Hi, remember my name?\"\n",
    "response = invoke_with_memory(agent_executor, chat_history, user_input)\n",
    "print(response)"
   ]
  },
  {
   "cell_type": "code",
   "execution_count": 10,
   "metadata": {},
   "outputs": [
    {
     "data": {
      "text/plain": [
       "[HumanMessage(content='Hi, my name is Leonel', additional_kwargs={}, response_metadata={}, id='f9f2d628-ec9a-4d32-bed6-e133b97bb1c0'),\n",
       " AIMessage(content='Hello, Leonel! How can I assist you today?', additional_kwargs={}, response_metadata={}, id='93bc50c1-4b0e-4e84-b4a7-c1efd09e9dce'),\n",
       " HumanMessage(content='Hi, remember my name?', additional_kwargs={}, response_metadata={}, id='a003609b-db8a-45eb-a33f-bd9df2dc55d8'),\n",
       " AIMessage(content='Yes, your name is Leonel! How can I assist you today?', additional_kwargs={}, response_metadata={})]"
      ]
     },
     "execution_count": 10,
     "metadata": {},
     "output_type": "execute_result"
    }
   ],
   "source": [
    "chat_history.messages"
   ]
  },
  {
   "cell_type": "code",
   "execution_count": 57,
   "metadata": {},
   "outputs": [],
   "source": [
    "agent_with_chat_history = RunnableWithMessageHistory(\n",
    "    agent_executor,\n",
    "    lambda session_id: chat_history,\n",
    "    input_messages_key=\"messages\",\n",
    "    history_messages_key=\"chat_history\",\n",
    ")"
   ]
  },
  {
   "cell_type": "code",
   "execution_count": 64,
   "metadata": {},
   "outputs": [],
   "source": [
    "# Función para gestionar la interacción y evitar duplicados\n",
    "def ask_agent(session_id, user_message):\n",
    "    # Crear el mensaje humano\n",
    "    human_msg = HumanMessage(content=user_message)\n",
    "    # Añadir al historial el mensaje del usuario\n",
    "    chat_history.add_message(human_msg)\n",
    "    # Invocar el agente\n",
    "    response = agent_with_chat_history.invoke(\n",
    "        {\"messages\": [human_msg]},\n",
    "        config={\"configurable\": {\"session_id\": session_id}},\n",
    "    )\n",
    "    # Obtener el mensaje de respuesta del agente\n",
    "    ai_response = response[\"messages\"][-1]\n",
    "    # Añadir el mensaje de la IA al historial\n",
    "    chat_history.add_message(ai_response)\n",
    "    return ai_response.content"
   ]
  },
  {
   "cell_type": "code",
   "execution_count": 60,
   "metadata": {},
   "outputs": [],
   "source": [
    "# Ejemplo de uso\n",
    "session_id = \"<foo>\""
   ]
  },
  {
   "cell_type": "code",
   "execution_count": 66,
   "metadata": {},
   "outputs": [
    {
     "name": "stdout",
     "output_type": "stream",
     "text": [
      "Los promotores que comienzan con 'ara' son:\n",
      "\n",
      "1. **araHp7** (pmId: RDBECOLIPMC01437)\n",
      "2. **araFp2** (pmId: RDBECOLIPMC02411)\n",
      "3. **araFp3** (pmId: RDBECOLIPMC02632)\n",
      "4. **araBp** (pmId: RDBECOLIPMC03318)\n",
      "5. **araCp** (pmId: RDBECOLIPMC03319)\n",
      "\n",
      "Si necesitas más información sobre alguno de ellos, házmelo saber.\n"
     ]
    }
   ],
   "source": [
    "# Primera pregunta\n",
    "response_1 = ask_agent(session_id, \"¿Cuáles son los promotores que comienzan con 'ara'?\")\n",
    "print(response_1)"
   ]
  },
  {
   "cell_type": "code",
   "execution_count": 50,
   "metadata": {},
   "outputs": [],
   "source": [
    "chat_history.add_message(HumanMessage(content=\"¿Cuáles son los promotores que comienzan con 'ara'?\"))\n",
    "chat_history.add_message(response[\"messages\"][-1])  "
   ]
  },
  {
   "cell_type": "code",
   "execution_count": 51,
   "metadata": {},
   "outputs": [
    {
     "data": {
      "text/plain": [
       "'Los siguientes promotores tienen evidencia:\\n\\n1. **spyp**\\n   - **Evidencia**: [COMP-AINF:W][COMP-HINF-POSITIONAL-IDENTIFICATION:W][EXP-IDA-TRANSCRIPTION-INIT-MAPPING:S]\\n   - **Nivel de confianza**: STRONG\\n\\n2. **yfeKp**\\n   - **Evidencia**: [COMP-AINF:W][COMP-AINF-POSITIONAL-IDENTIFICATION:W][EXP-IDA-TRANSCRIPTION-INIT-MAPPING:S]\\n   - **Nivel de confianza**: STRONG\\n\\n3. **bepAp1**\\n   - **Evidencia**: [COMP-AINF:W][COMP-AINF-POSITIONAL-IDENTIFICATION:W][EXP-IDA-TRANSCRIPTION-INIT-MAPPING:S]\\n   - **Nivel de confianza**: STRONG\\n\\n4. **bamBp**\\n   - **Evidencia**: [COMP-AINF:W][COMP-AINF-POSITIONAL-IDENTIFICATION:W][EXP-IDA-TRANSCRIPTION-INIT-MAPPING:S]\\n   - **Nivel de confianza**: STRONG\\n\\n5. **recCp**\\n   - **Evidencia**: [COMP-HINF-POSITIONAL-IDENTIFICATION:W][EXP-IDA-TRANSCRIPTION-INIT-MAPPING:S]\\n   - **Nivel de confianza**: STRONG\\n\\nTodos estos promotores presentan un nivel de confianza fuerte en la evidencia asociada.'"
      ]
     },
     "execution_count": 51,
     "metadata": {},
     "output_type": "execute_result"
    }
   ],
   "source": [
    "response = agent_with_chat_history.invoke(\n",
    "    {\"messages\": [HumanMessage(content=\"¿Cuál de estos promotores tiene evidencia?\")]},\n",
    "    config={\"configurable\": {\"session_id\": \"<foo>\"}},\n",
    ")\n",
    "response[\"messages\"][-1].content"
   ]
  },
  {
   "cell_type": "code",
   "execution_count": 52,
   "metadata": {},
   "outputs": [],
   "source": [
    "# Update chat history with the new question and response\n",
    "chat_history.add_message(HumanMessage(content=\"¿Cuál de estos promotores tiene evidencia?\"))\n",
    "chat_history.add_message(response[\"messages\"][-1])"
   ]
  },
  {
   "cell_type": "code",
   "execution_count": 67,
   "metadata": {},
   "outputs": [
    {
     "data": {
      "text/plain": [
       "[HumanMessage(content=\"¿Cuáles son los promotores que comienzan con 'ara'?\", additional_kwargs={}, response_metadata={}, id='40dc246b-9295-4646-b4bf-9d023e1816c5'),\n",
       " HumanMessage(content=\"¿Cuáles son los promotores que comienzan con 'ara'?\", additional_kwargs={}, response_metadata={}, id='40dc246b-9295-4646-b4bf-9d023e1816c5'),\n",
       " HumanMessage(content=\"¿Cuáles son los promotores que comienzan con 'ara'?\", additional_kwargs={}, response_metadata={}, id='40dc246b-9295-4646-b4bf-9d023e1816c5'),\n",
       " AIMessage(content='', additional_kwargs={'tool_calls': [{'id': 'call_aVwOIbLyLvb8SBywG5tFMqxD', 'function': {'arguments': '{}', 'name': 'sql_db_list_tables'}, 'type': 'function'}], 'refusal': None}, response_metadata={'token_usage': {'completion_tokens': 12, 'prompt_tokens': 554, 'total_tokens': 566, 'completion_tokens_details': {'audio_tokens': 0, 'reasoning_tokens': 0, 'accepted_prediction_tokens': 0, 'rejected_prediction_tokens': 0}, 'prompt_tokens_details': {'audio_tokens': 0, 'cached_tokens': 0}}, 'model_name': 'gpt-4o-mini-2024-07-18', 'system_fingerprint': 'fp_9b78b61c52', 'finish_reason': 'tool_calls', 'logprobs': None}, id='run-936ef9c5-d98c-4cd7-b651-fa6783d03d17-0', tool_calls=[{'name': 'sql_db_list_tables', 'args': {}, 'id': 'call_aVwOIbLyLvb8SBywG5tFMqxD', 'type': 'tool_call'}], usage_metadata={'input_tokens': 554, 'output_tokens': 12, 'total_tokens': 566, 'input_token_details': {'audio': 0, 'cache_read': 0}, 'output_token_details': {'audio': 0, 'reasoning': 0}}),\n",
       " ToolMessage(content='evidences, gene_products, operons, promotores, regulators, regulatory_interactions, terminators, transcription_factors, transcription_units', name='sql_db_list_tables', id='8060a110-b374-4d08-a076-a3c986407829', tool_call_id='call_aVwOIbLyLvb8SBywG5tFMqxD'),\n",
       " AIMessage(content='', additional_kwargs={'tool_calls': [{'id': 'call_2fhaWMypsneCyVSzfH2i0v7H', 'function': {'arguments': '{\"table_names\":\"promotores\"}', 'name': 'sql_db_schema'}, 'type': 'function'}], 'refusal': None}, response_metadata={'token_usage': {'completion_tokens': 17, 'prompt_tokens': 604, 'total_tokens': 621, 'completion_tokens_details': {'audio_tokens': 0, 'reasoning_tokens': 0, 'accepted_prediction_tokens': 0, 'rejected_prediction_tokens': 0}, 'prompt_tokens_details': {'audio_tokens': 0, 'cached_tokens': 0}}, 'model_name': 'gpt-4o-mini-2024-07-18', 'system_fingerprint': 'fp_9b78b61c52', 'finish_reason': 'tool_calls', 'logprobs': None}, id='run-ab6c0325-e89e-474d-8702-92606446e8d6-0', tool_calls=[{'name': 'sql_db_schema', 'args': {'table_names': 'promotores'}, 'id': 'call_2fhaWMypsneCyVSzfH2i0v7H', 'type': 'tool_call'}], usage_metadata={'input_tokens': 604, 'output_tokens': 17, 'total_tokens': 621, 'input_token_details': {'audio': 0, 'cache_read': 0}, 'output_token_details': {'audio': 0, 'reasoning': 0}}),\n",
       " ToolMessage(content='\\nCREATE TABLE promotores (\\n\\t\"pmId\" TEXT, \\n\\t\"pmName\" TEXT, \\n\\tstrand TEXT, \\n\\t\"posTSS\" FLOAT, \\n\\t\"sigmaFactor\" TEXT, \\n\\t\"pmSequence\" TEXT, \\n\\t\"firstGeneName\" TEXT, \\n\\t\"distToFirstGene\" FLOAT, \\n\\t\"pmEvidence\" TEXT, \\n\\t\"addEvidence\" TEXT, \\n\\t\"confidenceLevel\" TEXT, \\n\\t\"pmids(reference)\" TEXT\\n)\\n\\n/*\\n3 rows from promotores table:\\npmId\\tpmName\\tstrand\\tposTSS\\tsigmaFactor\\tpmSequence\\tfirstGeneName\\tdistToFirstGene\\tpmEvidence\\taddEvidence\\tconfidenceLevel\\tpmids(reference)\\nRDBECOLIPMC00001\\tspyp\\treverse\\t1825688.0\\tsigma70\\tacactttcattgttttaccgttgctctgattaattgacgctaaagtcagtaaagttaatcTcgtcaacacggcacgctact\\tspy\\t-63.0\\t[COMP-AINF:W][COMP-HINF-POSITIONAL-IDENTIFICATION:W][EXP-IDA-TRANSCRIPTION-INIT-MAPPING:S]\\tNone\\tSTRONG\\t14529615;16861804;9068658 \\nRDBECOLIPMC00002\\tyfeKp\\tforward\\t2537315.0\\tsigma24\\tccgatgatcctcatcgtaatccaaccgaaactttacctgattctggcagtcaaatcggctAtcacaaaacaaggataaggt\\tyfeK\\t-27.0\\t[COMP-AINF:W][COMP-AINF-POSITIONAL-IDENTIFICATION:W][EXP-IDA-TRANSCRIPTION-INIT-MAPPING:S]\\tNone\\tSTRONG\\t14529615;16336047 \\nRDBECOLIPMC00003\\tbepAp1\\tforward\\t2616068.0\\tsigma24\\tgccgttacactcaaaggcggcgcggtgggaacgatatttcacagtatcggtcaaatgactAtctccagaaatacaggatag\\tbepA\\t-26.0\\t[COMP-AINF:W][COMP-AINF-POSITIONAL-IDENTIFICATION:W][EXP-IDA-TRANSCRIPTION-INIT-MAPPING:S]\\tNone\\tSTRONG\\t14529615;16336047;31992590 \\n*/', name='sql_db_schema', id='3eee5b28-ced4-4962-a4cf-2231f5ff3aab', tool_call_id='call_2fhaWMypsneCyVSzfH2i0v7H'),\n",
       " AIMessage(content='', additional_kwargs={'tool_calls': [{'id': 'call_HBz4aIXgnGqg3yIhi6NpKbQb', 'function': {'arguments': '{\"query\":\"SELECT pmId, pmName FROM promotores WHERE pmName LIKE \\'ara%\\';\"}', 'name': 'sql_db_query_checker'}, 'type': 'function'}], 'refusal': None}, response_metadata={'token_usage': {'completion_tokens': 32, 'prompt_tokens': 1129, 'total_tokens': 1161, 'completion_tokens_details': {'audio_tokens': 0, 'reasoning_tokens': 0, 'accepted_prediction_tokens': 0, 'rejected_prediction_tokens': 0}, 'prompt_tokens_details': {'audio_tokens': 0, 'cached_tokens': 0}}, 'model_name': 'gpt-4o-mini-2024-07-18', 'system_fingerprint': 'fp_9b78b61c52', 'finish_reason': 'tool_calls', 'logprobs': None}, id='run-2ce7af6c-0ce6-441e-b46e-db0e2cd2c0e0-0', tool_calls=[{'name': 'sql_db_query_checker', 'args': {'query': \"SELECT pmId, pmName FROM promotores WHERE pmName LIKE 'ara%';\"}, 'id': 'call_HBz4aIXgnGqg3yIhi6NpKbQb', 'type': 'tool_call'}], usage_metadata={'input_tokens': 1129, 'output_tokens': 32, 'total_tokens': 1161, 'input_token_details': {'audio': 0, 'cache_read': 0}, 'output_token_details': {'audio': 0, 'reasoning': 0}}),\n",
       " ToolMessage(content=\"```sql\\nSELECT pmId, pmName FROM promotores WHERE pmName LIKE 'ara%';\\n```\", name='sql_db_query_checker', id='e0c5d76a-a61f-4229-9c4c-3af8d9b9f2a9', tool_call_id='call_HBz4aIXgnGqg3yIhi6NpKbQb'),\n",
       " AIMessage(content='', additional_kwargs={'tool_calls': [{'id': 'call_qTmcHgsd9VnfGFDila6Fw0Cq', 'function': {'arguments': '{\"query\":\"SELECT pmId, pmName FROM promotores WHERE pmName LIKE \\'ara%\\';\"}', 'name': 'sql_db_query'}, 'type': 'function'}], 'refusal': None}, response_metadata={'token_usage': {'completion_tokens': 31, 'prompt_tokens': 1192, 'total_tokens': 1223, 'completion_tokens_details': {'audio_tokens': 0, 'reasoning_tokens': 0, 'accepted_prediction_tokens': 0, 'rejected_prediction_tokens': 0}, 'prompt_tokens_details': {'audio_tokens': 0, 'cached_tokens': 1024}}, 'model_name': 'gpt-4o-mini-2024-07-18', 'system_fingerprint': 'fp_9b78b61c52', 'finish_reason': 'tool_calls', 'logprobs': None}, id='run-630cf654-486b-4d0a-9d94-418ae0273c23-0', tool_calls=[{'name': 'sql_db_query', 'args': {'query': \"SELECT pmId, pmName FROM promotores WHERE pmName LIKE 'ara%';\"}, 'id': 'call_qTmcHgsd9VnfGFDila6Fw0Cq', 'type': 'tool_call'}], usage_metadata={'input_tokens': 1192, 'output_tokens': 31, 'total_tokens': 1223, 'input_token_details': {'audio': 0, 'cache_read': 1024}, 'output_token_details': {'audio': 0, 'reasoning': 0}}),\n",
       " ToolMessage(content=\"[('RDBECOLIPMC01437', 'araHp7'), ('RDBECOLIPMC02411', 'araFp2'), ('RDBECOLIPMC02632', 'araFp3'), ('RDBECOLIPMC03318', 'araBp'), ('RDBECOLIPMC03319', 'araCp'), ('RDBECOLIPMC03397', 'araEp'), ('RDBECOLIPMC03421', 'araFp1'), ('RDBECOLIPMC03422', 'araJp')]\", name='sql_db_query', id='58f3d8b8-2cb6-46dd-9d36-b45df74edda7', tool_call_id='call_qTmcHgsd9VnfGFDila6Fw0Cq'),\n",
       " AIMessage(content=\"Los promotores que comienzan con 'ara' son:\\n\\n1. **araHp7** (pmId: RDBECOLIPMC01437)\\n2. **araFp2** (pmId: RDBECOLIPMC02411)\\n3. **araFp3** (pmId: RDBECOLIPMC02632)\\n4. **araBp** (pmId: RDBECOLIPMC03318)\\n5. **araCp** (pmId: RDBECOLIPMC03319)\\n\\nSi necesitas más información sobre alguno de ellos, házmelo saber.\", additional_kwargs={'refusal': None}, response_metadata={'token_usage': {'completion_tokens': 125, 'prompt_tokens': 1350, 'total_tokens': 1475, 'completion_tokens_details': {'audio_tokens': 0, 'reasoning_tokens': 0, 'accepted_prediction_tokens': 0, 'rejected_prediction_tokens': 0}, 'prompt_tokens_details': {'audio_tokens': 0, 'cached_tokens': 1152}}, 'model_name': 'gpt-4o-mini-2024-07-18', 'system_fingerprint': 'fp_9b78b61c52', 'finish_reason': 'stop', 'logprobs': None}, id='run-fb79c94d-1429-4055-bedd-32cc9775fd33-0', usage_metadata={'input_tokens': 1350, 'output_tokens': 125, 'total_tokens': 1475, 'input_token_details': {'audio': 0, 'cache_read': 1152}, 'output_token_details': {'audio': 0, 'reasoning': 0}}),\n",
       " AIMessage(content=\"Los promotores que comienzan con 'ara' son:\\n\\n1. **araHp7** (pmId: RDBECOLIPMC01437)\\n2. **araFp2** (pmId: RDBECOLIPMC02411)\\n3. **araFp3** (pmId: RDBECOLIPMC02632)\\n4. **araBp** (pmId: RDBECOLIPMC03318)\\n5. **araCp** (pmId: RDBECOLIPMC03319)\\n\\nSi necesitas más información sobre alguno de ellos, házmelo saber.\", additional_kwargs={'refusal': None}, response_metadata={'token_usage': {'completion_tokens': 125, 'prompt_tokens': 1350, 'total_tokens': 1475, 'completion_tokens_details': {'audio_tokens': 0, 'reasoning_tokens': 0, 'accepted_prediction_tokens': 0, 'rejected_prediction_tokens': 0}, 'prompt_tokens_details': {'audio_tokens': 0, 'cached_tokens': 1152}}, 'model_name': 'gpt-4o-mini-2024-07-18', 'system_fingerprint': 'fp_9b78b61c52', 'finish_reason': 'stop', 'logprobs': None}, id='run-fb79c94d-1429-4055-bedd-32cc9775fd33-0', usage_metadata={'input_tokens': 1350, 'output_tokens': 125, 'total_tokens': 1475, 'input_token_details': {'audio': 0, 'cache_read': 1152}, 'output_token_details': {'audio': 0, 'reasoning': 0}})]"
      ]
     },
     "execution_count": 67,
     "metadata": {},
     "output_type": "execute_result"
    }
   ],
   "source": [
    "agent_with_chat_history.get_session_history(\"<foo>\").messages"
   ]
  },
  {
   "cell_type": "code",
   "execution_count": 22,
   "metadata": {},
   "outputs": [
    {
     "data": {
      "text/plain": [
       "[HumanMessage(content='Hi, mi name is Leonel', additional_kwargs={}, response_metadata={}),\n",
       " HumanMessage(content='Hi, mi name is Leonel', additional_kwargs={}, response_metadata={}, id='0c53f05b-29a4-400a-b802-651e80a5fd75'),\n",
       " AIMessage(content='Hello Leonel! How can I assist you today? If you have any questions or need information from the database, feel free to ask!', additional_kwargs={'refusal': None}, response_metadata={'token_usage': {'completion_tokens': 29, 'prompt_tokens': 548, 'total_tokens': 577, 'completion_tokens_details': {'audio_tokens': 0, 'reasoning_tokens': 0, 'accepted_prediction_tokens': 0, 'rejected_prediction_tokens': 0}, 'prompt_tokens_details': {'audio_tokens': 0, 'cached_tokens': 0}}, 'model_name': 'gpt-4o-mini-2024-07-18', 'system_fingerprint': 'fp_0ba0d124f1', 'finish_reason': 'stop', 'logprobs': None}, id='run-4a7d7601-d2e5-4b1d-93d1-2ee42ac8788a-0', usage_metadata={'input_tokens': 548, 'output_tokens': 29, 'total_tokens': 577, 'input_token_details': {'audio': 0, 'cache_read': 0}, 'output_token_details': {'audio': 0, 'reasoning': 0}}),\n",
       " HumanMessage(content=\"what's my name?\", additional_kwargs={}, response_metadata={}),\n",
       " HumanMessage(content=\"what's my name?\", additional_kwargs={}, response_metadata={}, id='7135f5f7-c42c-4f69-b93c-471b917ff394'),\n",
       " AIMessage(content='', additional_kwargs={'tool_calls': [{'id': 'call_3VF6Z7F3SQbHHNufU9JWbwxa', 'function': {'arguments': '{}', 'name': 'sql_db_list_tables'}, 'type': 'function'}], 'refusal': None}, response_metadata={'token_usage': {'completion_tokens': 12, 'prompt_tokens': 546, 'total_tokens': 558, 'completion_tokens_details': {'audio_tokens': 0, 'reasoning_tokens': 0, 'accepted_prediction_tokens': 0, 'rejected_prediction_tokens': 0}, 'prompt_tokens_details': {'audio_tokens': 0, 'cached_tokens': 0}}, 'model_name': 'gpt-4o-mini-2024-07-18', 'system_fingerprint': 'fp_0ba0d124f1', 'finish_reason': 'tool_calls', 'logprobs': None}, id='run-0534bac7-6a7e-453e-a211-48dd9c76ac6f-0', tool_calls=[{'name': 'sql_db_list_tables', 'args': {}, 'id': 'call_3VF6Z7F3SQbHHNufU9JWbwxa', 'type': 'tool_call'}], usage_metadata={'input_tokens': 546, 'output_tokens': 12, 'total_tokens': 558, 'input_token_details': {'audio': 0, 'cache_read': 0}, 'output_token_details': {'audio': 0, 'reasoning': 0}}),\n",
       " ToolMessage(content='evidences, gene_products, operons, promotores, regulators, regulatory_interactions, terminators, transcription_factors, transcription_units', name='sql_db_list_tables', id='95687bc2-a200-4a03-90f9-bb64773f4e5a', tool_call_id='call_3VF6Z7F3SQbHHNufU9JWbwxa'),\n",
       " AIMessage(content='It seems that there are no tables in the database that could provide information about personal names. The available tables are related to biological data such as gene products, operons, and transcription factors. If you have any specific questions related to these topics, feel free to ask!', additional_kwargs={'refusal': None}, response_metadata={'token_usage': {'completion_tokens': 55, 'prompt_tokens': 596, 'total_tokens': 651, 'completion_tokens_details': {'audio_tokens': 0, 'reasoning_tokens': 0, 'accepted_prediction_tokens': 0, 'rejected_prediction_tokens': 0}, 'prompt_tokens_details': {'audio_tokens': 0, 'cached_tokens': 0}}, 'model_name': 'gpt-4o-mini-2024-07-18', 'system_fingerprint': 'fp_0ba0d124f1', 'finish_reason': 'stop', 'logprobs': None}, id='run-15f17410-ad25-44dc-a314-5556eabbb022-0', usage_metadata={'input_tokens': 596, 'output_tokens': 55, 'total_tokens': 651, 'input_token_details': {'audio': 0, 'cache_read': 0}, 'output_token_details': {'audio': 0, 'reasoning': 0}}),\n",
       " HumanMessage(content=\"what's my name?\", additional_kwargs={}, response_metadata={}),\n",
       " HumanMessage(content=\"what's my name?\", additional_kwargs={}, response_metadata={}, id='569572a5-e3db-46a4-b7f5-8a717d9bcc17'),\n",
       " AIMessage(content='', additional_kwargs={'tool_calls': [{'id': 'call_tlWfVxJAVui18Bs12GoPK6Xh', 'function': {'arguments': '{}', 'name': 'sql_db_list_tables'}, 'type': 'function'}], 'refusal': None}, response_metadata={'token_usage': {'completion_tokens': 12, 'prompt_tokens': 546, 'total_tokens': 558, 'completion_tokens_details': {'audio_tokens': 0, 'reasoning_tokens': 0, 'accepted_prediction_tokens': 0, 'rejected_prediction_tokens': 0}, 'prompt_tokens_details': {'audio_tokens': 0, 'cached_tokens': 0}}, 'model_name': 'gpt-4o-mini-2024-07-18', 'system_fingerprint': 'fp_9b78b61c52', 'finish_reason': 'tool_calls', 'logprobs': None}, id='run-0e050786-671f-4a59-a2a7-0f05b42566a1-0', tool_calls=[{'name': 'sql_db_list_tables', 'args': {}, 'id': 'call_tlWfVxJAVui18Bs12GoPK6Xh', 'type': 'tool_call'}], usage_metadata={'input_tokens': 546, 'output_tokens': 12, 'total_tokens': 558, 'input_token_details': {'audio': 0, 'cache_read': 0}, 'output_token_details': {'audio': 0, 'reasoning': 0}}),\n",
       " ToolMessage(content='evidences, gene_products, operons, promotores, regulators, regulatory_interactions, terminators, transcription_factors, transcription_units', name='sql_db_list_tables', id='4f34d9d8-b9e2-4c33-b11e-2dec0982e0e1', tool_call_id='call_tlWfVxJAVui18Bs12GoPK6Xh'),\n",
       " AIMessage(content=\"I don't have access to personal information about you, including your name. However, I can help you with information from the database. \\n\\nThe available tables in the database are: \\n- evidences\\n- gene_products\\n- operons\\n- promotores\\n- regulators\\n- regulatory_interactions\\n- terminators\\n- transcription_factors\\n- transcription_units\\n\\nIf you have any questions regarding these tables or their contents, feel free to ask!\", additional_kwargs={'refusal': None}, response_metadata={'token_usage': {'completion_tokens': 91, 'prompt_tokens': 596, 'total_tokens': 687, 'completion_tokens_details': {'audio_tokens': 0, 'reasoning_tokens': 0, 'accepted_prediction_tokens': 0, 'rejected_prediction_tokens': 0}, 'prompt_tokens_details': {'audio_tokens': 0, 'cached_tokens': 0}}, 'model_name': 'gpt-4o-mini-2024-07-18', 'system_fingerprint': 'fp_9b78b61c52', 'finish_reason': 'stop', 'logprobs': None}, id='run-8ae23226-d048-4a56-a436-9c40b09a177f-0', usage_metadata={'input_tokens': 596, 'output_tokens': 91, 'total_tokens': 687, 'input_token_details': {'audio': 0, 'cache_read': 0}, 'output_token_details': {'audio': 0, 'reasoning': 0}})]"
      ]
     },
     "execution_count": 22,
     "metadata": {},
     "output_type": "execute_result"
    }
   ],
   "source": [
    "# get_session_history(\"<foo>\").messages"
   ]
  },
  {
   "cell_type": "markdown",
   "metadata": {},
   "source": [
    "# retriever_tool with history"
   ]
  },
  {
   "cell_type": "code",
   "execution_count": 23,
   "metadata": {},
   "outputs": [
    {
     "name": "stderr",
     "output_type": "stream",
     "text": [
      "c:\\Users\\VALENCIA\\Documents\\cursos\\curso-langchain-qa-documents\\.venv\\Lib\\site-packages\\langsmith\\client.py:354: LangSmithMissingAPIKeyWarning: API key must be provided when using hosted LangSmith API\n",
      "  warnings.warn(\n"
     ]
    },
    {
     "data": {
      "text/plain": [
       "[SystemMessagePromptTemplate(prompt=PromptTemplate(input_variables=['dialect', 'top_k'], input_types={}, partial_variables={}, template='You are an agent designed to interact with a SQL database.\\nGiven an input question, create a syntactically correct {dialect} query to run, then look at the results of the query and return the answer.\\nUnless the user specifies a specific number of examples they wish to obtain, always limit your query to at most {top_k} results.\\nYou can order the results by a relevant column to return the most interesting examples in the database.\\nNever query for all the columns from a specific table, only ask for the relevant columns given the question.\\nYou have access to tools for interacting with the database.\\nOnly use the below tools. Only use the information returned by the below tools to construct your final answer.\\nYou MUST double check your query before executing it. If you get an error while executing a query, rewrite the query and try again.\\n\\nDO NOT make any DML statements (INSERT, UPDATE, DELETE, DROP etc.) to the database.\\n\\nTo start you should ALWAYS look at the tables in the database to see what you can query.\\nDo NOT skip this step.\\nThen you should query the schema of the most relevant tables.'), additional_kwargs={})]"
      ]
     },
     "execution_count": 23,
     "metadata": {},
     "output_type": "execute_result"
    }
   ],
   "source": [
    "# from langchain import hub\n",
    "# prompt = hub.pull(\"langchain-ai/sql-agent-system-prompt\")\n",
    "# prompt.messages"
   ]
  },
  {
   "cell_type": "code",
   "execution_count": 1,
   "metadata": {},
   "outputs": [],
   "source": [
    "import getpass\n",
    "import os\n",
    "from typing import Optional\n",
    "from dotenv import load_dotenv\n",
    "\n",
    "load_dotenv()\n",
    "\n",
    "from langchain_openai import ChatOpenAI\n",
    "from langchain_community.agent_toolkits import create_sql_agent\n",
    "from langchain_community.chat_message_histories import ChatMessageHistory\n",
    "from langchain_core.chat_history import BaseChatMessageHistory\n",
    "from langchain_core.messages import HumanMessage\n",
    "from langchain.schema import AIMessage, HumanMessage, SystemMessage\n",
    "from langchain_core.runnables.history import RunnableWithMessageHistory\n",
    "from langchain_community.utilities import SQLDatabase\n",
    "from sqlalchemy import create_engine"
   ]
  },
  {
   "cell_type": "code",
   "execution_count": 25,
   "metadata": {},
   "outputs": [],
   "source": [
    "engine = create_engine(\"sqlite:///../regulon.db\")\n",
    "db = SQLDatabase(engine=engine)\n",
    "# Crear el modelo y el agente SQL\n",
    "llm = ChatOpenAI(model=\"gpt-4o-mini\")\n",
    "agent_sql = create_sql_agent(llm, db=db, agent_type=\"openai-tools\", verbose=True)\n",
    "\n",
    "# Palabras clave para activar el agente SQL\n",
    "sql_keywords = [\"transcription unit\", \"tu\", \"tus\",\"transcription units\", \"promoter\", \"promotor\", \n",
    "                \"promotores\", \"sigma factor\", \"regulon\", \"evidence\",\"evidencia\",\"ri\",\"regulatory interaction\",\n",
    "                \"terminator\",\"terminators\",\"gene\",\"gene product\",\"gene products\",\"operon\",\"operons\",\n",
    "                \"regulador\",\"regulator\",\"regulators\",\"tf\",\"transcription factor\",\"transcription factors\"]\n",
    "\n",
    "# Almacén de memoria de conversaciones\n",
    "store = {}\n",
    "\n",
    "def get_session_history(session_id: str) -> BaseChatMessageHistory:\n",
    "    \"\"\"Obtiene o crea el historial de conversación para una sesión.\"\"\"\n",
    "    if session_id not in store:\n",
    "        store[session_id] = ChatMessageHistory()\n",
    "    return store[session_id]\n",
    "\n",
    "# Crear un wrapper con memoria\n",
    "agent_with_chat_history = RunnableWithMessageHistory(\n",
    "    agent_sql,\n",
    "    get_session_history,\n",
    "    input_messages_key=\"input\",\n",
    "    history_messages_key=\"chat_history\",\n",
    ")"
   ]
  },
  {
   "cell_type": "code",
   "execution_count": null,
   "metadata": {},
   "outputs": [],
   "source": [
    "# tools = [agent_sql, agent_with_chat_history]\n",
    "# model_with_tools = llm.bind_tools(tools)\n",
    "\n",
    "# from langchain_core.messages import HumanMessage\n",
    "# response = model_with_tools.invoke([HumanMessage(content=\"Hi!\")])\n",
    "\n",
    "# print(f\"ContentString: {response.content}\")\n",
    "# print(f\"ToolCalls: {response.tool_calls}\")\n",
    "\n",
    "# from langchain.agents import create_tool_calling_agent\n",
    "\n",
    "# agent = create_tool_calling_agent(model, tools, prompt)\n",
    "# from langchain.agents import AgentExecutor\n",
    "\n",
    "# agent_executor = AgentExecutor(agent=agent, tools=tools)"
   ]
  },
  {
   "cell_type": "code",
   "execution_count": 7,
   "metadata": {},
   "outputs": [],
   "source": [
    "def process_prompt(prompt: str, session_id: str):\n",
    "    \"\"\"Procesa el prompt, decide si usar el agente SQL o solo el LLM, y maneja el historial.\"\"\"\n",
    "    chat_history = get_session_history(session_id)\n",
    "    \n",
    "    # Decidir si usar el agente SQL o el LLM\n",
    "    if any(keyword in prompt.lower() for keyword in sql_keywords):\n",
    "        # Ajustar el límite en las consultas\n",
    "        if \"limit\" not in prompt.lower():\n",
    "            prompt += \" sin límite\"\n",
    "        \n",
    "        # Ejecutar con el agente SQL\n",
    "        response = agent_with_chat_history.invoke(\n",
    "            {\"input\": prompt},\n",
    "            config={\"configurable\": {\"session_id\": session_id}},\n",
    "        )[\"output\"]\n",
    "    else:\n",
    "        # Ejecutar directamente con el modelo, usando el historial\n",
    "        llm_response = llm.invoke(prompt)\n",
    "        chat_history.add_message(HumanMessage(content=prompt))\n",
    "        chat_history.add_message(AIMessage(content=llm_response.content))\n",
    "        print(\"llm\\n\")\n",
    "        response = llm_response.content\n",
    "\n",
    "    return response"
   ]
  },
  {
   "cell_type": "code",
   "execution_count": 8,
   "metadata": {},
   "outputs": [],
   "source": [
    "# Ejemplo de uso\n",
    "session_id = \"123\"  # Un identificador único por sesión"
   ]
  },
  {
   "cell_type": "code",
   "execution_count": 15,
   "metadata": {},
   "outputs": [
    {
     "name": "stdout",
     "output_type": "stream",
     "text": [
      "\n",
      "\n",
      "\u001b[1m> Entering new SQL Agent Executor chain...\u001b[0m\n",
      "\u001b[32;1m\u001b[1;3m\n",
      "Invoking: `sql_db_list_tables` with `{}`\n",
      "\n",
      "\n",
      "\u001b[0m\u001b[38;5;200m\u001b[1;3mevidences, gene_products, operons, promotores, regulators, regulatory_interactions, terminators, transcription_factors, transcription_units\u001b[0m\u001b[32;1m\u001b[1;3m\n",
      "Invoking: `sql_db_schema` with `{'table_names': 'promotores'}`\n",
      "\n",
      "\n",
      "\u001b[0m\u001b[33;1m\u001b[1;3m\n",
      "CREATE TABLE promotores (\n",
      "\t\"pmId\" TEXT, \n",
      "\t\"pmName\" TEXT, \n",
      "\tstrand TEXT, \n",
      "\t\"posTSS\" FLOAT, \n",
      "\t\"sigmaFactor\" TEXT, \n",
      "\t\"pmSequence\" TEXT, \n",
      "\t\"firstGeneName\" TEXT, \n",
      "\t\"distToFirstGene\" FLOAT, \n",
      "\t\"pmEvidence\" TEXT, \n",
      "\t\"addEvidence\" TEXT, \n",
      "\t\"confidenceLevel\" TEXT, \n",
      "\tpmids TEXT\n",
      ")\n",
      "\n",
      "/*\n",
      "3 rows from promotores table:\n",
      "pmId\tpmName\tstrand\tposTSS\tsigmaFactor\tpmSequence\tfirstGeneName\tdistToFirstGene\tpmEvidence\taddEvidence\tconfidenceLevel\tpmids\n",
      "RDBECOLIPMC00001\tspyp\treverse\t1825688.0\tsigma70\tacactttcattgttttaccgttgctctgattaattgacgctaaagtcagtaaagttaatcTcgtcaacacggcacgctact\tspy\t-63.0\t[COMP-AINF:W][COMP-HINF-POSITIONAL-IDENTIFICATION:W][EXP-IDA-TRANSCRIPTION-INIT-MAPPING:S]\tNone\tSTRONG\t14529615;16861804;9068658 \n",
      "RDBECOLIPMC00002\tyfeKp\tforward\t2537315.0\tsigma24\tccgatgatcctcatcgtaatccaaccgaaactttacctgattctggcagtcaaatcggctAtcacaaaacaaggataaggt\tyfeK\t-27.0\t[COMP-AINF:W][COMP-AINF-POSITIONAL-IDENTIFICATION:W][EXP-IDA-TRANSCRIPTION-INIT-MAPPING:S]\tNone\tSTRONG\t14529615;16336047 \n",
      "RDBECOLIPMC00003\tbepAp1\tforward\t2616068.0\tsigma24\tgccgttacactcaaaggcggcgcggtgggaacgatatttcacagtatcggtcaaatgactAtctccagaaatacaggatag\tbepA\t-26.0\t[COMP-AINF:W][COMP-AINF-POSITIONAL-IDENTIFICATION:W][EXP-IDA-TRANSCRIPTION-INIT-MAPPING:S]\tNone\tSTRONG\t14529615;16336047;31992590 \n",
      "*/\u001b[0m\u001b[32;1m\u001b[1;3m\n",
      "Invoking: `sql_db_schema` with `{'table_names': 'transcription_factors'}`\n",
      "\n",
      "\n",
      "\u001b[0m\u001b[33;1m\u001b[1;3m\n",
      "CREATE TABLE transcription_factors (\n",
      "\t\"tfId\" TEXT, \n",
      "\t\"tfName\" TEXT, \n",
      "\t\"tfSynonyms\" TEXT, \n",
      "\t\"geneCodingForTF\" TEXT, \n",
      "\t\"geneBnumberCodingForTF\" TEXT, \n",
      "\t\"tfActiveConformations\" TEXT, \n",
      "\t\"tfInactiveConformations\" TEXT, \n",
      "\t\"tfActiveConformationsSynonyms\" TEXT, \n",
      "\t\"tfInactiveConformationsSynonyms\" FLOAT, \n",
      "\t\"tfActiveConformationsEffector\" TEXT, \n",
      "\t\"tfInactiveConformationsEffector\" TEXT, \n",
      "\t\"tfActiveConformationsEffectorSynonyms\" TEXT, \n",
      "\t\"tfInactiveConformationsEffectorSynonyms\" TEXT, \n",
      "\tsymmetry TEXT, \n",
      "\t\"tfEvidences\" TEXT, \n",
      "\t\"additiveEvidences\" FLOAT, \n",
      "\t\"confidenceLevel\" TEXT, \n",
      "\t\"tfConformationPMID \" TEXT\n",
      ")\n",
      "\n",
      "/*\n",
      "3 rows from transcription_factors table:\n",
      "tfId\ttfName\ttfSynonyms\tgeneCodingForTF\tgeneBnumberCodingForTF\ttfActiveConformations\ttfInactiveConformations\ttfActiveConformationsSynonyms\ttfInactiveConformationsSynonyms\ttfActiveConformationsEffector\ttfInactiveConformationsEffector\ttfActiveConformationsEffectorSynonyms\ttfInactiveConformationsEffectorSynonyms\tsymmetry\ttfEvidences\tadditiveEvidences\tconfidenceLevel\ttfConformationPMID \n",
      "RDBECOLITFC00001\tExuR\tExuR;negative regulator of exu regulon, exuT, uxaAC, and uxuB\texuR\tb3094\tExuR;ExuR-&alpha;-D-galacturonate, &alpha;-D-glucuronate-DNA-binding transcriptional repressor\tExuR-&alpha;-D-glucuronate\tExuR;negative regulator of exu regulon, exuT, uxaAC, and uxuB\tNone\t&alpha;-D-galacturonate\t&alpha;-D-glucuronate\t&alpha;-D-galacturonic acid\t&alpha;-D-glucuronic acid;&alpha;-D-glucopyranuronic acid\t|INVERTED-REPEAT|\t[EXP:W]\tNone\tWEAK\t6357945 \n",
      "RDBECOLITFC00002\tAsnC\tAsnC\tasnC\tb3743\tDNA-binding transcriptional dual regulator AsnC\tAsnC-L-asparagine\tAsnC\tNone\tNone\tL-asparagine\tNone\tasparagine;&alpha;-aminosuccinamic acid;(-)-asparagine;(S)-2,4-diamino-4-oxobutanoic acid;(S)-aspara\t|INVERTED-REPEAT|\t[COMP-HINF-FN-FROM-SEQ:W][EXP-IEP:W][EXP-IPI:W]\tNone\tWEAK\t6357950; 7686882; 16528101; 2864330 \n",
      "RDBECOLITFC00003\tDan\tDan;TtdR;YgiP\tttdR\tb3060\tDan-L-tartrate DNA-binding transcriptional activator\tNone\tNone\tNone\tL-tartrate\tNone\tweinsaeure;(+)-tartrate;tartrate;tartaric acid;(R,R)-tartrate;L-tartaric acid;L(+)-tartaric acid;(2R\tNone\tNone\t[COMP-HINF-FN-FROM-SEQ:W][EXP-IDA-PART-PURIFIED-PROTEIN-NH:W][EXP-IDA:W][IDA-PURIFIED-PROTEIN-NH:S][\tNone\tSTRONG\t19661178; 20156994 \n",
      "*/\u001b[0m\u001b[32;1m\u001b[1;3m\n",
      "Invoking: `sql_db_schema` with `{'table_names': 'regulators'}`\n",
      "\n",
      "\n",
      "\u001b[0m\u001b[33;1m\u001b[1;3m\n",
      "CREATE TABLE regulators (\n",
      "\t\"regulatorId\" TEXT, \n",
      "\t\"regulatorName\" TEXT, \n",
      "\t\"regulatorSynonyms\" TEXT, \n",
      "\t\"regulatorType\" TEXT, \n",
      "\t\"geneCodingForRegulator\" TEXT, \n",
      "\t\"geneBnumberCodingForRegulator\" TEXT, \n",
      "\t\"regulatorActiveConformations\" TEXT, \n",
      "\t\"regulatorInactiveConformations\" TEXT, \n",
      "\t\"regulatorActiveConformationsSynonyms\" TEXT, \n",
      "\t\"regulatorInactiveConformationsSynonyms\" FLOAT, \n",
      "\t\"regulatorActiveConformationsEffector\" TEXT, \n",
      "\t\"regulatorInactiveConformationsEffector\" TEXT, \n",
      "\t\"regulatorActiveConformationsEffectorSynonyms\" TEXT, \n",
      "\t\"regulatorInactiveConformationsEffectorSynonyms\" TEXT, \n",
      "\tsymmetry TEXT, \n",
      "\t\"regulatorEvidences\" TEXT, \n",
      "\t\"additiveEvidences\" FLOAT, \n",
      "\t\"confidenceLevel\" TEXT, \n",
      "\t\"regulatorConformationPMID \" TEXT\n",
      ")\n",
      "\n",
      "/*\n",
      "3 rows from regulators table:\n",
      "regulatorId\tregulatorName\tregulatorSynonyms\tregulatorType\tgeneCodingForRegulator\tgeneBnumberCodingForRegulator\tregulatorActiveConformations\tregulatorInactiveConformations\tregulatorActiveConformationsSynonyms\tregulatorInactiveConformationsSynonyms\tregulatorActiveConformationsEffector\tregulatorInactiveConformationsEffector\tregulatorActiveConformationsEffectorSynonyms\tregulatorInactiveConformationsEffectorSynonyms\tsymmetry\tregulatorEvidences\tadditiveEvidences\tconfidenceLevel\tregulatorConformationPMID \n",
      "RDBECOLITFC00001\tExuR\tExuR;negative regulator of exu regulon, exuT, uxaAC, and uxuB\ttranscriptionFactor\texuR\tb3094\tExuR;ExuR-&alpha;-D-galacturonate, &alpha;-D-glucuronate-DNA-binding transcriptional repressor\tExuR-&alpha;-D-glucuronate\tExuR;negative regulator of exu regulon, exuT, uxaAC, and uxuB\tNone\t&alpha;-D-galacturonate\t&alpha;-D-glucuronate\t&alpha;-D-galacturonic acid\t&alpha;-D-glucuronic acid;&alpha;-D-glucopyranuronic acid\t|INVERTED-REPEAT|\t[EXP:W]\tNone\tWEAK\t6357945 \n",
      "RDBECOLITFC00002\tAsnC\tAsnC\ttranscriptionFactor\tasnC\tb3743\tDNA-binding transcriptional dual regulator AsnC\tAsnC-L-asparagine\tAsnC\tNone\tNone\tL-asparagine\tNone\tasparagine;&alpha;-aminosuccinamic acid;(-)-asparagine;(S)-2,4-diamino-4-oxobutanoic acid;(S)-aspara\t|INVERTED-REPEAT|\t[COMP-HINF-FN-FROM-SEQ:W][EXP-IEP:W][EXP-IPI:W]\tNone\tWEAK\t6357950; 7686882; 16528101; 2864330 \n",
      "RDBECOLITFC00003\tDan\tDan;TtdR;YgiP\ttranscriptionFactor\tttdR\tb3060\tDan-L-tartrate DNA-binding transcriptional activator\tNone\tNone\tNone\tL-tartrate\tNone\tweinsaeure;(+)-tartrate;tartrate;tartaric acid;(R,R)-tartrate;L-tartaric acid;L(+)-tartaric acid;(2R\tNone\tNone\t[COMP-HINF-FN-FROM-SEQ:W][EXP-IDA-PART-PURIFIED-PROTEIN-NH:W][EXP-IDA:W][IDA-PURIFIED-PROTEIN-NH:S][\tNone\tSTRONG\t19661178; 20156994 \n",
      "*/\u001b[0m\u001b[32;1m\u001b[1;3m\n",
      "Invoking: `sql_db_query_checker` with `{'query': \"SELECT pmName FROM promotores WHERE sigmaFactor = 'sigma54' LIMIT 10;\"}`\n",
      "responded: The relevant table for querying the names of promoters regulated by the sigma factor sigma54 is the `promotores` table, which contains a column named `sigmaFactor` that can be used to filter the results.\n",
      "\n",
      "I will construct a query to select the `pmName` of the promoters where the `sigmaFactor` is 'sigma54'. Let's check the query before executing it. \n",
      "\n",
      "Here is the query I will run:\n",
      "```sql\n",
      "SELECT pmName FROM promotores WHERE sigmaFactor = 'sigma54' LIMIT 10;\n",
      "```\n",
      "\n",
      "Now, I will check the query for correctness.\n",
      "\n",
      "\u001b[0m\u001b[36;1m\u001b[1;3m```sql\n",
      "SELECT pmName FROM promotores WHERE sigmaFactor = 'sigma54' LIMIT 10;\n",
      "```\u001b[0m\u001b[32;1m\u001b[1;3m\n",
      "Invoking: `sql_db_query` with `{'query': \"SELECT pmName FROM promotores WHERE sigmaFactor = 'sigma54' LIMIT 10;\"}`\n",
      "\n",
      "\n",
      "\u001b[0m\u001b[36;1m\u001b[1;3m[('yahEp',), ('yaaUp',), ('crlp2',), ('nikAp2',), ('emrDp',), ('yhjCp',), ('ygfKp',), ('radDp',), ('htpGp3',), ('flhDp2',)]\u001b[0m\u001b[32;1m\u001b[1;3mLos nombres de los promotores regulados por el sigma factor sigma54 son:\n",
      "\n",
      "1. yahEp\n",
      "2. yaaUp\n",
      "3. crlp2\n",
      "4. nikAp2\n",
      "5. emrDp\n",
      "6. yhjCp\n",
      "7. ygfKp\n",
      "8. radDp\n",
      "9. htpGp3\n",
      "10. flhDp2\u001b[0m\n",
      "\n",
      "\u001b[1m> Finished chain.\u001b[0m\n",
      "Los nombres de los promotores regulados por el sigma factor sigma54 son:\n",
      "\n",
      "1. yahEp\n",
      "2. yaaUp\n",
      "3. crlp2\n",
      "4. nikAp2\n",
      "5. emrDp\n",
      "6. yhjCp\n",
      "7. ygfKp\n",
      "8. radDp\n",
      "9. htpGp3\n",
      "10. flhDp2\n"
     ]
    }
   ],
   "source": [
    "prompt_1 = \"Devuelve todos los nombres de los promotores regulados por el sigma factor sigma54\"\n",
    "response_1 = process_prompt(prompt_1, session_id)\n",
    "print(response_1[\"output\"])"
   ]
  },
  {
   "cell_type": "code",
   "execution_count": 9,
   "metadata": {},
   "outputs": [
    {
     "name": "stdout",
     "output_type": "stream",
     "text": [
      "\n",
      "\n",
      "\u001b[1m> Entering new SQL Agent Executor chain...\u001b[0m\n",
      "\u001b[32;1m\u001b[1;3m\n",
      "Invoking: `sql_db_list_tables` with `{}`\n",
      "\n",
      "\n",
      "\u001b[0m\u001b[38;5;200m\u001b[1;3mevidences, gene_products, operons, promotores, regulators, regulatory_interactions, terminators, transcription_factors, transcription_units\u001b[0m\u001b[32;1m\u001b[1;3m\n",
      "Invoking: `sql_db_schema` with `{'table_names': 'promotores'}`\n",
      "\n",
      "\n",
      "\u001b[0m\u001b[33;1m\u001b[1;3m\n",
      "CREATE TABLE promotores (\n",
      "\t\"pmId\" TEXT, \n",
      "\t\"pmName\" TEXT, \n",
      "\tstrand TEXT, \n",
      "\t\"posTSS\" FLOAT, \n",
      "\t\"sigmaFactor\" TEXT, \n",
      "\t\"pmSequence\" TEXT, \n",
      "\t\"firstGeneName\" TEXT, \n",
      "\t\"distToFirstGene\" FLOAT, \n",
      "\t\"pmEvidence\" TEXT, \n",
      "\t\"addEvidence\" TEXT, \n",
      "\t\"confidenceLevel\" TEXT, \n",
      "\t\"pmids(reference)\" TEXT\n",
      ")\n",
      "\n",
      "/*\n",
      "3 rows from promotores table:\n",
      "pmId\tpmName\tstrand\tposTSS\tsigmaFactor\tpmSequence\tfirstGeneName\tdistToFirstGene\tpmEvidence\taddEvidence\tconfidenceLevel\tpmids(reference)\n",
      "RDBECOLIPMC00001\tspyp\treverse\t1825688.0\tsigma70\tacactttcattgttttaccgttgctctgattaattgacgctaaagtcagtaaagttaatcTcgtcaacacggcacgctact\tspy\t-63.0\t[COMP-AINF:W][COMP-HINF-POSITIONAL-IDENTIFICATION:W][EXP-IDA-TRANSCRIPTION-INIT-MAPPING:S]\tNone\tSTRONG\t14529615;16861804;9068658 \n",
      "RDBECOLIPMC00002\tyfeKp\tforward\t2537315.0\tsigma24\tccgatgatcctcatcgtaatccaaccgaaactttacctgattctggcagtcaaatcggctAtcacaaaacaaggataaggt\tyfeK\t-27.0\t[COMP-AINF:W][COMP-AINF-POSITIONAL-IDENTIFICATION:W][EXP-IDA-TRANSCRIPTION-INIT-MAPPING:S]\tNone\tSTRONG\t14529615;16336047 \n",
      "RDBECOLIPMC00003\tbepAp1\tforward\t2616068.0\tsigma24\tgccgttacactcaaaggcggcgcggtgggaacgatatttcacagtatcggtcaaatgactAtctccagaaatacaggatag\tbepA\t-26.0\t[COMP-AINF:W][COMP-AINF-POSITIONAL-IDENTIFICATION:W][EXP-IDA-TRANSCRIPTION-INIT-MAPPING:S]\tNone\tSTRONG\t14529615;16336047;31992590 \n",
      "*/\u001b[0m\u001b[32;1m\u001b[1;3m\n",
      "Invoking: `sql_db_schema` with `{'table_names': 'evidences'}`\n",
      "\n",
      "\n",
      "\u001b[0m\u001b[33;1m\u001b[1;3m\n",
      "CREATE TABLE evidences (\n",
      "\tevidence_code TEXT, \n",
      "\tevidence_name TEXT, \n",
      "\tevidence_group FLOAT, \n",
      "\tconfidence_level TEXT, \n",
      "\tobject_type TEXT, \n",
      "\t\"evidence_category \" TEXT\n",
      ")\n",
      "\n",
      "/*\n",
      "3 rows from evidences table:\n",
      "evidence_code\tevidence_name\tevidence_group\tconfidence_level\tobject_type\tevidence_category \n",
      "EXP-IGI-FUNC-COMPLEMENTATION\tInferred by functional complementation\tNone\tSTRONG\tTranscription Factors\tClassical experiment \n",
      "EXP-IDA-UNPURIFIED-PROTEIN-NH\tAssay of unpurified protein expressed in its native host\tNone\tWEAK\tTranscription Factors\tClassical experiment \n",
      "EXP-CHIP-EXO-MANUAL\tChIP-exo evidence used in manual assertion\t4.0\tWEAK\tRegulatory Interactions\tHigh-throughput binding \n",
      "*/\u001b[0m\u001b[32;1m\u001b[1;3m\n",
      "Invoking: `sql_db_query_checker` with `{'query': \"SELECT p.pmId, p.pmName, p.pmEvidence, p.confidenceLevel \\nFROM promotores p \\nWHERE p.pmName = 'araJ'\"}`\n",
      "\n",
      "\n",
      "\u001b[0m\u001b[36;1m\u001b[1;3m```sql\n",
      "SELECT p.pmId, p.pmName, p.pmEvidence, p.confidenceLevel \n",
      "FROM promotores p \n",
      "WHERE p.pmName = 'araJ'\n",
      "```\u001b[0m\u001b[32;1m\u001b[1;3m\n",
      "Invoking: `sql_db_query` with `{'query': \"SELECT p.pmId, p.pmName, p.pmEvidence, p.confidenceLevel \\nFROM promotores p \\nWHERE p.pmName = 'araJ'\"}`\n",
      "\n",
      "\n",
      "\u001b[0m\u001b[36;1m\u001b[1;3m\u001b[0m\u001b[32;1m\u001b[1;3mNo se encontraron evidencias relacionadas con el promotor araJ en la base de datos.\u001b[0m\n",
      "\n",
      "\u001b[1m> Finished chain.\u001b[0m\n",
      "No se encontraron evidencias relacionadas con el promotor araJ en la base de datos.\n"
     ]
    }
   ],
   "source": [
    "prompt_2 = \"¿Cuál es la evidencia del promotor araJ?\"\n",
    "response_2 = process_prompt(prompt_2, session_id)\n",
    "print(response_2)"
   ]
  },
  {
   "cell_type": "code",
   "execution_count": 10,
   "metadata": {},
   "outputs": [
    {
     "data": {
      "text/plain": [
       "[HumanMessage(content='¿Cuál es la evidencia del promotor araJ? sin límite', additional_kwargs={}, response_metadata={}),\n",
       " AIMessage(content='No se encontraron evidencias relacionadas con el promotor araJ en la base de datos.', additional_kwargs={}, response_metadata={})]"
      ]
     },
     "execution_count": 10,
     "metadata": {},
     "output_type": "execute_result"
    }
   ],
   "source": [
    "chat_history = get_session_history(session_id=\"123\")\n",
    "chat_history.messages"
   ]
  },
  {
   "cell_type": "code",
   "execution_count": 9,
   "metadata": {},
   "outputs": [
    {
     "name": "stdout",
     "output_type": "stream",
     "text": [
      "\n",
      "\n",
      "\u001b[1m> Entering new SQL Agent Executor chain...\u001b[0m\n",
      "\u001b[32;1m\u001b[1;3m\n",
      "Invoking: `sql_db_list_tables` with `{}`\n",
      "\n",
      "\n",
      "\u001b[0m\u001b[38;5;200m\u001b[1;3mevidences, gene_products, operons, promotores, regulators, regulatory_interactions, terminators, transcription_factors, transcription_units\u001b[0m\u001b[32;1m\u001b[1;3m\n",
      "Invoking: `sql_db_schema` with `{'table_names': 'promotores'}`\n",
      "\n",
      "\n",
      "\u001b[0m\u001b[33;1m\u001b[1;3m\n",
      "CREATE TABLE promotores (\n",
      "\t\"pmId\" TEXT, \n",
      "\t\"pmName\" TEXT, \n",
      "\tstrand TEXT, \n",
      "\t\"posTSS\" FLOAT, \n",
      "\t\"sigmaFactor\" TEXT, \n",
      "\t\"pmSequence\" TEXT, \n",
      "\t\"firstGeneName\" TEXT, \n",
      "\t\"distToFirstGene\" FLOAT, \n",
      "\t\"pmEvidence\" TEXT, \n",
      "\t\"addEvidence\" TEXT, \n",
      "\t\"confidenceLevel\" TEXT, \n",
      "\t\"pmids(reference)\" TEXT\n",
      ")\n",
      "\n",
      "/*\n",
      "3 rows from promotores table:\n",
      "pmId\tpmName\tstrand\tposTSS\tsigmaFactor\tpmSequence\tfirstGeneName\tdistToFirstGene\tpmEvidence\taddEvidence\tconfidenceLevel\tpmids(reference)\n",
      "RDBECOLIPMC00001\tspyp\treverse\t1825688.0\tsigma70\tacactttcattgttttaccgttgctctgattaattgacgctaaagtcagtaaagttaatcTcgtcaacacggcacgctact\tspy\t-63.0\t[COMP-AINF:W][COMP-HINF-POSITIONAL-IDENTIFICATION:W][EXP-IDA-TRANSCRIPTION-INIT-MAPPING:S]\tNone\tSTRONG\t14529615;16861804;9068658 \n",
      "RDBECOLIPMC00002\tyfeKp\tforward\t2537315.0\tsigma24\tccgatgatcctcatcgtaatccaaccgaaactttacctgattctggcagtcaaatcggctAtcacaaaacaaggataaggt\tyfeK\t-27.0\t[COMP-AINF:W][COMP-AINF-POSITIONAL-IDENTIFICATION:W][EXP-IDA-TRANSCRIPTION-INIT-MAPPING:S]\tNone\tSTRONG\t14529615;16336047 \n",
      "RDBECOLIPMC00003\tbepAp1\tforward\t2616068.0\tsigma24\tgccgttacactcaaaggcggcgcggtgggaacgatatttcacagtatcggtcaaatgactAtctccagaaatacaggatag\tbepA\t-26.0\t[COMP-AINF:W][COMP-AINF-POSITIONAL-IDENTIFICATION:W][EXP-IDA-TRANSCRIPTION-INIT-MAPPING:S]\tNone\tSTRONG\t14529615;16336047;31992590 \n",
      "*/\u001b[0m\u001b[32;1m\u001b[1;3m\n",
      "Invoking: `sql_db_schema` with `{'table_names': 'transcription_factors'}`\n",
      "\n",
      "\n",
      "\u001b[0m\u001b[33;1m\u001b[1;3m\n",
      "CREATE TABLE transcription_factors (\n",
      "\t\"tfId\" TEXT, \n",
      "\t\"tfName\" TEXT, \n",
      "\t\"tfSynonyms\" TEXT, \n",
      "\t\"geneCodingForTF\" TEXT, \n",
      "\t\"geneBnumberCodingForTF\" TEXT, \n",
      "\t\"tfActiveConformations\" TEXT, \n",
      "\t\"tfInactiveConformations\" TEXT, \n",
      "\t\"tfActiveConformationsSynonyms\" TEXT, \n",
      "\t\"tfInactiveConformationsSynonyms\" FLOAT, \n",
      "\t\"tfActiveConformationsEffector\" TEXT, \n",
      "\t\"tfInactiveConformationsEffector\" TEXT, \n",
      "\t\"tfActiveConformationsEffectorSynonyms\" TEXT, \n",
      "\t\"tfInactiveConformationsEffectorSynonyms\" TEXT, \n",
      "\tsymmetry TEXT, \n",
      "\t\"tfEvidences\" TEXT, \n",
      "\t\"additiveEvidences\" FLOAT, \n",
      "\t\"confidenceLevel\" TEXT, \n",
      "\t\"tfConformationPMID \" TEXT\n",
      ")\n",
      "\n",
      "/*\n",
      "3 rows from transcription_factors table:\n",
      "tfId\ttfName\ttfSynonyms\tgeneCodingForTF\tgeneBnumberCodingForTF\ttfActiveConformations\ttfInactiveConformations\ttfActiveConformationsSynonyms\ttfInactiveConformationsSynonyms\ttfActiveConformationsEffector\ttfInactiveConformationsEffector\ttfActiveConformationsEffectorSynonyms\ttfInactiveConformationsEffectorSynonyms\tsymmetry\ttfEvidences\tadditiveEvidences\tconfidenceLevel\ttfConformationPMID \n",
      "RDBECOLITFC00001\tExuR\tExuR;negative regulator of exu regulon, exuT, uxaAC, and uxuB\texuR\tb3094\tExuR;ExuR-&alpha;-D-galacturonate, &alpha;-D-glucuronate-DNA-binding transcriptional repressor\tExuR-&alpha;-D-glucuronate\tExuR;negative regulator of exu regulon, exuT, uxaAC, and uxuB\tNone\t&alpha;-D-galacturonate\t&alpha;-D-glucuronate\t&alpha;-D-galacturonic acid\t&alpha;-D-glucuronic acid;&alpha;-D-glucopyranuronic acid\t|INVERTED-REPEAT|\t[EXP:W]\tNone\tWEAK\t6357945 \n",
      "RDBECOLITFC00002\tAsnC\tAsnC\tasnC\tb3743\tDNA-binding transcriptional dual regulator AsnC\tAsnC-L-asparagine\tAsnC\tNone\tNone\tL-asparagine\tNone\tasparagine;&alpha;-aminosuccinamic acid;(-)-asparagine;(S)-2,4-diamino-4-oxobutanoic acid;(S)-aspara\t|INVERTED-REPEAT|\t[COMP-HINF-FN-FROM-SEQ:W][EXP-IEP:W][EXP-IPI:W]\tNone\tWEAK\t6357950; 7686882; 16528101; 2864330 \n",
      "RDBECOLITFC00003\tDan\tDan;TtdR;YgiP\tttdR\tb3060\tDan-L-tartrate DNA-binding transcriptional activator\tNone\tNone\tNone\tL-tartrate\tNone\tweinsaeure;(+)-tartrate;tartrate;tartaric acid;(R,R)-tartrate;L-tartaric acid;L(+)-tartaric acid;(2R\tNone\tNone\t[COMP-HINF-FN-FROM-SEQ:W][EXP-IDA-PART-PURIFIED-PROTEIN-NH:W][EXP-IDA:W][IDA-PURIFIED-PROTEIN-NH:S][\tNone\tSTRONG\t19661178; 20156994 \n",
      "*/\u001b[0m\u001b[32;1m\u001b[1;3m\n",
      "Invoking: `sql_db_query_checker` with `{'query': \"SELECT pmId, pmName, pmEvidence, pmids(reference) FROM promotores WHERE pmName = 'yahEp'\"}`\n",
      "\n",
      "\n",
      "\u001b[0m\u001b[36;1m\u001b[1;3m```sql\n",
      "SELECT pmId, pmName, pmEvidence, pmids(reference) FROM promotores WHERE pmName = 'yahEp'\n",
      "```\u001b[0m\u001b[32;1m\u001b[1;3m\n",
      "Invoking: `sql_db_query` with `{'query': 'SELECT pmId, pmName, pmEvidence, \"pmids(reference)\" FROM promotores WHERE pmName = \\'yahEp\\''}`\n",
      "\n",
      "\n",
      "\u001b[0m\u001b[36;1m\u001b[1;3m[('RDBECOLIPMC00324', 'yahEp', '[COMP-AINF:W][COMP-HINF-POSITIONAL-IDENTIFICATION:W][EXP-IEP:W]', '14529615;19969540;10536136 ')]\u001b[0m\u001b[32;1m\u001b[1;3mLa referencia del promotor **yahEp** es **RDBECOLIPMC00324**. La evidencia asociada es **[COMP-AINF:W][COMP-HINF-POSITIONAL-IDENTIFICATION:W][EXP-IEP:W]** y sus identificadores de referencia son **14529615;19969540;10536136**.\u001b[0m\n",
      "\n",
      "\u001b[1m> Finished chain.\u001b[0m\n",
      "{'input': 'cual es la referencia del promotor yahEp sin límite', 'chat_history': [], 'output': 'La referencia del promotor **yahEp** es **RDBECOLIPMC00324**. La evidencia asociada es **[COMP-AINF:W][COMP-HINF-POSITIONAL-IDENTIFICATION:W][EXP-IEP:W]** y sus identificadores de referencia son **14529615;19969540;10536136**.'}\n"
     ]
    }
   ],
   "source": [
    "answer = process_prompt(\"cual es la referencia del promotor yahEp\", session_id) \n",
    "print(answer)"
   ]
  },
  {
   "cell_type": "markdown",
   "metadata": {},
   "source": [
    "# PythonAstREPLTool con varios dfs"
   ]
  },
  {
   "cell_type": "code",
   "execution_count": 15,
   "metadata": {},
   "outputs": [],
   "source": [
    "from langchain_core.prompts import ChatPromptTemplate\n",
    "from langchain_core.output_parsers.openai_tools import JsonOutputKeyToolsParser\n",
    "from operator import itemgetter\n",
    "\n",
    "from langchain_core.messages import ToolMessage\n",
    "from langchain_core.output_parsers import StrOutputParser\n",
    "from langchain_core.prompts import MessagesPlaceholder\n",
    "from langchain_core.runnables import RunnablePassthrough"
   ]
  },
  {
   "cell_type": "code",
   "execution_count": 17,
   "metadata": {},
   "outputs": [
    {
     "data": {
      "text/plain": [
       "323      yahEp\n",
       "324      yaaUp\n",
       "325      crlp2\n",
       "326     nikAp2\n",
       "327      emrDp\n",
       "         ...  \n",
       "4002      nacp\n",
       "4010     glnKp\n",
       "4019     hyfAp\n",
       "4026     zraPp\n",
       "4027     zraSp\n",
       "Name: pmName, Length: 101, dtype: object"
      ]
     },
     "execution_count": 17,
     "metadata": {},
     "output_type": "execute_result"
    }
   ],
   "source": [
    "df_1 = pd.read_csv(\"../data/PromoterSet.tsv\", sep=\"\\t\")\n",
    "df_2 = pd.read_csv(\"../data/TUSet.tsv\", sep=\"\\t\")\n",
    "tool = PythonAstREPLTool(locals={\"df_1\": df_1, \"df_2\": df_2})\n",
    "llm_with_tool = llm.bind_tools(tools=[tool], tool_choice=tool.name)\n",
    "df_template = \"\"\"\\`\\`\\`python\n",
    "{df_name}.head().to_markdown()\n",
    ">>> {df_head}\n",
    "\\`\\`\\`\"\"\"\n",
    "df_context = \"\\n\\n\".join(\n",
    "    df_template.format(df_head=_df.head().to_markdown(), df_name=df_name)\n",
    "    for _df, df_name in [(df_1, \"df_1\"), (df_2, \"df_2\")]\n",
    ")\n",
    "\n",
    "system = f\"\"\"You have access to a number of pandas dataframes. \\\n",
    "Here is a sample of rows from each dataframe and the python code that was used to generate the sample:\n",
    "\n",
    "{df_context}\n",
    "\n",
    "Given a user question about the dataframes, write the Python code to answer it. \\\n",
    "Don't assume you have access to any libraries other than built-in Python ones and pandas. \\\n",
    "Make sure to refer only to the variables mentioned above.\"\"\"\n",
    "prompt = ChatPromptTemplate.from_messages([(\"system\", system), (\"human\", \"{question}\"), ])\n",
    "\n",
    "parser = JsonOutputKeyToolsParser(key_name=tool.name, first_tool_only=True)\n",
    "\n",
    "chain = prompt | llm_with_tool | parser | tool\n",
    "chain.invoke(\n",
    "    {\n",
    "        \"question\": \"cuales son los nombres de los promotores que esten regulados por el sigma factor sigma54?\"\n",
    "    }\n",
    ")"
   ]
  },
  {
   "cell_type": "code",
   "execution_count": 18,
   "metadata": {},
   "outputs": [],
   "source": [
    "df_1 = pd.read_csv(\"../data/PromoterSet.tsv\", sep=\"\\t\")\n",
    "df_2 = pd.read_csv(\"../data/TUSet.tsv\", sep=\"\\t\")\n",
    "tool = PythonAstREPLTool(locals={\"df_1\": df_1, \"df_2\": df_2})\n",
    "llm_with_tool = llm.bind_tools(tools=[tool], tool_choice=tool.name)\n",
    "df_template = \"\"\"\\`\\`\\`python\n",
    "{df_name}.head().to_markdown()\n",
    ">>> {df_head}\n",
    "\\`\\`\\`\"\"\"\n",
    "df_context = \"\\n\\n\".join(\n",
    "    df_template.format(df_head=_df.head().to_markdown(), df_name=df_name)\n",
    "    for _df, df_name in [(df_1, \"df_1\"), (df_2, \"df_2\")]\n",
    ")\n",
    "\n",
    "system = f\"\"\"You have access to a number of pandas dataframes. \\\n",
    "Here is a sample of rows from each dataframe and the python code that was used to generate the sample:\n",
    "\n",
    "{df_context}\n",
    "\n",
    "Given a user question about the dataframes, write the Python code to answer it. \\\n",
    "Don't assume you have access to any libraries other than built-in Python ones and pandas. \\\n",
    "Make sure to refer only to the variables mentioned above.\"\"\"\n",
    "prompt = ChatPromptTemplate.from_messages([(\"system\", system), (\"human\", \"{question}\"), MessagesPlaceholder(\"chat_history\", optional=True),])\n",
    "\n",
    "def _get_chat_history(x: dict) -> list:\n",
    "    \"\"\"Parse the chain output up to this point into a list of chat history messages to insert in the prompt.\"\"\"\n",
    "    ai_msg = x[\"ai_msg\"]\n",
    "    tool_call_id = x[\"ai_msg\"].additional_kwargs[\"tool_calls\"][0][\"id\"]\n",
    "    tool_msg = ToolMessage(tool_call_id=tool_call_id, content=str(x[\"tool_output\"]))\n",
    "    return [ai_msg, tool_msg]\n",
    "\n",
    "parser = JsonOutputKeyToolsParser(key_name=tool.name, first_tool_only=True)\n",
    "\n",
    "chain = (\n",
    "    RunnablePassthrough.assign(ai_msg=prompt | llm_with_tool)\n",
    "    .assign(tool_output=itemgetter(\"ai_msg\") | parser | tool)\n",
    "    .assign(chat_history=_get_chat_history)\n",
    "    .assign(response=prompt | llm | StrOutputParser())\n",
    "    .pick([\"tool_output\", \"response\"])\n",
    ")"
   ]
  },
  {
   "cell_type": "code",
   "execution_count": 19,
   "metadata": {},
   "outputs": [
    {
     "data": {
      "text/plain": [
       "{'tool_output': 323      yahEp\n",
       " 324      yaaUp\n",
       " 325      crlp2\n",
       " 326     nikAp2\n",
       " 327      emrDp\n",
       "          ...  \n",
       " 4002      nacp\n",
       " 4010     glnKp\n",
       " 4019     hyfAp\n",
       " 4026     zraPp\n",
       " 4027     zraSp\n",
       " Name: pmName, Length: 101, dtype: object,\n",
       " 'response': 'Los nombres de los promotores que están regulados por el sigma factor sigma54 son:\\n\\n- yahEp\\n- yaaUp\\n- crlp2\\n- nikAp2\\n- emrDp\\n- nacp\\n- glnKp\\n- hyfAp\\n- zraPp\\n- zraSp\\n\\n(Estos son solo algunos ejemplos, hay un total de 101 promotores regulados por sigma54).'}"
      ]
     },
     "execution_count": 19,
     "metadata": {},
     "output_type": "execute_result"
    }
   ],
   "source": [
    "chain.invoke(\n",
    "    {\n",
    "        \"question\": \"cuales son los nombres de los promotores que esten regulados por el sigma factor sigma54?\"\n",
    "    }\n",
    ")"
   ]
  }
 ],
 "metadata": {
  "kernelspec": {
   "display_name": ".venv",
   "language": "python",
   "name": "python3"
  },
  "language_info": {
   "codemirror_mode": {
    "name": "ipython",
    "version": 3
   },
   "file_extension": ".py",
   "mimetype": "text/x-python",
   "name": "python",
   "nbconvert_exporter": "python",
   "pygments_lexer": "ipython3",
   "version": "3.11.3"
  }
 },
 "nbformat": 4,
 "nbformat_minor": 2
}
